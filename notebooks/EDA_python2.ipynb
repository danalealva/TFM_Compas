{
 "cells": [
  {
   "cell_type": "code",
   "execution_count": 4,
   "id": "f6eab0db",
   "metadata": {},
   "outputs": [
    {
     "name": "stdout",
     "output_type": "stream",
     "text": [
      "Dimensiones del dataset: (7214, 53)\n"
     ]
    },
    {
     "data": {
      "text/html": [
       "<div>\n",
       "<style scoped>\n",
       "    .dataframe tbody tr th:only-of-type {\n",
       "        vertical-align: middle;\n",
       "    }\n",
       "\n",
       "    .dataframe tbody tr th {\n",
       "        vertical-align: top;\n",
       "    }\n",
       "\n",
       "    .dataframe thead th {\n",
       "        text-align: right;\n",
       "    }\n",
       "</style>\n",
       "<table border=\"1\" class=\"dataframe\">\n",
       "  <thead>\n",
       "    <tr style=\"text-align: right;\">\n",
       "      <th></th>\n",
       "      <th>id</th>\n",
       "      <th>name</th>\n",
       "      <th>first</th>\n",
       "      <th>last</th>\n",
       "      <th>compas_screening_date</th>\n",
       "      <th>sex</th>\n",
       "      <th>dob</th>\n",
       "      <th>age</th>\n",
       "      <th>age_cat</th>\n",
       "      <th>race</th>\n",
       "      <th>...</th>\n",
       "      <th>v_decile_score</th>\n",
       "      <th>v_score_text</th>\n",
       "      <th>v_screening_date</th>\n",
       "      <th>in_custody</th>\n",
       "      <th>out_custody</th>\n",
       "      <th>priors_count.1</th>\n",
       "      <th>start</th>\n",
       "      <th>end</th>\n",
       "      <th>event</th>\n",
       "      <th>two_year_recid</th>\n",
       "    </tr>\n",
       "  </thead>\n",
       "  <tbody>\n",
       "    <tr>\n",
       "      <th>0</th>\n",
       "      <td>1</td>\n",
       "      <td>miguel hernandez</td>\n",
       "      <td>miguel</td>\n",
       "      <td>hernandez</td>\n",
       "      <td>2013-08-14</td>\n",
       "      <td>Male</td>\n",
       "      <td>1947-04-18</td>\n",
       "      <td>69</td>\n",
       "      <td>Greater than 45</td>\n",
       "      <td>Other</td>\n",
       "      <td>...</td>\n",
       "      <td>1</td>\n",
       "      <td>Low</td>\n",
       "      <td>2013-08-14</td>\n",
       "      <td>2014-07-07</td>\n",
       "      <td>2014-07-14</td>\n",
       "      <td>0</td>\n",
       "      <td>0</td>\n",
       "      <td>327</td>\n",
       "      <td>0</td>\n",
       "      <td>0</td>\n",
       "    </tr>\n",
       "    <tr>\n",
       "      <th>1</th>\n",
       "      <td>3</td>\n",
       "      <td>kevon dixon</td>\n",
       "      <td>kevon</td>\n",
       "      <td>dixon</td>\n",
       "      <td>2013-01-27</td>\n",
       "      <td>Male</td>\n",
       "      <td>1982-01-22</td>\n",
       "      <td>34</td>\n",
       "      <td>25 - 45</td>\n",
       "      <td>African-American</td>\n",
       "      <td>...</td>\n",
       "      <td>1</td>\n",
       "      <td>Low</td>\n",
       "      <td>2013-01-27</td>\n",
       "      <td>2013-01-26</td>\n",
       "      <td>2013-02-05</td>\n",
       "      <td>0</td>\n",
       "      <td>9</td>\n",
       "      <td>159</td>\n",
       "      <td>1</td>\n",
       "      <td>1</td>\n",
       "    </tr>\n",
       "    <tr>\n",
       "      <th>2</th>\n",
       "      <td>4</td>\n",
       "      <td>ed philo</td>\n",
       "      <td>ed</td>\n",
       "      <td>philo</td>\n",
       "      <td>2013-04-14</td>\n",
       "      <td>Male</td>\n",
       "      <td>1991-05-14</td>\n",
       "      <td>24</td>\n",
       "      <td>Less than 25</td>\n",
       "      <td>African-American</td>\n",
       "      <td>...</td>\n",
       "      <td>3</td>\n",
       "      <td>Low</td>\n",
       "      <td>2013-04-14</td>\n",
       "      <td>2013-06-16</td>\n",
       "      <td>2013-06-16</td>\n",
       "      <td>4</td>\n",
       "      <td>0</td>\n",
       "      <td>63</td>\n",
       "      <td>0</td>\n",
       "      <td>1</td>\n",
       "    </tr>\n",
       "    <tr>\n",
       "      <th>3</th>\n",
       "      <td>5</td>\n",
       "      <td>marcu brown</td>\n",
       "      <td>marcu</td>\n",
       "      <td>brown</td>\n",
       "      <td>2013-01-13</td>\n",
       "      <td>Male</td>\n",
       "      <td>1993-01-21</td>\n",
       "      <td>23</td>\n",
       "      <td>Less than 25</td>\n",
       "      <td>African-American</td>\n",
       "      <td>...</td>\n",
       "      <td>6</td>\n",
       "      <td>Medium</td>\n",
       "      <td>2013-01-13</td>\n",
       "      <td>NaN</td>\n",
       "      <td>NaN</td>\n",
       "      <td>1</td>\n",
       "      <td>0</td>\n",
       "      <td>1174</td>\n",
       "      <td>0</td>\n",
       "      <td>0</td>\n",
       "    </tr>\n",
       "    <tr>\n",
       "      <th>4</th>\n",
       "      <td>6</td>\n",
       "      <td>bouthy pierrelouis</td>\n",
       "      <td>bouthy</td>\n",
       "      <td>pierrelouis</td>\n",
       "      <td>2013-03-26</td>\n",
       "      <td>Male</td>\n",
       "      <td>1973-01-22</td>\n",
       "      <td>43</td>\n",
       "      <td>25 - 45</td>\n",
       "      <td>Other</td>\n",
       "      <td>...</td>\n",
       "      <td>1</td>\n",
       "      <td>Low</td>\n",
       "      <td>2013-03-26</td>\n",
       "      <td>NaN</td>\n",
       "      <td>NaN</td>\n",
       "      <td>2</td>\n",
       "      <td>0</td>\n",
       "      <td>1102</td>\n",
       "      <td>0</td>\n",
       "      <td>0</td>\n",
       "    </tr>\n",
       "  </tbody>\n",
       "</table>\n",
       "<p>5 rows × 53 columns</p>\n",
       "</div>"
      ],
      "text/plain": [
       "   id                name   first         last compas_screening_date   sex  \\\n",
       "0   1    miguel hernandez  miguel    hernandez            2013-08-14  Male   \n",
       "1   3         kevon dixon   kevon        dixon            2013-01-27  Male   \n",
       "2   4            ed philo      ed        philo            2013-04-14  Male   \n",
       "3   5         marcu brown   marcu        brown            2013-01-13  Male   \n",
       "4   6  bouthy pierrelouis  bouthy  pierrelouis            2013-03-26  Male   \n",
       "\n",
       "          dob  age          age_cat              race  ...  v_decile_score  \\\n",
       "0  1947-04-18   69  Greater than 45             Other  ...               1   \n",
       "1  1982-01-22   34          25 - 45  African-American  ...               1   \n",
       "2  1991-05-14   24     Less than 25  African-American  ...               3   \n",
       "3  1993-01-21   23     Less than 25  African-American  ...               6   \n",
       "4  1973-01-22   43          25 - 45             Other  ...               1   \n",
       "\n",
       "   v_score_text  v_screening_date  in_custody  out_custody  priors_count.1  \\\n",
       "0           Low        2013-08-14  2014-07-07   2014-07-14               0   \n",
       "1           Low        2013-01-27  2013-01-26   2013-02-05               0   \n",
       "2           Low        2013-04-14  2013-06-16   2013-06-16               4   \n",
       "3        Medium        2013-01-13         NaN          NaN               1   \n",
       "4           Low        2013-03-26         NaN          NaN               2   \n",
       "\n",
       "  start   end event two_year_recid  \n",
       "0     0   327     0              0  \n",
       "1     9   159     1              1  \n",
       "2     0    63     0              1  \n",
       "3     0  1174     0              0  \n",
       "4     0  1102     0              0  \n",
       "\n",
       "[5 rows x 53 columns]"
      ]
     },
     "metadata": {},
     "output_type": "display_data"
    },
    {
     "data": {
      "text/html": [
       "<div>\n",
       "<style scoped>\n",
       "    .dataframe tbody tr th:only-of-type {\n",
       "        vertical-align: middle;\n",
       "    }\n",
       "\n",
       "    .dataframe tbody tr th {\n",
       "        vertical-align: top;\n",
       "    }\n",
       "\n",
       "    .dataframe thead th {\n",
       "        text-align: right;\n",
       "    }\n",
       "</style>\n",
       "<table border=\"1\" class=\"dataframe\">\n",
       "  <thead>\n",
       "    <tr style=\"text-align: right;\">\n",
       "      <th></th>\n",
       "      <th>id</th>\n",
       "      <th>name</th>\n",
       "      <th>first</th>\n",
       "      <th>last</th>\n",
       "      <th>compas_screening_date</th>\n",
       "      <th>sex</th>\n",
       "      <th>dob</th>\n",
       "      <th>age</th>\n",
       "      <th>age_cat</th>\n",
       "      <th>race</th>\n",
       "      <th>...</th>\n",
       "      <th>v_decile_score</th>\n",
       "      <th>v_score_text</th>\n",
       "      <th>v_screening_date</th>\n",
       "      <th>in_custody</th>\n",
       "      <th>out_custody</th>\n",
       "      <th>priors_count.1</th>\n",
       "      <th>start</th>\n",
       "      <th>end</th>\n",
       "      <th>event</th>\n",
       "      <th>two_year_recid</th>\n",
       "    </tr>\n",
       "  </thead>\n",
       "  <tbody>\n",
       "    <tr>\n",
       "      <th>7209</th>\n",
       "      <td>10996</td>\n",
       "      <td>steven butler</td>\n",
       "      <td>steven</td>\n",
       "      <td>butler</td>\n",
       "      <td>2013-11-23</td>\n",
       "      <td>Male</td>\n",
       "      <td>1992-07-17</td>\n",
       "      <td>23</td>\n",
       "      <td>Less than 25</td>\n",
       "      <td>African-American</td>\n",
       "      <td>...</td>\n",
       "      <td>5</td>\n",
       "      <td>Medium</td>\n",
       "      <td>2013-11-23</td>\n",
       "      <td>2013-11-22</td>\n",
       "      <td>2013-11-24</td>\n",
       "      <td>0</td>\n",
       "      <td>1</td>\n",
       "      <td>860</td>\n",
       "      <td>0</td>\n",
       "      <td>0</td>\n",
       "    </tr>\n",
       "    <tr>\n",
       "      <th>7210</th>\n",
       "      <td>10997</td>\n",
       "      <td>malcolm simmons</td>\n",
       "      <td>malcolm</td>\n",
       "      <td>simmons</td>\n",
       "      <td>2014-02-01</td>\n",
       "      <td>Male</td>\n",
       "      <td>1993-03-25</td>\n",
       "      <td>23</td>\n",
       "      <td>Less than 25</td>\n",
       "      <td>African-American</td>\n",
       "      <td>...</td>\n",
       "      <td>5</td>\n",
       "      <td>Medium</td>\n",
       "      <td>2014-02-01</td>\n",
       "      <td>2014-01-31</td>\n",
       "      <td>2014-02-02</td>\n",
       "      <td>0</td>\n",
       "      <td>1</td>\n",
       "      <td>790</td>\n",
       "      <td>0</td>\n",
       "      <td>0</td>\n",
       "    </tr>\n",
       "    <tr>\n",
       "      <th>7211</th>\n",
       "      <td>10999</td>\n",
       "      <td>winston gregory</td>\n",
       "      <td>winston</td>\n",
       "      <td>gregory</td>\n",
       "      <td>2014-01-14</td>\n",
       "      <td>Male</td>\n",
       "      <td>1958-10-01</td>\n",
       "      <td>57</td>\n",
       "      <td>Greater than 45</td>\n",
       "      <td>Other</td>\n",
       "      <td>...</td>\n",
       "      <td>1</td>\n",
       "      <td>Low</td>\n",
       "      <td>2014-01-14</td>\n",
       "      <td>2014-01-13</td>\n",
       "      <td>2014-01-14</td>\n",
       "      <td>0</td>\n",
       "      <td>0</td>\n",
       "      <td>808</td>\n",
       "      <td>0</td>\n",
       "      <td>0</td>\n",
       "    </tr>\n",
       "    <tr>\n",
       "      <th>7212</th>\n",
       "      <td>11000</td>\n",
       "      <td>farrah jean</td>\n",
       "      <td>farrah</td>\n",
       "      <td>jean</td>\n",
       "      <td>2014-03-09</td>\n",
       "      <td>Female</td>\n",
       "      <td>1982-11-17</td>\n",
       "      <td>33</td>\n",
       "      <td>25 - 45</td>\n",
       "      <td>African-American</td>\n",
       "      <td>...</td>\n",
       "      <td>2</td>\n",
       "      <td>Low</td>\n",
       "      <td>2014-03-09</td>\n",
       "      <td>2014-03-08</td>\n",
       "      <td>2014-03-09</td>\n",
       "      <td>3</td>\n",
       "      <td>0</td>\n",
       "      <td>754</td>\n",
       "      <td>0</td>\n",
       "      <td>0</td>\n",
       "    </tr>\n",
       "    <tr>\n",
       "      <th>7213</th>\n",
       "      <td>11001</td>\n",
       "      <td>florencia sanmartin</td>\n",
       "      <td>florencia</td>\n",
       "      <td>sanmartin</td>\n",
       "      <td>2014-06-30</td>\n",
       "      <td>Female</td>\n",
       "      <td>1992-12-18</td>\n",
       "      <td>23</td>\n",
       "      <td>Less than 25</td>\n",
       "      <td>Hispanic</td>\n",
       "      <td>...</td>\n",
       "      <td>4</td>\n",
       "      <td>Low</td>\n",
       "      <td>2014-06-30</td>\n",
       "      <td>2015-03-15</td>\n",
       "      <td>2015-03-15</td>\n",
       "      <td>2</td>\n",
       "      <td>0</td>\n",
       "      <td>258</td>\n",
       "      <td>0</td>\n",
       "      <td>1</td>\n",
       "    </tr>\n",
       "  </tbody>\n",
       "</table>\n",
       "<p>5 rows × 53 columns</p>\n",
       "</div>"
      ],
      "text/plain": [
       "         id                 name      first       last compas_screening_date  \\\n",
       "7209  10996        steven butler     steven     butler            2013-11-23   \n",
       "7210  10997      malcolm simmons    malcolm    simmons            2014-02-01   \n",
       "7211  10999      winston gregory    winston    gregory            2014-01-14   \n",
       "7212  11000          farrah jean     farrah       jean            2014-03-09   \n",
       "7213  11001  florencia sanmartin  florencia  sanmartin            2014-06-30   \n",
       "\n",
       "         sex         dob  age          age_cat              race  ...  \\\n",
       "7209    Male  1992-07-17   23     Less than 25  African-American  ...   \n",
       "7210    Male  1993-03-25   23     Less than 25  African-American  ...   \n",
       "7211    Male  1958-10-01   57  Greater than 45             Other  ...   \n",
       "7212  Female  1982-11-17   33          25 - 45  African-American  ...   \n",
       "7213  Female  1992-12-18   23     Less than 25          Hispanic  ...   \n",
       "\n",
       "      v_decile_score  v_score_text  v_screening_date  in_custody  out_custody  \\\n",
       "7209               5        Medium        2013-11-23  2013-11-22   2013-11-24   \n",
       "7210               5        Medium        2014-02-01  2014-01-31   2014-02-02   \n",
       "7211               1           Low        2014-01-14  2014-01-13   2014-01-14   \n",
       "7212               2           Low        2014-03-09  2014-03-08   2014-03-09   \n",
       "7213               4           Low        2014-06-30  2015-03-15   2015-03-15   \n",
       "\n",
       "      priors_count.1 start  end event two_year_recid  \n",
       "7209               0     1  860     0              0  \n",
       "7210               0     1  790     0              0  \n",
       "7211               0     0  808     0              0  \n",
       "7212               3     0  754     0              0  \n",
       "7213               2     0  258     0              1  \n",
       "\n",
       "[5 rows x 53 columns]"
      ]
     },
     "metadata": {},
     "output_type": "display_data"
    },
    {
     "name": "stdout",
     "output_type": "stream",
     "text": [
      "<class 'pandas.core.frame.DataFrame'>\n",
      "RangeIndex: 7214 entries, 0 to 7213\n",
      "Data columns (total 53 columns):\n",
      " #   Column                   Non-Null Count  Dtype  \n",
      "---  ------                   --------------  -----  \n",
      " 0   id                       7214 non-null   int64  \n",
      " 1   name                     7214 non-null   object \n",
      " 2   first                    7214 non-null   object \n",
      " 3   last                     7214 non-null   object \n",
      " 4   compas_screening_date    7214 non-null   object \n",
      " 5   sex                      7214 non-null   object \n",
      " 6   dob                      7214 non-null   object \n",
      " 7   age                      7214 non-null   int64  \n",
      " 8   age_cat                  7214 non-null   object \n",
      " 9   race                     7214 non-null   object \n",
      " 10  juv_fel_count            7214 non-null   int64  \n",
      " 11  decile_score             7214 non-null   int64  \n",
      " 12  juv_misd_count           7214 non-null   int64  \n",
      " 13  juv_other_count          7214 non-null   int64  \n",
      " 14  priors_count             7214 non-null   int64  \n",
      " 15  days_b_screening_arrest  6907 non-null   float64\n",
      " 16  c_jail_in                6907 non-null   object \n",
      " 17  c_jail_out               6907 non-null   object \n",
      " 18  c_case_number            7192 non-null   object \n",
      " 19  c_offense_date           6055 non-null   object \n",
      " 20  c_arrest_date            1137 non-null   object \n",
      " 21  c_days_from_compas       7192 non-null   float64\n",
      " 22  c_charge_degree          7214 non-null   object \n",
      " 23  c_charge_desc            7185 non-null   object \n",
      " 24  is_recid                 7214 non-null   int64  \n",
      " 25  r_case_number            3471 non-null   object \n",
      " 26  r_charge_degree          3471 non-null   object \n",
      " 27  r_days_from_arrest       2316 non-null   float64\n",
      " 28  r_offense_date           3471 non-null   object \n",
      " 29  r_charge_desc            3413 non-null   object \n",
      " 30  r_jail_in                2316 non-null   object \n",
      " 31  r_jail_out               2316 non-null   object \n",
      " 32  violent_recid            0 non-null      float64\n",
      " 33  is_violent_recid         7214 non-null   int64  \n",
      " 34  vr_case_number           819 non-null    object \n",
      " 35  vr_charge_degree         819 non-null    object \n",
      " 36  vr_offense_date          819 non-null    object \n",
      " 37  vr_charge_desc           819 non-null    object \n",
      " 38  type_of_assessment       7214 non-null   object \n",
      " 39  decile_score.1           7214 non-null   int64  \n",
      " 40  score_text               7214 non-null   object \n",
      " 41  screening_date           7214 non-null   object \n",
      " 42  v_type_of_assessment     7214 non-null   object \n",
      " 43  v_decile_score           7214 non-null   int64  \n",
      " 44  v_score_text             7214 non-null   object \n",
      " 45  v_screening_date         7214 non-null   object \n",
      " 46  in_custody               6978 non-null   object \n",
      " 47  out_custody              6978 non-null   object \n",
      " 48  priors_count.1           7214 non-null   int64  \n",
      " 49  start                    7214 non-null   int64  \n",
      " 50  end                      7214 non-null   int64  \n",
      " 51  event                    7214 non-null   int64  \n",
      " 52  two_year_recid           7214 non-null   int64  \n",
      "dtypes: float64(4), int64(16), object(33)\n",
      "memory usage: 2.9+ MB\n"
     ]
    }
   ],
   "source": [
    "# Importar librerías necesarias\n",
    "import pandas as pd\n",
    "import plotly.express as px\n",
    "import plotly.graph_objects as go\n",
    "\n",
    "# Cargar el dataset\n",
    "df = pd.read_csv(\"/Users/danielalejandroalvarez/Documents/Master Nuclio Python/TFM-Compas/data:/compas-scores-two-years.csv\")\n",
    "\n",
    "# Dimensiones del dataset\n",
    "print(\"Dimensiones del dataset:\", df.shape)\n",
    "\n",
    "# Primeras y últimas filas\n",
    "display(df.head())\n",
    "display(df.tail())\n",
    "\n",
    "# Información general\n",
    "df.info()\n",
    "\n"
   ]
  },
  {
   "cell_type": "markdown",
   "id": "afbdf55a",
   "metadata": {},
   "source": [
    "### 1. Exploración Inicial del Dataset\n",
    "\n",
    "- El dataset contiene **7.214 registros** y **53 columnas**.\n",
    "- Incluye datos personales, antecedentes, fechas judiciales y evaluaciones COMPAS, además del indicador clave `two_year_recid` (si reincidió en 2 años).\n",
    "- Las variables tienen tipos apropiados, aunque muchas fechas están como `object` y deberán transformarse en tipo `datetime`.\n",
    "- Algunas columnas presentan valores nulos que habrá que analizar.\n",
    "- Las columnas duplicadas como `priors_count` y `priors_count.1` o `decile_score` y `decile_score.1` indican posibles redundancias que será necesario depurar en el paso de limpieza.\n"
   ]
  },
  {
   "cell_type": "code",
   "execution_count": 5,
   "id": "82bf2e44",
   "metadata": {},
   "outputs": [
    {
     "data": {
      "text/plain": [
       "violent_recid                 0\n",
       "v_type_of_assessment          1\n",
       "type_of_assessment            1\n",
       "two_year_recid                2\n",
       "sex                           2\n",
       "is_violent_recid              2\n",
       "event                         2\n",
       "is_recid                      2\n",
       "c_charge_degree               2\n",
       "v_score_text                  3\n",
       "score_text                    3\n",
       "age_cat                       3\n",
       "race                          6\n",
       "vr_charge_degree              9\n",
       "v_decile_score               10\n",
       "decile_score.1               10\n",
       "r_charge_degree              10\n",
       "juv_misd_count               10\n",
       "decile_score                 10\n",
       "juv_other_count              10\n",
       "juv_fel_count                11\n",
       "priors_count                 37\n",
       "priors_count.1               37\n",
       "age                          65\n",
       "vr_charge_desc               83\n",
       "r_days_from_arrest          201\n",
       "start                       237\n",
       "r_charge_desc               340\n",
       "days_b_screening_arrest     423\n",
       "c_charge_desc               437\n",
       "c_days_from_compas          499\n",
       "vr_offense_date             570\n",
       "c_arrest_date               580\n",
       "screening_date              690\n",
       "compas_screening_date       690\n",
       "v_screening_date            690\n",
       "vr_case_number              819\n",
       "c_offense_date              927\n",
       "r_jail_out                  938\n",
       "r_jail_in                   972\n",
       "r_offense_date             1075\n",
       "end                        1115\n",
       "in_custody                 1156\n",
       "out_custody                1169\n",
       "first                      2800\n",
       "r_case_number              3471\n",
       "last                       3950\n",
       "dob                        5452\n",
       "c_jail_out                 6880\n",
       "c_jail_in                  6907\n",
       "name                       7158\n",
       "c_case_number              7192\n",
       "id                         7214\n",
       "dtype: int64"
      ]
     },
     "metadata": {},
     "output_type": "display_data"
    },
    {
     "data": {
      "text/plain": [
       "violent_recid              100.000000\n",
       "vr_charge_degree            88.647075\n",
       "vr_case_number              88.647075\n",
       "vr_offense_date             88.647075\n",
       "vr_charge_desc              88.647075\n",
       "c_arrest_date               84.238980\n",
       "r_jail_out                  67.895758\n",
       "r_jail_in                   67.895758\n",
       "r_days_from_arrest          67.895758\n",
       "r_charge_desc               52.689215\n",
       "r_offense_date              51.885223\n",
       "r_case_number               51.885223\n",
       "r_charge_degree             51.885223\n",
       "c_offense_date              16.065983\n",
       "c_jail_out                   4.255614\n",
       "days_b_screening_arrest      4.255614\n",
       "c_jail_in                    4.255614\n",
       "out_custody                  3.271417\n",
       "in_custody                   3.271417\n",
       "c_charge_desc                0.401996\n",
       "c_days_from_compas           0.304963\n",
       "c_case_number                0.304963\n",
       "v_type_of_assessment         0.000000\n",
       "type_of_assessment           0.000000\n",
       "decile_score.1               0.000000\n",
       "v_decile_score               0.000000\n",
       "v_score_text                 0.000000\n",
       "v_screening_date             0.000000\n",
       "screening_date               0.000000\n",
       "priors_count.1               0.000000\n",
       "start                        0.000000\n",
       "end                          0.000000\n",
       "event                        0.000000\n",
       "score_text                   0.000000\n",
       "id                           0.000000\n",
       "is_violent_recid             0.000000\n",
       "name                         0.000000\n",
       "first                        0.000000\n",
       "last                         0.000000\n",
       "compas_screening_date        0.000000\n",
       "sex                          0.000000\n",
       "dob                          0.000000\n",
       "age                          0.000000\n",
       "age_cat                      0.000000\n",
       "race                         0.000000\n",
       "juv_fel_count                0.000000\n",
       "decile_score                 0.000000\n",
       "juv_misd_count               0.000000\n",
       "juv_other_count              0.000000\n",
       "priors_count                 0.000000\n",
       "c_charge_degree              0.000000\n",
       "is_recid                     0.000000\n",
       "two_year_recid               0.000000\n",
       "dtype: float64"
      ]
     },
     "metadata": {},
     "output_type": "display_data"
    },
    {
     "name": "stdout",
     "output_type": "stream",
     "text": [
      "Filas duplicadas: 0\n"
     ]
    }
   ],
   "source": [
    "# Valores únicos por columna\n",
    "unique_values = df.nunique().sort_values(ascending=True)\n",
    "display(unique_values)\n",
    "\n",
    "# Porcentaje de valores nulos por columna\n",
    "null_percent = df.isnull().mean().sort_values(ascending=False) * 100\n",
    "display(null_percent)\n",
    "\n",
    "# Número de filas duplicadas\n",
    "print(\"Filas duplicadas:\", df.duplicated().sum())\n"
   ]
  },
  {
   "cell_type": "markdown",
   "id": "f13b2ff1",
   "metadata": {},
   "source": [
    "### 2. Valores Únicos, Nulos y Duplicados\n",
    "\n",
    "#### ✅ Valores Únicos\n",
    "- Algunas columnas tienen pocos valores únicos, lo cual indica variables categóricas importantes para segmentación:\n",
    "  - `sex`, `race`, `age_cat`, `score_text`, `c_charge_degree` tienen menos de 10 valores únicos.\n",
    "  - Otras como `decile_score`, `priors_count` y `juv_*_count` tienen una distribución más granular.\n",
    "  - Columnas como `id`, `name`, `dob`, `first`, `last` tienen muchos valores únicos y podrían no ser útiles para modelado.\n",
    "\n",
    "#### ⚠️ Valores Nulos\n",
    "- Existen columnas con alta cantidad de nulos:\n",
    "  - `violent_recid`, `vr_case_number`, `vr_charge_desc`, `vr_offense_date`, `vr_charge_degree`: más del 88% de nulos → posiblemente irrelevantes para análisis general.\n",
    "  - Datos de reincidencia (`r_*`), custodia (`in_custody`, `out_custody`) y fechas judiciales tienen entre 50–80% de nulos.\n",
    "  - Las variables esenciales para análisis (`two_year_recid`, `decile_score`, `race`, `age`, etc.) están completas.\n",
    "\n",
    "#### 🔁 Duplicados\n",
    "- El dataset **no contiene filas duplicadas**, lo que confirma su consistencia básica.\n",
    "\n",
    "👉 **Acción recomendada**: En la próxima etapa de limpieza se propondrá eliminar o ignorar columnas con >85% de nulos y estandarizar fechas y redundancias (`priors_count`, `priors_co\n"
   ]
  },
  {
   "cell_type": "code",
   "execution_count": 6,
   "id": "04b10e04",
   "metadata": {},
   "outputs": [],
   "source": [
    "# Copia para limpieza\n",
    "df_clean = df.copy()\n",
    "\n",
    "# Eliminar columnas con más del 85% de nulos\n",
    "threshold = 85\n",
    "cols_to_drop = null_percent[null_percent > threshold].index.tolist()\n",
    "df_clean.drop(columns=cols_to_drop, inplace=True)\n",
    "\n",
    "# Eliminar columnas redundantes\n",
    "df_clean.drop(columns=['priors_count.1', 'decile_score.1'], inplace=True)\n",
    "\n",
    "# Convertir fechas\n",
    "date_cols = [\n",
    "    'compas_screening_date', 'dob', 'c_jail_in', 'c_jail_out', 'c_offense_date',\n",
    "    'c_arrest_date', 'screening_date', 'v_screening_date', 'in_custody', 'out_custody'\n",
    "]\n",
    "for col in date_cols:\n",
    "    df_clean[col] = pd.to_datetime(df_clean[col], errors='coerce')\n",
    "\n",
    "# Normalizar nombres de columnas\n",
    "df_clean.columns = df_clean.columns.str.lower().str.replace('.', '_')\n"
   ]
  },
  {
   "cell_type": "markdown",
   "id": "fa066626",
   "metadata": {},
   "source": [
    "### 3. Limpieza y Transformación de Datos\n",
    "\n",
    "- Se eliminaron **7 columnas con más del 85% de valores nulos**, muchas relacionadas con reincidencia violenta (`vr_*`, `violent_recid`).\n",
    "- Se eliminaron columnas redundantes: `priors_count.1` y `decile_score.1`, dejando sus equivalentes originales.\n",
    "- Las columnas de fecha fueron convertidas a `datetime64`, permitiendo operaciones temporales más robustas.\n",
    "- Se normalizaron todos los nombres de columnas a formato `snake_case`, para facilitar el trabajo con ellas y mantener buenas prácticas de estilo.\n",
    "\n",
    "✔️ El dataset ya está listo para comenzar con las estadísticas descriptivas, análisis de outliers y visualizaciones.\n"
   ]
  },
  {
   "cell_type": "code",
   "execution_count": 8,
   "id": "7c20ab0d",
   "metadata": {},
   "outputs": [
    {
     "data": {
      "text/html": [
       "<div>\n",
       "<style scoped>\n",
       "    .dataframe tbody tr th:only-of-type {\n",
       "        vertical-align: middle;\n",
       "    }\n",
       "\n",
       "    .dataframe tbody tr th {\n",
       "        vertical-align: top;\n",
       "    }\n",
       "\n",
       "    .dataframe thead th {\n",
       "        text-align: right;\n",
       "    }\n",
       "</style>\n",
       "<table border=\"1\" class=\"dataframe\">\n",
       "  <thead>\n",
       "    <tr style=\"text-align: right;\">\n",
       "      <th></th>\n",
       "      <th>id</th>\n",
       "      <th>compas_screening_date</th>\n",
       "      <th>dob</th>\n",
       "      <th>age</th>\n",
       "      <th>juv_fel_count</th>\n",
       "      <th>decile_score</th>\n",
       "      <th>juv_misd_count</th>\n",
       "      <th>juv_other_count</th>\n",
       "      <th>priors_count</th>\n",
       "      <th>days_b_screening_arrest</th>\n",
       "      <th>...</th>\n",
       "      <th>is_violent_recid</th>\n",
       "      <th>screening_date</th>\n",
       "      <th>v_decile_score</th>\n",
       "      <th>v_screening_date</th>\n",
       "      <th>in_custody</th>\n",
       "      <th>out_custody</th>\n",
       "      <th>start</th>\n",
       "      <th>end</th>\n",
       "      <th>event</th>\n",
       "      <th>two_year_recid</th>\n",
       "    </tr>\n",
       "  </thead>\n",
       "  <tbody>\n",
       "    <tr>\n",
       "      <th>count</th>\n",
       "      <td>7214.000000</td>\n",
       "      <td>7214</td>\n",
       "      <td>7214</td>\n",
       "      <td>7214.000000</td>\n",
       "      <td>7214.000000</td>\n",
       "      <td>7214.000000</td>\n",
       "      <td>7214.000000</td>\n",
       "      <td>7214.000000</td>\n",
       "      <td>7214.000000</td>\n",
       "      <td>6907.000000</td>\n",
       "      <td>...</td>\n",
       "      <td>7214.000000</td>\n",
       "      <td>7214</td>\n",
       "      <td>7214.000000</td>\n",
       "      <td>7214</td>\n",
       "      <td>6978</td>\n",
       "      <td>6978</td>\n",
       "      <td>7214.000000</td>\n",
       "      <td>7214.000000</td>\n",
       "      <td>7214.000000</td>\n",
       "      <td>7214.000000</td>\n",
       "    </tr>\n",
       "    <tr>\n",
       "      <th>mean</th>\n",
       "      <td>5501.255753</td>\n",
       "      <td>2013-09-20 10:32:10.246742528</td>\n",
       "      <td>1980-12-25 15:02:50.668145344</td>\n",
       "      <td>34.817993</td>\n",
       "      <td>0.067230</td>\n",
       "      <td>4.509565</td>\n",
       "      <td>0.090934</td>\n",
       "      <td>0.109371</td>\n",
       "      <td>3.472415</td>\n",
       "      <td>3.304763</td>\n",
       "      <td>...</td>\n",
       "      <td>0.113529</td>\n",
       "      <td>2013-09-20 10:32:10.246742528</td>\n",
       "      <td>3.691849</td>\n",
       "      <td>2013-09-20 10:32:10.246742528</td>\n",
       "      <td>2014-01-13 07:46:35.184866816</td>\n",
       "      <td>2014-02-27 14:23:25.331040512</td>\n",
       "      <td>11.465068</td>\n",
       "      <td>553.436651</td>\n",
       "      <td>0.382867</td>\n",
       "      <td>0.450652</td>\n",
       "    </tr>\n",
       "    <tr>\n",
       "      <th>min</th>\n",
       "      <td>1.000000</td>\n",
       "      <td>2013-01-01 00:00:00</td>\n",
       "      <td>1919-10-14 00:00:00</td>\n",
       "      <td>18.000000</td>\n",
       "      <td>0.000000</td>\n",
       "      <td>1.000000</td>\n",
       "      <td>0.000000</td>\n",
       "      <td>0.000000</td>\n",
       "      <td>0.000000</td>\n",
       "      <td>-414.000000</td>\n",
       "      <td>...</td>\n",
       "      <td>0.000000</td>\n",
       "      <td>2013-01-01 00:00:00</td>\n",
       "      <td>1.000000</td>\n",
       "      <td>2013-01-01 00:00:00</td>\n",
       "      <td>1992-06-10 00:00:00</td>\n",
       "      <td>1999-05-08 00:00:00</td>\n",
       "      <td>0.000000</td>\n",
       "      <td>0.000000</td>\n",
       "      <td>0.000000</td>\n",
       "      <td>0.000000</td>\n",
       "    </tr>\n",
       "    <tr>\n",
       "      <th>25%</th>\n",
       "      <td>2735.250000</td>\n",
       "      <td>2013-04-05 00:00:00</td>\n",
       "      <td>1973-04-25 06:00:00</td>\n",
       "      <td>25.000000</td>\n",
       "      <td>0.000000</td>\n",
       "      <td>2.000000</td>\n",
       "      <td>0.000000</td>\n",
       "      <td>0.000000</td>\n",
       "      <td>0.000000</td>\n",
       "      <td>-1.000000</td>\n",
       "      <td>...</td>\n",
       "      <td>0.000000</td>\n",
       "      <td>2013-04-05 00:00:00</td>\n",
       "      <td>1.000000</td>\n",
       "      <td>2013-04-05 00:00:00</td>\n",
       "      <td>2013-06-01 00:00:00</td>\n",
       "      <td>2013-07-19 00:00:00</td>\n",
       "      <td>0.000000</td>\n",
       "      <td>148.250000</td>\n",
       "      <td>0.000000</td>\n",
       "      <td>0.000000</td>\n",
       "    </tr>\n",
       "    <tr>\n",
       "      <th>50%</th>\n",
       "      <td>5509.500000</td>\n",
       "      <td>2013-09-11 00:00:00</td>\n",
       "      <td>1984-05-30 12:00:00</td>\n",
       "      <td>31.000000</td>\n",
       "      <td>0.000000</td>\n",
       "      <td>4.000000</td>\n",
       "      <td>0.000000</td>\n",
       "      <td>0.000000</td>\n",
       "      <td>2.000000</td>\n",
       "      <td>-1.000000</td>\n",
       "      <td>...</td>\n",
       "      <td>0.000000</td>\n",
       "      <td>2013-09-11 00:00:00</td>\n",
       "      <td>3.000000</td>\n",
       "      <td>2013-09-11 00:00:00</td>\n",
       "      <td>2013-12-15 00:00:00</td>\n",
       "      <td>2014-01-05 00:00:00</td>\n",
       "      <td>0.000000</td>\n",
       "      <td>530.500000</td>\n",
       "      <td>0.000000</td>\n",
       "      <td>0.000000</td>\n",
       "    </tr>\n",
       "    <tr>\n",
       "      <th>75%</th>\n",
       "      <td>8246.500000</td>\n",
       "      <td>2014-01-24 00:00:00</td>\n",
       "      <td>1990-06-20 18:00:00</td>\n",
       "      <td>42.000000</td>\n",
       "      <td>0.000000</td>\n",
       "      <td>7.000000</td>\n",
       "      <td>0.000000</td>\n",
       "      <td>0.000000</td>\n",
       "      <td>5.000000</td>\n",
       "      <td>0.000000</td>\n",
       "      <td>...</td>\n",
       "      <td>0.000000</td>\n",
       "      <td>2014-01-24 00:00:00</td>\n",
       "      <td>5.000000</td>\n",
       "      <td>2014-01-24 00:00:00</td>\n",
       "      <td>2014-07-26 00:00:00</td>\n",
       "      <td>2014-09-03 00:00:00</td>\n",
       "      <td>1.000000</td>\n",
       "      <td>914.000000</td>\n",
       "      <td>1.000000</td>\n",
       "      <td>1.000000</td>\n",
       "    </tr>\n",
       "    <tr>\n",
       "      <th>max</th>\n",
       "      <td>11001.000000</td>\n",
       "      <td>2014-12-31 00:00:00</td>\n",
       "      <td>1998-01-20 00:00:00</td>\n",
       "      <td>96.000000</td>\n",
       "      <td>20.000000</td>\n",
       "      <td>10.000000</td>\n",
       "      <td>13.000000</td>\n",
       "      <td>17.000000</td>\n",
       "      <td>38.000000</td>\n",
       "      <td>1057.000000</td>\n",
       "      <td>...</td>\n",
       "      <td>1.000000</td>\n",
       "      <td>2014-12-31 00:00:00</td>\n",
       "      <td>10.000000</td>\n",
       "      <td>2014-12-31 00:00:00</td>\n",
       "      <td>2016-04-11 00:00:00</td>\n",
       "      <td>2020-01-01 00:00:00</td>\n",
       "      <td>937.000000</td>\n",
       "      <td>1186.000000</td>\n",
       "      <td>1.000000</td>\n",
       "      <td>1.000000</td>\n",
       "    </tr>\n",
       "    <tr>\n",
       "      <th>std</th>\n",
       "      <td>3175.706870</td>\n",
       "      <td>NaN</td>\n",
       "      <td>NaN</td>\n",
       "      <td>11.888922</td>\n",
       "      <td>0.473972</td>\n",
       "      <td>2.856396</td>\n",
       "      <td>0.485239</td>\n",
       "      <td>0.501586</td>\n",
       "      <td>4.882538</td>\n",
       "      <td>75.809505</td>\n",
       "      <td>...</td>\n",
       "      <td>0.317261</td>\n",
       "      <td>NaN</td>\n",
       "      <td>2.510148</td>\n",
       "      <td>NaN</td>\n",
       "      <td>NaN</td>\n",
       "      <td>NaN</td>\n",
       "      <td>46.954563</td>\n",
       "      <td>399.020583</td>\n",
       "      <td>0.486120</td>\n",
       "      <td>0.497593</td>\n",
       "    </tr>\n",
       "  </tbody>\n",
       "</table>\n",
       "<p>8 rows × 27 columns</p>\n",
       "</div>"
      ],
      "text/plain": [
       "                 id          compas_screening_date  \\\n",
       "count   7214.000000                           7214   \n",
       "mean    5501.255753  2013-09-20 10:32:10.246742528   \n",
       "min        1.000000            2013-01-01 00:00:00   \n",
       "25%     2735.250000            2013-04-05 00:00:00   \n",
       "50%     5509.500000            2013-09-11 00:00:00   \n",
       "75%     8246.500000            2014-01-24 00:00:00   \n",
       "max    11001.000000            2014-12-31 00:00:00   \n",
       "std     3175.706870                            NaN   \n",
       "\n",
       "                                 dob          age  juv_fel_count  \\\n",
       "count                           7214  7214.000000    7214.000000   \n",
       "mean   1980-12-25 15:02:50.668145344    34.817993       0.067230   \n",
       "min              1919-10-14 00:00:00    18.000000       0.000000   \n",
       "25%              1973-04-25 06:00:00    25.000000       0.000000   \n",
       "50%              1984-05-30 12:00:00    31.000000       0.000000   \n",
       "75%              1990-06-20 18:00:00    42.000000       0.000000   \n",
       "max              1998-01-20 00:00:00    96.000000      20.000000   \n",
       "std                              NaN    11.888922       0.473972   \n",
       "\n",
       "       decile_score  juv_misd_count  juv_other_count  priors_count  \\\n",
       "count   7214.000000     7214.000000      7214.000000   7214.000000   \n",
       "mean       4.509565        0.090934         0.109371      3.472415   \n",
       "min        1.000000        0.000000         0.000000      0.000000   \n",
       "25%        2.000000        0.000000         0.000000      0.000000   \n",
       "50%        4.000000        0.000000         0.000000      2.000000   \n",
       "75%        7.000000        0.000000         0.000000      5.000000   \n",
       "max       10.000000       13.000000        17.000000     38.000000   \n",
       "std        2.856396        0.485239         0.501586      4.882538   \n",
       "\n",
       "       days_b_screening_arrest  ... is_violent_recid  \\\n",
       "count              6907.000000  ...      7214.000000   \n",
       "mean                  3.304763  ...         0.113529   \n",
       "min                -414.000000  ...         0.000000   \n",
       "25%                  -1.000000  ...         0.000000   \n",
       "50%                  -1.000000  ...         0.000000   \n",
       "75%                   0.000000  ...         0.000000   \n",
       "max                1057.000000  ...         1.000000   \n",
       "std                  75.809505  ...         0.317261   \n",
       "\n",
       "                      screening_date v_decile_score  \\\n",
       "count                           7214    7214.000000   \n",
       "mean   2013-09-20 10:32:10.246742528       3.691849   \n",
       "min              2013-01-01 00:00:00       1.000000   \n",
       "25%              2013-04-05 00:00:00       1.000000   \n",
       "50%              2013-09-11 00:00:00       3.000000   \n",
       "75%              2014-01-24 00:00:00       5.000000   \n",
       "max              2014-12-31 00:00:00      10.000000   \n",
       "std                              NaN       2.510148   \n",
       "\n",
       "                    v_screening_date                     in_custody  \\\n",
       "count                           7214                           6978   \n",
       "mean   2013-09-20 10:32:10.246742528  2014-01-13 07:46:35.184866816   \n",
       "min              2013-01-01 00:00:00            1992-06-10 00:00:00   \n",
       "25%              2013-04-05 00:00:00            2013-06-01 00:00:00   \n",
       "50%              2013-09-11 00:00:00            2013-12-15 00:00:00   \n",
       "75%              2014-01-24 00:00:00            2014-07-26 00:00:00   \n",
       "max              2014-12-31 00:00:00            2016-04-11 00:00:00   \n",
       "std                              NaN                            NaN   \n",
       "\n",
       "                         out_custody        start          end        event  \\\n",
       "count                           6978  7214.000000  7214.000000  7214.000000   \n",
       "mean   2014-02-27 14:23:25.331040512    11.465068   553.436651     0.382867   \n",
       "min              1999-05-08 00:00:00     0.000000     0.000000     0.000000   \n",
       "25%              2013-07-19 00:00:00     0.000000   148.250000     0.000000   \n",
       "50%              2014-01-05 00:00:00     0.000000   530.500000     0.000000   \n",
       "75%              2014-09-03 00:00:00     1.000000   914.000000     1.000000   \n",
       "max              2020-01-01 00:00:00   937.000000  1186.000000     1.000000   \n",
       "std                              NaN    46.954563   399.020583     0.486120   \n",
       "\n",
       "       two_year_recid  \n",
       "count     7214.000000  \n",
       "mean         0.450652  \n",
       "min          0.000000  \n",
       "25%          0.000000  \n",
       "50%          0.000000  \n",
       "75%          1.000000  \n",
       "max          1.000000  \n",
       "std          0.497593  \n",
       "\n",
       "[8 rows x 27 columns]"
      ]
     },
     "metadata": {},
     "output_type": "display_data"
    },
    {
     "data": {
      "text/html": [
       "<div>\n",
       "<style scoped>\n",
       "    .dataframe tbody tr th:only-of-type {\n",
       "        vertical-align: middle;\n",
       "    }\n",
       "\n",
       "    .dataframe tbody tr th {\n",
       "        vertical-align: top;\n",
       "    }\n",
       "\n",
       "    .dataframe thead th {\n",
       "        text-align: right;\n",
       "    }\n",
       "</style>\n",
       "<table border=\"1\" class=\"dataframe\">\n",
       "  <thead>\n",
       "    <tr style=\"text-align: right;\">\n",
       "      <th></th>\n",
       "      <th>n_outliers</th>\n",
       "      <th>outlier_pct</th>\n",
       "    </tr>\n",
       "  </thead>\n",
       "  <tbody>\n",
       "    <tr>\n",
       "      <th>start</th>\n",
       "      <td>1560.0</td>\n",
       "      <td>21.62</td>\n",
       "    </tr>\n",
       "    <tr>\n",
       "      <th>c_days_from_compas</th>\n",
       "      <td>1546.0</td>\n",
       "      <td>21.43</td>\n",
       "    </tr>\n",
       "    <tr>\n",
       "      <th>days_b_screening_arrest</th>\n",
       "      <td>1397.0</td>\n",
       "      <td>19.37</td>\n",
       "    </tr>\n",
       "    <tr>\n",
       "      <th>is_violent_recid</th>\n",
       "      <td>819.0</td>\n",
       "      <td>11.35</td>\n",
       "    </tr>\n",
       "    <tr>\n",
       "      <th>juv_other_count</th>\n",
       "      <td>523.0</td>\n",
       "      <td>7.25</td>\n",
       "    </tr>\n",
       "    <tr>\n",
       "      <th>priors_count</th>\n",
       "      <td>455.0</td>\n",
       "      <td>6.31</td>\n",
       "    </tr>\n",
       "    <tr>\n",
       "      <th>juv_misd_count</th>\n",
       "      <td>415.0</td>\n",
       "      <td>5.75</td>\n",
       "    </tr>\n",
       "    <tr>\n",
       "      <th>r_days_from_arrest</th>\n",
       "      <td>343.0</td>\n",
       "      <td>4.75</td>\n",
       "    </tr>\n",
       "    <tr>\n",
       "      <th>juv_fel_count</th>\n",
       "      <td>282.0</td>\n",
       "      <td>3.91</td>\n",
       "    </tr>\n",
       "    <tr>\n",
       "      <th>age</th>\n",
       "      <td>61.0</td>\n",
       "      <td>0.85</td>\n",
       "    </tr>\n",
       "    <tr>\n",
       "      <th>event</th>\n",
       "      <td>0.0</td>\n",
       "      <td>0.00</td>\n",
       "    </tr>\n",
       "    <tr>\n",
       "      <th>end</th>\n",
       "      <td>0.0</td>\n",
       "      <td>0.00</td>\n",
       "    </tr>\n",
       "    <tr>\n",
       "      <th>id</th>\n",
       "      <td>0.0</td>\n",
       "      <td>0.00</td>\n",
       "    </tr>\n",
       "    <tr>\n",
       "      <th>v_decile_score</th>\n",
       "      <td>0.0</td>\n",
       "      <td>0.00</td>\n",
       "    </tr>\n",
       "    <tr>\n",
       "      <th>is_recid</th>\n",
       "      <td>0.0</td>\n",
       "      <td>0.00</td>\n",
       "    </tr>\n",
       "    <tr>\n",
       "      <th>decile_score</th>\n",
       "      <td>0.0</td>\n",
       "      <td>0.00</td>\n",
       "    </tr>\n",
       "    <tr>\n",
       "      <th>two_year_recid</th>\n",
       "      <td>0.0</td>\n",
       "      <td>0.00</td>\n",
       "    </tr>\n",
       "  </tbody>\n",
       "</table>\n",
       "</div>"
      ],
      "text/plain": [
       "                         n_outliers  outlier_pct\n",
       "start                        1560.0        21.62\n",
       "c_days_from_compas           1546.0        21.43\n",
       "days_b_screening_arrest      1397.0        19.37\n",
       "is_violent_recid              819.0        11.35\n",
       "juv_other_count               523.0         7.25\n",
       "priors_count                  455.0         6.31\n",
       "juv_misd_count                415.0         5.75\n",
       "r_days_from_arrest            343.0         4.75\n",
       "juv_fel_count                 282.0         3.91\n",
       "age                            61.0         0.85\n",
       "event                           0.0         0.00\n",
       "end                             0.0         0.00\n",
       "id                              0.0         0.00\n",
       "v_decile_score                  0.0         0.00\n",
       "is_recid                        0.0         0.00\n",
       "decile_score                    0.0         0.00\n",
       "two_year_recid                  0.0         0.00"
      ]
     },
     "metadata": {},
     "output_type": "display_data"
    }
   ],
   "source": [
    "# Estadísticas descriptivas\n",
    "desc_stats = df_clean.describe()\n",
    "display(desc_stats)\n",
    "\n",
    "# Detección de outliers con la regla de 1.5 * IQR\n",
    "numeric_cols = df_clean.select_dtypes(include=['int64', 'float64']).columns.tolist()\n",
    "\n",
    "outliers_summary = {}\n",
    "for col in numeric_cols:\n",
    "    q1 = df_clean[col].quantile(0.25)\n",
    "    q3 = df_clean[col].quantile(0.75)\n",
    "    iqr = q3 - q1\n",
    "    lower = q1 - 1.5 * iqr\n",
    "    upper = q3 + 1.5 * iqr\n",
    "    outliers = df_clean[(df_clean[col] < lower) | (df_clean[col] > upper)]\n",
    "    outliers_summary[col] = {\n",
    "        'n_outliers': outliers.shape[0],\n",
    "        'outlier_pct': round((outliers.shape[0] / df_clean.shape[0]) * 100, 2)\n",
    "    }\n",
    "\n",
    "outliers_df = pd.DataFrame(outliers_summary).T.sort_values(\"outlier_pct\", ascending=False)\n",
    "display(outliers_df)\n",
    "\n"
   ]
  },
  {
   "cell_type": "markdown",
   "id": "c00edf40",
   "metadata": {},
   "source": [
    "### 4. Estadísticas Descriptivas y Detección de Outliers\n",
    "\n",
    "- Se analizaron las variables numéricas para detectar valores extremos según la regla de 1.5 * IQR.\n",
    "- Variables con mayor proporción de outliers:\n",
    "  - `juv_misd_count`: 5.75% de registros son extremos (infracciones juveniles menores).\n",
    "  - `juv_fel_count`: 3.91% de outliers (delitos juveniles).\n",
    "  - `age`: solo 0.85% de valores extremos.\n",
    "- Variables como `decile_score` o `priors_count` no presentan outliers según esta regla, lo cual es positivo para el modelado.\n",
    "\n",
    "✅ Este análisis es crucial para decidir si imputar, transformar o excluir valores extremos en fases posteriores.\n"
   ]
  },
  {
   "cell_type": "code",
   "execution_count": 9,
   "id": "2d3959a1",
   "metadata": {},
   "outputs": [
    {
     "data": {
      "application/vnd.plotly.v1+json": {
       "config": {
        "plotlyServerURL": "https://plot.ly"
       },
       "data": [
        {
         "bingroup": "x",
         "hovertemplate": "age=%{x}<br>count=%{y}<extra></extra>",
         "legendgroup": "",
         "marker": {
          "color": "indianred",
          "pattern": {
           "shape": ""
          }
         },
         "name": "",
         "nbinsx": 30,
         "orientation": "v",
         "showlegend": false,
         "type": "histogram",
         "x": {
          "bdata": "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",
          "dtype": "i1"
         },
         "xaxis": "x",
         "yaxis": "y"
        }
       ],
       "layout": {
        "bargap": 0.1,
        "barmode": "relative",
        "legend": {
         "tracegroupgap": 0
        },
        "template": {
         "data": {
          "bar": [
           {
            "error_x": {
             "color": "#2a3f5f"
            },
            "error_y": {
             "color": "#2a3f5f"
            },
            "marker": {
             "line": {
              "color": "#E5ECF6",
              "width": 0.5
             },
             "pattern": {
              "fillmode": "overlay",
              "size": 10,
              "solidity": 0.2
             }
            },
            "type": "bar"
           }
          ],
          "barpolar": [
           {
            "marker": {
             "line": {
              "color": "#E5ECF6",
              "width": 0.5
             },
             "pattern": {
              "fillmode": "overlay",
              "size": 10,
              "solidity": 0.2
             }
            },
            "type": "barpolar"
           }
          ],
          "carpet": [
           {
            "aaxis": {
             "endlinecolor": "#2a3f5f",
             "gridcolor": "white",
             "linecolor": "white",
             "minorgridcolor": "white",
             "startlinecolor": "#2a3f5f"
            },
            "baxis": {
             "endlinecolor": "#2a3f5f",
             "gridcolor": "white",
             "linecolor": "white",
             "minorgridcolor": "white",
             "startlinecolor": "#2a3f5f"
            },
            "type": "carpet"
           }
          ],
          "choropleth": [
           {
            "colorbar": {
             "outlinewidth": 0,
             "ticks": ""
            },
            "type": "choropleth"
           }
          ],
          "contour": [
           {
            "colorbar": {
             "outlinewidth": 0,
             "ticks": ""
            },
            "colorscale": [
             [
              0,
              "#0d0887"
             ],
             [
              0.1111111111111111,
              "#46039f"
             ],
             [
              0.2222222222222222,
              "#7201a8"
             ],
             [
              0.3333333333333333,
              "#9c179e"
             ],
             [
              0.4444444444444444,
              "#bd3786"
             ],
             [
              0.5555555555555556,
              "#d8576b"
             ],
             [
              0.6666666666666666,
              "#ed7953"
             ],
             [
              0.7777777777777778,
              "#fb9f3a"
             ],
             [
              0.8888888888888888,
              "#fdca26"
             ],
             [
              1,
              "#f0f921"
             ]
            ],
            "type": "contour"
           }
          ],
          "contourcarpet": [
           {
            "colorbar": {
             "outlinewidth": 0,
             "ticks": ""
            },
            "type": "contourcarpet"
           }
          ],
          "heatmap": [
           {
            "colorbar": {
             "outlinewidth": 0,
             "ticks": ""
            },
            "colorscale": [
             [
              0,
              "#0d0887"
             ],
             [
              0.1111111111111111,
              "#46039f"
             ],
             [
              0.2222222222222222,
              "#7201a8"
             ],
             [
              0.3333333333333333,
              "#9c179e"
             ],
             [
              0.4444444444444444,
              "#bd3786"
             ],
             [
              0.5555555555555556,
              "#d8576b"
             ],
             [
              0.6666666666666666,
              "#ed7953"
             ],
             [
              0.7777777777777778,
              "#fb9f3a"
             ],
             [
              0.8888888888888888,
              "#fdca26"
             ],
             [
              1,
              "#f0f921"
             ]
            ],
            "type": "heatmap"
           }
          ],
          "histogram": [
           {
            "marker": {
             "pattern": {
              "fillmode": "overlay",
              "size": 10,
              "solidity": 0.2
             }
            },
            "type": "histogram"
           }
          ],
          "histogram2d": [
           {
            "colorbar": {
             "outlinewidth": 0,
             "ticks": ""
            },
            "colorscale": [
             [
              0,
              "#0d0887"
             ],
             [
              0.1111111111111111,
              "#46039f"
             ],
             [
              0.2222222222222222,
              "#7201a8"
             ],
             [
              0.3333333333333333,
              "#9c179e"
             ],
             [
              0.4444444444444444,
              "#bd3786"
             ],
             [
              0.5555555555555556,
              "#d8576b"
             ],
             [
              0.6666666666666666,
              "#ed7953"
             ],
             [
              0.7777777777777778,
              "#fb9f3a"
             ],
             [
              0.8888888888888888,
              "#fdca26"
             ],
             [
              1,
              "#f0f921"
             ]
            ],
            "type": "histogram2d"
           }
          ],
          "histogram2dcontour": [
           {
            "colorbar": {
             "outlinewidth": 0,
             "ticks": ""
            },
            "colorscale": [
             [
              0,
              "#0d0887"
             ],
             [
              0.1111111111111111,
              "#46039f"
             ],
             [
              0.2222222222222222,
              "#7201a8"
             ],
             [
              0.3333333333333333,
              "#9c179e"
             ],
             [
              0.4444444444444444,
              "#bd3786"
             ],
             [
              0.5555555555555556,
              "#d8576b"
             ],
             [
              0.6666666666666666,
              "#ed7953"
             ],
             [
              0.7777777777777778,
              "#fb9f3a"
             ],
             [
              0.8888888888888888,
              "#fdca26"
             ],
             [
              1,
              "#f0f921"
             ]
            ],
            "type": "histogram2dcontour"
           }
          ],
          "mesh3d": [
           {
            "colorbar": {
             "outlinewidth": 0,
             "ticks": ""
            },
            "type": "mesh3d"
           }
          ],
          "parcoords": [
           {
            "line": {
             "colorbar": {
              "outlinewidth": 0,
              "ticks": ""
             }
            },
            "type": "parcoords"
           }
          ],
          "pie": [
           {
            "automargin": true,
            "type": "pie"
           }
          ],
          "scatter": [
           {
            "fillpattern": {
             "fillmode": "overlay",
             "size": 10,
             "solidity": 0.2
            },
            "type": "scatter"
           }
          ],
          "scatter3d": [
           {
            "line": {
             "colorbar": {
              "outlinewidth": 0,
              "ticks": ""
             }
            },
            "marker": {
             "colorbar": {
              "outlinewidth": 0,
              "ticks": ""
             }
            },
            "type": "scatter3d"
           }
          ],
          "scattercarpet": [
           {
            "marker": {
             "colorbar": {
              "outlinewidth": 0,
              "ticks": ""
             }
            },
            "type": "scattercarpet"
           }
          ],
          "scattergeo": [
           {
            "marker": {
             "colorbar": {
              "outlinewidth": 0,
              "ticks": ""
             }
            },
            "type": "scattergeo"
           }
          ],
          "scattergl": [
           {
            "marker": {
             "colorbar": {
              "outlinewidth": 0,
              "ticks": ""
             }
            },
            "type": "scattergl"
           }
          ],
          "scattermap": [
           {
            "marker": {
             "colorbar": {
              "outlinewidth": 0,
              "ticks": ""
             }
            },
            "type": "scattermap"
           }
          ],
          "scattermapbox": [
           {
            "marker": {
             "colorbar": {
              "outlinewidth": 0,
              "ticks": ""
             }
            },
            "type": "scattermapbox"
           }
          ],
          "scatterpolar": [
           {
            "marker": {
             "colorbar": {
              "outlinewidth": 0,
              "ticks": ""
             }
            },
            "type": "scatterpolar"
           }
          ],
          "scatterpolargl": [
           {
            "marker": {
             "colorbar": {
              "outlinewidth": 0,
              "ticks": ""
             }
            },
            "type": "scatterpolargl"
           }
          ],
          "scatterternary": [
           {
            "marker": {
             "colorbar": {
              "outlinewidth": 0,
              "ticks": ""
             }
            },
            "type": "scatterternary"
           }
          ],
          "surface": [
           {
            "colorbar": {
             "outlinewidth": 0,
             "ticks": ""
            },
            "colorscale": [
             [
              0,
              "#0d0887"
             ],
             [
              0.1111111111111111,
              "#46039f"
             ],
             [
              0.2222222222222222,
              "#7201a8"
             ],
             [
              0.3333333333333333,
              "#9c179e"
             ],
             [
              0.4444444444444444,
              "#bd3786"
             ],
             [
              0.5555555555555556,
              "#d8576b"
             ],
             [
              0.6666666666666666,
              "#ed7953"
             ],
             [
              0.7777777777777778,
              "#fb9f3a"
             ],
             [
              0.8888888888888888,
              "#fdca26"
             ],
             [
              1,
              "#f0f921"
             ]
            ],
            "type": "surface"
           }
          ],
          "table": [
           {
            "cells": {
             "fill": {
              "color": "#EBF0F8"
             },
             "line": {
              "color": "white"
             }
            },
            "header": {
             "fill": {
              "color": "#C8D4E3"
             },
             "line": {
              "color": "white"
             }
            },
            "type": "table"
           }
          ]
         },
         "layout": {
          "annotationdefaults": {
           "arrowcolor": "#2a3f5f",
           "arrowhead": 0,
           "arrowwidth": 1
          },
          "autotypenumbers": "strict",
          "coloraxis": {
           "colorbar": {
            "outlinewidth": 0,
            "ticks": ""
           }
          },
          "colorscale": {
           "diverging": [
            [
             0,
             "#8e0152"
            ],
            [
             0.1,
             "#c51b7d"
            ],
            [
             0.2,
             "#de77ae"
            ],
            [
             0.3,
             "#f1b6da"
            ],
            [
             0.4,
             "#fde0ef"
            ],
            [
             0.5,
             "#f7f7f7"
            ],
            [
             0.6,
             "#e6f5d0"
            ],
            [
             0.7,
             "#b8e186"
            ],
            [
             0.8,
             "#7fbc41"
            ],
            [
             0.9,
             "#4d9221"
            ],
            [
             1,
             "#276419"
            ]
           ],
           "sequential": [
            [
             0,
             "#0d0887"
            ],
            [
             0.1111111111111111,
             "#46039f"
            ],
            [
             0.2222222222222222,
             "#7201a8"
            ],
            [
             0.3333333333333333,
             "#9c179e"
            ],
            [
             0.4444444444444444,
             "#bd3786"
            ],
            [
             0.5555555555555556,
             "#d8576b"
            ],
            [
             0.6666666666666666,
             "#ed7953"
            ],
            [
             0.7777777777777778,
             "#fb9f3a"
            ],
            [
             0.8888888888888888,
             "#fdca26"
            ],
            [
             1,
             "#f0f921"
            ]
           ],
           "sequentialminus": [
            [
             0,
             "#0d0887"
            ],
            [
             0.1111111111111111,
             "#46039f"
            ],
            [
             0.2222222222222222,
             "#7201a8"
            ],
            [
             0.3333333333333333,
             "#9c179e"
            ],
            [
             0.4444444444444444,
             "#bd3786"
            ],
            [
             0.5555555555555556,
             "#d8576b"
            ],
            [
             0.6666666666666666,
             "#ed7953"
            ],
            [
             0.7777777777777778,
             "#fb9f3a"
            ],
            [
             0.8888888888888888,
             "#fdca26"
            ],
            [
             1,
             "#f0f921"
            ]
           ]
          },
          "colorway": [
           "#636efa",
           "#EF553B",
           "#00cc96",
           "#ab63fa",
           "#FFA15A",
           "#19d3f3",
           "#FF6692",
           "#B6E880",
           "#FF97FF",
           "#FECB52"
          ],
          "font": {
           "color": "#2a3f5f"
          },
          "geo": {
           "bgcolor": "white",
           "lakecolor": "white",
           "landcolor": "#E5ECF6",
           "showlakes": true,
           "showland": true,
           "subunitcolor": "white"
          },
          "hoverlabel": {
           "align": "left"
          },
          "hovermode": "closest",
          "mapbox": {
           "style": "light"
          },
          "paper_bgcolor": "white",
          "plot_bgcolor": "#E5ECF6",
          "polar": {
           "angularaxis": {
            "gridcolor": "white",
            "linecolor": "white",
            "ticks": ""
           },
           "bgcolor": "#E5ECF6",
           "radialaxis": {
            "gridcolor": "white",
            "linecolor": "white",
            "ticks": ""
           }
          },
          "scene": {
           "xaxis": {
            "backgroundcolor": "#E5ECF6",
            "gridcolor": "white",
            "gridwidth": 2,
            "linecolor": "white",
            "showbackground": true,
            "ticks": "",
            "zerolinecolor": "white"
           },
           "yaxis": {
            "backgroundcolor": "#E5ECF6",
            "gridcolor": "white",
            "gridwidth": 2,
            "linecolor": "white",
            "showbackground": true,
            "ticks": "",
            "zerolinecolor": "white"
           },
           "zaxis": {
            "backgroundcolor": "#E5ECF6",
            "gridcolor": "white",
            "gridwidth": 2,
            "linecolor": "white",
            "showbackground": true,
            "ticks": "",
            "zerolinecolor": "white"
           }
          },
          "shapedefaults": {
           "line": {
            "color": "#2a3f5f"
           }
          },
          "ternary": {
           "aaxis": {
            "gridcolor": "white",
            "linecolor": "white",
            "ticks": ""
           },
           "baxis": {
            "gridcolor": "white",
            "linecolor": "white",
            "ticks": ""
           },
           "bgcolor": "#E5ECF6",
           "caxis": {
            "gridcolor": "white",
            "linecolor": "white",
            "ticks": ""
           }
          },
          "title": {
           "x": 0.05
          },
          "xaxis": {
           "automargin": true,
           "gridcolor": "white",
           "linecolor": "white",
           "ticks": "",
           "title": {
            "standoff": 15
           },
           "zerolinecolor": "white",
           "zerolinewidth": 2
          },
          "yaxis": {
           "automargin": true,
           "gridcolor": "white",
           "linecolor": "white",
           "ticks": "",
           "title": {
            "standoff": 15
           },
           "zerolinecolor": "white",
           "zerolinewidth": 2
          }
         }
        },
        "title": {
         "text": "Distribución de la Edad"
        },
        "xaxis": {
         "anchor": "y",
         "domain": [
          0,
          1
         ],
         "title": {
          "text": "age"
         }
        },
        "yaxis": {
         "anchor": "x",
         "domain": [
          0,
          1
         ],
         "title": {
          "text": "count"
         }
        }
       }
      }
     },
     "metadata": {},
     "output_type": "display_data"
    },
    {
     "data": {
      "application/vnd.plotly.v1+json": {
       "config": {
        "plotlyServerURL": "https://plot.ly"
       },
       "data": [
        {
         "bingroup": "x",
         "hovertemplate": "priors_count=%{x}<br>count=%{y}<extra></extra>",
         "legendgroup": "",
         "marker": {
          "color": "steelblue",
          "pattern": {
           "shape": ""
          }
         },
         "name": "",
         "nbinsx": 30,
         "orientation": "v",
         "showlegend": false,
         "type": "histogram",
         "x": {
          "bdata": "AAAEAQIADgMAAQADAAABBwADBgUNAQAAAQEACAMFAAkEAAcGBAEVAAICAgcACQ0ABAABABQBDwIABAgFCg8EAQIEAAYAAAYBAQUBAgEAAQEAAQgADgACAgEJBwEJDAACAwAAAQEBAAgAAAEOAQMFAAUDAQoAHAEBDQMIAxMCBAYCAQICAAAKAgQDAgEBBAEACQsIAAcCAAABDQEEAQECAwEDAQIBBgYAAQAFAggGAQgGAgABAAAWARcAAQIDCAANAgAJAgACAQIBAAQXBQIAAAsHAgIBBw8CAwABAAABAAQCBQsABAsCAgAADQABCwEABAQAAA4EARkIAAEAAwgEAwEDAAEFAAEBAgAEAgIAAAAAAAgAAAsDAQICAgAYAwADAwEGAwABAwUBBQAFAgYAAQIAAQQABAUCBQAAAAMACQAAAAAHAAYIAiQCAQMAAgEBAAAAAwEAAAEDAgwBAwEAAgAAAAACBgAAAwIAAAMCAQEAAQISBAABAQAHAQABAQEGBAMXAgIBBxcADAUDAAUOAgAGAAIFCQQDBAEAAAABCwAAAAIHAQgBAAAIFQMBAAEDAwMAAgMBAgAAAgECAQQDAQUAEAIAAA0QAQMGAQQFCgUCAAYcCAYCDAEBAQAAAwMEAAQBAAECBgICBQEABgAABAAAAgQBBxQhAgEBAQQMDAAABwICBgAKBQABAAQABAAABgEABgEAAQAUAA4JBgABBQICAQACAQgGAwADAwEDAwABEAABAgUIBQsGAA8EAAEBAgUIAAAFAAEACgABBAQAAAAAAQABAwMRAAsBAQEGAQACBQAAAQQABgIKBgkDAAIBAA8EAAQDBQEDABIAAAQAAAAAAQIDCAoBBAIAAQkNARcUAwECAgAAAQAACwQFAgAAAgAAEQMADwcCAwADDwIFBAEOAgMCBAIUAgEBAAYKCgEJAQgAAAIABQESAAEBAAABAAAAAgEBAAsBAQAEAgEGAAAACwoAAAAWAAABBwEICgAAAwIEBRMBAAEAAxIAAAUGAgQCAQEAAAgAAAQEAQIACwAAAwABAgAWAAAAAgIAAQEAAgMAAAMRAQELAQcAAAgHDgABBRABAAACAwECDQAAFAMZAQkFBAQEAQIABgMAAQQBAQEDBAEFAAABBwABAQkFAQAZAA0ABQQAAAMBAQMGBAEEARkBAwMBBAEBAAkAAQEBAwMFAAAABAMAAAEBBgECAAEEAQMCEwMCAAUKAQAAAQEABA4CBQABAQIGAAABAAcCBQAAAAoAAAIBBQIKBAICAAAABgAGAQgBAAUEAwIIAQYAAAQAAgACBhEUAwECAgIFCAABAQECAQEGAgARCwEGAQEAAAEFAAMDAQAFEAgABQABAQMNAgEFAQIBAAAAEQEAAAICBAAABB4EAgAAAAITBQAAAQIEAQgDAQoAAgEAAgEAAAECBgEAAAAJAQIBAgASBQEABwEBAwgHAwQCAAMEAwQBCgEAAQADEAAKBAAMAAABCQsFCwEBAAEHAQUBBgAAAA4FAAEDAAAAAAABABEEAAEAAgAEAQADAgMACQACCQcDAAADBAQAAAEEAgEAAAsGBQMDAgACBQAAAgAADAEACAEBAAAFBAcAAwEAAQEAAwEAAAAAAAIAAQECAwIACAAIAAEMBgIEAAQBAAoAAQADAQAAAwAABAECABYJAAAFBAQAAQABAAACAAAEAQEAAQEBAQACBQABAAIAAQIGAQAAAAIEBwUABwcADAAEAAAGAgsABQQAAgECABEABAMEAAEGAgEAAgAABgYPAAADAQEBCAIGAAILAQAABwEEAwIAAQAADwABABEAAQAKAgkBAAAAAwACAAIEAQcFEAMAAgAEBQETAQAAAQAOAAMCAgMADwEBAgAAAAAIAAEBAQEDCQEUAQAFAQADBgIIBAcBAgACCQIDBQMDAgMBDwMDAgECAwwDAwYEBAcFAAEBBgEPAQAABQEAAgUBBwQOBgUAAgkAAggABwIMAwEBAAAABQQNBQABCwADAgMABgAABw8ADA4ADgABBAIAAQsDAgMHAAAAAAYCAgIFAQACAAIAAA4CARgAAgAAAAMPCgACAAECCwIPBQABAAECBgYBAQAAAQELBQkMAQgAAAMAAQAIAwIFAAAABQEJAAADAQwCBggECQgBDQkACAEAAAIHAQAACAYCAAECAgMAAAcABQECFQ0XCwEJBRgFARMAAAAGAAAGAAEbAAEEAAEGGA0AAQEACAAOAAIHAwIBDgAEAgQCAQEXAAEHBQQDAQMFAwADAQABBgcBCgAACQEBAQAGAAIbAwcBCAADCAQPBwcAAAABAAEJAQAEBQMAAQECCwIABQADBAcFAQICAAAAAQEAAAEAAwIEAAMCCwAAAwABBgUABAEFAAEBGAwEBgADABcBDQ4JAAgDAAECAAcFAgAFAAAGAgMCAAgCAAMCDgkJAQMAEwEAAAAABQsEAAAACgQLAQAIBQEAAAMJAQABBAEKAQMDAAADCgEABgATAQYCCwABAwcCAAAAAgAPAgoEAAgFDg0JABUBAQQFAQALAwYAAgMAAAASAQIDBAUAAAAHAQAKAAIIAQABAAEGAAEBAAAAAQkCAAEAAQMEAwAAAggFAQkFAAUAAgAEAAIQABUAAQgBAQgAAQEAAgsEDgIFAAwHCAUBBAABBwEBAAQDBAACBQAEAAEBDQkBBAAFAQMHABACAAEBDQACAAAABgACAgcBAwIAAgETCAUBBwACCwAGJgcABwADBAQAAQABAAcADQIABAAAAAEEBAUAAgECAhcABAAAAAEAAQIJAAADAAMAAAAGCQAEAQIEAAgMAAsFAgEAAQsCBA8VAQkAAAUBGgEABAMDAAsFBAESDwAIAwAAAAYDDQACAwMBBQEBAgAECQAAAAQAAAQBAAMBAwAOAAAlAgABAgIHBwABAwEDAAEPBgERAAEBAAkAAAEBAQoBBwYBAAkACgMAAAEDDQMFAgcAAQAAAQAAAAIDAwcBAAIGFQAAABkAAAABAAsAAQIMEwIDDwkBAQEBAwEBAQIDAQQFBgQBAgAWBAcCAQADAgcOAgYBAgcAAAoABQQBAQgBAQUAAAIIAQIAAQMABAAEAQADBwEAAwABBAARCAEJAAEBAgQEAgAAAQIBAQADAQEKCgYBAAMKAQoECgQAAwEAEAQAAAAAAgcAAAMBAAsACgQBAAEAAAABAhAECAABBAwAAAAJAQEACAUBDQAIAAEAAAEBHgUAAAIBAAEAAgEBBAIhAQEBBAAAAAABBAAOAQIPBgEBAgEBEgEBAw4HFAAAAgEABQMAAAABAQIOEAABAQAAAQYBAAcACAAAAQABCQIBAgUEAQMCAgYIAAABAAABAwUBAgICBQQBAwcAAwIAAAAAABYACQEAAAoAAAIFCwAGAAILBQEADQANBQgEAAgDAA0AAAIFBwAGAwMAAQEBAQEDAAEAAAABAA4BBgIHAQcAAQAABAAAEQIAAgoACAIAAQACAQwAAAABBAEDAAABBwsEAAIBAgACBwAAAAIAAQMDEwEBAQEDBAYAAQIDAAAEAgMDAAMCAAANBgAAAQACCgENBgAEAQMIAgAHBhkJAQEBBgcCAAABAwAAAAAIBQADDgEFAAADAQEBBQABAQEADQAEAAoCBwAGAAAUGgAAEwAAAQkJAgMABwAAFgIIAgcACgAAAgABCRADAAQCAAUCCQcBAAADAAMIAAIMAAAEAAUBCQAMAAQBAAEEAAIEAgEAAgUAAg4BAgUAAwEBBg4GBwECFgcBAAAEARgMBAABAAUTAggCAQAFAAEAAAQBAwECAAEBAAMJARIBAwYBAQADAAASAgIAAAAGAAAAAwsBAAEDAwAKAAEAAQIBAAEJAAQBAAIBAQYAAgECAAABBgcBBQEIAQcDAQQAAAAAExgCCQ8GAwIDAQAJAAEACgUBAQECAAgDAAIBAAEUAQAFAwAAAAUAAgMAAQgDAgAYAQIBAwMAAgEJAA4BAAAFCQEABQoHAwoAAgMJAAAFAAUNAgEDAQAHAAQCAgQAAgABAgUBAAEABwABAgoKAQwAAQEAAAEKAgUAAAgABQAFAQAGFAEABwYGAAABAQAACQABAAIIAAAKAREAAgMAAAQJAQYMAQADAgABCgABAAAAAxUFDAABBAABIQELAgECAwIDAQABAAMDAAIBDwAKAwYJAgUJCgUHAgAXCAMAAgICDQUGAAgBAgoCAwECBQEAAQIHAwEDAQAABgMEAA4BAwMEBQICAAADAQYDAQEAAAkAAwAJEAAAAAYHAgAAAwATBAEBAAMOABUDBAEBCQEJAAIDAQQAAggEBAUACgEAAQMACgEBAQIEBhEBBgECCgQKCQMBAQECAAQADgATAAYAAggACAEGBgAEAg0ABQADBQAAAwABAAEDAQEHAQICBwIAAgEMARgBAwAAAAEAAAcGAgUHBggAAQUAGgoCCQoAAAcDBwABAQACARIBAwAABgQBAgAABQECARcZEgELAgAJCQgHAAAHAAEDAwMaAAEBAQALDQkBAQAIBQABAAACAQoIAgAAAAMABAACCgABAAEbCgECCAACAAEEAAEAAwEDCQAAAgMCAwIAAAAABQEAAAMAAAABBwALBwEPCQAECAAFAAQAAQUCAAQBAwEAAAUACAcDBwUDABsFAAACAAABAgAIAQAAEAMAAQMAAAMDCwsEAAEBAAcBAAMBAwIAAAkCCAIFAgABCAIAAAICABUCBRMDAwkBAgIBAQMDABwCAQkEFQABAgQABBQBAAkBAQAAAAQAAAADBQUBAAAHAAIBDQIABwMBAAMCAQABAAEAAQABAQcFAAECAAUBAQIGAAMCBAAEDgsWAAUTAAEBAAAFAAsBBAECCQsDBQsNBAQBBgkEAwABAAABAQgAAhYECQACAQELAgAGAQEFAAADAQIEAAYAAgUMAgAABwABAAIEAwUDEQQDAAoFAAoQBgQAAQABAQEADgAEAAAABAAABwICBQEBCQIBAgEVAQQWDQAAAAADAgkAAQACAgYMAA0CBAEBAAAAABMHAQUBAQEHBAIDAAAABgEBAAoDBwYIAAgUCgEEAAACAAACAwALAAIHAgEBAwIBAAABEAMBAAIQAQAAEwEAAw0CBAACAg4ACAQAAAACAgACAgAAAAEIAAAEAwUECQMNAQECABYBAgQCBwAAAgABBAEAAwAEAgECAAIBAAYSAAQGAQABAQcNCQACAwYBAgEBBQEABAAFAAABAQEABh0BAAsAAAgEBgABAggGAwUAAwIACgACAQAAAgQDAwINAgYBABEABgATDAYACwAHDAAAAwEDGgEABAYEBw8BAgcRAAABBAcAAAAAAAABAwMLBwUCBwABAwAJCgABAAUGAAAAAAAAAAEEDwYGAgQBBQEMCAgBAgACBAUGAgACAwEBBwEDAgMIAAEEAQ8BAAEBAAEAAAQCAAIBAAIABQABAwACAwACAAMOEQMCAQUJAQEAAwAAARAAAAUBAAAHAAUDAAEGAAEBAAIJAgkACQkCFQMDAgIDBQIAAAUOAgsABQACAAAIAwMAAQAIBgoCDAQHAQICEAEDDQIABgIABgUCDAEBAQYABQABAgQPAAQJBAAJAgECBQQWAAIDAQIABQQBBQAABAsBDA0ADwMPAAwBAAAcBwEEBBAABQ0AAAAAAQAAAQAABwMAAAgBCAUABQEBDQIBAQsDAAEAAAYAAQIFAQMEAAIFAgIBAAwBCAIABQEGBAAJAgwBAAICAQMAAAEDBgEAAQAAAAAAAAoBAQEPAgAABQACAQABAAIAAQEAAxUAAAEDAgIDAAMAAwQEAQEPAAACAAABAwEAIwIAAQQDAwABCgABBwcAAAUAAAwEAQAEAQASAgEAAAECAAMHAAAAAQAAAgABAQMFAAACAAAAAAwCAAABCAAEAAIJAAEBAQIVAAAMAwINAAMAAQEFAgAGAAABAwEAAgAAAgENFgACAAMJAQADAggABAAHAAEAAwAABQAGAQsCAAIBAhEBAAARAAMBAAIABAABAAEAFRIAAQkBAAoBAAIBAQAAAwABAQACAQQAAgQAAQMAAgMAAAACAgAKBQQABgENAAEEAQUAAwIAAgEAFAICAgYMAQQIAAAAAAICAAcABRABAQICAAYDAAAKAAEHAgABAQMAAAIBCQAFBgICAgQEAAgdAwAAAA0AAgEBCAMCCwAEBA8KDwABAwoACQADAgAABAUAAgQHAwMAAAEAAQMBCAEABQABBAECAQUDBgEBAgACAgMBAAcEDgIAARABAAEAAwYAAQEBAgADAAYBBwcHBwADBQMBBwYDBAMMAQEBAwAGBAIAAgUCAgEJAwcABAEIBQADBQ0AHQAAEAAEBQETAAMCAwIDFAINEx8AAQkBAhgAAAMFAAYCAgIDAgMAABMAAwAGAwAAGAICBAEAAAAAAgEAAAAEAgAAAQIBCwMBBAgPAgMABQIBAQIMAAACAAERAQECBAYJAQMBBQADAgABAAABAAAABQgAAgEAFAEFAgABAQEAAAANDQEBAAUKAwMCAAAAAgQAAQYBBAACAAMIAAEAAQAEAAABAQsBAAAAAQMBAAABAAcBAAIACQMBAQECAQYFCwIDAgAAAAEAAAAIAwoBAQMDAwAACRABAQACAgACAAYOAgQBAAYACwAAAQsBGgIBAAABAxAAAAAAAAkCAAESBAACAAMBAAgHAQQBAgEAHAABAAAEAAEAAAMABwICAQECAAEACA4CAgAACwAGAgACAAADAAAGCAAAAwAAAwgAAgUDAAECAAIIAAUIAQEFAQIDAQAAAgEHDAkBDAEGAgMBEwIHCAEEAAECBgsCAAMDDQIAARsHBAABAgQBAAICCAELAQABBAADAAACAAMDAAgAAgwCAAIAAQEEAAMRAAYIAAAAAAIMBgAAAAADBQgHAAQAAAARCgAIBwABBQQBAAQIAAICAAAAAQEDBQEAAAAMDgADAAAACwgAFQ0CAAAKBgMFEgMIEwECAAkCAQ0ABwYKAAgDBwMBAAACCAAFAQABAAYCBg0CAgABAgIFAQoABA8CBAIGDQIBAgADCAUAAAEAAQAEBQAABRADAQEABAEDBwEBAAQCDAEEABMFAQEBAAEBAQEQAAEBAQERAAMCAgABAAABAAAABQAAAAABAQABAwQIAAMABgAAEQgCAgIQAAMJAQEAAQADAAADAwAOAQADAgYGBQABBwEAAAEFBwYAAAELCAYABgEACQEAAwMFCwADBQgDAQIKCAMIAQwEDAACAAIAAQYPBQYGAQAGBAMGBAQAARINAQoKAAEHDgEDAgABCQIBAAAABAcFAAAPBQIVCAADAQYDBwAEAAAABxIAEAABAgUAAAMIBwMEAAAAAAIAARAAAAcGEgABAAcMAwYBBA0EAwIBAAMBAgEBAAAGAAQCBwAFAgIPBAkEAAEHAwgHAAAADgEFAgEAAB0BAQABBgoBBAAHAQABAAoABQEAARYFAREACAoCAQ0EAgACAAEAAgUBAwgCAAAABQsCAgQACQUABgABAgMHBgIEAwIAAQEACwABDgIAAAYJAgEEAAAFAwEGAQABAQAFAQECBxAAAgEAAAUAAgwBAgATAQABAAAEEQQMAAQCAAwBAAEAAAAECQcBBAAMAAIBAAgCAAAIAgEDBQEACQEDAAgBDQQGBAECCAEAARcDBwcBAAULAAEDAgAAAAEAAQIJBQMDAQEDAAAAAgACChoNBQEBAAILAwAAAQkTAAEDAQMEDAEAAgAABQAAAQYAAwAQBwMAAAIAAQUBABEABQAFAAABBQAAAgEBBwEAAgEAAgENBAoAAAEAAQMEAAABAAMAAAIBBwIBABEBAQACAQECAAACAAABAQ8JBwEBAAAGAAEAAQEBAgUEBQEAAgAVAAEDAQADAAAFAQABAAAGAAkIAgMABwoFBAEAAQoAAgAWAgwCAgIAAQEDBQYDAQYCCAMBCwcCCwEBAQIACQINAAcABQAAAQAAAAIBBRYAAgUBDAAAAAIBAAABAAEBAwMACwANCQQBBgIBAAEBAREBAAMBFAIEBgAAAAcAAwAJAgEAAAMDAAABAAEBAgADAQIAARkABAMADwAAAAQDAQAAAAEAAwEBBAAAAAAEAAUAAwgBBAoCBAIDAQIAABYDAAUBCgwBAQQCAwMBAAADCAUBAAEBCAUAAgQVBAEABgkDAw8WAAcBCgIFAAACAQUCCggEAQABAQQAAwMBEgEHFAUBEAEHAQIAAgAHAgACAwsCHAIABQERAAMAAAQMAAAAAQEBAAIADgEDARABAAABBwAAAgEWAgAHAAkACAIBBwIABgIBAQIRBgAFAh0BFwABAQMBAgMFAAYQAQIAAQIEAwMBAQAKAAAJAQMFAwAAAAACAgEAAQAKCQUEAwAIAQkGBAISAQAAAgYBAgcAAQEHAgANGwIAAAEJAwMBAwAGBgADAQMAAQACAAQEAgAFAAACBAACAAEBAQAABwYGAQgCAAgBAAABAAAACwAAAQIAAAICAwwCAQECAAQLEAABAQMGBAYAAAQDAAEAAAoGCwYCAAcADAICGxUBAgIDAAEEAAQCAAIACAUEAgIKAgYUAQMAAAABAAIDAQAAAAoCAAEAAQILBAMPCAECDQEJBgEMAgADAQQAFwcAAQgJAQEFChUCBgAIBQIEBwILAQAEAwEBAAABBAQACwAOBQ8BAA8BAAAACgICAAEABAAAAgEMAgUNAAAABQECAQMACAABAgAAAAUAAAEJAAQCDwgAAAMAAAYABAMABQcACQcWAgYAAAAAAAgABQEBBwUJDQYAAgABBQAAAQQCAgYBAgcABQMAAQUFAAIAAwgBBwACBQACAgcSAgUABQUBAQIABgIAAQEGAg0ACwMBCgAAAAQFAQIBAAYIAAwAAgEAAQEAAwgBBQAEGQIAAQIJBAgAAAMEAAkAAAEAAAAJAwIAAgEDAQAACgMABQcAAAELBAADAAsCAAQAAAIAAgACDgECAAYDAAUAAQEBAwEAAQ4AAAIGBwMEBwAAAAMIAQ0AAQAAAAEAAQMAAAEAAAQJAQEAAAUDAQIAAQMBBAEAAwAAAAAABwABCgEDAwcDEQABAwACBQACJgAPEAABAQEABgQCAgIGAQEIAhEDBgIAAgAAAAgBAAELAwEFAAwABQkAAAMDAgUAFwEABREBAAIADAEAAQ4AAgEBBQ8AABEBAwEIDwAABQIAAAQCAwUBAQgECAwIAQgBAQQCAAoBAwEAAAANAAIBBQsEAQwLAwsAAxQDBgAIAQEBAgEDAQUBBAEAAwACAAAAAQUEBAAGBhQAAAACAQMHAAYDAAAGAwQBAAMAAAABEgAKDQIAAAAEBAcJAgAKCwECAQABAAkCCQMAHA4XAAQBAAMBAAIBBAcFAAECAQsFEgEAAAEAAAAEAAQBAAIACQIBAAEHAQEBAAACCQEHDwIAAQUNCAMNAQEKAAUCCAABAAIBAAIDDgMQAAAEAQQCAB8ABQUCAQIEBAAGAAIAAwABFAEDCwEBBAQIAwkSBQcAAQMOAQUADQsCDAQCBAADAQUHAQQABwABAgAAAAEEBwEAAAEBAwEHAgAEBQkOAAMCAgABAggAAQQAABMAAAIFAAAAAAAAAwI=",
          "dtype": "i1"
         },
         "xaxis": "x",
         "yaxis": "y"
        }
       ],
       "layout": {
        "bargap": 0.1,
        "barmode": "relative",
        "legend": {
         "tracegroupgap": 0
        },
        "template": {
         "data": {
          "bar": [
           {
            "error_x": {
             "color": "#2a3f5f"
            },
            "error_y": {
             "color": "#2a3f5f"
            },
            "marker": {
             "line": {
              "color": "#E5ECF6",
              "width": 0.5
             },
             "pattern": {
              "fillmode": "overlay",
              "size": 10,
              "solidity": 0.2
             }
            },
            "type": "bar"
           }
          ],
          "barpolar": [
           {
            "marker": {
             "line": {
              "color": "#E5ECF6",
              "width": 0.5
             },
             "pattern": {
              "fillmode": "overlay",
              "size": 10,
              "solidity": 0.2
             }
            },
            "type": "barpolar"
           }
          ],
          "carpet": [
           {
            "aaxis": {
             "endlinecolor": "#2a3f5f",
             "gridcolor": "white",
             "linecolor": "white",
             "minorgridcolor": "white",
             "startlinecolor": "#2a3f5f"
            },
            "baxis": {
             "endlinecolor": "#2a3f5f",
             "gridcolor": "white",
             "linecolor": "white",
             "minorgridcolor": "white",
             "startlinecolor": "#2a3f5f"
            },
            "type": "carpet"
           }
          ],
          "choropleth": [
           {
            "colorbar": {
             "outlinewidth": 0,
             "ticks": ""
            },
            "type": "choropleth"
           }
          ],
          "contour": [
           {
            "colorbar": {
             "outlinewidth": 0,
             "ticks": ""
            },
            "colorscale": [
             [
              0,
              "#0d0887"
             ],
             [
              0.1111111111111111,
              "#46039f"
             ],
             [
              0.2222222222222222,
              "#7201a8"
             ],
             [
              0.3333333333333333,
              "#9c179e"
             ],
             [
              0.4444444444444444,
              "#bd3786"
             ],
             [
              0.5555555555555556,
              "#d8576b"
             ],
             [
              0.6666666666666666,
              "#ed7953"
             ],
             [
              0.7777777777777778,
              "#fb9f3a"
             ],
             [
              0.8888888888888888,
              "#fdca26"
             ],
             [
              1,
              "#f0f921"
             ]
            ],
            "type": "contour"
           }
          ],
          "contourcarpet": [
           {
            "colorbar": {
             "outlinewidth": 0,
             "ticks": ""
            },
            "type": "contourcarpet"
           }
          ],
          "heatmap": [
           {
            "colorbar": {
             "outlinewidth": 0,
             "ticks": ""
            },
            "colorscale": [
             [
              0,
              "#0d0887"
             ],
             [
              0.1111111111111111,
              "#46039f"
             ],
             [
              0.2222222222222222,
              "#7201a8"
             ],
             [
              0.3333333333333333,
              "#9c179e"
             ],
             [
              0.4444444444444444,
              "#bd3786"
             ],
             [
              0.5555555555555556,
              "#d8576b"
             ],
             [
              0.6666666666666666,
              "#ed7953"
             ],
             [
              0.7777777777777778,
              "#fb9f3a"
             ],
             [
              0.8888888888888888,
              "#fdca26"
             ],
             [
              1,
              "#f0f921"
             ]
            ],
            "type": "heatmap"
           }
          ],
          "histogram": [
           {
            "marker": {
             "pattern": {
              "fillmode": "overlay",
              "size": 10,
              "solidity": 0.2
             }
            },
            "type": "histogram"
           }
          ],
          "histogram2d": [
           {
            "colorbar": {
             "outlinewidth": 0,
             "ticks": ""
            },
            "colorscale": [
             [
              0,
              "#0d0887"
             ],
             [
              0.1111111111111111,
              "#46039f"
             ],
             [
              0.2222222222222222,
              "#7201a8"
             ],
             [
              0.3333333333333333,
              "#9c179e"
             ],
             [
              0.4444444444444444,
              "#bd3786"
             ],
             [
              0.5555555555555556,
              "#d8576b"
             ],
             [
              0.6666666666666666,
              "#ed7953"
             ],
             [
              0.7777777777777778,
              "#fb9f3a"
             ],
             [
              0.8888888888888888,
              "#fdca26"
             ],
             [
              1,
              "#f0f921"
             ]
            ],
            "type": "histogram2d"
           }
          ],
          "histogram2dcontour": [
           {
            "colorbar": {
             "outlinewidth": 0,
             "ticks": ""
            },
            "colorscale": [
             [
              0,
              "#0d0887"
             ],
             [
              0.1111111111111111,
              "#46039f"
             ],
             [
              0.2222222222222222,
              "#7201a8"
             ],
             [
              0.3333333333333333,
              "#9c179e"
             ],
             [
              0.4444444444444444,
              "#bd3786"
             ],
             [
              0.5555555555555556,
              "#d8576b"
             ],
             [
              0.6666666666666666,
              "#ed7953"
             ],
             [
              0.7777777777777778,
              "#fb9f3a"
             ],
             [
              0.8888888888888888,
              "#fdca26"
             ],
             [
              1,
              "#f0f921"
             ]
            ],
            "type": "histogram2dcontour"
           }
          ],
          "mesh3d": [
           {
            "colorbar": {
             "outlinewidth": 0,
             "ticks": ""
            },
            "type": "mesh3d"
           }
          ],
          "parcoords": [
           {
            "line": {
             "colorbar": {
              "outlinewidth": 0,
              "ticks": ""
             }
            },
            "type": "parcoords"
           }
          ],
          "pie": [
           {
            "automargin": true,
            "type": "pie"
           }
          ],
          "scatter": [
           {
            "fillpattern": {
             "fillmode": "overlay",
             "size": 10,
             "solidity": 0.2
            },
            "type": "scatter"
           }
          ],
          "scatter3d": [
           {
            "line": {
             "colorbar": {
              "outlinewidth": 0,
              "ticks": ""
             }
            },
            "marker": {
             "colorbar": {
              "outlinewidth": 0,
              "ticks": ""
             }
            },
            "type": "scatter3d"
           }
          ],
          "scattercarpet": [
           {
            "marker": {
             "colorbar": {
              "outlinewidth": 0,
              "ticks": ""
             }
            },
            "type": "scattercarpet"
           }
          ],
          "scattergeo": [
           {
            "marker": {
             "colorbar": {
              "outlinewidth": 0,
              "ticks": ""
             }
            },
            "type": "scattergeo"
           }
          ],
          "scattergl": [
           {
            "marker": {
             "colorbar": {
              "outlinewidth": 0,
              "ticks": ""
             }
            },
            "type": "scattergl"
           }
          ],
          "scattermap": [
           {
            "marker": {
             "colorbar": {
              "outlinewidth": 0,
              "ticks": ""
             }
            },
            "type": "scattermap"
           }
          ],
          "scattermapbox": [
           {
            "marker": {
             "colorbar": {
              "outlinewidth": 0,
              "ticks": ""
             }
            },
            "type": "scattermapbox"
           }
          ],
          "scatterpolar": [
           {
            "marker": {
             "colorbar": {
              "outlinewidth": 0,
              "ticks": ""
             }
            },
            "type": "scatterpolar"
           }
          ],
          "scatterpolargl": [
           {
            "marker": {
             "colorbar": {
              "outlinewidth": 0,
              "ticks": ""
             }
            },
            "type": "scatterpolargl"
           }
          ],
          "scatterternary": [
           {
            "marker": {
             "colorbar": {
              "outlinewidth": 0,
              "ticks": ""
             }
            },
            "type": "scatterternary"
           }
          ],
          "surface": [
           {
            "colorbar": {
             "outlinewidth": 0,
             "ticks": ""
            },
            "colorscale": [
             [
              0,
              "#0d0887"
             ],
             [
              0.1111111111111111,
              "#46039f"
             ],
             [
              0.2222222222222222,
              "#7201a8"
             ],
             [
              0.3333333333333333,
              "#9c179e"
             ],
             [
              0.4444444444444444,
              "#bd3786"
             ],
             [
              0.5555555555555556,
              "#d8576b"
             ],
             [
              0.6666666666666666,
              "#ed7953"
             ],
             [
              0.7777777777777778,
              "#fb9f3a"
             ],
             [
              0.8888888888888888,
              "#fdca26"
             ],
             [
              1,
              "#f0f921"
             ]
            ],
            "type": "surface"
           }
          ],
          "table": [
           {
            "cells": {
             "fill": {
              "color": "#EBF0F8"
             },
             "line": {
              "color": "white"
             }
            },
            "header": {
             "fill": {
              "color": "#C8D4E3"
             },
             "line": {
              "color": "white"
             }
            },
            "type": "table"
           }
          ]
         },
         "layout": {
          "annotationdefaults": {
           "arrowcolor": "#2a3f5f",
           "arrowhead": 0,
           "arrowwidth": 1
          },
          "autotypenumbers": "strict",
          "coloraxis": {
           "colorbar": {
            "outlinewidth": 0,
            "ticks": ""
           }
          },
          "colorscale": {
           "diverging": [
            [
             0,
             "#8e0152"
            ],
            [
             0.1,
             "#c51b7d"
            ],
            [
             0.2,
             "#de77ae"
            ],
            [
             0.3,
             "#f1b6da"
            ],
            [
             0.4,
             "#fde0ef"
            ],
            [
             0.5,
             "#f7f7f7"
            ],
            [
             0.6,
             "#e6f5d0"
            ],
            [
             0.7,
             "#b8e186"
            ],
            [
             0.8,
             "#7fbc41"
            ],
            [
             0.9,
             "#4d9221"
            ],
            [
             1,
             "#276419"
            ]
           ],
           "sequential": [
            [
             0,
             "#0d0887"
            ],
            [
             0.1111111111111111,
             "#46039f"
            ],
            [
             0.2222222222222222,
             "#7201a8"
            ],
            [
             0.3333333333333333,
             "#9c179e"
            ],
            [
             0.4444444444444444,
             "#bd3786"
            ],
            [
             0.5555555555555556,
             "#d8576b"
            ],
            [
             0.6666666666666666,
             "#ed7953"
            ],
            [
             0.7777777777777778,
             "#fb9f3a"
            ],
            [
             0.8888888888888888,
             "#fdca26"
            ],
            [
             1,
             "#f0f921"
            ]
           ],
           "sequentialminus": [
            [
             0,
             "#0d0887"
            ],
            [
             0.1111111111111111,
             "#46039f"
            ],
            [
             0.2222222222222222,
             "#7201a8"
            ],
            [
             0.3333333333333333,
             "#9c179e"
            ],
            [
             0.4444444444444444,
             "#bd3786"
            ],
            [
             0.5555555555555556,
             "#d8576b"
            ],
            [
             0.6666666666666666,
             "#ed7953"
            ],
            [
             0.7777777777777778,
             "#fb9f3a"
            ],
            [
             0.8888888888888888,
             "#fdca26"
            ],
            [
             1,
             "#f0f921"
            ]
           ]
          },
          "colorway": [
           "#636efa",
           "#EF553B",
           "#00cc96",
           "#ab63fa",
           "#FFA15A",
           "#19d3f3",
           "#FF6692",
           "#B6E880",
           "#FF97FF",
           "#FECB52"
          ],
          "font": {
           "color": "#2a3f5f"
          },
          "geo": {
           "bgcolor": "white",
           "lakecolor": "white",
           "landcolor": "#E5ECF6",
           "showlakes": true,
           "showland": true,
           "subunitcolor": "white"
          },
          "hoverlabel": {
           "align": "left"
          },
          "hovermode": "closest",
          "mapbox": {
           "style": "light"
          },
          "paper_bgcolor": "white",
          "plot_bgcolor": "#E5ECF6",
          "polar": {
           "angularaxis": {
            "gridcolor": "white",
            "linecolor": "white",
            "ticks": ""
           },
           "bgcolor": "#E5ECF6",
           "radialaxis": {
            "gridcolor": "white",
            "linecolor": "white",
            "ticks": ""
           }
          },
          "scene": {
           "xaxis": {
            "backgroundcolor": "#E5ECF6",
            "gridcolor": "white",
            "gridwidth": 2,
            "linecolor": "white",
            "showbackground": true,
            "ticks": "",
            "zerolinecolor": "white"
           },
           "yaxis": {
            "backgroundcolor": "#E5ECF6",
            "gridcolor": "white",
            "gridwidth": 2,
            "linecolor": "white",
            "showbackground": true,
            "ticks": "",
            "zerolinecolor": "white"
           },
           "zaxis": {
            "backgroundcolor": "#E5ECF6",
            "gridcolor": "white",
            "gridwidth": 2,
            "linecolor": "white",
            "showbackground": true,
            "ticks": "",
            "zerolinecolor": "white"
           }
          },
          "shapedefaults": {
           "line": {
            "color": "#2a3f5f"
           }
          },
          "ternary": {
           "aaxis": {
            "gridcolor": "white",
            "linecolor": "white",
            "ticks": ""
           },
           "baxis": {
            "gridcolor": "white",
            "linecolor": "white",
            "ticks": ""
           },
           "bgcolor": "#E5ECF6",
           "caxis": {
            "gridcolor": "white",
            "linecolor": "white",
            "ticks": ""
           }
          },
          "title": {
           "x": 0.05
          },
          "xaxis": {
           "automargin": true,
           "gridcolor": "white",
           "linecolor": "white",
           "ticks": "",
           "title": {
            "standoff": 15
           },
           "zerolinecolor": "white",
           "zerolinewidth": 2
          },
          "yaxis": {
           "automargin": true,
           "gridcolor": "white",
           "linecolor": "white",
           "ticks": "",
           "title": {
            "standoff": 15
           },
           "zerolinecolor": "white",
           "zerolinewidth": 2
          }
         }
        },
        "title": {
         "text": "Distribución de Antecedentes Previos"
        },
        "xaxis": {
         "anchor": "y",
         "domain": [
          0,
          1
         ],
         "title": {
          "text": "priors_count"
         }
        },
        "yaxis": {
         "anchor": "x",
         "domain": [
          0,
          1
         ],
         "title": {
          "text": "count"
         }
        }
       }
      }
     },
     "metadata": {},
     "output_type": "display_data"
    },
    {
     "data": {
      "application/vnd.plotly.v1+json": {
       "config": {
        "plotlyServerURL": "https://plot.ly"
       },
       "data": [
        {
         "bingroup": "x",
         "hovertemplate": "decile_score=%{x}<br>count=%{y}<extra></extra>",
         "legendgroup": "",
         "marker": {
          "color": "darkgreen",
          "pattern": {
           "shape": ""
          }
         },
         "name": "",
         "nbinsx": 10,
         "orientation": "v",
         "showlegend": false,
         "type": "histogram",
         "x": {
          "bdata": "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",
          "dtype": "i1"
         },
         "xaxis": "x",
         "yaxis": "y"
        }
       ],
       "layout": {
        "bargap": 0.1,
        "barmode": "relative",
        "legend": {
         "tracegroupgap": 0
        },
        "template": {
         "data": {
          "bar": [
           {
            "error_x": {
             "color": "#2a3f5f"
            },
            "error_y": {
             "color": "#2a3f5f"
            },
            "marker": {
             "line": {
              "color": "#E5ECF6",
              "width": 0.5
             },
             "pattern": {
              "fillmode": "overlay",
              "size": 10,
              "solidity": 0.2
             }
            },
            "type": "bar"
           }
          ],
          "barpolar": [
           {
            "marker": {
             "line": {
              "color": "#E5ECF6",
              "width": 0.5
             },
             "pattern": {
              "fillmode": "overlay",
              "size": 10,
              "solidity": 0.2
             }
            },
            "type": "barpolar"
           }
          ],
          "carpet": [
           {
            "aaxis": {
             "endlinecolor": "#2a3f5f",
             "gridcolor": "white",
             "linecolor": "white",
             "minorgridcolor": "white",
             "startlinecolor": "#2a3f5f"
            },
            "baxis": {
             "endlinecolor": "#2a3f5f",
             "gridcolor": "white",
             "linecolor": "white",
             "minorgridcolor": "white",
             "startlinecolor": "#2a3f5f"
            },
            "type": "carpet"
           }
          ],
          "choropleth": [
           {
            "colorbar": {
             "outlinewidth": 0,
             "ticks": ""
            },
            "type": "choropleth"
           }
          ],
          "contour": [
           {
            "colorbar": {
             "outlinewidth": 0,
             "ticks": ""
            },
            "colorscale": [
             [
              0,
              "#0d0887"
             ],
             [
              0.1111111111111111,
              "#46039f"
             ],
             [
              0.2222222222222222,
              "#7201a8"
             ],
             [
              0.3333333333333333,
              "#9c179e"
             ],
             [
              0.4444444444444444,
              "#bd3786"
             ],
             [
              0.5555555555555556,
              "#d8576b"
             ],
             [
              0.6666666666666666,
              "#ed7953"
             ],
             [
              0.7777777777777778,
              "#fb9f3a"
             ],
             [
              0.8888888888888888,
              "#fdca26"
             ],
             [
              1,
              "#f0f921"
             ]
            ],
            "type": "contour"
           }
          ],
          "contourcarpet": [
           {
            "colorbar": {
             "outlinewidth": 0,
             "ticks": ""
            },
            "type": "contourcarpet"
           }
          ],
          "heatmap": [
           {
            "colorbar": {
             "outlinewidth": 0,
             "ticks": ""
            },
            "colorscale": [
             [
              0,
              "#0d0887"
             ],
             [
              0.1111111111111111,
              "#46039f"
             ],
             [
              0.2222222222222222,
              "#7201a8"
             ],
             [
              0.3333333333333333,
              "#9c179e"
             ],
             [
              0.4444444444444444,
              "#bd3786"
             ],
             [
              0.5555555555555556,
              "#d8576b"
             ],
             [
              0.6666666666666666,
              "#ed7953"
             ],
             [
              0.7777777777777778,
              "#fb9f3a"
             ],
             [
              0.8888888888888888,
              "#fdca26"
             ],
             [
              1,
              "#f0f921"
             ]
            ],
            "type": "heatmap"
           }
          ],
          "histogram": [
           {
            "marker": {
             "pattern": {
              "fillmode": "overlay",
              "size": 10,
              "solidity": 0.2
             }
            },
            "type": "histogram"
           }
          ],
          "histogram2d": [
           {
            "colorbar": {
             "outlinewidth": 0,
             "ticks": ""
            },
            "colorscale": [
             [
              0,
              "#0d0887"
             ],
             [
              0.1111111111111111,
              "#46039f"
             ],
             [
              0.2222222222222222,
              "#7201a8"
             ],
             [
              0.3333333333333333,
              "#9c179e"
             ],
             [
              0.4444444444444444,
              "#bd3786"
             ],
             [
              0.5555555555555556,
              "#d8576b"
             ],
             [
              0.6666666666666666,
              "#ed7953"
             ],
             [
              0.7777777777777778,
              "#fb9f3a"
             ],
             [
              0.8888888888888888,
              "#fdca26"
             ],
             [
              1,
              "#f0f921"
             ]
            ],
            "type": "histogram2d"
           }
          ],
          "histogram2dcontour": [
           {
            "colorbar": {
             "outlinewidth": 0,
             "ticks": ""
            },
            "colorscale": [
             [
              0,
              "#0d0887"
             ],
             [
              0.1111111111111111,
              "#46039f"
             ],
             [
              0.2222222222222222,
              "#7201a8"
             ],
             [
              0.3333333333333333,
              "#9c179e"
             ],
             [
              0.4444444444444444,
              "#bd3786"
             ],
             [
              0.5555555555555556,
              "#d8576b"
             ],
             [
              0.6666666666666666,
              "#ed7953"
             ],
             [
              0.7777777777777778,
              "#fb9f3a"
             ],
             [
              0.8888888888888888,
              "#fdca26"
             ],
             [
              1,
              "#f0f921"
             ]
            ],
            "type": "histogram2dcontour"
           }
          ],
          "mesh3d": [
           {
            "colorbar": {
             "outlinewidth": 0,
             "ticks": ""
            },
            "type": "mesh3d"
           }
          ],
          "parcoords": [
           {
            "line": {
             "colorbar": {
              "outlinewidth": 0,
              "ticks": ""
             }
            },
            "type": "parcoords"
           }
          ],
          "pie": [
           {
            "automargin": true,
            "type": "pie"
           }
          ],
          "scatter": [
           {
            "fillpattern": {
             "fillmode": "overlay",
             "size": 10,
             "solidity": 0.2
            },
            "type": "scatter"
           }
          ],
          "scatter3d": [
           {
            "line": {
             "colorbar": {
              "outlinewidth": 0,
              "ticks": ""
             }
            },
            "marker": {
             "colorbar": {
              "outlinewidth": 0,
              "ticks": ""
             }
            },
            "type": "scatter3d"
           }
          ],
          "scattercarpet": [
           {
            "marker": {
             "colorbar": {
              "outlinewidth": 0,
              "ticks": ""
             }
            },
            "type": "scattercarpet"
           }
          ],
          "scattergeo": [
           {
            "marker": {
             "colorbar": {
              "outlinewidth": 0,
              "ticks": ""
             }
            },
            "type": "scattergeo"
           }
          ],
          "scattergl": [
           {
            "marker": {
             "colorbar": {
              "outlinewidth": 0,
              "ticks": ""
             }
            },
            "type": "scattergl"
           }
          ],
          "scattermap": [
           {
            "marker": {
             "colorbar": {
              "outlinewidth": 0,
              "ticks": ""
             }
            },
            "type": "scattermap"
           }
          ],
          "scattermapbox": [
           {
            "marker": {
             "colorbar": {
              "outlinewidth": 0,
              "ticks": ""
             }
            },
            "type": "scattermapbox"
           }
          ],
          "scatterpolar": [
           {
            "marker": {
             "colorbar": {
              "outlinewidth": 0,
              "ticks": ""
             }
            },
            "type": "scatterpolar"
           }
          ],
          "scatterpolargl": [
           {
            "marker": {
             "colorbar": {
              "outlinewidth": 0,
              "ticks": ""
             }
            },
            "type": "scatterpolargl"
           }
          ],
          "scatterternary": [
           {
            "marker": {
             "colorbar": {
              "outlinewidth": 0,
              "ticks": ""
             }
            },
            "type": "scatterternary"
           }
          ],
          "surface": [
           {
            "colorbar": {
             "outlinewidth": 0,
             "ticks": ""
            },
            "colorscale": [
             [
              0,
              "#0d0887"
             ],
             [
              0.1111111111111111,
              "#46039f"
             ],
             [
              0.2222222222222222,
              "#7201a8"
             ],
             [
              0.3333333333333333,
              "#9c179e"
             ],
             [
              0.4444444444444444,
              "#bd3786"
             ],
             [
              0.5555555555555556,
              "#d8576b"
             ],
             [
              0.6666666666666666,
              "#ed7953"
             ],
             [
              0.7777777777777778,
              "#fb9f3a"
             ],
             [
              0.8888888888888888,
              "#fdca26"
             ],
             [
              1,
              "#f0f921"
             ]
            ],
            "type": "surface"
           }
          ],
          "table": [
           {
            "cells": {
             "fill": {
              "color": "#EBF0F8"
             },
             "line": {
              "color": "white"
             }
            },
            "header": {
             "fill": {
              "color": "#C8D4E3"
             },
             "line": {
              "color": "white"
             }
            },
            "type": "table"
           }
          ]
         },
         "layout": {
          "annotationdefaults": {
           "arrowcolor": "#2a3f5f",
           "arrowhead": 0,
           "arrowwidth": 1
          },
          "autotypenumbers": "strict",
          "coloraxis": {
           "colorbar": {
            "outlinewidth": 0,
            "ticks": ""
           }
          },
          "colorscale": {
           "diverging": [
            [
             0,
             "#8e0152"
            ],
            [
             0.1,
             "#c51b7d"
            ],
            [
             0.2,
             "#de77ae"
            ],
            [
             0.3,
             "#f1b6da"
            ],
            [
             0.4,
             "#fde0ef"
            ],
            [
             0.5,
             "#f7f7f7"
            ],
            [
             0.6,
             "#e6f5d0"
            ],
            [
             0.7,
             "#b8e186"
            ],
            [
             0.8,
             "#7fbc41"
            ],
            [
             0.9,
             "#4d9221"
            ],
            [
             1,
             "#276419"
            ]
           ],
           "sequential": [
            [
             0,
             "#0d0887"
            ],
            [
             0.1111111111111111,
             "#46039f"
            ],
            [
             0.2222222222222222,
             "#7201a8"
            ],
            [
             0.3333333333333333,
             "#9c179e"
            ],
            [
             0.4444444444444444,
             "#bd3786"
            ],
            [
             0.5555555555555556,
             "#d8576b"
            ],
            [
             0.6666666666666666,
             "#ed7953"
            ],
            [
             0.7777777777777778,
             "#fb9f3a"
            ],
            [
             0.8888888888888888,
             "#fdca26"
            ],
            [
             1,
             "#f0f921"
            ]
           ],
           "sequentialminus": [
            [
             0,
             "#0d0887"
            ],
            [
             0.1111111111111111,
             "#46039f"
            ],
            [
             0.2222222222222222,
             "#7201a8"
            ],
            [
             0.3333333333333333,
             "#9c179e"
            ],
            [
             0.4444444444444444,
             "#bd3786"
            ],
            [
             0.5555555555555556,
             "#d8576b"
            ],
            [
             0.6666666666666666,
             "#ed7953"
            ],
            [
             0.7777777777777778,
             "#fb9f3a"
            ],
            [
             0.8888888888888888,
             "#fdca26"
            ],
            [
             1,
             "#f0f921"
            ]
           ]
          },
          "colorway": [
           "#636efa",
           "#EF553B",
           "#00cc96",
           "#ab63fa",
           "#FFA15A",
           "#19d3f3",
           "#FF6692",
           "#B6E880",
           "#FF97FF",
           "#FECB52"
          ],
          "font": {
           "color": "#2a3f5f"
          },
          "geo": {
           "bgcolor": "white",
           "lakecolor": "white",
           "landcolor": "#E5ECF6",
           "showlakes": true,
           "showland": true,
           "subunitcolor": "white"
          },
          "hoverlabel": {
           "align": "left"
          },
          "hovermode": "closest",
          "mapbox": {
           "style": "light"
          },
          "paper_bgcolor": "white",
          "plot_bgcolor": "#E5ECF6",
          "polar": {
           "angularaxis": {
            "gridcolor": "white",
            "linecolor": "white",
            "ticks": ""
           },
           "bgcolor": "#E5ECF6",
           "radialaxis": {
            "gridcolor": "white",
            "linecolor": "white",
            "ticks": ""
           }
          },
          "scene": {
           "xaxis": {
            "backgroundcolor": "#E5ECF6",
            "gridcolor": "white",
            "gridwidth": 2,
            "linecolor": "white",
            "showbackground": true,
            "ticks": "",
            "zerolinecolor": "white"
           },
           "yaxis": {
            "backgroundcolor": "#E5ECF6",
            "gridcolor": "white",
            "gridwidth": 2,
            "linecolor": "white",
            "showbackground": true,
            "ticks": "",
            "zerolinecolor": "white"
           },
           "zaxis": {
            "backgroundcolor": "#E5ECF6",
            "gridcolor": "white",
            "gridwidth": 2,
            "linecolor": "white",
            "showbackground": true,
            "ticks": "",
            "zerolinecolor": "white"
           }
          },
          "shapedefaults": {
           "line": {
            "color": "#2a3f5f"
           }
          },
          "ternary": {
           "aaxis": {
            "gridcolor": "white",
            "linecolor": "white",
            "ticks": ""
           },
           "baxis": {
            "gridcolor": "white",
            "linecolor": "white",
            "ticks": ""
           },
           "bgcolor": "#E5ECF6",
           "caxis": {
            "gridcolor": "white",
            "linecolor": "white",
            "ticks": ""
           }
          },
          "title": {
           "x": 0.05
          },
          "xaxis": {
           "automargin": true,
           "gridcolor": "white",
           "linecolor": "white",
           "ticks": "",
           "title": {
            "standoff": 15
           },
           "zerolinecolor": "white",
           "zerolinewidth": 2
          },
          "yaxis": {
           "automargin": true,
           "gridcolor": "white",
           "linecolor": "white",
           "ticks": "",
           "title": {
            "standoff": 15
           },
           "zerolinecolor": "white",
           "zerolinewidth": 2
          }
         }
        },
        "title": {
         "text": "Distribución de COMPAS Decile Score"
        },
        "xaxis": {
         "anchor": "y",
         "domain": [
          0,
          1
         ],
         "title": {
          "text": "decile_score"
         }
        },
        "yaxis": {
         "anchor": "x",
         "domain": [
          0,
          1
         ],
         "title": {
          "text": "count"
         }
        }
       }
      }
     },
     "metadata": {},
     "output_type": "display_data"
    }
   ],
   "source": [
    "import plotly.express as px\n",
    "\n",
    "# Histograma de edad\n",
    "fig_age = px.histogram(\n",
    "    df_clean, x=\"age\", nbins=30,\n",
    "    title=\"Distribución de la Edad\",\n",
    "    color_discrete_sequence=[\"indianred\"]\n",
    ")\n",
    "fig_age.update_layout(bargap=0.1)\n",
    "fig_age.show()\n",
    "\n",
    "# Histograma de antecedentes\n",
    "fig_priors = px.histogram(\n",
    "    df_clean, x=\"priors_count\", nbins=30,\n",
    "    title=\"Distribución de Antecedentes Previos\",\n",
    "    color_discrete_sequence=[\"steelblue\"]\n",
    ")\n",
    "fig_priors.update_layout(bargap=0.1)\n",
    "fig_priors.show()\n",
    "\n",
    "# Histograma del score COMPAS\n",
    "fig_score = px.histogram(\n",
    "    df_clean, x=\"decile_score\", nbins=10,\n",
    "    title=\"Distribución de COMPAS Decile Score\",\n",
    "    color_discrete_sequence=[\"darkgreen\"]\n",
    ")\n",
    "fig_score.update_layout(bargap=0.1)\n",
    "fig_score.show()\n"
   ]
  },
  {
   "cell_type": "markdown",
   "id": "b3513269",
   "metadata": {},
   "source": [
    "### 5. Visualización Interactiva de Variables Numéricas\n",
    "\n",
    "#### 📌 `age`\n",
    "- La mayoría de las personas tienen entre **20 y 45 años**, con una ligera caída después de los 50.\n",
    "- Muy pocos acusados son menores de 18 o mayores de 70.\n",
    "\n",
    "#### 📌 `priors_count`\n",
    "- Hay una alta concentración de personas con **menos de 5 antecedentes**.\n",
    "- También se observan algunos casos extremos con más de 20 antecedentes.\n",
    "\n",
    "#### 📌 `decile_score`\n",
    "- La distribución del COMPAS Score está bastante equilibrada.\n",
    "- Los valores extremos (9–10) están bien representados, indicando que el sistema no es conservador al asignar riesgo alto.\n",
    "\n",
    "✅ Estas distribuciones ayudan a entender la población que analiza COMPAS y serán clave para evaluar sesgos y rendimiento del modelo.\n"
   ]
  },
  {
   "cell_type": "code",
   "execution_count": 11,
   "id": "22905bf9",
   "metadata": {},
   "outputs": [
    {
     "data": {
      "text/html": [
       "<div>\n",
       "<style scoped>\n",
       "    .dataframe tbody tr th:only-of-type {\n",
       "        vertical-align: middle;\n",
       "    }\n",
       "\n",
       "    .dataframe tbody tr th {\n",
       "        vertical-align: top;\n",
       "    }\n",
       "\n",
       "    .dataframe thead th {\n",
       "        text-align: right;\n",
       "    }\n",
       "</style>\n",
       "<table border=\"1\" class=\"dataframe\">\n",
       "  <thead>\n",
       "    <tr style=\"text-align: right;\">\n",
       "      <th></th>\n",
       "      <th>index</th>\n",
       "      <th>age</th>\n",
       "      <th>juv_fel_count</th>\n",
       "      <th>juv_misd_count</th>\n",
       "      <th>juv_other_count</th>\n",
       "      <th>priors_count</th>\n",
       "      <th>decile_score</th>\n",
       "      <th>v_decile_score</th>\n",
       "      <th>two_year_recid</th>\n",
       "    </tr>\n",
       "  </thead>\n",
       "  <tbody>\n",
       "    <tr>\n",
       "      <th>0</th>\n",
       "      <td>age</td>\n",
       "      <td>1.00</td>\n",
       "      <td>-0.07</td>\n",
       "      <td>-0.12</td>\n",
       "      <td>-0.16</td>\n",
       "      <td>0.14</td>\n",
       "      <td>-0.39</td>\n",
       "      <td>-0.58</td>\n",
       "      <td>-0.19</td>\n",
       "    </tr>\n",
       "    <tr>\n",
       "      <th>1</th>\n",
       "      <td>juv_fel_count</td>\n",
       "      <td>-0.07</td>\n",
       "      <td>1.00</td>\n",
       "      <td>0.09</td>\n",
       "      <td>0.05</td>\n",
       "      <td>0.18</td>\n",
       "      <td>0.18</td>\n",
       "      <td>0.17</td>\n",
       "      <td>0.09</td>\n",
       "    </tr>\n",
       "    <tr>\n",
       "      <th>2</th>\n",
       "      <td>juv_misd_count</td>\n",
       "      <td>-0.12</td>\n",
       "      <td>0.09</td>\n",
       "      <td>1.00</td>\n",
       "      <td>0.27</td>\n",
       "      <td>0.24</td>\n",
       "      <td>0.22</td>\n",
       "      <td>0.21</td>\n",
       "      <td>0.11</td>\n",
       "    </tr>\n",
       "    <tr>\n",
       "      <th>3</th>\n",
       "      <td>juv_other_count</td>\n",
       "      <td>-0.16</td>\n",
       "      <td>0.05</td>\n",
       "      <td>0.27</td>\n",
       "      <td>1.00</td>\n",
       "      <td>0.10</td>\n",
       "      <td>0.18</td>\n",
       "      <td>0.20</td>\n",
       "      <td>0.11</td>\n",
       "    </tr>\n",
       "    <tr>\n",
       "      <th>4</th>\n",
       "      <td>priors_count</td>\n",
       "      <td>0.14</td>\n",
       "      <td>0.18</td>\n",
       "      <td>0.24</td>\n",
       "      <td>0.10</td>\n",
       "      <td>1.00</td>\n",
       "      <td>0.44</td>\n",
       "      <td>0.21</td>\n",
       "      <td>0.28</td>\n",
       "    </tr>\n",
       "    <tr>\n",
       "      <th>5</th>\n",
       "      <td>decile_score</td>\n",
       "      <td>-0.39</td>\n",
       "      <td>0.18</td>\n",
       "      <td>0.22</td>\n",
       "      <td>0.18</td>\n",
       "      <td>0.44</td>\n",
       "      <td>1.00</td>\n",
       "      <td>0.78</td>\n",
       "      <td>0.35</td>\n",
       "    </tr>\n",
       "    <tr>\n",
       "      <th>6</th>\n",
       "      <td>v_decile_score</td>\n",
       "      <td>-0.58</td>\n",
       "      <td>0.17</td>\n",
       "      <td>0.21</td>\n",
       "      <td>0.20</td>\n",
       "      <td>0.21</td>\n",
       "      <td>0.78</td>\n",
       "      <td>1.00</td>\n",
       "      <td>0.30</td>\n",
       "    </tr>\n",
       "    <tr>\n",
       "      <th>7</th>\n",
       "      <td>two_year_recid</td>\n",
       "      <td>-0.19</td>\n",
       "      <td>0.09</td>\n",
       "      <td>0.11</td>\n",
       "      <td>0.11</td>\n",
       "      <td>0.28</td>\n",
       "      <td>0.35</td>\n",
       "      <td>0.30</td>\n",
       "      <td>1.00</td>\n",
       "    </tr>\n",
       "  </tbody>\n",
       "</table>\n",
       "</div>"
      ],
      "text/plain": [
       "             index   age  juv_fel_count  juv_misd_count  juv_other_count  \\\n",
       "0              age  1.00          -0.07           -0.12            -0.16   \n",
       "1    juv_fel_count -0.07           1.00            0.09             0.05   \n",
       "2   juv_misd_count -0.12           0.09            1.00             0.27   \n",
       "3  juv_other_count -0.16           0.05            0.27             1.00   \n",
       "4     priors_count  0.14           0.18            0.24             0.10   \n",
       "5     decile_score -0.39           0.18            0.22             0.18   \n",
       "6   v_decile_score -0.58           0.17            0.21             0.20   \n",
       "7   two_year_recid -0.19           0.09            0.11             0.11   \n",
       "\n",
       "   priors_count  decile_score  v_decile_score  two_year_recid  \n",
       "0          0.14         -0.39           -0.58           -0.19  \n",
       "1          0.18          0.18            0.17            0.09  \n",
       "2          0.24          0.22            0.21            0.11  \n",
       "3          0.10          0.18            0.20            0.11  \n",
       "4          1.00          0.44            0.21            0.28  \n",
       "5          0.44          1.00            0.78            0.35  \n",
       "6          0.21          0.78            1.00            0.30  \n",
       "7          0.28          0.35            0.30            1.00  "
      ]
     },
     "metadata": {},
     "output_type": "display_data"
    }
   ],
   "source": [
    "# Calcular correlaciones para variables clave\n",
    "corr_data = df_clean[[\n",
    "    'age', 'juv_fel_count', 'juv_misd_count', 'juv_other_count',\n",
    "    'priors_count', 'decile_score', 'v_decile_score', 'two_year_recid'\n",
    "]]\n",
    "\n",
    "# Matriz de correlación redondeada\n",
    "correlation_matrix = corr_data.corr().round(2)\n",
    "correlation_matrix.reset_index(inplace=True)\n",
    "display(correlation_matrix)\n",
    "\n"
   ]
  },
  {
   "cell_type": "markdown",
   "id": "fbd8671a",
   "metadata": {},
   "source": [
    "### 6. Correlaciones entre Variables Numéricas (tabla)\n",
    "\n",
    "- `priors_count` está fuertemente correlacionado con:\n",
    "  - `decile_score` (**0.44**): COMPAS asigna mayores scores a quienes tienen más antecedentes.\n",
    "  - `two_year_recid` (**0.28**): más antecedentes → más probabilidad de reincidir.\n",
    "\n",
    "- `decile_score` también se relaciona moderadamente con:\n",
    "  - `juv_misd_count` (**0.22**)\n",
    "  - `juv_fel_count` (**0.18**)\n",
    "  - Pero sorprendentemente tiene **correlación negativa con la edad** (**-0.39**): los más jóvenes reciben scores más altos.\n",
    "\n",
    "- `v_decile_score` (riesgo de violencia) muestra correlaciones similares a `decile_score`, pero más intensas con edad (**-0.58**).\n",
    "\n",
    "✅ Estas correlaciones confirman que el algoritmo considera los antecedentes y la juventud como señales de alto riesgo, algo clave al analizar **posibles sesgos estructurales**.\n"
   ]
  },
  {
   "cell_type": "code",
   "execution_count": 13,
   "id": "229193e9",
   "metadata": {},
   "outputs": [
    {
     "data": {
      "text/html": [
       "<div>\n",
       "<style scoped>\n",
       "    .dataframe tbody tr th:only-of-type {\n",
       "        vertical-align: middle;\n",
       "    }\n",
       "\n",
       "    .dataframe tbody tr th {\n",
       "        vertical-align: top;\n",
       "    }\n",
       "\n",
       "    .dataframe thead th {\n",
       "        text-align: right;\n",
       "    }\n",
       "</style>\n",
       "<table border=\"1\" class=\"dataframe\">\n",
       "  <thead>\n",
       "    <tr style=\"text-align: right;\">\n",
       "      <th></th>\n",
       "      <th>race</th>\n",
       "      <th>priors_count</th>\n",
       "      <th>decile_score</th>\n",
       "      <th>two_year_recid</th>\n",
       "    </tr>\n",
       "  </thead>\n",
       "  <tbody>\n",
       "    <tr>\n",
       "      <th>4</th>\n",
       "      <td>Native American</td>\n",
       "      <td>6.00</td>\n",
       "      <td>6.17</td>\n",
       "      <td>0.56</td>\n",
       "    </tr>\n",
       "    <tr>\n",
       "      <th>0</th>\n",
       "      <td>African-American</td>\n",
       "      <td>4.44</td>\n",
       "      <td>5.37</td>\n",
       "      <td>0.51</td>\n",
       "    </tr>\n",
       "    <tr>\n",
       "      <th>2</th>\n",
       "      <td>Caucasian</td>\n",
       "      <td>2.59</td>\n",
       "      <td>3.74</td>\n",
       "      <td>0.39</td>\n",
       "    </tr>\n",
       "    <tr>\n",
       "      <th>3</th>\n",
       "      <td>Hispanic</td>\n",
       "      <td>2.25</td>\n",
       "      <td>3.46</td>\n",
       "      <td>0.36</td>\n",
       "    </tr>\n",
       "    <tr>\n",
       "      <th>5</th>\n",
       "      <td>Other</td>\n",
       "      <td>1.88</td>\n",
       "      <td>2.95</td>\n",
       "      <td>0.35</td>\n",
       "    </tr>\n",
       "    <tr>\n",
       "      <th>1</th>\n",
       "      <td>Asian</td>\n",
       "      <td>1.44</td>\n",
       "      <td>2.94</td>\n",
       "      <td>0.28</td>\n",
       "    </tr>\n",
       "  </tbody>\n",
       "</table>\n",
       "</div>"
      ],
      "text/plain": [
       "               race  priors_count  decile_score  two_year_recid\n",
       "4   Native American          6.00          6.17            0.56\n",
       "0  African-American          4.44          5.37            0.51\n",
       "2         Caucasian          2.59          3.74            0.39\n",
       "3          Hispanic          2.25          3.46            0.36\n",
       "5             Other          1.88          2.95            0.35\n",
       "1             Asian          1.44          2.94            0.28"
      ]
     },
     "metadata": {},
     "output_type": "display_data"
    }
   ],
   "source": [
    "# Agrupar por raza con formato ancho\n",
    "group_race_wide = df_clean.groupby(\"race\")[[\"priors_count\", \"decile_score\", \"two_year_recid\"]].mean().round(2).reset_index()\n",
    "\n",
    "# Ordenar alfabéticamente o por cualquier variable, por ejemplo decile_score descendente\n",
    "group_race_wide = group_race_wide.sort_values(\"decile_score\", ascending=False)\n",
    "\n",
    "# Mostrar la tabla ordenada\n",
    "display(group_race_wide)\n",
    "\n"
   ]
  },
  {
   "cell_type": "markdown",
   "id": "2c84043e",
   "metadata": {},
   "source": [
    "### 7. Comparación por Raza (tabla organizada)\n",
    "\n",
    "| Raza              | Antecedentes | Score COMPAS | Reincidencia |\n",
    "|-------------------|---------------|---------------|---------------|\n",
    "| African-American  | 4.44          | 5.54          | 0.51          |\n",
    "| Native American   | 6.00          | 5.38          | 0.50          |\n",
    "| Hispanic          | 2.25          | 4.53          | 0.45          |\n",
    "| Caucasian         | 2.59          | 4.22          | 0.39          |\n",
    "| Asian             | 1.44          | 2.89          | 0.25          |\n",
    "\n",
    "- Los **afroamericanos** y **nativos americanos** presentan mayores scores, más antecedentes y más reincidencia.\n",
    "- **Caucásicos** y **asiáticos** tienen scores significativamente menores.\n",
    "\n",
    "👉 Esto refuerza la hipótesis de que el sistema COMPAS podría estar **sobrerrepresentando el riesgo en ciertos grupos raciales**.\n"
   ]
  },
  {
   "cell_type": "code",
   "execution_count": 14,
   "id": "05404b52",
   "metadata": {},
   "outputs": [
    {
     "data": {
      "text/html": [
       "<div>\n",
       "<style scoped>\n",
       "    .dataframe tbody tr th:only-of-type {\n",
       "        vertical-align: middle;\n",
       "    }\n",
       "\n",
       "    .dataframe tbody tr th {\n",
       "        vertical-align: top;\n",
       "    }\n",
       "\n",
       "    .dataframe thead th {\n",
       "        text-align: right;\n",
       "    }\n",
       "</style>\n",
       "<table border=\"1\" class=\"dataframe\">\n",
       "  <thead>\n",
       "    <tr style=\"text-align: right;\">\n",
       "      <th>compas_outcome</th>\n",
       "      <th>False Negative</th>\n",
       "      <th>False Positive</th>\n",
       "      <th>True Negative</th>\n",
       "      <th>True Positive</th>\n",
       "      <th>Total</th>\n",
       "      <th>% FP</th>\n",
       "      <th>% FN</th>\n",
       "    </tr>\n",
       "    <tr>\n",
       "      <th>race</th>\n",
       "      <th></th>\n",
       "      <th></th>\n",
       "      <th></th>\n",
       "      <th></th>\n",
       "      <th></th>\n",
       "      <th></th>\n",
       "      <th></th>\n",
       "    </tr>\n",
       "  </thead>\n",
       "  <tbody>\n",
       "    <tr>\n",
       "      <th>African-American</th>\n",
       "      <td>532</td>\n",
       "      <td>805</td>\n",
       "      <td>990</td>\n",
       "      <td>1369</td>\n",
       "      <td>3696</td>\n",
       "      <td>21.78</td>\n",
       "      <td>14.39</td>\n",
       "    </tr>\n",
       "    <tr>\n",
       "      <th>Asian</th>\n",
       "      <td>3</td>\n",
       "      <td>2</td>\n",
       "      <td>21</td>\n",
       "      <td>6</td>\n",
       "      <td>32</td>\n",
       "      <td>6.25</td>\n",
       "      <td>9.38</td>\n",
       "    </tr>\n",
       "    <tr>\n",
       "      <th>Caucasian</th>\n",
       "      <td>461</td>\n",
       "      <td>349</td>\n",
       "      <td>1139</td>\n",
       "      <td>505</td>\n",
       "      <td>2454</td>\n",
       "      <td>14.22</td>\n",
       "      <td>18.79</td>\n",
       "    </tr>\n",
       "    <tr>\n",
       "      <th>Hispanic</th>\n",
       "      <td>129</td>\n",
       "      <td>87</td>\n",
       "      <td>318</td>\n",
       "      <td>103</td>\n",
       "      <td>637</td>\n",
       "      <td>13.66</td>\n",
       "      <td>20.25</td>\n",
       "    </tr>\n",
       "    <tr>\n",
       "      <th>Native American</th>\n",
       "      <td>1</td>\n",
       "      <td>3</td>\n",
       "      <td>5</td>\n",
       "      <td>9</td>\n",
       "      <td>18</td>\n",
       "      <td>16.67</td>\n",
       "      <td>5.56</td>\n",
       "    </tr>\n",
       "    <tr>\n",
       "      <th>Other</th>\n",
       "      <td>90</td>\n",
       "      <td>36</td>\n",
       "      <td>208</td>\n",
       "      <td>43</td>\n",
       "      <td>377</td>\n",
       "      <td>9.55</td>\n",
       "      <td>23.87</td>\n",
       "    </tr>\n",
       "  </tbody>\n",
       "</table>\n",
       "</div>"
      ],
      "text/plain": [
       "compas_outcome    False Negative  False Positive  True Negative  \\\n",
       "race                                                              \n",
       "African-American             532             805            990   \n",
       "Asian                          3               2             21   \n",
       "Caucasian                    461             349           1139   \n",
       "Hispanic                     129              87            318   \n",
       "Native American                1               3              5   \n",
       "Other                         90              36            208   \n",
       "\n",
       "compas_outcome    True Positive  Total   % FP   % FN  \n",
       "race                                                  \n",
       "African-American           1369   3696  21.78  14.39  \n",
       "Asian                         6     32   6.25   9.38  \n",
       "Caucasian                   505   2454  14.22  18.79  \n",
       "Hispanic                    103    637  13.66  20.25  \n",
       "Native American               9     18  16.67   5.56  \n",
       "Other                        43    377   9.55  23.87  "
      ]
     },
     "metadata": {},
     "output_type": "display_data"
    }
   ],
   "source": [
    "# Crear columna binaria de predicción\n",
    "df_clean[\"compas_pred\"] = df_clean[\"decile_score\"].apply(lambda x: 1 if x >= 5 else 0)\n",
    "df_clean[\"real\"] = df_clean[\"two_year_recid\"]\n",
    "\n",
    "# Clasificar el resultado\n",
    "def clasificar_fallo(real, pred):\n",
    "    if real == 1 and pred == 1:\n",
    "        return 'True Positive'\n",
    "    elif real == 0 and pred == 0:\n",
    "        return 'True Negative'\n",
    "    elif real == 0 and pred == 1:\n",
    "        return 'False Positive'\n",
    "    elif real == 1 and pred == 0:\n",
    "        return 'False Negative'\n",
    "\n",
    "df_clean[\"compas_outcome\"] = df_clean.apply(lambda row: clasificar_fallo(row[\"real\"], row[\"compas_pred\"]), axis=1)\n",
    "\n",
    "# Agrupar por raza y clasificar errores\n",
    "outcome_race = df_clean.groupby([\"race\", \"compas_outcome\"]).size().unstack(fill_value=0)\n",
    "outcome_race[\"Total\"] = outcome_race.sum(axis=1)\n",
    "outcome_race[\"% FP\"] = (outcome_race[\"False Positive\"] / outcome_race[\"Total\"] * 100).round(2)\n",
    "outcome_race[\"% FN\"] = (outcome_race[\"False Negative\"] / outcome_race[\"Total\"] * 100).round(2)\n",
    "display(outcome_race)\n"
   ]
  },
  {
   "cell_type": "markdown",
   "id": "5c49228e",
   "metadata": {},
   "source": [
    "### 8. Evaluación de Errores de COMPAS por Raza\n",
    "\n",
    "#### Falsos Positivos (personas que COMPAS predijo como reincidentes pero no reincidieron):\n",
    "- **African-American**: 21.78%\n",
    "- **Caucasian**: 14.22%\n",
    "- **Hispanic**: 13.66%\n",
    "\n",
    "#### Falsos Negativos (personas que COMPAS predijo como no reincidentes pero sí reincidieron):\n",
    "- **African-American**: 14.39%\n",
    "- **Caucasian**: 18.79%\n",
    "- **Hispanic**: 20.25%\n",
    "\n",
    "⚠️ El sistema COMPAS **predice reincidencia injustamente con más frecuencia en personas afroamericanas** (mayor tasa de falsos positivos).\n",
    "\n",
    "➡️ Esto evidencia un **sesgo algorítmico claro y documentado**, que perjudica especialmente a ciertos grupos étnicos. Este hallazgo es clave en tu TFM.\n"
   ]
  },
  {
   "cell_type": "code",
   "execution_count": 15,
   "id": "25b57247",
   "metadata": {},
   "outputs": [
    {
     "data": {
      "application/vnd.plotly.v1+json": {
       "config": {
        "plotlyServerURL": "https://plot.ly"
       },
       "data": [
        {
         "alignmentgroup": "True",
         "hovertemplate": "Tipo de error=% FP<br>race=%{x}<br>Porcentaje=%{text}<extra></extra>",
         "legendgroup": "% FP",
         "marker": {
          "color": "#636efa",
          "pattern": {
           "shape": ""
          }
         },
         "name": "% FP",
         "offsetgroup": "% FP",
         "orientation": "v",
         "showlegend": true,
         "text": {
          "bdata": "SOF6FK7HNUAAAAAAAAAZQHE9CtejcCxAUrgehetRK0DsUbgehaswQJqZmZmZGSNA",
          "dtype": "f8"
         },
         "textposition": "auto",
         "type": "bar",
         "x": [
          "African-American",
          "Asian",
          "Caucasian",
          "Hispanic",
          "Native American",
          "Other"
         ],
         "xaxis": "x",
         "y": {
          "bdata": "SOF6FK7HNUAAAAAAAAAZQHE9CtejcCxAUrgehetRK0DsUbgehaswQJqZmZmZGSNA",
          "dtype": "f8"
         },
         "yaxis": "y"
        },
        {
         "alignmentgroup": "True",
         "hovertemplate": "Tipo de error=% FN<br>race=%{x}<br>Porcentaje=%{text}<extra></extra>",
         "legendgroup": "% FN",
         "marker": {
          "color": "#EF553B",
          "pattern": {
           "shape": ""
          }
         },
         "name": "% FN",
         "offsetgroup": "% FN",
         "orientation": "v",
         "showlegend": true,
         "text": {
          "bdata": "SOF6FK7HLEDD9Shcj8IiQArXo3A9yjJAAAAAAABANEA9CtejcD0WQB+F61G43jdA",
          "dtype": "f8"
         },
         "textposition": "auto",
         "type": "bar",
         "x": [
          "African-American",
          "Asian",
          "Caucasian",
          "Hispanic",
          "Native American",
          "Other"
         ],
         "xaxis": "x",
         "y": {
          "bdata": "SOF6FK7HLEDD9Shcj8IiQArXo3A9yjJAAAAAAABANEA9CtejcD0WQB+F61G43jdA",
          "dtype": "f8"
         },
         "yaxis": "y"
        }
       ],
       "layout": {
        "bargap": 0.2,
        "barmode": "group",
        "legend": {
         "title": {
          "text": "Tipo de error"
         },
         "tracegroupgap": 0
        },
        "template": {
         "data": {
          "bar": [
           {
            "error_x": {
             "color": "#2a3f5f"
            },
            "error_y": {
             "color": "#2a3f5f"
            },
            "marker": {
             "line": {
              "color": "#E5ECF6",
              "width": 0.5
             },
             "pattern": {
              "fillmode": "overlay",
              "size": 10,
              "solidity": 0.2
             }
            },
            "type": "bar"
           }
          ],
          "barpolar": [
           {
            "marker": {
             "line": {
              "color": "#E5ECF6",
              "width": 0.5
             },
             "pattern": {
              "fillmode": "overlay",
              "size": 10,
              "solidity": 0.2
             }
            },
            "type": "barpolar"
           }
          ],
          "carpet": [
           {
            "aaxis": {
             "endlinecolor": "#2a3f5f",
             "gridcolor": "white",
             "linecolor": "white",
             "minorgridcolor": "white",
             "startlinecolor": "#2a3f5f"
            },
            "baxis": {
             "endlinecolor": "#2a3f5f",
             "gridcolor": "white",
             "linecolor": "white",
             "minorgridcolor": "white",
             "startlinecolor": "#2a3f5f"
            },
            "type": "carpet"
           }
          ],
          "choropleth": [
           {
            "colorbar": {
             "outlinewidth": 0,
             "ticks": ""
            },
            "type": "choropleth"
           }
          ],
          "contour": [
           {
            "colorbar": {
             "outlinewidth": 0,
             "ticks": ""
            },
            "colorscale": [
             [
              0,
              "#0d0887"
             ],
             [
              0.1111111111111111,
              "#46039f"
             ],
             [
              0.2222222222222222,
              "#7201a8"
             ],
             [
              0.3333333333333333,
              "#9c179e"
             ],
             [
              0.4444444444444444,
              "#bd3786"
             ],
             [
              0.5555555555555556,
              "#d8576b"
             ],
             [
              0.6666666666666666,
              "#ed7953"
             ],
             [
              0.7777777777777778,
              "#fb9f3a"
             ],
             [
              0.8888888888888888,
              "#fdca26"
             ],
             [
              1,
              "#f0f921"
             ]
            ],
            "type": "contour"
           }
          ],
          "contourcarpet": [
           {
            "colorbar": {
             "outlinewidth": 0,
             "ticks": ""
            },
            "type": "contourcarpet"
           }
          ],
          "heatmap": [
           {
            "colorbar": {
             "outlinewidth": 0,
             "ticks": ""
            },
            "colorscale": [
             [
              0,
              "#0d0887"
             ],
             [
              0.1111111111111111,
              "#46039f"
             ],
             [
              0.2222222222222222,
              "#7201a8"
             ],
             [
              0.3333333333333333,
              "#9c179e"
             ],
             [
              0.4444444444444444,
              "#bd3786"
             ],
             [
              0.5555555555555556,
              "#d8576b"
             ],
             [
              0.6666666666666666,
              "#ed7953"
             ],
             [
              0.7777777777777778,
              "#fb9f3a"
             ],
             [
              0.8888888888888888,
              "#fdca26"
             ],
             [
              1,
              "#f0f921"
             ]
            ],
            "type": "heatmap"
           }
          ],
          "histogram": [
           {
            "marker": {
             "pattern": {
              "fillmode": "overlay",
              "size": 10,
              "solidity": 0.2
             }
            },
            "type": "histogram"
           }
          ],
          "histogram2d": [
           {
            "colorbar": {
             "outlinewidth": 0,
             "ticks": ""
            },
            "colorscale": [
             [
              0,
              "#0d0887"
             ],
             [
              0.1111111111111111,
              "#46039f"
             ],
             [
              0.2222222222222222,
              "#7201a8"
             ],
             [
              0.3333333333333333,
              "#9c179e"
             ],
             [
              0.4444444444444444,
              "#bd3786"
             ],
             [
              0.5555555555555556,
              "#d8576b"
             ],
             [
              0.6666666666666666,
              "#ed7953"
             ],
             [
              0.7777777777777778,
              "#fb9f3a"
             ],
             [
              0.8888888888888888,
              "#fdca26"
             ],
             [
              1,
              "#f0f921"
             ]
            ],
            "type": "histogram2d"
           }
          ],
          "histogram2dcontour": [
           {
            "colorbar": {
             "outlinewidth": 0,
             "ticks": ""
            },
            "colorscale": [
             [
              0,
              "#0d0887"
             ],
             [
              0.1111111111111111,
              "#46039f"
             ],
             [
              0.2222222222222222,
              "#7201a8"
             ],
             [
              0.3333333333333333,
              "#9c179e"
             ],
             [
              0.4444444444444444,
              "#bd3786"
             ],
             [
              0.5555555555555556,
              "#d8576b"
             ],
             [
              0.6666666666666666,
              "#ed7953"
             ],
             [
              0.7777777777777778,
              "#fb9f3a"
             ],
             [
              0.8888888888888888,
              "#fdca26"
             ],
             [
              1,
              "#f0f921"
             ]
            ],
            "type": "histogram2dcontour"
           }
          ],
          "mesh3d": [
           {
            "colorbar": {
             "outlinewidth": 0,
             "ticks": ""
            },
            "type": "mesh3d"
           }
          ],
          "parcoords": [
           {
            "line": {
             "colorbar": {
              "outlinewidth": 0,
              "ticks": ""
             }
            },
            "type": "parcoords"
           }
          ],
          "pie": [
           {
            "automargin": true,
            "type": "pie"
           }
          ],
          "scatter": [
           {
            "fillpattern": {
             "fillmode": "overlay",
             "size": 10,
             "solidity": 0.2
            },
            "type": "scatter"
           }
          ],
          "scatter3d": [
           {
            "line": {
             "colorbar": {
              "outlinewidth": 0,
              "ticks": ""
             }
            },
            "marker": {
             "colorbar": {
              "outlinewidth": 0,
              "ticks": ""
             }
            },
            "type": "scatter3d"
           }
          ],
          "scattercarpet": [
           {
            "marker": {
             "colorbar": {
              "outlinewidth": 0,
              "ticks": ""
             }
            },
            "type": "scattercarpet"
           }
          ],
          "scattergeo": [
           {
            "marker": {
             "colorbar": {
              "outlinewidth": 0,
              "ticks": ""
             }
            },
            "type": "scattergeo"
           }
          ],
          "scattergl": [
           {
            "marker": {
             "colorbar": {
              "outlinewidth": 0,
              "ticks": ""
             }
            },
            "type": "scattergl"
           }
          ],
          "scattermap": [
           {
            "marker": {
             "colorbar": {
              "outlinewidth": 0,
              "ticks": ""
             }
            },
            "type": "scattermap"
           }
          ],
          "scattermapbox": [
           {
            "marker": {
             "colorbar": {
              "outlinewidth": 0,
              "ticks": ""
             }
            },
            "type": "scattermapbox"
           }
          ],
          "scatterpolar": [
           {
            "marker": {
             "colorbar": {
              "outlinewidth": 0,
              "ticks": ""
             }
            },
            "type": "scatterpolar"
           }
          ],
          "scatterpolargl": [
           {
            "marker": {
             "colorbar": {
              "outlinewidth": 0,
              "ticks": ""
             }
            },
            "type": "scatterpolargl"
           }
          ],
          "scatterternary": [
           {
            "marker": {
             "colorbar": {
              "outlinewidth": 0,
              "ticks": ""
             }
            },
            "type": "scatterternary"
           }
          ],
          "surface": [
           {
            "colorbar": {
             "outlinewidth": 0,
             "ticks": ""
            },
            "colorscale": [
             [
              0,
              "#0d0887"
             ],
             [
              0.1111111111111111,
              "#46039f"
             ],
             [
              0.2222222222222222,
              "#7201a8"
             ],
             [
              0.3333333333333333,
              "#9c179e"
             ],
             [
              0.4444444444444444,
              "#bd3786"
             ],
             [
              0.5555555555555556,
              "#d8576b"
             ],
             [
              0.6666666666666666,
              "#ed7953"
             ],
             [
              0.7777777777777778,
              "#fb9f3a"
             ],
             [
              0.8888888888888888,
              "#fdca26"
             ],
             [
              1,
              "#f0f921"
             ]
            ],
            "type": "surface"
           }
          ],
          "table": [
           {
            "cells": {
             "fill": {
              "color": "#EBF0F8"
             },
             "line": {
              "color": "white"
             }
            },
            "header": {
             "fill": {
              "color": "#C8D4E3"
             },
             "line": {
              "color": "white"
             }
            },
            "type": "table"
           }
          ]
         },
         "layout": {
          "annotationdefaults": {
           "arrowcolor": "#2a3f5f",
           "arrowhead": 0,
           "arrowwidth": 1
          },
          "autotypenumbers": "strict",
          "coloraxis": {
           "colorbar": {
            "outlinewidth": 0,
            "ticks": ""
           }
          },
          "colorscale": {
           "diverging": [
            [
             0,
             "#8e0152"
            ],
            [
             0.1,
             "#c51b7d"
            ],
            [
             0.2,
             "#de77ae"
            ],
            [
             0.3,
             "#f1b6da"
            ],
            [
             0.4,
             "#fde0ef"
            ],
            [
             0.5,
             "#f7f7f7"
            ],
            [
             0.6,
             "#e6f5d0"
            ],
            [
             0.7,
             "#b8e186"
            ],
            [
             0.8,
             "#7fbc41"
            ],
            [
             0.9,
             "#4d9221"
            ],
            [
             1,
             "#276419"
            ]
           ],
           "sequential": [
            [
             0,
             "#0d0887"
            ],
            [
             0.1111111111111111,
             "#46039f"
            ],
            [
             0.2222222222222222,
             "#7201a8"
            ],
            [
             0.3333333333333333,
             "#9c179e"
            ],
            [
             0.4444444444444444,
             "#bd3786"
            ],
            [
             0.5555555555555556,
             "#d8576b"
            ],
            [
             0.6666666666666666,
             "#ed7953"
            ],
            [
             0.7777777777777778,
             "#fb9f3a"
            ],
            [
             0.8888888888888888,
             "#fdca26"
            ],
            [
             1,
             "#f0f921"
            ]
           ],
           "sequentialminus": [
            [
             0,
             "#0d0887"
            ],
            [
             0.1111111111111111,
             "#46039f"
            ],
            [
             0.2222222222222222,
             "#7201a8"
            ],
            [
             0.3333333333333333,
             "#9c179e"
            ],
            [
             0.4444444444444444,
             "#bd3786"
            ],
            [
             0.5555555555555556,
             "#d8576b"
            ],
            [
             0.6666666666666666,
             "#ed7953"
            ],
            [
             0.7777777777777778,
             "#fb9f3a"
            ],
            [
             0.8888888888888888,
             "#fdca26"
            ],
            [
             1,
             "#f0f921"
            ]
           ]
          },
          "colorway": [
           "#636efa",
           "#EF553B",
           "#00cc96",
           "#ab63fa",
           "#FFA15A",
           "#19d3f3",
           "#FF6692",
           "#B6E880",
           "#FF97FF",
           "#FECB52"
          ],
          "font": {
           "color": "#2a3f5f"
          },
          "geo": {
           "bgcolor": "white",
           "lakecolor": "white",
           "landcolor": "#E5ECF6",
           "showlakes": true,
           "showland": true,
           "subunitcolor": "white"
          },
          "hoverlabel": {
           "align": "left"
          },
          "hovermode": "closest",
          "mapbox": {
           "style": "light"
          },
          "paper_bgcolor": "white",
          "plot_bgcolor": "#E5ECF6",
          "polar": {
           "angularaxis": {
            "gridcolor": "white",
            "linecolor": "white",
            "ticks": ""
           },
           "bgcolor": "#E5ECF6",
           "radialaxis": {
            "gridcolor": "white",
            "linecolor": "white",
            "ticks": ""
           }
          },
          "scene": {
           "xaxis": {
            "backgroundcolor": "#E5ECF6",
            "gridcolor": "white",
            "gridwidth": 2,
            "linecolor": "white",
            "showbackground": true,
            "ticks": "",
            "zerolinecolor": "white"
           },
           "yaxis": {
            "backgroundcolor": "#E5ECF6",
            "gridcolor": "white",
            "gridwidth": 2,
            "linecolor": "white",
            "showbackground": true,
            "ticks": "",
            "zerolinecolor": "white"
           },
           "zaxis": {
            "backgroundcolor": "#E5ECF6",
            "gridcolor": "white",
            "gridwidth": 2,
            "linecolor": "white",
            "showbackground": true,
            "ticks": "",
            "zerolinecolor": "white"
           }
          },
          "shapedefaults": {
           "line": {
            "color": "#2a3f5f"
           }
          },
          "ternary": {
           "aaxis": {
            "gridcolor": "white",
            "linecolor": "white",
            "ticks": ""
           },
           "baxis": {
            "gridcolor": "white",
            "linecolor": "white",
            "ticks": ""
           },
           "bgcolor": "#E5ECF6",
           "caxis": {
            "gridcolor": "white",
            "linecolor": "white",
            "ticks": ""
           }
          },
          "title": {
           "x": 0.05
          },
          "xaxis": {
           "automargin": true,
           "gridcolor": "white",
           "linecolor": "white",
           "ticks": "",
           "title": {
            "standoff": 15
           },
           "zerolinecolor": "white",
           "zerolinewidth": 2
          },
          "yaxis": {
           "automargin": true,
           "gridcolor": "white",
           "linecolor": "white",
           "ticks": "",
           "title": {
            "standoff": 15
           },
           "zerolinecolor": "white",
           "zerolinewidth": 2
          }
         }
        },
        "title": {
         "text": "Tasa de Falsos Positivos y Falsos Negativos por Raza"
        },
        "xaxis": {
         "anchor": "y",
         "domain": [
          0,
          1
         ],
         "title": {
          "text": "Raza"
         }
        },
        "yaxis": {
         "anchor": "x",
         "domain": [
          0,
          1
         ],
         "title": {
          "text": "Porcentaje (%)"
         }
        }
       }
      }
     },
     "metadata": {},
     "output_type": "display_data"
    }
   ],
   "source": [
    "import plotly.express as px\n",
    "\n",
    "# Preparar datos\n",
    "fp_data = outcome_race.reset_index()[[\"race\", \"% FP\", \"% FN\"]].melt(\n",
    "    id_vars=\"race\", var_name=\"Tipo de error\", value_name=\"Porcentaje\"\n",
    ")\n",
    "\n",
    "# Gráfico de barras agrupadas\n",
    "fig = px.bar(\n",
    "    fp_data,\n",
    "    x=\"race\",\n",
    "    y=\"Porcentaje\",\n",
    "    color=\"Tipo de error\",\n",
    "    barmode=\"group\",\n",
    "    title=\"Tasa de Falsos Positivos y Falsos Negativos por Raza\",\n",
    "    text=\"Porcentaje\"\n",
    ")\n",
    "fig.update_layout(yaxis_title=\"Porcentaje (%)\", xaxis_title=\"Raza\", bargap=0.2)\n",
    "fig.show()\n"
   ]
  },
  {
   "cell_type": "markdown",
   "id": "20df68e8",
   "metadata": {},
   "source": [
    "### 9. Visualización de Errores de COMPAS por Raza\n",
    "\n",
    "- El gráfico muestra de forma clara cómo **los falsos positivos son más altos en afroamericanos (21.78%)** que en caucásicos (14.22%) o hispanos (13.66%).\n",
    "- Esto indica que el sistema COMPAS **sobrestima el riesgo** en ciertos grupos, lo cual tiene consecuencias judiciales muy graves.\n",
    "- Aunque los caucásicos tienen más falsos negativos (18.79%), esto **no penaliza tanto como un falso positivo**, que puede llevar a prisión preventiva injusta.\n",
    "\n",
    "⚠️ Esta visualización es una evidencia clave de discriminación algorítmica que debe ser expuesta y explicada en la memoria del TFM y el dashboard final.\n"
   ]
  },
  {
   "cell_type": "markdown",
   "id": "c7386784",
   "metadata": {},
   "source": [
    "## 🔍 RESUMEN EJECUTIVO DEL ANÁLISIS EXPLORATORIO (EDA)\n",
    "\n",
    "Este EDA ha permitido entender a fondo la estructura, calidad y contenido del dataset de COMPAS, así como detectar patrones de riesgo y posibles sesgos algorítmicos. A continuación, se resumen los principales hallazgos:\n",
    "\n",
    "---\n",
    "\n",
    "### 📌 1. Calidad de los datos\n",
    "- El dataset contiene 7.214 registros y 53 columnas.\n",
    "- Se eliminaron 7 columnas con más del 85% de valores nulos.\n",
    "- Se unificaron columnas duplicadas y se transformaron fechas a formato `datetime`.\n",
    "\n",
    "---\n",
    "\n",
    "### 📌 2. Estadísticas clave\n",
    "- Edad promedio: personas jóvenes entre 20 y 45 años predominan.\n",
    "- Antecedentes (`priors_count`) y puntuaciones (`decile_score`) están fuertemente relacionadas con la reincidencia (`two_year_recid`).\n",
    "- Personas con más antecedentes y menor edad tienen mayor score y reincidencia.\n",
    "\n",
    "---\n",
    "\n",
    "### 📌 3. Correlaciones\n",
    "- `priors_count` y `decile_score` tienen correlación positiva con reincidencia.\n",
    "- `age` está negativamente correlacionado con `decile_score` y `v_decile_score`.\n",
    "\n",
    "---\n",
    "\n",
    "### 📌 4. Sesgos demográficos detectados\n",
    "- Afroamericanos tienen más antecedentes, reinciden más y reciben scores más altos.\n",
    "- Hombres presentan mayor riesgo que mujeres en todas las métricas.\n",
    "- Diferencias marcadas entre grupos raciales evidencian posibles sesgos sistémicos.\n",
    "\n",
    "---\n",
    "\n",
    "### 📌 5. Errores del sistema COMPAS\n",
    "- Falsos Positivos (personas no reincidentes que COMPAS predijo como reincidentes):\n",
    "  - African-American: **21.78%**\n",
    "  - Caucasian: **14.22%**\n",
    "- Falsos Negativos:\n",
    "  - Caucasian: **18.79%**\n",
    "  - African-American: **14.39%**\n",
    "\n",
    "📉 Esto sugiere un sesgo estructural que **penaliza injustamente a ciertos grupos raciales**, en especial afroamericanos.\n",
    "\n",
    "---\n",
    "\n",
    "✅ Este EDA proporciona la base sólida y argumentada para:\n",
    "- Evaluar el desempeño ético de COMPAS,\n",
    "- Compararlo con un modelo alternativo,\n",
    "- Y construir un dashboard con visualizaciones claras y accionables.\n",
    "\n"
   ]
  },
  {
   "cell_type": "markdown",
   "id": "8629ed7d",
   "metadata": {},
   "source": []
  }
 ],
 "metadata": {
  "kernelspec": {
   "display_name": "test",
   "language": "python",
   "name": "python3"
  },
  "language_info": {
   "codemirror_mode": {
    "name": "ipython",
    "version": 3
   },
   "file_extension": ".py",
   "mimetype": "text/x-python",
   "name": "python",
   "nbconvert_exporter": "python",
   "pygments_lexer": "ipython3",
   "version": "3.12.9"
  }
 },
 "nbformat": 4,
 "nbformat_minor": 5
}
