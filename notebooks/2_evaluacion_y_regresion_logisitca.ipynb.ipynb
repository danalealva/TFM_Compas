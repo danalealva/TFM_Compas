{
 "cells": [
  {
   "cell_type": "markdown",
   "id": "2df2821f",
   "metadata": {},
   "source": [
    "<div align=\"center\">\n",
    "<h1 style=\"color:#2c3e50;\">🧠 Tesis Final de Master</h1>\n",
    "<h2 style=\"color:#34495e;\">Evaluación Sesgos en Compas</h2>\n",
    "<h3 style=\"color:#34495e;\">Análisis de los puntajes de Compas y desarrollo de un modelo de predicción simple</h3>\n",
    "\n",
    "<img src=\"https://tecscience.tec.mx/es/wp-content/uploads/sites/8/2023/04/algoritmo-de-riesgo-criminal.jpg\" width=\"800\">\n",
    "\n",
    "**Nuclio Digital School**  \n",
    "*TFM curso presencial marzo 2025*\n",
    "\n",
    "---\n",
    "\n",
    "**Autor:** Azahara Bravo, Daniel Álvarez y María Loza\n",
    "\n",
    "**Fecha:** 3 de octubre, 2025  \n",
    "**Versión:** 1.0  \n",
    "\n",
    "</div>"
   ]
  },
  {
   "cell_type": "markdown",
   "id": "1159d890",
   "metadata": {},
   "source": [
    "<hr style=\"border:none; height:2px; background:linear-gradient(to right, #3498db, #e74c3c, #f39c12);\">\n",
    "\n",
    "<hr style=\"border:none; height:1px; background:#ddd;\">\n",
    "\n",
    "<div style=\"text-align:center; margin:20px 0;\">\n",
    "• • • •\n",
    "</div>"
   ]
  },
  {
   "cell_type": "markdown",
   "id": "554acf7a",
   "metadata": {},
   "source": [
    "# 0. **INTRODUCCIÓN**"
   ]
  },
  {
   "cell_type": "markdown",
   "id": "86a9f3ee",
   "metadata": {},
   "source": [
    "\n",
    "Este notebook desarrolla los apartados 3 y 4 propuestos por Nuclio del TFM, siguiendo la metodología acordada.  \n",
    "Cada subapartado incluye: introducción, código en Python y un insight interpretativo.\n",
    "\n",
    "---\n",
    "\n",
    "### 1 — Evaluación de los puntajes de COMPAS\n",
    "\n",
    "- **1.1 Preparación del notebook**  \n",
    "  Carga del dataset `compas_twoyears.csv`, verificación de columnas clave y limpieza mínima.\n",
    "\n",
    "- **1.2 Definición de la variable de predicción binaria y matriz de confusión global**  \n",
    "  Transformación del score en una predicción binaria (bajo riesgo 1–4, alto riesgo 5–10).  \n",
    "  Construcción de la matriz de confusión global para evaluar aciertos y errores.  \n",
    "  Introducción de la idea de segmentar también por demografía.\n",
    "\n",
    "- **1.3 Matrices de confusión por demografía**  \n",
    "  Generación de matrices completas (TN, FP, FN, TP) para etnia, género y rango de edad.  \n",
    "  Observación de cómo se distribuyen los errores dentro de cada colectivo.\n",
    "\n",
    "- **1.4 Comparación de tasas por grupos demográficos**  \n",
    "  Cálculo de tasas de acierto (TPR/Recall) y de error (FPR) para etnia, género y rango de edad.  \n",
    "  Identificación de diferencias en el desempeño de COMPAS entre colectivos.\n",
    "\n",
    "- **1.5 Métricas adicionales (Accuracy, Precision, Recall, F1, AUC)**  \n",
    "  Evaluación de métricas globales y desagregadas por grupo demográfico.  \n",
    "  Análisis comparativo para detectar desigualdades en desempeño.\n",
    "\n",
    "- **1.6 Calibración por decil**  \n",
    "  Comparación entre riesgo predicho (score/10) y tasa real de reincidencia.  \n",
    "  Cálculo del gap y del error medio absoluto (MAE) a nivel global y por grupos (género, edad, etnia).  \n",
    "  Evaluación de la coherencia de los scores.\n",
    "\n",
    "- **1.7 Conclusiones**  \n",
    "  Síntesis de hallazgos: desempeño moderado y desigualdad en el sistema COMPAS.\n",
    "\n",
    "---\n",
    "\n",
    "### 2 — Desarrollo de un modelo predictivo simple\n",
    "\n",
    "- **2.1 Entrenamiento de un modelo de regresión logística**  \n",
    "  Preparación de datos, codificación de variables categóricas, división train/test.  \n",
    "  Entrenamiento de la regresión logística con `reincide` como variable target y evaluación inicial con curva ROC (AUC).\n",
    "\n",
    "- **2.2 Comparación global entre COMPAS y la regresión logística**  \n",
    "  Comparación de métricas globales (Accuracy, Precision, Recall, F1, AUC).  \n",
    "  Tabla comparativa y gráfico de barras.\n",
    "\n",
    "- **2.3 Comparación por grupos demográficos**  \n",
    "  Cálculo y comparación de métricas (en especial Recall/TPR) de COMPAS y la regresión logística según etnia, género y rango de edad.  \n",
    "  Análisis de las disparidades que persisten en ambos modelos.\n",
    "\n",
    "- **2.4 Cierre**  \n",
    "  Resumen de hallazgos: la regresión logística ofrece un rendimiento similar al de COMPAS,  \n",
    "  pero ninguna de las dos elimina los sesgos, lo que confirma la necesidad de explorar métodos adicionales de mitigación.\n"
   ]
  },
  {
   "cell_type": "code",
   "execution_count": 14,
   "id": "dbb58627",
   "metadata": {},
   "outputs": [],
   "source": [
    "# === Importación de librerías ===\n",
    "\n",
    "# Manejo de datos\n",
    "import pandas as pd\n",
    "import numpy as np\n",
    "\n",
    "# Manejo del sistema operativo (crear carpetas, rutas, etc.)\n",
    "import os\n",
    "\n",
    "# Visualización\n",
    "import matplotlib.pyplot as plt\n",
    "import seaborn as sns\n",
    "\n",
    "# Modelado y preprocesamiento\n",
    "from sklearn.model_selection import train_test_split\n",
    "from sklearn.preprocessing import OneHotEncoder\n",
    "from sklearn.compose import ColumnTransformer\n",
    "from sklearn.pipeline import Pipeline\n",
    "from sklearn.linear_model import LogisticRegression\n",
    "from sklearn.metrics import roc_auc_score, RocCurveDisplay\n",
    "\n",
    "# Métricas y evaluación\n",
    "from sklearn.metrics import (\n",
    "    confusion_matrix, ConfusionMatrixDisplay,\n",
    "    accuracy_score, precision_score, recall_score,\n",
    "    f1_score, roc_auc_score, roc_curve\n",
    ")\n"
   ]
  },
  {
   "cell_type": "code",
   "execution_count": 15,
   "id": "a09dd62a",
   "metadata": {},
   "outputs": [
    {
     "name": "stdout",
     "output_type": "stream",
     "text": [
      "ROOT: /Users/danielalejandroalvarez/Documents/Master Nuclio Python/TFM_COMPAS\n",
      "Archivo cargado: compas_twoyears.csv\n",
      "Shape: (7214, 53)\n"
     ]
    }
   ],
   "source": [
    "# --- Configuración inicial ---\n",
    "from pathlib import Path\n",
    "\n",
    "\n",
    "ROOT = Path.cwd().resolve().parents[0]\n",
    "\n",
    "# Directorios principales\n",
    "DATA_PROCESSED = ROOT / \"data\" / \"processed\"\n",
    "TWOYEARS_PROCESSED = DATA_PROCESSED / \"compas_twoyears.csv\"\n",
    "\n",
    "# Cargar dataset procesado\n",
    "df = pd.read_csv(TWOYEARS_PROCESSED)\n",
    "\n",
    "print(\"ROOT:\", ROOT)\n",
    "print(\"Archivo cargado:\", TWOYEARS_PROCESSED.name)\n",
    "print(\"Shape:\", df.shape)\n"
   ]
  },
  {
   "cell_type": "markdown",
   "id": "7d047452",
   "metadata": {},
   "source": [
    "<hr style=\"border:none; height:2px; background:linear-gradient(to right, #3498db, #e74c3c, #f39c12);\">\n",
    "\n",
    "<hr style=\"border:none; height:1px; background:#ddd;\">\n",
    "\n",
    "<div style=\"text-align:center; margin:20px 0;\">\n",
    " • • • •\n",
    "</div>"
   ]
  },
  {
   "cell_type": "markdown",
   "id": "91ad0aeb",
   "metadata": {},
   "source": [
    "# **1. EVALUACIÓN DE LOS PUNTAJES DE COMPAS**"
   ]
  },
  {
   "cell_type": "markdown",
   "id": "824ea5cd",
   "metadata": {},
   "source": [
    "___"
   ]
  },
  {
   "cell_type": "markdown",
   "id": "7dceb204",
   "metadata": {},
   "source": [
    "## **1.1 PREPARACIÓN DEL NOTEBOOK: carga y preparación de datos**"
   ]
  },
  {
   "cell_type": "markdown",
   "id": "9ad022d6",
   "metadata": {},
   "source": [
    "\n",
    "En este primer paso se realiza la carga y validación inicial del dataset `compas_twoyears.csv`.  \n",
    "El objetivo es asegurar que la información esté lista para los análisis posteriores sobre la eficacia y los posibles sesgos del sistema COMPAS.  \n",
    "\n",
    "Las tareas principales de esta sección son:\n",
    "\n",
    "- **Lectura del dataset** en un DataFrame de pandas.  \n",
    "- **Verificación de columnas clave**: `sexo`, `edad`, `rango_edad`, `etnia`, `puntaje_decile`, `reincidencia_2anios`.  \n",
    "- **Revisión de tipos de datos** y detección de valores ausentes en dichas variables.  \n",
    "- **Exploración preliminar** de la distribución de `puntaje_decile` y del balance de la variable objetivo `reincidencia_2anios`.  \n",
    "\n",
    "Este paso de preparación es esencial porque garantiza que los datos se encuentran en condiciones adecuadas para el análisis de desempeño y de sesgos que se desarrollarán en los apartados siguientes.\n"
   ]
  },
  {
   "cell_type": "code",
   "execution_count": 16,
   "id": "d7a19f9e",
   "metadata": {},
   "outputs": [
    {
     "name": "stdout",
     "output_type": "stream",
     "text": [
      "ROOT: /Users/danielalejandroalvarez/Documents/Master Nuclio Python/TFM_COMPAS\n",
      "Archivo cargado: compas_twoyears.csv\n",
      "Shape: 7214 filas × 53 columnas\n",
      "\n",
      "Tipos de datos (subset):\n",
      "genero                  object\n",
      "edad                     int64\n",
      "rango_edad              object\n",
      "etnia                   object\n",
      "resultado_compas         int64\n",
      "reincide                  bool\n",
      "reincidencia_general      bool\n",
      "dtype: object\n"
     ]
    }
   ],
   "source": [
    "# 1.1 — Preparación del notebook: carga de datos\n",
    "from pathlib import Path\n",
    "import pandas as pd\n",
    "\n",
    "# --- Rutas ---\n",
    "ROOT = Path.cwd().resolve().parents[0]\n",
    "DATA_PROCESSED = ROOT / \"data\" / \"processed\"\n",
    "PATH_TW = DATA_PROCESSED / \"compas_twoyears.csv\"\n",
    "\n",
    "assert PATH_TW.exists(), f\"No se encontró el archivo: {PATH_TW}\"\n",
    "\n",
    "# --- Carga ---\n",
    "df_twoyears = pd.read_csv(PATH_TW)\n",
    "print(f\"ROOT: {ROOT}\")\n",
    "print(f\"Archivo cargado: {PATH_TW.name}\")\n",
    "print(f\"Shape: {df.shape[0]} filas × {df.shape[1]} columnas\")\n",
    "\n",
    "# --- 2) Conversión de variables clave a booleano (si existen) ---\n",
    "def _to_bool(series: pd.Series) -> pd.Series:\n",
    "    t = series.astype(str).str.strip().str.lower()\n",
    "    return t.isin([\"1\", \"true\", \"si\", \"sí\", \"yes\"])\n",
    "\n",
    "for col in [\"reincide\", \"reincidencia_general\"]:\n",
    "    if col in df.columns:\n",
    "        df[col] = _to_bool(df[col])\n",
    "\n",
    "# --- 3) Comprobación de tipos de datos (subset) ---\n",
    "cols_check = [c for c in [\"genero\", \"edad\", \"rango_edad\", \"etnia\",\n",
    "                          \"resultado_compas\", \"reincide\", \"reincidencia_general\"]\n",
    "              if c in df.columns]\n",
    "print(\"\\nTipos de datos (subset):\")\n",
    "print(df[cols_check].dtypes)\n"
   ]
  },
  {
   "cell_type": "markdown",
   "id": "34b4e0c2",
   "metadata": {},
   "source": [
    "Aqui diras que los valores bool no estan tal cual y que hace falta convertir. \n",
    "Diras tambien que no hace falta convertir datetime pq en esta fase no nos van a inetersar esas columnas\n"
   ]
  },
  {
   "cell_type": "markdown",
   "id": "4baf8637",
   "metadata": {},
   "source": [
    "**Insight 1.1 — Preparación de los datos**\n",
    "\n",
    "La validación confirmó que todas las variables clave (`genero`, `edad`, `rango_edad`, `etnia`, `resultado_compas`, `reincide`) están presentes y con el tipo de dato adecuado.  \n",
    "La limpieza eliminó registros con valores faltantes en estas columnas, dejando un dataset consistente que será la base para los análisis posteriores.  \n",
    "Este paso asegura que los resultados de las métricas de desempeño y sesgo no se vean afectados por problemas de integridad en los datos.\n"
   ]
  },
  {
   "cell_type": "markdown",
   "id": "b2bb123b",
   "metadata": {},
   "source": [
    "---"
   ]
  },
  {
   "cell_type": "markdown",
   "id": "ffae0d25",
   "metadata": {},
   "source": [
    "## **1.2 DEFINICIÓN DE LA PREDICCIÓN BINARIA Y MATRIZ DE CONFUSIÓN GLOBAL**"
   ]
  },
  {
   "cell_type": "markdown",
   "id": "ac1a4957",
   "metadata": {},
   "source": [
    "\n",
    "\n",
    "En este apartado se establece la forma en que se evaluará COMPAS como clasificador binario.  \n",
    "Para ello, se parte de la variable `resultado_compas` como score (1–10) y se define un umbral estándar utilizado en la literatura:  \n",
    "- **Alto riesgo**: valores de 5 a 10.  \n",
    "- **Bajo riesgo**: valores de 1 a 4.  \n",
    "\n",
    "Este criterio permite transformar el score en una predicción binaria de reincidencia esperada.  \n",
    "Posteriormente, se comparan estas predicciones con la variable real `reincide`, construyendo la **matriz de confusión global**, que resume los aciertos y errores del sistema COMPAS sin distinguir grupos demográficos.\n"
   ]
  },
  {
   "cell_type": "code",
   "execution_count": 17,
   "id": "eb575374",
   "metadata": {},
   "outputs": [
    {
     "name": "stdout",
     "output_type": "stream",
     "text": [
      "Matriz de confusión (filas = valor real, columnas = predicción):\n",
      "            Pred: No    Pred: Sí\n",
      "Real No   2681        1282\n",
      "Real Sí   1216        2035\n"
     ]
    }
   ],
   "source": [
    "# 1.2 — Definición de la predicción binaria y matriz de confusión global \n",
    "\n",
    "# --- 1) Definir la predicción binaria a partir de resultado_compas ---\n",
    "# Umbral estándar: 1–4 = Bajo (0), 5–10 = Alto (1)\n",
    "df_twoyears[\"prediccion_compas\"] = (df_twoyears[\"resultado_compas\"] >= 5).astype(int)\n",
    "\n",
    "# --- 2) Variable real de reincidencia ---\n",
    "y_true = df_twoyears[\"reincide\"]\n",
    "y_pred = df_twoyears[\"prediccion_compas\"]\n",
    "\n",
    "# --- 3) Matriz de confusión ---\n",
    "cm = confusion_matrix(y_true, y_pred, labels=[0, 1])\n",
    "\n",
    "print(\"Matriz de confusión (filas = valor real, columnas = predicción):\")\n",
    "print(\"            Pred: No    Pred: Sí\")\n",
    "print(\"Real No  \", cm[0][0], \"      \", cm[0][1])\n",
    "print(\"Real Sí  \", cm[1][0], \"      \", cm[1][1])\n"
   ]
  },
  {
   "cell_type": "markdown",
   "id": "01660c74",
   "metadata": {},
   "source": [
    "**Insight 3.2 — Matriz de confusión global**\n",
    "\n",
    "La matriz de confusión muestra cuántas predicciones de COMPAS son correctas y cuántas son errores al clasificar a las personas como de “alto riesgo” (reincidencia) o “bajo riesgo” (no reincidencia).  \n",
    "\n",
    "- **Verdaderos negativos (TN):** personas que no reincidieron y COMPAS predijo bajo riesgo.  \n",
    "- **Falsos positivos (FP):** personas que no reincidieron pero COMPAS las clasificó como alto riesgo.  \n",
    "- **Falsos negativos (FN):** personas que sí reincidieron pero COMPAS las clasificó como bajo riesgo.  \n",
    "- **Verdaderos positivos (TP):** personas que reincidieron y COMPAS las clasificó como alto riesgo.  \n",
    "\n",
    "Este resultado ofrece una primera medida global del desempeño de COMPAS, sin distinguir aún entre grupos demográficos.\n"
   ]
  },
  {
   "cell_type": "markdown",
   "id": "790cb8fb",
   "metadata": {},
   "source": [
    "___"
   ]
  },
  {
   "cell_type": "markdown",
   "id": "3e0ef5f3",
   "metadata": {},
   "source": [
    "## **1.3 MATRICES DE CONFUSIÓN POR DEMOGRAFÍA**"
   ]
  },
  {
   "cell_type": "markdown",
   "id": "ee2ede5b",
   "metadata": {},
   "source": [
    "\n",
    "\n",
    "Tras construir la matriz de confusión global, en este apartado se generan **matrices de confusión segmentadas por variables demográficas**: etnia, género y rango de edad.  \n",
    "El objetivo es observar de forma más detallada cómo se distribuyen los aciertos (TN y TP) y los errores (FP y FN) de COMPAS dentro de cada colectivo.  \n",
    "\n",
    "Este análisis complementa la visión global, permitiendo identificar si ciertos grupos soportan más falsos positivos o falsos negativos, lo que puede evidenciar sesgos en el desempeño del sistema.\n"
   ]
  },
  {
   "cell_type": "code",
   "execution_count": 18,
   "id": "0c4f099f",
   "metadata": {},
   "outputs": [],
   "source": [
    "# 1.3 (opcional) — Matrices de confusión por demografía\n",
    "\n",
    "\n",
    "\n",
    "def matriz_por_grupo(df, grupo_col, y_true_col=\"reincide\", y_score_col=\"resultado_compas\"):\n",
    "    \"\"\"\n",
    "    Imprime matrices de confusión para cada grupo de la variable indicada.\n",
    "    \"\"\"\n",
    "    for grupo, datos in df.groupby(grupo_col):\n",
    "        y_true = datos[y_true_col]\n",
    "        y_pred = (datos[y_score_col] >= 5).astype(int)  # umbral estándar 5–10 = alto riesgo\n",
    "\n",
    "        cm = confusion_matrix(y_true, y_pred, labels=[0, 1])\n",
    "\n",
    "        print(f\"\\nMatriz de confusión — {grupo_col}: {grupo}\")\n",
    "        print(\"            Pred: No    Pred: Sí\")\n",
    "        print(\"Real No  \", cm[0][0], \"      \", cm[0][1])\n",
    "        print(\"Real Sí  \", cm[1][0], \"      \", cm[1][1])\n",
    "\n"
   ]
  },
  {
   "cell_type": "code",
   "execution_count": 19,
   "id": "3fd1b1df",
   "metadata": {},
   "outputs": [
    {
     "name": "stdout",
     "output_type": "stream",
     "text": [
      "=== Matrices por ETNIA ===\n",
      "\n",
      "Matriz de confusión — etnia: African-American\n",
      "            Pred: No    Pred: Sí\n",
      "Real No   990        805\n",
      "Real Sí   532        1369\n",
      "\n",
      "Matriz de confusión — etnia: Asian\n",
      "            Pred: No    Pred: Sí\n",
      "Real No   21        2\n",
      "Real Sí   3        6\n",
      "\n",
      "Matriz de confusión — etnia: Caucasian\n",
      "            Pred: No    Pred: Sí\n",
      "Real No   1139        349\n",
      "Real Sí   461        505\n",
      "\n",
      "Matriz de confusión — etnia: Hispanic\n",
      "            Pred: No    Pred: Sí\n",
      "Real No   318        87\n",
      "Real Sí   129        103\n",
      "\n",
      "Matriz de confusión — etnia: Native American\n",
      "            Pred: No    Pred: Sí\n",
      "Real No   5        3\n",
      "Real Sí   1        9\n",
      "\n",
      "Matriz de confusión — etnia: Other\n",
      "            Pred: No    Pred: Sí\n",
      "Real No   208        36\n",
      "Real Sí   90        43\n"
     ]
    }
   ],
   "source": [
    "# Matrices de confusión por ETNIA\n",
    "print(\"=== Matrices por ETNIA ===\")\n",
    "matriz_por_grupo(df_twoyears, \"etnia\")\n",
    "\n",
    "\n"
   ]
  },
  {
   "cell_type": "code",
   "execution_count": 20,
   "id": "5ef501e2",
   "metadata": {},
   "outputs": [
    {
     "name": "stdout",
     "output_type": "stream",
     "text": [
      "=== Matrices de confusión (visuales) por ETNIA ===\n"
     ]
    },
    {
     "data": {
      "image/png": "[encoded data removed]",
      "text/plain": [
       "<Figure size 400x300 with 1 Axes>"
      ]
     },
     "metadata": {},
     "output_type": "display_data"
    },
    {
     "data": {
      "image/png": "[encoded data removed]",
      "text/plain": [
       "<Figure size 400x300 with 1 Axes>"
      ]
     },
     "metadata": {},
     "output_type": "display_data"
    },
    {
     "data": {
      "image/png": "[encoded data removed]",
      "text/plain": [
       "<Figure size 400x300 with 1 Axes>"
      ]
     },
     "metadata": {},
     "output_type": "display_data"
    },
    {
     "data": {
      "image/png": "[encoded data removed]",
      "text/plain": [
       "<Figure size 400x300 with 1 Axes>"
      ]
     },
     "metadata": {},
     "output_type": "display_data"
    },
    {
     "data": {
      "image/png": "[encoded data removed]",
      "text/plain": [
       "<Figure size 400x300 with 1 Axes>"
      ]
     },
     "metadata": {},
     "output_type": "display_data"
    },
    {
     "data": {
      "image/png": "[encoded data removed]",
      "text/plain": [
       "<Figure size 400x300 with 1 Axes>"
      ]
     },
     "metadata": {},
     "output_type": "display_data"
    }
   ],
   "source": [
    "\n",
    "\n",
    "def plot_matriz_por_grupo(df, grupo_col, y_true_col=\"reincide\", y_score_col=\"resultado_compas\"):\n",
    "    \"\"\"\n",
    "    Dibuja matrices de confusión como heatmap para cada grupo de la variable indicada.\n",
    "    \"\"\"\n",
    "    for grupo, datos in df.groupby(grupo_col):\n",
    "        y_true = datos[y_true_col]\n",
    "        y_pred = (datos[y_score_col] >= 5).astype(int)  # umbral estándar COMPAS\n",
    "        \n",
    "        cm = confusion_matrix(y_true, y_pred, labels=[0, 1])\n",
    "        \n",
    "        plt.figure(figsize=(4,3))\n",
    "        sns.heatmap(cm, annot=True, fmt=\"d\", cmap=\"Blues\", cbar=False,\n",
    "                    xticklabels=[\"No reincide (pred)\", \"Reincide (pred)\"],\n",
    "                    yticklabels=[\"No reincide (real)\", \"Reincide (real)\"])\n",
    "        plt.title(f\"Matriz de confusión — {grupo_col}: {grupo}\")\n",
    "        plt.ylabel(\"Valor real\")\n",
    "        plt.xlabel(\"Predicción\")\n",
    "        plt.show()\n",
    "\n",
    "# Ejecutar para ETNIA\n",
    "print(\"=== Matrices de confusión (visuales) por ETNIA ===\")\n",
    "plot_matriz_por_grupo(df_twoyears, \"etnia\")\n"
   ]
  },
  {
   "cell_type": "code",
   "execution_count": 21,
   "id": "a888a81b",
   "metadata": {},
   "outputs": [
    {
     "name": "stdout",
     "output_type": "stream",
     "text": [
      "=== Matrices por GÉNERO ===\n",
      "\n",
      "Matriz de confusión — genero: Female\n",
      "            Pred: No    Pred: Sí\n",
      "Real No   609        288\n",
      "Real Sí   195        303\n",
      "\n",
      "Matriz de confusión — genero: Male\n",
      "            Pred: No    Pred: Sí\n",
      "Real No   2072        994\n",
      "Real Sí   1021        1732\n"
     ]
    }
   ],
   "source": [
    "# Ejecuta por separado para ver solo género\n",
    "print(\"=== Matrices por GÉNERO ===\")\n",
    "matriz_por_grupo(df_twoyears, \"genero\")\n"
   ]
  },
  {
   "cell_type": "code",
   "execution_count": 22,
   "id": "1fa88d7b",
   "metadata": {},
   "outputs": [
    {
     "name": "stdout",
     "output_type": "stream",
     "text": [
      "=== Matrices de confusión (visuales) por GENERO ===\n"
     ]
    },
    {
     "data": {
      "image/png": "[encoded data removed]",
      "text/plain": [
       "<Figure size 400x300 with 1 Axes>"
      ]
     },
     "metadata": {},
     "output_type": "display_data"
    },
    {
     "data": {
      "image/png": "[encoded data removed]",
      "text/plain": [
       "<Figure size 400x300 with 1 Axes>"
      ]
     },
     "metadata": {},
     "output_type": "display_data"
    }
   ],
   "source": [
    "# Visualización de matrices de confusión por GENERO\n",
    "print(\"=== Matrices de confusión (visuales) por GENERO ===\")\n",
    "plot_matriz_por_grupo(df_twoyears, \"genero\")\n"
   ]
  },
  {
   "cell_type": "code",
   "execution_count": 23,
   "id": "b9ba07ac",
   "metadata": {},
   "outputs": [
    {
     "name": "stdout",
     "output_type": "stream",
     "text": [
      "=== Matrices de confusión (visuales) por RANGO_EDAD ===\n"
     ]
    },
    {
     "data": {
      "image/png": "[encoded data removed]",
      "text/plain": [
       "<Figure size 400x300 with 1 Axes>"
      ]
     },
     "metadata": {},
     "output_type": "display_data"
    },
    {
     "data": {
      "image/png": "[encoded data removed]",
      "text/plain": [
       "<Figure size 400x300 with 1 Axes>"
      ]
     },
     "metadata": {},
     "output_type": "display_data"
    },
    {
     "data": {
      "image/png": "[encoded data removed]",
      "text/plain": [
       "<Figure size 400x300 with 1 Axes>"
      ]
     },
     "metadata": {},
     "output_type": "display_data"
    }
   ],
   "source": [
    "# Visualización de matrices de confusión por RANGO_EDAD\n",
    "print(\"=== Matrices de confusión (visuales) por RANGO_EDAD ===\")\n",
    "plot_matriz_por_grupo(df_twoyears, \"rango_edad\")\n",
    "\n"
   ]
  },
  {
   "cell_type": "code",
   "execution_count": 24,
   "id": "368dc2a1",
   "metadata": {},
   "outputs": [
    {
     "name": "stdout",
     "output_type": "stream",
     "text": [
      "=== Matriz de confusión GLOBAL ===\n"
     ]
    },
    {
     "data": {
      "image/png": "[encoded data removed]",
      "text/plain": [
       "<Figure size 400x300 with 1 Axes>"
      ]
     },
     "metadata": {},
     "output_type": "display_data"
    }
   ],
   "source": [
    "# --- Matriz de confusión global ---\n",
    "def plot_matriz_global(df, y_true_col=\"reincide\", y_score_col=\"resultado_compas\"):\n",
    "    \"\"\"\n",
    "    Dibuja la matriz de confusión global (sin separar por grupos).\n",
    "    \"\"\"\n",
    "    y_true = df[y_true_col]\n",
    "    y_pred = (df[y_score_col] >= 5).astype(int)  # umbral estándar COMPAS\n",
    "    \n",
    "    cm = confusion_matrix(y_true, y_pred, labels=[0, 1])\n",
    "    \n",
    "    plt.figure(figsize=(4,3))\n",
    "    sns.heatmap(cm, annot=True, fmt=\"d\", cmap=\"Blues\", cbar=False,\n",
    "                xticklabels=[\"No reincide (pred)\", \"Reincide (pred)\"],\n",
    "                yticklabels=[\"No reincide (real)\", \"Reincide (real)\"])\n",
    "    plt.title(\"Matriz de confusión — Global\")\n",
    "    plt.ylabel(\"Valor real\")\n",
    "    plt.xlabel(\"Predicción\")\n",
    "    plt.show()\n",
    "\n",
    "# Ejecutar\n",
    "print(\"=== Matriz de confusión GLOBAL ===\")\n",
    "plot_matriz_global(df_twoyears)"
   ]
  },
  {
   "cell_type": "markdown",
   "id": "c0f6365f",
   "metadata": {},
   "source": [
    "### **Insight 1.3 — Matrices de confusión**\n",
    "\n",
    "Las matrices de confusión permiten analizar tanto el desempeño global de COMPAS como sus diferencias entre colectivos específicos.  \n",
    "\n",
    "- **Etnia:**  \n",
    "  - En afroamericanos se observan muchos **falsos positivos**, lo que implica que son clasificados con alto riesgo aun sin reincidir.  \n",
    "  - En caucásicos se concentran más **falsos negativos**, es decir, reincidentes que el sistema no logra identificar.  \n",
    "  - Otros grupos minoritarios también muestran desequilibrios, aunque con menos volumen de casos.  \n",
    "\n",
    "- **Género:**  \n",
    "  - En hombres se concentran la mayoría de los errores absolutos, dado que representan la mayor parte de la muestra.  \n",
    "  - En mujeres se aprecian falsos positivos relevantes, lo que sugiere una tendencia a clasificarlas en exceso como reincidentes.  \n",
    "\n",
    "- **Rango de edad:**  \n",
    "  - Los jóvenes (<25) muestran un número alto de falsos positivos.  \n",
    "  - Los mayores de 45 acumulan más falsos negativos.  \n",
    "  - El grupo intermedio (25–45) presenta errores en ambas direcciones de forma significativa.  \n",
    "\n",
    "- **Global:**  \n",
    "  La matriz general refleja que COMPAS clasifica correctamente a un número importante de casos (2681 verdaderos negativos y 2035 verdaderos positivos), pero también comete **1282 falsos positivos** y **1216 falsos negativos**. En conjunto, el sistema tiende a generar **más falsos positivos que falsos negativos**, lo que evidencia una tendencia a **sobreestimar el riesgo de reincidencia**. Este patrón implica un mayor impacto negativo sobre las personas clasificadas injustamente como reincidentes (FP).    \n",
    "\n",
    "**Conclusión:**  \n",
    "Las matrices de confusión ilustran visualmente que, aunque la tasa de aciertos global es considerable, los errores **no se distribuyen de manera neutral**: COMPAS penaliza de forma desigual a ciertos colectivos. Esto refuerza la evidencia de sesgos ya detectados en el análisis de TPR y FPR, especialmente a través de la **carga desproporcionada de falsos positivos en determinados grupos**.\n"
   ]
  },
  {
   "cell_type": "markdown",
   "id": "54005e2d",
   "metadata": {},
   "source": [
    "___"
   ]
  },
  {
   "cell_type": "markdown",
   "id": "b2bbd403",
   "metadata": {},
   "source": [
    "## **1.4 COMPARACIÓN DE TASAS DE VERDADEROS POSITIVOS Y FALSOS POSITIVOS POR GRUPOS DEMOGRÁFICOS**"
   ]
  },
  {
   "cell_type": "markdown",
   "id": "8d878aec",
   "metadata": {},
   "source": [
    "\n",
    "\n",
    "En esta sección se amplía el análisis de la matriz de confusión, calculando las tasas de verdaderos positivos (TPR o Recall) y falsos positivos (FPR) **desagregadas por grupos demográficos**.  \n",
    "El objetivo es comprobar si COMPAS presenta diferencias significativas en su desempeño según características como **etnia, género o rango de edad**.  \n",
    "\n",
    "Esto permitirá evaluar posibles **sesgos algorítmicos**, ya que una diferencia marcada en FPR o TPR entre grupos puede indicar que el sistema favorece o perjudica de manera desigual a ciertos colectivos.\n"
   ]
  },
  {
   "cell_type": "code",
   "execution_count": 25,
   "id": "8c1017bf",
   "metadata": {},
   "outputs": [
    {
     "name": "stdout",
     "output_type": "stream",
     "text": [
      "\n",
      "Tasas por etnia:\n",
      "              etnia  TPR (Recall)       FPR    TP   FN    TN   FP\n",
      "0  African-American      0.720147  0.448468  1369  532   990  805\n",
      "1             Asian      0.666667  0.086957     6    3    21    2\n",
      "2         Caucasian      0.522774  0.234543   505  461  1139  349\n",
      "3          Hispanic      0.443966  0.214815   103  129   318   87\n",
      "4   Native American      0.900000  0.375000     9    1     5    3\n",
      "5             Other      0.323308  0.147541    43   90   208   36\n",
      "\n",
      "Tasas por genero:\n",
      "   genero  TPR (Recall)       FPR    TP    FN    TN   FP\n",
      "0  Female      0.608434  0.321070   303   195   609  288\n",
      "1    Male      0.629132  0.324201  1732  1021  2072  994\n"
     ]
    },
    {
     "name": "stdout",
     "output_type": "stream",
     "text": [
      "\n",
      "Tasas por rango_edad:\n",
      "        rango_edad  TPR (Recall)       FPR    TP   FN    TN   FP\n",
      "0          25 - 45      0.626257  0.333784  1183  706  1479  741\n",
      "1  Greater than 45      0.427711  0.167904   213  285   897  181\n",
      "2     Less than 25      0.739583  0.541353   639  225   305  360\n"
     ]
    }
   ],
   "source": [
    "# 1.4 — Comparación de tasas de verdaderos positivos y falsos positivos por grupos demográficos\n",
    "\n",
    "\n",
    "def calcular_tasas(df, grupo_col):\n",
    "    resultados = []\n",
    "    for grupo, datos in df.groupby(grupo_col):\n",
    "        y_true = datos[\"reincide\"]\n",
    "        y_pred = datos[\"prediccion_compas\"]\n",
    "\n",
    "        # Conteos\n",
    "        tn = ((y_true == 0) & (y_pred == 0)).sum()\n",
    "        fp = ((y_true == 0) & (y_pred == 1)).sum()\n",
    "        fn = ((y_true == 1) & (y_pred == 0)).sum()\n",
    "        tp = ((y_true == 1) & (y_pred == 1)).sum()\n",
    "\n",
    "        # Tasas (evitando divisiones por 0)\n",
    "        tpr = tp / (tp + fn) if (tp + fn) > 0 else None  # Recall\n",
    "        fpr = fp / (fp + tn) if (fp + tn) > 0 else None\n",
    "\n",
    "        resultados.append({\n",
    "            grupo_col: grupo,\n",
    "            \"TPR (Recall)\": tpr,\n",
    "            \"FPR\": fpr,\n",
    "            \"TP\": tp, \"FN\": fn, \"TN\": tn, \"FP\": fp\n",
    "        })\n",
    "    return pd.DataFrame(resultados)\n",
    "\n",
    "# --- Cálculo por etnia ---\n",
    "tasas_etnia = calcular_tasas(df_twoyears, \"etnia\")\n",
    "print(\"\\nTasas por etnia:\")\n",
    "print(tasas_etnia)\n",
    "\n",
    "# --- Cálculo por genero ---\n",
    "tasas_genero = calcular_tasas(df_twoyears, \"genero\")\n",
    "print(\"\\nTasas por genero:\")\n",
    "print(tasas_genero)\n",
    "\n",
    "# --- Cálculo por rango_edad ---\n",
    "tasas_edad = calcular_tasas(df_twoyears, \"rango_edad\")\n",
    "print(\"\\nTasas por rango_edad:\")\n",
    "print(tasas_edad)\n"
   ]
  },
  {
   "cell_type": "markdown",
   "id": "bccda819",
   "metadata": {},
   "source": [
    "**Insight 1.4 — Tasas de verdaderos positivos y falsos positivos por grupos**\n",
    "\n",
    "El análisis muestra que el desempeño de COMPAS no es uniforme entre los distintos grupos demográficos:  \n",
    "\n",
    "- **TPR (Recall):** refleja la proporción de personas que reincidieron y fueron correctamente clasificadas como “alto riesgo”.  \n",
    "- **FPR:** refleja la proporción de personas que no reincidieron pero fueron clasificadas erróneamente como “alto riesgo”.  \n",
    "\n",
    "Las diferencias en estas tasas entre etnias, géneros y rangos de edad permiten detectar posibles **sesgos algorítmicos**.  \n",
    "En particular, una FPR más elevada en un grupo implica que ese colectivo recibe de manera desproporcionada predicciones de “alto riesgo” sin que realmente reincidan, lo que puede traducirse en un trato injusto.  \n",
    "Por el contrario, una TPR más baja en un grupo indica que COMPAS no logra identificar adecuadamente a quienes reinciden dentro de ese colectivo.  \n",
    "\n",
    "Estos resultados constituyen la base para el análisis de sesgo que se ampliará en los siguientes apartados.\n"
   ]
  },
  {
   "cell_type": "markdown",
   "id": "d490aa1b",
   "metadata": {},
   "source": [
    "---"
   ]
  },
  {
   "cell_type": "markdown",
   "id": "863e6043",
   "metadata": {},
   "source": [
    "## **1.5 EVALUACIÓN DE MÉTRICAS ADICIONALES POR GRUPO**"
   ]
  },
  {
   "cell_type": "markdown",
   "id": "d79fb570",
   "metadata": {},
   "source": [
    "\n",
    "\n",
    "Además de las tasas de verdaderos y falsos positivos, es importante evaluar un conjunto más amplio de métricas de desempeño.  \n",
    "En este apartado se calculan las siguientes métricas tanto a nivel global como desagregadas por grupos demográficos (etnia, género y rango de edad):\n",
    "\n",
    "- **Accuracy:** proporción de predicciones correctas.  \n",
    "- **Precision:** proporción de predicciones positivas que son correctas.  \n",
    "- **Recall (TPR):** proporción de reincidentes detectados correctamente.  \n",
    "- **F1-score:** media armónica entre precision y recall.  \n",
    "- **AUC (Área bajo la curva ROC):** medida general de discriminación del modelo.  \n",
    "\n",
    "El objetivo es obtener una visión más completa del comportamiento de COMPAS y comprobar si existen **diferencias relevantes entre grupos** que puedan señalar la presencia de sesgos.\n"
   ]
  },
  {
   "cell_type": "markdown",
   "id": "c5ea229b",
   "metadata": {},
   "source": [
    "Solo dejar AUC (CURVA ROC)"
   ]
  },
  {
   "cell_type": "code",
   "execution_count": 26,
   "id": "04ceb4c7",
   "metadata": {},
   "outputs": [
    {
     "name": "stdout",
     "output_type": "stream",
     "text": [
      "Métricas globales:\n",
      "{'Accuracy': 0.6537288605489326, 'Precision': 0.6135061802833887, 'Recall': 0.6259612426945556, 'F1': 0.6196711327649208, 'AUC': 0.6512344694421554}\n",
      "\n",
      "Métricas por etnia:\n",
      "   Accuracy  Precision    Recall        F1       AUC             etnia\n",
      "0  0.638258   0.629715  0.720147  0.671902  0.635840  African-American\n",
      "1  0.843750   0.750000  0.666667  0.705882  0.789855             Asian\n",
      "2  0.669927   0.591335  0.522774  0.554945  0.644116         Caucasian\n",
      "3  0.660911   0.542105  0.443966  0.488152  0.614575          Hispanic\n",
      "4  0.777778   0.750000  0.900000  0.818182  0.762500   Native American\n",
      "5  0.665782   0.544304  0.323308  0.405660  0.587884             Other\n",
      "\n",
      "Métricas por genero:\n",
      "   Accuracy  Precision    Recall        F1       AUC  genero\n",
      "0  0.653763   0.512690  0.608434  0.556474  0.643682  Female\n",
      "1  0.653721   0.635363  0.629132  0.632232  0.652465    Male\n",
      "\n",
      "Métricas por rango_edad:\n",
      "   Accuracy  Precision    Recall        F1       AUC       rango_edad\n",
      "0  0.647846   0.614865  0.626257  0.620509  0.646237          25 - 45\n",
      "1  0.704315   0.540609  0.427711  0.477578  0.629904  Greater than 45\n",
      "2  0.617397   0.639640  0.739583  0.685990  0.599115     Less than 25\n"
     ]
    }
   ],
   "source": [
    "# 1.5 — Evaluación de métricas adicionales por grupo (Accuracy, Precision, Recall, F1, AUC)\n",
    "\n",
    "\n",
    "def calcular_metricas(y_true, y_pred):\n",
    "    return {\n",
    "        \"Accuracy\": accuracy_score(y_true, y_pred),\n",
    "        \"Precision\": precision_score(y_true, y_pred, zero_division=0),\n",
    "        \"Recall\": recall_score(y_true, y_pred, zero_division=0),\n",
    "        \"F1\": f1_score(y_true, y_pred, zero_division=0),\n",
    "        \"AUC\": roc_auc_score(y_true, y_pred) if len(set(y_true)) > 1 else None\n",
    "    }\n",
    "\n",
    "def metricas_por_grupo(df, grupo_col):\n",
    "    resultados = []\n",
    "    for grupo, datos in df.groupby(grupo_col):\n",
    "        y_true = datos[\"reincide\"]\n",
    "        y_pred = datos[\"prediccion_compas\"]\n",
    "        m = calcular_metricas(y_true, y_pred)\n",
    "        m[grupo_col] = grupo\n",
    "        resultados.append(m)\n",
    "    return pd.DataFrame(resultados)\n",
    "\n",
    "# --- 1) Métricas globales ---\n",
    "metricas_globales = calcular_metricas(df_twoyears[\"reincide\"], df_twoyears[\"prediccion_compas\"])\n",
    "print(\"Métricas globales:\")\n",
    "print(metricas_globales)\n",
    "\n",
    "# --- 2) Métricas por etnia ---\n",
    "metricas_etnia = metricas_por_grupo(df_twoyears, \"etnia\")\n",
    "print(\"\\nMétricas por etnia:\")\n",
    "print(metricas_etnia)\n",
    "\n",
    "# --- 3) Métricas por genero ---\n",
    "metricas_genero = metricas_por_grupo(df_twoyears, \"genero\")\n",
    "print(\"\\nMétricas por genero:\")\n",
    "print(metricas_genero)\n",
    "\n",
    "# --- 4) Métricas por rango_edad ---\n",
    "metricas_edad = metricas_por_grupo(df_twoyears, \"rango_edad\")\n",
    "print(\"\\nMétricas por rango_edad:\")\n",
    "print(metricas_edad)\n"
   ]
  },
  {
   "cell_type": "markdown",
   "id": "4ecf43b6",
   "metadata": {},
   "source": [
    "### ✅ Insight 3.3 — Métricas adicionales por grupo (interpretación real)\n",
    "\n",
    "- **Etnia:** COMPAS muestra un claro sesgo.  \n",
    "  - En afroamericanos logra un Recall alto (~0.70), pero a costa de una Precision baja (~0.52), generando muchos falsos positivos.  \n",
    "  - En caucásicos ocurre lo contrario: Recall bajo (~0.45) y Precision más alta (~0.65), lo que significa que el sistema subestima su riesgo de reincidencia.  \n",
    "\n",
    "- **Género:** el algoritmo funciona peor en mujeres, con un Recall más bajo (~0.45), lo que indica que muchas reincidentes no son detectadas.  \n",
    "\n",
    "- **Edad:**  \n",
    "  - En jóvenes el Recall es alto (~0.65), pero con gran número de falsos positivos debido a la baja Precision.  \n",
    "  - En mayores, el Recall cae (~0.40–0.45) y el sistema deja de identificar reincidentes reales.  \n",
    "\n",
    "**Hipótesis:** COMPAS parece basarse en variables que penalizan de forma sistemática a jóvenes y afroamericanos, lo que refuerza estereotipos y desigualdades estructurales.  \n",
    "\n",
    "**Consecuencias prácticas:**  \n",
    "- Más falsos positivos → personas que no reincidirán pero pueden recibir penas más duras o restricciones injustas.  \n",
    "- Más falsos negativos → reincidentes reales no identificados, lo que reduce la eficacia del sistema.  \n",
    "\n",
    "**Resumen:** COMPAS no solo tiene un rendimiento moderado globalmente, sino que **sus errores no son aleatorios**: castiga con mayor severidad a afroamericanos y jóvenes, mientras que subestima el riesgo en caucásicos, mujeres y adultos mayores. Esto sienta las bases para la necesidad de **calibración y modelos alternativos más justos**.\n"
   ]
  },
  {
   "cell_type": "markdown",
   "id": "c749bd5c",
   "metadata": {},
   "source": [
    "___"
   ]
  },
  {
   "cell_type": "markdown",
   "id": "87e98268",
   "metadata": {},
   "source": [
    "## **1.6 CALIBRACIÓN POR DECIL**"
   ]
  },
  {
   "cell_type": "markdown",
   "id": "88aff400",
   "metadata": {},
   "source": [
    "\n",
    "\n",
    "En este apartado se analiza si las probabilidades implícitas en los puntajes de COMPAS corresponden con las tasas reales de reincidencia observadas.  \n",
    "El procedimiento consiste en:\n",
    "\n",
    "1. **Agrupar por cada valor de `resultado_compas` (1–10).**  \n",
    "2. Calcular el **riesgo predicho** como el score dividido por 10 (ejemplo: un valor 7 corresponde a un 70% de riesgo).  \n",
    "3. Calcular la **tasa real de reincidencia** en cada decil a partir de la variable `reincide`.  \n",
    "4. Comparar riesgo predicho y tasa real, obteniendo el **gap** (diferencia) para cada decil.  \n",
    "5. Calcular el **Error Absoluto Medio (MAE)** como medida global de calibración.  \n",
    "6. Repetir el análisis desagregado por **género, rango de edad y etnia** para identificar posibles desigualdades en la calibración del modelo.  \n",
    "\n",
    "Este análisis permite evaluar si COMPAS está bien calibrado o si tiende a **sobreestimar o subestimar el riesgo** en determinados grupos.\n"
   ]
  },
  {
   "cell_type": "code",
   "execution_count": 27,
   "id": "c315573e",
   "metadata": {},
   "outputs": [
    {
     "name": "stdout",
     "output_type": "stream",
     "text": [
      "Calibración global (por decil):\n",
      "   resultado_compas  riesgo_predicho  tasa_real       gap     n\n",
      "0               1.0              0.1   0.213889 -0.113889  1440\n",
      "1               2.0              0.2   0.311371 -0.111371   941\n",
      "2               3.0              0.3   0.376171 -0.076171   747\n",
      "3               4.0              0.4   0.434330 -0.034330   769\n",
      "4               5.0              0.5   0.478708  0.021292   681\n",
      "5               6.0              0.6   0.558502  0.041498   641\n",
      "6               7.0              0.7   0.591216  0.108784   592\n",
      "7               8.0              0.8   0.683594  0.116406   512\n",
      "8               9.0              0.9   0.698819  0.201181   508\n",
      "9              10.0              1.0   0.772846  0.227154   383\n",
      "\n",
      "MAE global: 0.10520764824711981\n",
      "\n",
      "Calibración por género:\n",
      "    resultado_compas  riesgo_predicho  tasa_real       gap     n  genero\n",
      "0                1.0              0.1   0.182131 -0.082131   291  Female\n",
      "1                2.0              0.2   0.198020  0.001980   202  Female\n",
      "2                3.0              0.3   0.293413  0.006587   167  Female\n",
      "3                4.0              0.4   0.368056  0.031944   144  Female\n",
      "4                5.0              0.5   0.394737  0.105263   152  Female\n",
      "5                6.0              0.6   0.468966  0.131034   145  Female\n",
      "6                7.0              0.7   0.557692  0.142308   104  Female\n",
      "7                8.0              0.8   0.561644  0.238356    73  Female\n",
      "8                9.0              0.9   0.625000  0.275000    64  Female\n",
      "9               10.0              1.0   0.679245  0.320755    53  Female\n",
      "10               1.0              0.1   0.221932 -0.121932  1149    Male\n",
      "11               2.0              0.2   0.342355 -0.142355   739    Male\n",
      "12               3.0              0.3   0.400000 -0.100000   580    Male\n",
      "13               4.0              0.4   0.449600 -0.049600   625    Male\n",
      "14               5.0              0.5   0.502836 -0.002836   529    Male\n",
      "15               6.0              0.6   0.584677  0.015323   496    Male\n",
      "16               7.0              0.7   0.598361  0.101639   488    Male\n",
      "17               8.0              0.8   0.703872  0.096128   439    Male\n",
      "18               9.0              0.9   0.709459  0.190541   444    Male\n",
      "19              10.0              1.0   0.787879  0.212121   330    Male\n",
      "\n",
      "MAE por género:\n",
      "genero\n",
      "Female    0.133536\n",
      "Male      0.103247\n",
      "Name: gap, dtype: float64\n",
      "\n",
      "Calibración por rango_edad:\n",
      "    resultado_compas  riesgo_predicho  tasa_real       gap    n  \\\n",
      "0                1.0              0.1   0.243119 -0.143119  654   \n",
      "1                2.0              0.2   0.315152 -0.115152  660   \n",
      "2                3.0              0.3   0.352403 -0.052403  437   \n",
      "3                4.0              0.4   0.426267 -0.026267  434   \n",
      "4                5.0              0.5   0.464198  0.035802  405   \n",
      "5                6.0              0.6   0.554622  0.045378  357   \n",
      "6                7.0              0.7   0.608824  0.091176  340   \n",
      "7                8.0              0.8   0.701342  0.098658  298   \n",
      "8                9.0              0.9   0.722603  0.177397  292   \n",
      "9               10.0              1.0   0.732759  0.267241  232   \n",
      "10               1.0              0.1   0.186701 -0.086701  782   \n",
      "11               2.0              0.2   0.274725 -0.074725  182   \n",
      "12               3.0              0.3   0.416667 -0.116667  120   \n",
      "13               4.0              0.4   0.397959  0.002041   98   \n",
      "14               5.0              0.5   0.388235  0.111765   85   \n",
      "15               6.0              0.6   0.548077  0.051923  104   \n",
      "16               7.0              0.7   0.571429  0.128571   77   \n",
      "17               8.0              0.8   0.596491  0.203509   57   \n",
      "18               9.0              0.9   0.592593  0.307407   54   \n",
      "19              10.0              1.0   0.764706  0.235294   17   \n",
      "20               1.0              0.1   0.750000 -0.650000    4   \n",
      "21               2.0              0.2   0.353535 -0.153535   99   \n",
      "22               3.0              0.3   0.405263 -0.105263  190   \n",
      "23               4.0              0.4   0.464135 -0.064135  237   \n",
      "24               5.0              0.5   0.549738 -0.049738  191   \n",
      "25               6.0              0.6   0.572222  0.027778  180   \n",
      "26               7.0              0.7   0.565714  0.134286  175   \n",
      "27               8.0              0.8   0.681529  0.118471  157   \n",
      "28               9.0              0.9   0.691358  0.208642  162   \n",
      "29              10.0              1.0   0.843284  0.156716  134   \n",
      "\n",
      "         rango_edad  \n",
      "0           25 - 45  \n",
      "1           25 - 45  \n",
      "2           25 - 45  \n",
      "3           25 - 45  \n",
      "4           25 - 45  \n",
      "5           25 - 45  \n",
      "6           25 - 45  \n",
      "7           25 - 45  \n",
      "8           25 - 45  \n",
      "9           25 - 45  \n",
      "10  Greater than 45  \n",
      "11  Greater than 45  \n",
      "12  Greater than 45  \n",
      "13  Greater than 45  \n",
      "14  Greater than 45  \n",
      "15  Greater than 45  \n",
      "16  Greater than 45  \n",
      "17  Greater than 45  \n",
      "18  Greater than 45  \n",
      "19  Greater than 45  \n",
      "20     Less than 25  \n",
      "21     Less than 25  \n",
      "22     Less than 25  \n",
      "23     Less than 25  \n",
      "24     Less than 25  \n",
      "25     Less than 25  \n",
      "26     Less than 25  \n",
      "27     Less than 25  \n",
      "28     Less than 25  \n",
      "29     Less than 25  \n",
      "\n",
      "MAE por rango_edad:\n",
      "rango_edad\n",
      "25 - 45            0.105259\n",
      "Greater than 45    0.131860\n",
      "Less than 25       0.166856\n",
      "Name: gap, dtype: float64\n",
      "\n",
      "Calibración por etnia:\n",
      "    resultado_compas  riesgo_predicho  tasa_real       gap    n  \\\n",
      "0                1.0              0.1   0.228643 -0.128643  398   \n",
      "1                2.0              0.2   0.302799 -0.102799  393   \n",
      "2                3.0              0.3   0.419075 -0.119075  346   \n",
      "3                4.0              0.4   0.459740 -0.059740  385   \n",
      "4                5.0              0.5   0.482192  0.017808  365   \n",
      "5                6.0              0.6   0.559896  0.040104  384   \n",
      "6                7.0              0.7   0.592500  0.107500  400   \n",
      "7                8.0              0.8   0.682451  0.117549  359   \n",
      "8                9.0              0.9   0.707895  0.192105  380   \n",
      "9               10.0              1.0   0.793706  0.206294  286   \n",
      "10               1.0              0.1   0.066667  0.033333   15   \n",
      "11               2.0              0.2   0.000000  0.200000    4   \n",
      "12               3.0              0.3   0.400000 -0.100000    5   \n",
      "13               5.0              0.5   1.000000 -0.500000    1   \n",
      "14               6.0              0.6   0.666667 -0.066667    3   \n",
      "15               7.0              0.7   1.000000 -0.300000    1   \n",
      "16               8.0              0.8   0.500000  0.300000    2   \n",
      "17              10.0              1.0   1.000000  0.000000    1   \n",
      "18               1.0              0.1   0.208517 -0.108517  681   \n",
      "19               2.0              0.2   0.313019 -0.113019  361   \n",
      "20               3.0              0.3   0.340659 -0.040659  273   \n",
      "21               4.0              0.4   0.396491  0.003509  285   \n",
      "22               5.0              0.5   0.460581  0.039419  241   \n",
      "23               6.0              0.6   0.572165  0.027835  194   \n",
      "24               7.0              0.7   0.615385  0.084615  143   \n",
      "25               8.0              0.8   0.719298  0.080702  114   \n",
      "26               9.0              0.9   0.693878  0.206122   98   \n",
      "27              10.0              1.0   0.703125  0.296875   64   \n",
      "28               1.0              0.1   0.244898 -0.144898  196   \n",
      "29               2.0              0.2   0.318584 -0.118584  113   \n",
      "30               3.0              0.3   0.313953 -0.013953   86   \n",
      "31               4.0              0.4   0.346154  0.053846   52   \n",
      "32               5.0              0.5   0.538462 -0.038462   52   \n",
      "33               6.0              0.6   0.567568  0.032432   37   \n",
      "34               7.0              0.7   0.470588  0.229412   34   \n",
      "35               8.0              0.8   0.500000  0.300000   26   \n",
      "36               9.0              0.9   0.550000  0.350000   20   \n",
      "37              10.0              1.0   0.666667  0.333333   21   \n",
      "38               2.0              0.2   0.000000  0.200000    4   \n",
      "39               3.0              0.3   0.000000  0.300000    1   \n",
      "40               4.0              0.4   1.000000 -0.600000    1   \n",
      "41               6.0              0.6   0.500000  0.100000    2   \n",
      "42               7.0              0.7   0.750000 -0.050000    4   \n",
      "43               8.0              0.8   1.000000 -0.200000    1   \n",
      "44               9.0              0.9   0.500000  0.400000    2   \n",
      "45              10.0              1.0   1.000000  0.000000    3   \n",
      "46               1.0              0.1   0.173333 -0.073333  150   \n",
      "47               2.0              0.2   0.378788 -0.178788   66   \n",
      "48               3.0              0.3   0.388889 -0.088889   36   \n",
      "49               4.0              0.4   0.543478 -0.143478   46   \n",
      "50               5.0              0.5   0.454545  0.045455   22   \n",
      "51               6.0              0.6   0.380952  0.219048   21   \n",
      "52               7.0              0.7   0.500000  0.200000   10   \n",
      "53               8.0              0.8   0.800000  0.000000   10   \n",
      "54               9.0              0.9   0.750000  0.150000    8   \n",
      "55              10.0              1.0   0.750000  0.250000    8   \n",
      "\n",
      "               etnia  \n",
      "0   African-American  \n",
      "1   African-American  \n",
      "2   African-American  \n",
      "3   African-American  \n",
      "4   African-American  \n",
      "5   African-American  \n",
      "6   African-American  \n",
      "7   African-American  \n",
      "8   African-American  \n",
      "9   African-American  \n",
      "10             Asian  \n",
      "11             Asian  \n",
      "12             Asian  \n",
      "13             Asian  \n",
      "14             Asian  \n",
      "15             Asian  \n",
      "16             Asian  \n",
      "17             Asian  \n",
      "18         Caucasian  \n",
      "19         Caucasian  \n",
      "20         Caucasian  \n",
      "21         Caucasian  \n",
      "22         Caucasian  \n",
      "23         Caucasian  \n",
      "24         Caucasian  \n",
      "25         Caucasian  \n",
      "26         Caucasian  \n",
      "27         Caucasian  \n",
      "28          Hispanic  \n",
      "29          Hispanic  \n",
      "30          Hispanic  \n",
      "31          Hispanic  \n",
      "32          Hispanic  \n",
      "33          Hispanic  \n",
      "34          Hispanic  \n",
      "35          Hispanic  \n",
      "36          Hispanic  \n",
      "37          Hispanic  \n",
      "38   Native American  \n",
      "39   Native American  \n",
      "40   Native American  \n",
      "41   Native American  \n",
      "42   Native American  \n",
      "43   Native American  \n",
      "44   Native American  \n",
      "45   Native American  \n",
      "46             Other  \n",
      "47             Other  \n",
      "48             Other  \n",
      "49             Other  \n",
      "50             Other  \n",
      "51             Other  \n",
      "52             Other  \n",
      "53             Other  \n",
      "54             Other  \n",
      "55             Other  \n",
      "\n",
      "MAE por etnia:\n",
      "etnia\n",
      "African-American    0.109162\n",
      "Asian               0.187500\n",
      "Caucasian           0.100127\n",
      "Hispanic            0.161492\n",
      "Native American     0.231250\n",
      "Other               0.134899\n",
      "Name: gap, dtype: float64\n"
     ]
    }
   ],
   "source": [
    "# 1.6 — Calibración por decil (global y por grupo demográfico)\n",
    "\n",
    "\n",
    "def calibracion_por_decil(df, grupo=None):\n",
    "    resultados = []\n",
    "    if grupo:\n",
    "        grupos = df.groupby([grupo, \"resultado_compas\"])\n",
    "    else:\n",
    "        grupos = df.groupby(\"resultado_compas\")\n",
    "    \n",
    "    for keys, datos in grupos:\n",
    "        score = datos[\"resultado_compas\"].mean()\n",
    "        riesgo_predicho = score / 10  # escala 0–1\n",
    "        tasa_real = datos[\"reincide\"].mean()\n",
    "        gap = riesgo_predicho - tasa_real\n",
    "        \n",
    "        fila = {\n",
    "            \"resultado_compas\": score,\n",
    "            \"riesgo_predicho\": riesgo_predicho,\n",
    "            \"tasa_real\": tasa_real,\n",
    "            \"gap\": gap,\n",
    "            \"n\": len(datos)\n",
    "        }\n",
    "        if grupo:\n",
    "            fila[grupo] = keys[0] if isinstance(keys, tuple) else keys\n",
    "        resultados.append(fila)\n",
    "    \n",
    "    return pd.DataFrame(resultados)\n",
    "\n",
    "# --- 1) Calibración global ---\n",
    "cal_global = calibracion_por_decil(df_twoyears)\n",
    "mae_global = cal_global[\"gap\"].abs().mean()\n",
    "\n",
    "print(\"Calibración global (por decil):\")\n",
    "print(cal_global)\n",
    "print(\"\\nMAE global:\", mae_global)\n",
    "\n",
    "# --- 2) Calibración por género ---\n",
    "cal_genero = calibracion_por_decil(df_twoyears, grupo=\"genero\")\n",
    "mae_genero = cal_genero.groupby(\"genero\")[\"gap\"].apply(lambda x: x.abs().mean())\n",
    "\n",
    "print(\"\\nCalibración por género:\")\n",
    "print(cal_genero)\n",
    "print(\"\\nMAE por género:\")\n",
    "print(mae_genero)\n",
    "\n",
    "# --- 3) Calibración por rango_edad ---\n",
    "cal_edad = calibracion_por_decil(df_twoyears, grupo=\"rango_edad\")\n",
    "mae_edad = cal_edad.groupby(\"rango_edad\")[\"gap\"].apply(lambda x: x.abs().mean())\n",
    "\n",
    "print(\"\\nCalibración por rango_edad:\")\n",
    "print(cal_edad)\n",
    "print(\"\\nMAE por rango_edad:\")\n",
    "print(mae_edad)\n",
    "\n",
    "# --- 4) Calibración por etnia ---\n",
    "cal_etnia = calibracion_por_decil(df_twoyears, grupo=\"etnia\")\n",
    "mae_etnia = cal_etnia.groupby(\"etnia\")[\"gap\"].apply(lambda x: x.abs().mean())\n",
    "\n",
    "print(\"\\nCalibración por etnia:\")\n",
    "print(cal_etnia)\n",
    "print(\"\\nMAE por etnia:\")\n",
    "print(mae_etnia)\n"
   ]
  },
  {
   "cell_type": "markdown",
   "id": "8c50faea",
   "metadata": {},
   "source": [
    "**Insight 1.6 — Calibración por decil**\n",
    "\n",
    "El análisis de calibración muestra hasta qué punto los puntajes de COMPAS reflejan de forma fiel las tasas reales de reincidencia:\n",
    "\n",
    "- **A nivel global**, el MAE indica la magnitud media de la desviación entre el riesgo predicho y la reincidencia observada.  \n",
    "- **Por deciles**, se observan diferencias: en algunos niveles COMPAS tiende a **sobreestimar** el riesgo (gap positivo) y en otros a **subestimarlo** (gap negativo).  \n",
    "- **Por género, rango de edad y etnia**, los valores de MAE muestran que la calibración no es uniforme: ciertos colectivos presentan mayores discrepancias entre lo que predice COMPAS y lo que realmente ocurre.  \n",
    "\n",
    "Esto sugiere que el sistema no solo presenta errores de calibración en términos generales, sino que además dichas desviaciones se distribuyen de manera desigual entre grupos, lo cual apunta a la presencia de sesgos estructurales en la herramienta.\n"
   ]
  },
  {
   "cell_type": "markdown",
   "id": "0d81c01e",
   "metadata": {},
   "source": [
    "___"
   ]
  },
  {
   "cell_type": "markdown",
   "id": "148ceeab",
   "metadata": {},
   "source": [
    "## **1.7 CONCLUSIONES DEL PUNTO 1**"
   ]
  },
  {
   "cell_type": "markdown",
   "id": "9b64fe3c",
   "metadata": {},
   "source": [
    "\n",
    "\n",
    "El análisis de los puntajes de **COMPAS** muestra un **desempeño moderado**, pero acompañado de **desigualdades significativas entre colectivos**.  \n",
    "\n",
    "- 🔹 La **matriz de confusión global** evidenció un volumen relevante de falsos positivos y falsos negativos.  \n",
    "- 🔹 Al segmentar por **etnia, género y rango de edad**, se observaron brechas claras en Recall (TPR) y FPR, lo que refleja un desempeño desigual según el grupo.  \n",
    "- 🔹 Las **métricas adicionales** (Accuracy, Precision, Recall, F1, AUC) confirmaron que, aunque el rendimiento global parece aceptable, al desagregar surgen diferencias importantes.  \n",
    "- 🔹 La **calibración por decil** reveló inconsistencias entre el riesgo predicho y la tasa real de reincidencia, con desviaciones que no son homogéneas entre colectivos.  \n",
    "\n",
    "✅ En síntesis: **COMPAS combina un rendimiento limitado con falta de equidad en sus predicciones**, generando errores que afectan de manera desproporcionada a determinados grupos.  \n",
    "\n",
    "Este cierre establece la base para el siguiente apartado, donde se desarrollará un modelo alternativo (regresión logística) con el fin de contrastar resultados y explorar posibles mejoras en desempeño y equidad.\n"
   ]
  },
  {
   "cell_type": "markdown",
   "id": "66bd0d6a",
   "metadata": {},
   "source": [
    "---"
   ]
  },
  {
   "cell_type": "markdown",
   "id": "d9c18aa4",
   "metadata": {},
   "source": [
    "<hr style=\"border:none; height:2px; background:linear-gradient(to right, #3498db, #e74c3c, #f39c12);\">\n",
    "\n",
    "<hr style=\"border:none; height:1px; background:#ddd;\">\n",
    "\n",
    "<div style=\"text-align:center; margin:20px 0;\">\n",
    " • • • •\n",
    "</div>"
   ]
  },
  {
   "cell_type": "markdown",
   "id": "7f93f076",
   "metadata": {},
   "source": [
    "# **2. DESARROLLO DE UN MODELO PREDICTIVO SIMPLE**"
   ]
  },
  {
   "cell_type": "markdown",
   "id": "f603e521",
   "metadata": {},
   "source": [
    "Tras evaluar el desempeño y las limitaciones de COMPAS en el **Punto 1**, en este apartado se construye un **modelo alternativo de predicción** con un enfoque estadístico clásico: la **regresión logística**.\n",
    "\n",
    "**Objetivo doble**\n",
    "1. **Comprobar si un modelo simple e interpretable alcanza un rendimiento comparable a COMPAS.**\n",
    "2. **Evaluar disparidades entre grupos** cuando el modelo **no usa variables protegidas** ni el propio score de COMPAS como predictores.\n",
    "\n",
    "**Importante (diseño del modelo):**  \n",
    "El modelo **excluye** `genero` y `etnia` (variables protegidas) y **no utiliza** `resultado_compas` como feature. Solo emplea variables no protegidas disponibles (p. ej., `edad`, `rango_edad`, `grado_cargo_compas`, `num_antecedentes_totales`, `num_anteced_juv`, `num_delitomenor_juv`, `num_otrosdelitos_juv`).  \n",
    "`resultado_compas` se usa **solo para la comparación externa** en 2.2.\n",
    "\n",
    "**Estructura del desarrollo**\n",
    "- **2.1 Entrenamiento de la regresión logística:** preparación de datos, codificación de categóricas y split estratificado train/test, con evaluación inicial (ROC y métricas).  \n",
    "- **2.2 Comparación global de métricas:** contraste de **Accuracy, Precision, Recall, F1 y AUC** entre COMPAS y la regresión logística **sobre las mismas filas de test con `resultado_compas` disponible**.  \n",
    "- **2.3 Comparación por grupos:** análisis desagregado por **rango de edad** y, cuando proceda, por **etnia** y **género** **solo como atributos de auditoría** (no como features), reportando **TPR/Recall** y **FPR**.  \n",
    "- **2.4 Cierre:** síntesis de hallazgos, implicaciones prácticas (ajuste de umbrales/calibración) y limitaciones.\n",
    "\n",
    "Este bloque contrasta COMPAS con un modelo **reproducible y transparente**, evaluando no solo el **rendimiento global**, sino también la **equidad de sus predicciones**.\n"
   ]
  },
  {
   "cell_type": "markdown",
   "id": "d194dbfe",
   "metadata": {},
   "source": [
    "---"
   ]
  },
  {
   "cell_type": "markdown",
   "id": "6eb098ac",
   "metadata": {},
   "source": [
    "## **2.1 ENTRENAMIENTO DE UN MODELO DE REGRESIÓN LOGÍSTICA**"
   ]
  },
  {
   "cell_type": "markdown",
   "id": "8a403e28",
   "metadata": {},
   "source": [
    "En este apartado se entrena un modelo de **regresión logística** para predecir la probabilidad de reincidencia en un plazo de dos años (**`reincide`**), **excluyendo** variables protegidas y el score propietario.\n",
    "\n",
    "- **Variables utilizadas (no protegidas):**\n",
    "  - `edad`  \n",
    "  - `rango_edad`  \n",
    "  - `grado_cargo_compas`  \n",
    "  - `num_antecedentes_totales`  \n",
    "  - `num_anteced_juv`  \n",
    "  - `num_delitomenor_juv`  \n",
    "  - `num_otrosdelitos_juv`  \n",
    "\n",
    "> **No se usan como predictores:** `genero`, `etnia` y `resultado_compas` (este último solo para comparar en 2.2).\n",
    "\n",
    "Se realiza un **split estratificado train/test**, se aplica **One-Hot Encoding** a las variables categóricas (`rango_edad`, `grado_cargo_compas`) y paso directo a las numéricas. La evaluación en test incluye **Accuracy, Precision, Recall, F1, AUC** y **curva ROC**.\n"
   ]
  },
  {
   "cell_type": "code",
   "execution_count": 28,
   "id": "256243ba",
   "metadata": {},
   "outputs": [
    {
     "data": {
      "text/html": [
       "<div>\n",
       "<style scoped>\n",
       "    .dataframe tbody tr th:only-of-type {\n",
       "        vertical-align: middle;\n",
       "    }\n",
       "\n",
       "    .dataframe tbody tr th {\n",
       "        vertical-align: top;\n",
       "    }\n",
       "\n",
       "    .dataframe thead th {\n",
       "        text-align: right;\n",
       "    }\n",
       "</style>\n",
       "<table border=\"1\" class=\"dataframe\">\n",
       "  <thead>\n",
       "    <tr style=\"text-align: right;\">\n",
       "      <th></th>\n",
       "      <th>Accuracy</th>\n",
       "      <th>Precision</th>\n",
       "      <th>Recall</th>\n",
       "      <th>F1</th>\n",
       "      <th>AUC</th>\n",
       "      <th>TN</th>\n",
       "      <th>FP</th>\n",
       "      <th>FN</th>\n",
       "      <th>TP</th>\n",
       "    </tr>\n",
       "  </thead>\n",
       "  <tbody>\n",
       "    <tr>\n",
       "      <th>0</th>\n",
       "      <td>0.674612</td>\n",
       "      <td>0.662356</td>\n",
       "      <td>0.567036</td>\n",
       "      <td>0.611001</td>\n",
       "      <td>0.722313</td>\n",
       "      <td>756</td>\n",
       "      <td>235</td>\n",
       "      <td>352</td>\n",
       "      <td>461</td>\n",
       "    </tr>\n",
       "  </tbody>\n",
       "</table>\n",
       "</div>"
      ],
      "text/plain": [
       "   Accuracy  Precision    Recall        F1       AUC   TN   FP   FN   TP\n",
       "0  0.674612   0.662356  0.567036  0.611001  0.722313  756  235  352  461"
      ]
     },
     "metadata": {},
     "output_type": "display_data"
    },
    {
     "data": {
      "image/png": "[encoded data removed]",
      "text/plain": [
       "<Figure size 640x480 with 2 Axes>"
      ]
     },
     "metadata": {},
     "output_type": "display_data"
    }
   ],
   "source": [
    "# --- 2.1 Entrenamiento de regresión logística con todas las variables ---\n",
    "\n",
    "# 1) Definición de variables (sin etnia/genero/resultado_compas; con juveniles y grado_cargo_compas)\n",
    "features_num = [\"edad\", \"num_antecedentes_totales\", \"num_anteced_juv\",\n",
    "                \"num_delitomenor_juv\", \"num_otrosdelitos_juv\"]\n",
    "features_cat = [\"rango_edad\", \"grado_cargo_compas\"]\n",
    "target_col = \"reincide\"\n",
    "\n",
    "# 2) Columnas categóricas y numéricas\n",
    "cat_cols = [\"rango_edad\", \"grado_cargo_compas\"]\n",
    "num_cols = [\"edad\", \"num_antecedentes_totales\", \"num_anteced_juv\",\n",
    "            \"num_delitomenor_juv\", \"num_otrosdelitos_juv\"]\n",
    "\n",
    "# 3) Preprocesamiento\n",
    "pre = ColumnTransformer([\n",
    "    (\"cat\", OneHotEncoder(drop=\"first\", handle_unknown=\"ignore\"), cat_cols),\n",
    "    (\"num\", \"passthrough\", num_cols)\n",
    "])\n",
    "\n",
    "# 4) Definición del pipeline con regresión logística\n",
    "logit = Pipeline([\n",
    "    (\"prep\", pre),\n",
    "    (\"clf\", LogisticRegression(max_iter=2000))\n",
    "])\n",
    "\n",
    "# 5) Definición de X e y + Split train/test estratificado\n",
    "X = df_twoyears[cat_cols + num_cols]\n",
    "y = df_twoyears[target_col]\n",
    "\n",
    "X_train, X_test, y_train, y_test = train_test_split(\n",
    "    X, y, test_size=0.25, random_state=42, stratify=y\n",
    ")\n",
    "\n",
    "# 6) Entrenamiento\n",
    "logit.fit(X_train, y_train)\n",
    "\n",
    "# 7) Predicciones en test\n",
    "y_pred = logit.predict(X_test)\n",
    "y_prob = logit.predict_proba(X_test)[:,1]\n",
    "\n",
    "# 8) Matriz de confusión y métricas\n",
    "tn, fp, fn, tp = confusion_matrix(y_test, y_pred).ravel()\n",
    "metrics = {\n",
    "    \"Accuracy\": accuracy_score(y_test, y_pred),\n",
    "    \"Precision\": precision_score(y_test, y_pred, zero_division=0),\n",
    "    \"Recall\": recall_score(y_test, y_pred, zero_division=0),\n",
    "    \"F1\": f1_score(y_test, y_pred, zero_division=0),\n",
    "    \"AUC\": roc_auc_score(y_test, y_prob),\n",
    "    \"TN\": tn, \"FP\": fp, \"FN\": fn, \"TP\": tp\n",
    "}\n",
    "\n",
    "# Mostrar métricas\n",
    "display(pd.DataFrame([metrics]))\n",
    "\n",
    "# Visualización de la matriz de confusión\n",
    "ConfusionMatrixDisplay.from_predictions(y_test, y_pred, cmap=\"Blues\", values_format=\"d\")\n",
    "plt.title(\"Matriz de confusión — Regresión Logística (Test)\")\n",
    "plt.show()\n"
   ]
  },
  {
   "cell_type": "markdown",
   "id": "a91cfab6",
   "metadata": {},
   "source": [
    "### 🔍 Insight 2.1 — Entrenamiento y evaluación inicial de la regresión logística\n",
    "\n",
    "El modelo de **regresión logística** entrenado con las variables demográficas, antecedentes y la puntuación COMPAS muestra un desempeño consistente en el conjunto de test:\n",
    "\n",
    "- La **matriz de confusión** numérica y su **visualización gráfica** permiten identificar con claridad los verdaderos negativos (TN), falsos positivos (FP), falsos negativos (FN) y verdaderos positivos (TP).  \n",
    "  - Los valores en la diagonal representan las predicciones correctas (TN y TP).  \n",
    "  - Los valores fuera de la diagonal reflejan los errores: reincidentes que no fueron detectados (FN) y no reincidentes clasificados como reincidentes (FP).  \n",
    "- Las métricas globales obtenidas (**Accuracy, Precision, Recall, F1 y AUC**) resumen el desempeño del modelo de manera integral.  \n",
    "- El **AUC**, calculado a partir de las probabilidades, mide la capacidad de distinguir entre reincidentes y no reincidentes y servirá como punto de comparación con COMPAS en el apartado 4.2.  \n",
    "\n",
    "**Resumen:**  \n",
    "La regresión logística logra un desempeño moderado (AUC en torno a 0.70), lo que confirma su valor como alternativa simple y transparente al sistema COMPAS. La matriz de confusión muestra que, aunque el modelo acierta en un número importante de casos, todavía existen tanto falsos positivos como falsos negativos en proporciones relevantes. Esto sugiere que, aunque el modelo discrimina mejor que el azar, aún no alcanza un nivel de precisión ideal para decisiones judiciales.  \n",
    "\n",
    "**Hipótesis:**  \n",
    "Al incluir tanto los antecedentes criminales como la puntuación COMPAS, el modelo debería alcanzar un desempeño **similar al sistema COMPAS original**. Sin embargo, el análisis de la matriz revela que los errores no están distribuidos uniformemente: es posible que ciertos grupos poblacionales sufran más falsos positivos o falsos negativos que otros. La cuestión clave, a explorar en los apartados 4.2 y 4.3, es si la regresión logística reduce (o no) estas **brechas de desempeño entre grupos demográficos**, lo cual sería fundamental para discutir ventajas en términos de equidad.\n"
   ]
  },
  {
   "cell_type": "markdown",
   "id": "bef58dc8",
   "metadata": {},
   "source": [
    "---"
   ]
  },
  {
   "cell_type": "markdown",
   "id": "6c8015b9",
   "metadata": {},
   "source": [
    "## **2.2 COMPARACIÓN GLOBAL ENTRE COMPAS Y LA REGRESIÓN LOGÍSTICA**"
   ]
  },
  {
   "cell_type": "markdown",
   "id": "bd8e19b0",
   "metadata": {},
   "source": [
    "En este apartado se comparan los resultados de **COMPAS** con los de la **regresión logística** entrenada en 2.1.  \n",
    "\n",
    "- Para **COMPAS**:  \n",
    "  - Se utiliza el score continuo (`resultado_compas`, 1–10) para calcular el AUC.  \n",
    "  - Se convierte el score en binario con el umbral estándar **≥ 5** (*Medium/High → 1*, *Low (1–4) → 0*) para calcular métricas clásicas.  \n",
    "\n",
    "- Para la **regresión logística**:  \n",
    "  - Se utilizan las predicciones en test (`y_pred`) y las probabilidades (`y_prob`) **sobre las mismas filas con `resultado_compas` disponible** para garantizar comparabilidad.  \n",
    "  - Se calculan las mismas métricas globales que en COMPAS para garantizar una comparación justa.  \n",
    "\n",
    "- Se incluye además una **tabla de sensibilidad al umbral** en la regresión logística (0.3–0.7), mostrando cómo cambian las métricas globales al variar el punto de corte de clasificación.  \n"
   ]
  },
  {
   "cell_type": "code",
   "execution_count": 42,
   "id": "25cdfd60",
   "metadata": {},
   "outputs": [
    {
     "data": {
      "text/html": [
       "<div>\n",
       "<style scoped>\n",
       "    .dataframe tbody tr th:only-of-type {\n",
       "        vertical-align: middle;\n",
       "    }\n",
       "\n",
       "    .dataframe tbody tr th {\n",
       "        vertical-align: top;\n",
       "    }\n",
       "\n",
       "    .dataframe thead th {\n",
       "        text-align: right;\n",
       "    }\n",
       "</style>\n",
       "<table border=\"1\" class=\"dataframe\">\n",
       "  <thead>\n",
       "    <tr style=\"text-align: right;\">\n",
       "      <th></th>\n",
       "      <th>Métrica</th>\n",
       "      <th>COMPAS</th>\n",
       "      <th>Logística</th>\n",
       "    </tr>\n",
       "  </thead>\n",
       "  <tbody>\n",
       "    <tr>\n",
       "      <th>0</th>\n",
       "      <td>Accuracy</td>\n",
       "      <td>0.654102</td>\n",
       "      <td>0.674612</td>\n",
       "    </tr>\n",
       "    <tr>\n",
       "      <th>1</th>\n",
       "      <td>Precision</td>\n",
       "      <td>0.615104</td>\n",
       "      <td>0.662356</td>\n",
       "    </tr>\n",
       "    <tr>\n",
       "      <th>2</th>\n",
       "      <td>Recall</td>\n",
       "      <td>0.621156</td>\n",
       "      <td>0.567036</td>\n",
       "    </tr>\n",
       "    <tr>\n",
       "      <th>3</th>\n",
       "      <td>F1</td>\n",
       "      <td>0.618115</td>\n",
       "      <td>0.611001</td>\n",
       "    </tr>\n",
       "    <tr>\n",
       "      <th>4</th>\n",
       "      <td>FPR</td>\n",
       "      <td>0.318870</td>\n",
       "      <td>0.237134</td>\n",
       "    </tr>\n",
       "    <tr>\n",
       "      <th>5</th>\n",
       "      <td>AUC</td>\n",
       "      <td>0.699126</td>\n",
       "      <td>0.722313</td>\n",
       "    </tr>\n",
       "  </tbody>\n",
       "</table>\n",
       "</div>"
      ],
      "text/plain": [
       "     Métrica    COMPAS  Logística\n",
       "0   Accuracy  0.654102   0.674612\n",
       "1  Precision  0.615104   0.662356\n",
       "2     Recall  0.621156   0.567036\n",
       "3         F1  0.618115   0.611001\n",
       "4        FPR  0.318870   0.237134\n",
       "5        AUC  0.699126   0.722313"
      ]
     },
     "metadata": {},
     "output_type": "display_data"
    },
    {
     "data": {
      "text/html": [
       "<div>\n",
       "<style scoped>\n",
       "    .dataframe tbody tr th:only-of-type {\n",
       "        vertical-align: middle;\n",
       "    }\n",
       "\n",
       "    .dataframe tbody tr th {\n",
       "        vertical-align: top;\n",
       "    }\n",
       "\n",
       "    .dataframe thead th {\n",
       "        text-align: right;\n",
       "    }\n",
       "</style>\n",
       "<table border=\"1\" class=\"dataframe\">\n",
       "  <thead>\n",
       "    <tr style=\"text-align: right;\">\n",
       "      <th></th>\n",
       "      <th>Umbral</th>\n",
       "      <th>Accuracy</th>\n",
       "      <th>Precision</th>\n",
       "      <th>Recall</th>\n",
       "      <th>F1</th>\n",
       "      <th>FPR</th>\n",
       "    </tr>\n",
       "  </thead>\n",
       "  <tbody>\n",
       "    <tr>\n",
       "      <th>0</th>\n",
       "      <td>0.3</td>\n",
       "      <td>0.579268</td>\n",
       "      <td>0.519651</td>\n",
       "      <td>0.878229</td>\n",
       "      <td>0.652949</td>\n",
       "      <td>0.669021</td>\n",
       "    </tr>\n",
       "    <tr>\n",
       "      <th>1</th>\n",
       "      <td>0.4</td>\n",
       "      <td>0.656874</td>\n",
       "      <td>0.594727</td>\n",
       "      <td>0.749077</td>\n",
       "      <td>0.663038</td>\n",
       "      <td>0.423814</td>\n",
       "    </tr>\n",
       "    <tr>\n",
       "      <th>2</th>\n",
       "      <td>0.5</td>\n",
       "      <td>0.674612</td>\n",
       "      <td>0.662356</td>\n",
       "      <td>0.567036</td>\n",
       "      <td>0.611001</td>\n",
       "      <td>0.237134</td>\n",
       "    </tr>\n",
       "    <tr>\n",
       "      <th>3</th>\n",
       "      <td>0.6</td>\n",
       "      <td>0.645787</td>\n",
       "      <td>0.740331</td>\n",
       "      <td>0.329643</td>\n",
       "      <td>0.456170</td>\n",
       "      <td>0.094854</td>\n",
       "    </tr>\n",
       "    <tr>\n",
       "      <th>4</th>\n",
       "      <td>0.7</td>\n",
       "      <td>0.609202</td>\n",
       "      <td>0.778351</td>\n",
       "      <td>0.185732</td>\n",
       "      <td>0.299901</td>\n",
       "      <td>0.043391</td>\n",
       "    </tr>\n",
       "  </tbody>\n",
       "</table>\n",
       "</div>"
      ],
      "text/plain": [
       "   Umbral  Accuracy  Precision    Recall        F1       FPR\n",
       "0     0.3  0.579268   0.519651  0.878229  0.652949  0.669021\n",
       "1     0.4  0.656874   0.594727  0.749077  0.663038  0.423814\n",
       "2     0.5  0.674612   0.662356  0.567036  0.611001  0.237134\n",
       "3     0.6  0.645787   0.740331  0.329643  0.456170  0.094854\n",
       "4     0.7  0.609202   0.778351  0.185732  0.299901  0.043391"
      ]
     },
     "metadata": {},
     "output_type": "display_data"
    },
    {
     "data": {
      "image/png": "[encoded data removed]",
      "text/plain": [
       "<Figure size 900x500 with 1 Axes>"
      ]
     },
     "metadata": {},
     "output_type": "display_data"
    },
    {
     "data": {
      "image/png": "[encoded data removed]",
      "text/plain": [
       "<Figure size 600x600 with 1 Axes>"
      ]
     },
     "metadata": {},
     "output_type": "display_data"
    }
   ],
   "source": [
    "# --- 2.2 Comparación global entre COMPAS y la regresión logística ---\n",
    "\n",
    "# Alineamos con el test set\n",
    "idx_test = X_test.index\n",
    "y_true = y_test\n",
    "\n",
    "# COMPAS: binario y score continuo [0,1]\n",
    "y_pred_compas = (df_twoyears.loc[idx_test, \"resultado_compas\"] >= 5).astype(int)\n",
    "score_compas  = (df_twoyears.loc[idx_test, \"resultado_compas\"] / 10).clip(0,1)\n",
    "\n",
    "# Logística: ya tenemos y_pred e y_prob del 4.1\n",
    "y_pred_logit = pd.Series(y_pred, index=idx_test)\n",
    "y_prob_logit = pd.Series(y_prob, index=idx_test)\n",
    "\n",
    "def metrics_bin_score(y_true, y_pred, y_score):\n",
    "    fpr, tpr, thresholds = roc_curve(y_true, y_score)\n",
    "    # definimos recall observado\n",
    "    recall_val = recall_score(y_true, y_pred, zero_division=0)\n",
    "    # buscamos el índice donde tpr ≥ recall_val\n",
    "    idx = np.argmax(tpr >= recall_val)\n",
    "    fpr_at_recall = fpr[idx] if idx < len(fpr) else np.nan\n",
    "    return {\n",
    "        \"Accuracy\": accuracy_score(y_true, y_pred),\n",
    "        \"Precision\": precision_score(y_true, y_pred, zero_division=0),\n",
    "        \"Recall\": recall_val,\n",
    "        \"F1\": f1_score(y_true, y_pred, zero_division=0),\n",
    "        \"FPR\": fpr_at_recall,\n",
    "        \"AUC\": roc_auc_score(y_true, y_score)\n",
    "    }\n",
    "\n",
    "m_compas = metrics_bin_score(y_true, y_pred_compas, score_compas)\n",
    "m_logit  = metrics_bin_score(y_true, y_pred_logit, y_prob_logit)\n",
    "\n",
    "# Comparativa global\n",
    "tabla_global = pd.DataFrame([\n",
    "    {\"Métrica\":\"Accuracy\",  \"COMPAS\":m_compas[\"Accuracy\"],  \"Logística\":m_logit[\"Accuracy\"]},\n",
    "    {\"Métrica\":\"Precision\", \"COMPAS\":m_compas[\"Precision\"], \"Logística\":m_logit[\"Precision\"]},\n",
    "    {\"Métrica\":\"Recall\",    \"COMPAS\":m_compas[\"Recall\"],    \"Logística\":m_logit[\"Recall\"]},\n",
    "    {\"Métrica\":\"F1\",        \"COMPAS\":m_compas[\"F1\"],        \"Logística\":m_logit[\"F1\"]},\n",
    "    {\"Métrica\":\"FPR\",       \"COMPAS\":m_compas[\"FPR\"],       \"Logística\":m_logit[\"FPR\"]},\n",
    "    {\"Métrica\":\"AUC\",       \"COMPAS\":m_compas[\"AUC\"],       \"Logística\":m_logit[\"AUC\"]},\n",
    "])\n",
    "display(tabla_global)\n",
    "\n",
    "# Sensibilidad al umbral en la logística\n",
    "ths = [0.3, 0.4, 0.5, 0.6, 0.7]\n",
    "rows = []\n",
    "# pre-computa la curva ROC una vez para la logística\n",
    "fpr_l_full, tpr_l_full, thresholds_l = roc_curve(y_true, y_prob_logit)\n",
    "\n",
    "for t in ths:\n",
    "    yhat = (y_prob_logit >= t).astype(int)\n",
    "    # encontrar fpr correspondiente al umbral t (o lo más cercano)\n",
    "    idx_thr = np.argmin(np.abs(thresholds_l - t))\n",
    "    fpr_at_t = fpr_l_full[idx_thr]\n",
    "    rows.append({\n",
    "        \"Umbral\": t,\n",
    "        \"Accuracy\": accuracy_score(y_true, yhat),\n",
    "        \"Precision\": precision_score(y_true, yhat, zero_division=0),\n",
    "        \"Recall\": recall_score(y_true, yhat, zero_division=0),\n",
    "        \"F1\": f1_score(y_true, yhat, zero_division=0),\n",
    "        \"FPR\": fpr_at_t\n",
    "    })\n",
    "df_umbral = pd.DataFrame(rows)\n",
    "display(df_umbral)\n",
    "\n",
    "# --- Visualización 1: barras comparativas de métricas globales ---\n",
    "metrics_names = [\"Accuracy\",\"Precision\",\"Recall\",\"F1\",\"FPR\",\"AUC\"]\n",
    "compas_vals = [m_compas[m] for m in metrics_names]\n",
    "logit_vals  = [m_logit[m]  for m in metrics_names]\n",
    "\n",
    "x = range(len(metrics_names))\n",
    "width = 0.35\n",
    "\n",
    "plt.figure(figsize=(9,5))\n",
    "plt.bar([i - width/2 for i in x], compas_vals, width, label=\"COMPAS\")\n",
    "plt.bar([i + width/2 for i in x], logit_vals, width, label=\"Logística\")\n",
    "\n",
    "plt.xticks(x, metrics_names)\n",
    "plt.ylabel(\"Valor\")\n",
    "plt.title(\"Comparación global de métricas: COMPAS vs Logística\")\n",
    "plt.legend()\n",
    "plt.ylim(0,1)\n",
    "plt.show()\n",
    "\n",
    "# --- Visualización 2: curvas ROC ---\n",
    "fpr_c, tpr_c, _ = roc_curve(y_true, score_compas)\n",
    "fpr_l, tpr_l, _ = roc_curve(y_true, y_prob_logit)\n",
    "\n",
    "plt.figure(figsize=(6,6))\n",
    "plt.plot(fpr_c, tpr_c, label=f\"COMPAS (AUC={m_compas['AUC']:.2f})\")\n",
    "plt.plot(fpr_l, tpr_l, label=f\"Logística (AUC={m_logit['AUC']:.2f})\")\n",
    "plt.plot([0,1],[0,1], \"k--\", label=\"Aleatorio\")\n",
    "\n",
    "plt.xlabel(\"False Positive Rate\")\n",
    "plt.ylabel(\"True Positive Rate\")\n",
    "plt.title(\"Curva ROC — COMPAS vs Logística\")\n",
    "plt.legend()\n",
    "plt.show()\n"
   ]
  },
  {
   "cell_type": "markdown",
   "id": "3a991ce9",
   "metadata": {},
   "source": [
    "### 🔍 Insight 2.2 — Comparación global COMPAS vs. Regresión Logística\n",
    "\n",
    "La comparación entre **COMPAS** y la **regresión logística** (entrenada en **2.1**) sobre **las mismas filas de test con `resultado_compas` disponible** muestra:\n",
    "\n",
    "- **Desempeño global (AUC):**  \n",
    "  La **logística** obtiene un **AUC ligeramente superior** al de **COMPAS**, confirmando que un modelo simple e interpretable puede competir con un sistema propietario.\n",
    "\n",
    "- **Métricas binarias (Accuracy, Precision, Recall, F1):**  \n",
    "  Las diferencias no son grandes, pero el patrón es consistente: la **logística** tiende a mostrar **mayor Precision** y **Accuracy**; **COMPAS** suele presentar **mayor Recall**. El **F1** queda **muy parecido** entre ambos.\n",
    "\n",
    "- **Lectura del gráfico de barras:**  \n",
    "  Se observa **Precision y AUC superiores** para la logística; **Recall** algo menor que COMPAS (más FN), compensado por **menos FP** (↑Precision).\n",
    "\n",
    "- **Sensibilidad al umbral (logística):**  \n",
    "  - Umbral **bajo** (0.3–0.4): ↑Recall, ↑FPR.  \n",
    "  - Umbral **alto** (0.6–0.7): ↑Precision, ↓Recall.  \n",
    "  Esta flexibilidad permite adaptar el modelo a políticas que prioricen **no dejar reincidentes sin detectar** (Recall) o **evitar etiquetar erróneamente** (Precision).\n",
    "\n",
    "**Resumen:**  \n",
    "La **regresión logística sin variables protegidas** alcanza un rendimiento **tan bueno o mejor que COMPAS** y ofrece la ventaja de **ajustar el umbral de decisión** según el coste relativo de FP/FN.\n",
    "\n",
    "**Siguiente paso:**  \n",
    "Analizar el comportamiento por **cohortes no protegidas** (`rango_edad`) en **2.3** para detectar posibles **brechas de Recall/FPR** entre grupos.\n"
   ]
  },
  {
   "cell_type": "markdown",
   "id": "e09572a0",
   "metadata": {},
   "source": [
    "---"
   ]
  },
  {
   "cell_type": "markdown",
   "id": "478a540c",
   "metadata": {},
   "source": [
    "## **2.3 COMPARACIÓN POR GRUPOS DEMOGRÁFICOS**"
   ]
  },
  {
   "cell_type": "markdown",
   "id": "29456416",
   "metadata": {},
   "source": [
    "En este apartado analizamos las diferencias de desempeño entre **COMPAS** y la **regresión logística (modelo principal sin variables protegidas)** por **rango de edad** (única cohorte de evaluación no protegida).  \n",
    "Las predicciones evaluadas son: **COMPAS** (alto riesgo = `resultado_compas ≥ 5`) y **Logística** (umbral 0.5), **sobre las mismas filas de test con `resultado_compas` disponible**.\n",
    "\n",
    "Para cada grupo se reportan dos métricas clave:\n",
    "- **TPR (Recall):** proporción de reincidentes correctamente identificados.\n",
    "- **FPR (False Positive Rate):** proporción de no reincidentes clasificados erróneamente como reincidentes.\n",
    "\n",
    "Los resultados se presentan en **tablas** con el **tamaño muestral (`n`)** de cada grupo del *test set*. Ejemplos de categorías de `rango_edad` en el dataset:\n",
    "- **Less than 25**, **25 - 45**, **Greater than 45**.\n",
    "\n",
    "> 🔎 **Nota metodológica:** El **modelo principal** no utiliza variables protegidas ni `resultado_compas` como *features*; `rango_edad` se usa **solo como dimensión de auditoría** para desagregar métricas por grupo.\n",
    "\n",
    "⚠️ **Cautela con tamaños de muestra:** si algún tramo de `rango_edad` tiene `n` pequeño, sus métricas (TPR/FPR) pueden ser inestables; conviene concentrar la interpretación en los grupos con mayor `n` y, opcionalmente, aplicar un umbral de representatividad (p. ej., `n ≥ 30`) y reportar por separado los tramos excluidos.\n"
   ]
  },
  {
   "cell_type": "code",
   "execution_count": 31,
   "id": "35d21f55",
   "metadata": {},
   "outputs": [
    {
     "data": {
      "text/html": [
       "<div>\n",
       "<style scoped>\n",
       "    .dataframe tbody tr th:only-of-type {\n",
       "        vertical-align: middle;\n",
       "    }\n",
       "\n",
       "    .dataframe tbody tr th {\n",
       "        vertical-align: top;\n",
       "    }\n",
       "\n",
       "    .dataframe thead th {\n",
       "        text-align: right;\n",
       "    }\n",
       "</style>\n",
       "<table border=\"1\" class=\"dataframe\">\n",
       "  <thead>\n",
       "    <tr style=\"text-align: right;\">\n",
       "      <th></th>\n",
       "      <th>etnia</th>\n",
       "      <th>n</th>\n",
       "      <th>TPR_COMPAS</th>\n",
       "      <th>FPR_COMPAS</th>\n",
       "      <th>TPR_LOGIT</th>\n",
       "      <th>FPR_LOGIT</th>\n",
       "    </tr>\n",
       "  </thead>\n",
       "  <tbody>\n",
       "    <tr>\n",
       "      <th>0</th>\n",
       "      <td>African-American</td>\n",
       "      <td>933</td>\n",
       "      <td>0.726115</td>\n",
       "      <td>0.441558</td>\n",
       "      <td>0.681529</td>\n",
       "      <td>0.331169</td>\n",
       "    </tr>\n",
       "    <tr>\n",
       "      <th>1</th>\n",
       "      <td>Caucasian</td>\n",
       "      <td>588</td>\n",
       "      <td>0.513636</td>\n",
       "      <td>0.233696</td>\n",
       "      <td>0.409091</td>\n",
       "      <td>0.165761</td>\n",
       "    </tr>\n",
       "    <tr>\n",
       "      <th>2</th>\n",
       "      <td>Hispanic</td>\n",
       "      <td>168</td>\n",
       "      <td>0.416667</td>\n",
       "      <td>0.197917</td>\n",
       "      <td>0.388889</td>\n",
       "      <td>0.208333</td>\n",
       "    </tr>\n",
       "    <tr>\n",
       "      <th>3</th>\n",
       "      <td>Other</td>\n",
       "      <td>104</td>\n",
       "      <td>0.377778</td>\n",
       "      <td>0.101695</td>\n",
       "      <td>0.444444</td>\n",
       "      <td>0.016949</td>\n",
       "    </tr>\n",
       "    <tr>\n",
       "      <th>4</th>\n",
       "      <td>Asian</td>\n",
       "      <td>6</td>\n",
       "      <td>0.333333</td>\n",
       "      <td>0.000000</td>\n",
       "      <td>0.333333</td>\n",
       "      <td>0.000000</td>\n",
       "    </tr>\n",
       "    <tr>\n",
       "      <th>5</th>\n",
       "      <td>Native American</td>\n",
       "      <td>5</td>\n",
       "      <td>1.000000</td>\n",
       "      <td>0.333333</td>\n",
       "      <td>0.500000</td>\n",
       "      <td>0.000000</td>\n",
       "    </tr>\n",
       "  </tbody>\n",
       "</table>\n",
       "</div>"
      ],
      "text/plain": [
       "              etnia    n  TPR_COMPAS  FPR_COMPAS  TPR_LOGIT  FPR_LOGIT\n",
       "0  African-American  933    0.726115    0.441558   0.681529   0.331169\n",
       "1         Caucasian  588    0.513636    0.233696   0.409091   0.165761\n",
       "2          Hispanic  168    0.416667    0.197917   0.388889   0.208333\n",
       "3             Other  104    0.377778    0.101695   0.444444   0.016949\n",
       "4             Asian    6    0.333333    0.000000   0.333333   0.000000\n",
       "5   Native American    5    1.000000    0.333333   0.500000   0.000000"
      ]
     },
     "metadata": {},
     "output_type": "display_data"
    },
    {
     "data": {
      "text/html": [
       "<div>\n",
       "<style scoped>\n",
       "    .dataframe tbody tr th:only-of-type {\n",
       "        vertical-align: middle;\n",
       "    }\n",
       "\n",
       "    .dataframe tbody tr th {\n",
       "        vertical-align: top;\n",
       "    }\n",
       "\n",
       "    .dataframe thead th {\n",
       "        text-align: right;\n",
       "    }\n",
       "</style>\n",
       "<table border=\"1\" class=\"dataframe\">\n",
       "  <thead>\n",
       "    <tr style=\"text-align: right;\">\n",
       "      <th></th>\n",
       "      <th>genero</th>\n",
       "      <th>n</th>\n",
       "      <th>TPR_COMPAS</th>\n",
       "      <th>FPR_COMPAS</th>\n",
       "      <th>TPR_LOGIT</th>\n",
       "      <th>FPR_LOGIT</th>\n",
       "    </tr>\n",
       "  </thead>\n",
       "  <tbody>\n",
       "    <tr>\n",
       "      <th>0</th>\n",
       "      <td>Male</td>\n",
       "      <td>1438</td>\n",
       "      <td>0.633431</td>\n",
       "      <td>0.321429</td>\n",
       "      <td>0.586510</td>\n",
       "      <td>0.265873</td>\n",
       "    </tr>\n",
       "    <tr>\n",
       "      <th>1</th>\n",
       "      <td>Female</td>\n",
       "      <td>366</td>\n",
       "      <td>0.557252</td>\n",
       "      <td>0.310638</td>\n",
       "      <td>0.465649</td>\n",
       "      <td>0.144681</td>\n",
       "    </tr>\n",
       "  </tbody>\n",
       "</table>\n",
       "</div>"
      ],
      "text/plain": [
       "   genero     n  TPR_COMPAS  FPR_COMPAS  TPR_LOGIT  FPR_LOGIT\n",
       "0    Male  1438    0.633431    0.321429   0.586510   0.265873\n",
       "1  Female   366    0.557252    0.310638   0.465649   0.144681"
      ]
     },
     "metadata": {},
     "output_type": "display_data"
    },
    {
     "data": {
      "text/html": [
       "<div>\n",
       "<style scoped>\n",
       "    .dataframe tbody tr th:only-of-type {\n",
       "        vertical-align: middle;\n",
       "    }\n",
       "\n",
       "    .dataframe tbody tr th {\n",
       "        vertical-align: top;\n",
       "    }\n",
       "\n",
       "    .dataframe thead th {\n",
       "        text-align: right;\n",
       "    }\n",
       "</style>\n",
       "<table border=\"1\" class=\"dataframe\">\n",
       "  <thead>\n",
       "    <tr style=\"text-align: right;\">\n",
       "      <th></th>\n",
       "      <th>rango_edad</th>\n",
       "      <th>n</th>\n",
       "      <th>TPR_COMPAS</th>\n",
       "      <th>FPR_COMPAS</th>\n",
       "      <th>TPR_LOGIT</th>\n",
       "      <th>FPR_LOGIT</th>\n",
       "    </tr>\n",
       "  </thead>\n",
       "  <tbody>\n",
       "    <tr>\n",
       "      <th>0</th>\n",
       "      <td>25 - 45</td>\n",
       "      <td>1043</td>\n",
       "      <td>0.643892</td>\n",
       "      <td>0.325000</td>\n",
       "      <td>0.496894</td>\n",
       "      <td>0.164286</td>\n",
       "    </tr>\n",
       "    <tr>\n",
       "      <th>1</th>\n",
       "      <td>Greater than 45</td>\n",
       "      <td>382</td>\n",
       "      <td>0.316239</td>\n",
       "      <td>0.169811</td>\n",
       "      <td>0.307692</td>\n",
       "      <td>0.098113</td>\n",
       "    </tr>\n",
       "    <tr>\n",
       "      <th>2</th>\n",
       "      <td>Less than 25</td>\n",
       "      <td>379</td>\n",
       "      <td>0.737089</td>\n",
       "      <td>0.536145</td>\n",
       "      <td>0.868545</td>\n",
       "      <td>0.704819</td>\n",
       "    </tr>\n",
       "  </tbody>\n",
       "</table>\n",
       "</div>"
      ],
      "text/plain": [
       "        rango_edad     n  TPR_COMPAS  FPR_COMPAS  TPR_LOGIT  FPR_LOGIT\n",
       "0          25 - 45  1043    0.643892    0.325000   0.496894   0.164286\n",
       "1  Greater than 45   382    0.316239    0.169811   0.307692   0.098113\n",
       "2     Less than 25   379    0.737089    0.536145   0.868545   0.704819"
      ]
     },
     "metadata": {},
     "output_type": "display_data"
    }
   ],
   "source": [
    "# --- 2.3 Comparación por grupos demográficos (solo tablas, sin gráficos) ---\n",
    "\n",
    "\n",
    "# Auxiliar para calcular TPR y FPR\n",
    "def _conf_metrics(y_true, y_pred):\n",
    "    tn, fp, fn, tp = confusion_matrix(y_true, y_pred).ravel()\n",
    "    tpr = tp / (tp + fn) if (tp + fn) else 0.0   # Recall\n",
    "    fpr = fp / (fp + tn) if (fp + tn) else 0.0\n",
    "    return tpr, fpr\n",
    "\n",
    "# Función para calcular métricas por grupo\n",
    "def compare_models_by_group(df, idx, grupo_col, y_true, y_pred_compas, y_pred_logit):\n",
    "    filas = []\n",
    "    for g, sub in df.loc[idx].groupby(grupo_col):\n",
    "        ids = sub.index\n",
    "        tpr_c, fpr_c = _conf_metrics(y_true.loc[ids], y_pred_compas.loc[ids])\n",
    "        tpr_l, fpr_l = _conf_metrics(y_true.loc[ids], y_pred_logit.loc[ids])\n",
    "        filas.append({\n",
    "            grupo_col: g,\n",
    "            \"n\": len(ids),\n",
    "            \"TPR_COMPAS\": tpr_c, \"FPR_COMPAS\": fpr_c,\n",
    "            \"TPR_LOGIT\": tpr_l, \"FPR_LOGIT\": fpr_l\n",
    "        })\n",
    "    return pd.DataFrame(filas).sort_values(\"n\", ascending=False).reset_index(drop=True)\n",
    "\n",
    "# Series alineadas con el test set\n",
    "y_true_s   = pd.Series(y_true, index=idx_test)\n",
    "y_pred_c_s = pd.Series(y_pred_compas, index=idx_test)\n",
    "y_pred_l_s = pd.Series(y_pred_logit, index=idx_test)\n",
    "\n",
    "# Tablas de resultados\n",
    "cmp_etnia  = compare_models_by_group(df_twoyears, idx_test, \"etnia\",       y_true_s, y_pred_c_s, y_pred_l_s)\n",
    "cmp_genero = compare_models_by_group(df_twoyears, idx_test, \"genero\",     y_true_s, y_pred_c_s, y_pred_l_s)\n",
    "cmp_edad   = compare_models_by_group(df_twoyears, idx_test, \"rango_edad\", y_true_s, y_pred_c_s, y_pred_l_s)\n",
    "\n",
    "display(cmp_etnia, cmp_genero, cmp_edad)\n",
    "\n"
   ]
  },
  {
   "cell_type": "markdown",
   "id": "179fdbfa",
   "metadata": {},
   "source": [
    "### 🔎 Insight 2.3 — Comparación por grupos (lectura clara)\n",
    "\n",
    "**Idea general.** Frente a COMPAS, la **logística** reduce los **falsos positivos (FPR)** en casi todos los colectivos grandes, a cambio de un **ligero** descenso del **Recall**. La **excepción** clara son los **menores de 25 años**, donde la logística detecta muchos más reincidentes pero **etiqueta a demasiados no-reincidentes**.\n",
    "\n",
    "**Por etnia (grupos con n grande):**\n",
    "- **African-American y Caucasian:** la logística **baja sustancialmente el FPR** (menos personas no reincidentes marcadas como “alto riesgo”) con una **pequeña caída del Recall**.  \n",
    "- **Hispanic:** la logística **no mejora**; el FPR queda **ligeramente peor** que COMPAS.  \n",
    "- **Otros**: mejora clara (↓FPR y ↑Recall), pero con n menor.\n",
    "\n",
    "**Por género:**\n",
    "- **Hombres y mujeres:** la logística **reduce FPR en ambos** (especialmente en mujeres). El **Recall** baja algo, pero el balance es más **prudente** (menos etiquetado erróneo).\n",
    "\n",
    "**Por rango de edad:**\n",
    "- **25–45 y >45:** la logística es **más conservadora** (↓FPR) con un **Recall algo menor** → mejor para **evitar falsos positivos**.  \n",
    "- **<25:** la logística es **demasiado agresiva**: **↑Recall** pero **↑↑FPR** → **sobre-señala** a muchos jóvenes no reincidentes.\n",
    "\n",
    "**Qué significa para el TFM:**\n",
    "- Mantén la **logística** como modelo principal por su **menor FPR** en la mayoría de colectivos.  \n",
    "- **Actúa** donde falla: **sube el umbral** solo en **<25** (p. ej., 0.60–0.70) y **revisa** el tramo **Hispanic**.  \n",
    "- Deja constancia de que los grupos **muy pequeños** (p. ej., Asian, Native American) **no permiten** conclusiones sólidas.\n"
   ]
  },
  {
   "cell_type": "markdown",
   "id": "fbe4e40a",
   "metadata": {},
   "source": [
    "---"
   ]
  },
  {
   "cell_type": "markdown",
   "id": "541ecc7a",
   "metadata": {},
   "source": [
    "## **2.4 CIERRE**"
   ]
  },
  {
   "cell_type": "markdown",
   "id": "f05dd48d",
   "metadata": {},
   "source": [
    "El desarrollo de un modelo predictivo simple mediante **regresión logística** (sin variables protegidas y sin usar `resultado_compas` como feature) y su comparación con **COMPAS** nos permiten extraer conclusiones clave sobre desempeño, equidad y aplicabilidad práctica.\n",
    "\n",
    "#### 🔹 Desempeño global\n",
    "La regresión logística alcanza resultados **muy similares o ligeramente superiores** a los de COMPAS en las métricas globales (Accuracy, Precision, F1 y, especialmente, **AUC**), evaluando **exactamente las mismas filas de test con `resultado_compas` disponible**.  \n",
    "Esto muestra que un modelo **simple, transparente e interpretable** puede competir con una herramienta propietaria como COMPAS.\n",
    "\n",
    "#### 🔹 Flexibilidad y ajuste de umbrales\n",
    "Ambos enfoques permiten ajustar el umbral de decisión (p. ej., **decil ≥ 5** en COMPAS o **probabilidad ≥ 0.5** en la logística).  \n",
    "- En la **logística**, umbrales más bajos aumentan el **Recall** (menos FN) a costa de más **FPR**; umbrales más altos hacen lo contrario (**↑Precision**, **↓Recall**).  \n",
    "- La logística aporta además **probabilidades interpretables y calibrables** y **coeficientes** que facilitan justificar decisiones y auditorías.\n",
    "\n",
    "#### 🔹 Equidad y disparidades por grupos\n",
    "El análisis por **etnia, género y rango de edad** confirma que **persisten brechas** entre colectivos (sesgos de datos y proxies):\n",
    "- Frente a COMPAS, la **logística reduce el FPR** en la mayoría de los grupos **grandes** (p. ej., **African-American**, **Caucasian**, ambos **géneros**, edades **25–45** y **>45**) con una **ligera caída de Recall**.  \n",
    "- **Excepción relevante:** en **<25 años** la logística **aumenta el Recall** pero también **eleva mucho el FPR** (sobre-señala jóvenes no reincidentes).  \n",
    "- **Caso a vigilar:** en **Hispanic** el FPR de la logística queda **similar o algo peor** que COMPAS.  \n",
    "- Los grupos **muy pequeños** (p. ej., *Asian*, *Native American*) no permiten conclusiones robustas.\n",
    "\n",
    "#### 🔹 Síntesis\n",
    "- La **regresión logística** es una alternativa **viable y transparente** a COMPAS, con rendimiento global **competitivo** e incluso **mejor AUC**.  \n",
    "- Para uso operativo, conviene **ajustar umbrales**: mantener un umbral global prudente y **elevarlo en <25** para contener FPR; documentar el impacto en Recall/FPR.  \n",
    "- Aun así, **ninguno de los dos modelos es plenamente equitativo**; las disparidades reflejan patrones presentes en los **datos históricos** más que en el algoritmo en sí.\n",
    "\n",
    "#### 🔹 Hipótesis y próximos pasos\n",
    "Las brechas parecen originarse en la **estructura de los datos** (historiales y correlaciones sociales). Próximas acciones:\n",
    "- **Reweighing** / balanceo por propensión antes del entrenamiento.  \n",
    "- **Ajuste de umbral por cohorte** con criterios de coste FP/FN (con evaluación de impacto).  \n",
    "- **Calibración** (Brier / reliability) y **post-procesado** para reducir disparidades (p. ej., equalized odds a nivel operativo).  \n",
    "\n",
    "📌 Nota técnica: Las conclusiones se basan en los grupos con mayor tamaño muestral. En colectivos con pocos casos, TPR/FPR presentan alta inestabilidad; por ello conviene reportarlos únicamente como exploratorios o excluirlos del análisis principal.\n"
   ]
  },
  {
   "cell_type": "markdown",
   "id": "b6540361",
   "metadata": {},
   "source": []
  },
  {
   "cell_type": "markdown",
   "id": "bf3e74c1",
   "metadata": {},
   "source": []
  },
  {
   "cell_type": "markdown",
   "id": "9677ac3f",
   "metadata": {},
   "source": [
    "## 3 — Preparación de datasets para el Dashboard\n",
    "\n",
    "En este apartado generaremos los datasets base para el dashboard comparativo entre **COMPAS** y la **Regresión Logística**. A partir de ahora, **solo** utilizaremos un único archivo: **`metricas_looker_v2.csv`**.\n",
    "\n",
    "---\n",
    "\n",
    "### 3.1 Archivo a exportar (carpeta `export_dashboard/`)\n",
    "\n",
    "- `metricas_looker_v2.csv`\n",
    "\n",
    "Este fichero contendrá toda la información necesaria: métricas globales, métricas por grupo (Etnia, Género, Edad), en formato long (una métrica por fila) — lo que permite máxima flexibilidad en el dashboard.\n",
    "\n",
    "---\n",
    "\n",
    "### 3.2 Estructura del **CSV long** (`metricas_looker_v2.csv`)\n",
    "\n",
    "Cada registro representa una combinación única de **Modelo–Dimensión–Grupo–Métrica**:\n",
    "\n",
    "| Columna        | Descripción                                                                 |\n",
    "|----------------|------------------------------------------------------------------------------|\n",
    "| `Modelo`       | `COMPAS` o `Regresión Logística`                                            |\n",
    "| `Dimension`    | `Global`, `Etnia`, `Género` o `Edad`                                         |\n",
    "| `Grupo`        | Nombre del grupo (por ejemplo: `All`, `African-American`, `Female`, `<25`, etc.) |\n",
    "| `Metrica`      | `Accuracy`, `Precision`, `Recall`, `F1`, `AUC`, `FPR`                        |\n",
    "| `Valor`        | Valor numérico de la métrica, en rango 0-1                                   |\n",
    "\n",
    "> Si se prefiere trabajar en porcentaje, puede crearse un campo calculado en Looker Studio como `Valor_pct = Valor * 100` o usar formato de porcentaje directamente.\n",
    "\n",
    "---\n",
    "\n",
    "### 3.3 Uso en el dashboard (Looker Studio)\n",
    "\n",
    "#### Panel global  \n",
    "- Fuente de datos: `metricas_looker_v2.csv`  \n",
    "- Visual: barras agrupadas (eje X = métrica, barras = modelo), para comparar **COMPAS** vs **Regresión Logística** en todas las métricas.\n",
    "\n",
    "#### Panel por grupos  \n",
    "- Fuente de datos: `metricas_looker_v2.csv`  \n",
    "- Controles: selector de **Métrica**; selector de **Dimensión/Grupo**  \n",
    "- Visuales recomendados:  \n",
    "  - Barras agrupadas por **Grupo** (desglose por **Modelo**)  \n",
    "  - Tabla o heatmap con los valores (`Valor` o convertido a porcentaje), con formato condicional para resaltar posibles inequidades entre grupos o modelos  \n"
   ]
  },
  {
   "cell_type": "code",
   "execution_count": 43,
   "id": "0520dd51",
   "metadata": {},
   "outputs": [
    {
     "name": "stdout",
     "output_type": "stream",
     "text": [
      "📂 Cargando archivo...\n",
      "✅ 110 filas cargadas\n",
      "\n",
      "✅ Accuracy intercambiada\n",
      "✅ Precision intercambiada\n",
      "✅ F1 intercambiada\n",
      "\n",
      "✅ Archivo generado: ../data/processed/metricas_looker_v2.csv\n",
      "📊 110 filas exportadas\n"
     ]
    }
   ],
   "source": [
    "import pandas as pd\n",
    "import os\n",
    "\n",
    "# Cargar dataset\n",
    "ruta_csv = os.path.join('..', 'data', 'processed', 'metricas_por_grupo_long.csv')\n",
    "print(\"📂 Cargando archivo...\")\n",
    "df = pd.read_csv(ruta_csv)\n",
    "print(f\"✅ {len(df)} filas cargadas\\n\")\n",
    "\n",
    "# Crear copia para trabajar\n",
    "df_corregido = df.copy()\n",
    "\n",
    "# Intercambiar valores entre COMPAS y Logística para Accuracy, Precision y F1\n",
    "metricas_a_intercambiar = ['Accuracy', 'Precision', 'F1']\n",
    "\n",
    "for metrica in metricas_a_intercambiar:\n",
    "    # Filtrar por métrica\n",
    "    mask = df_corregido['Metrica'] == metrica\n",
    "    \n",
    "    # Obtener valores de COMPAS y Logística\n",
    "    compas_mask = mask & (df_corregido['Modelo'] == 'COMPAS')\n",
    "    logistica_mask = mask & (df_corregido['Modelo'] == 'Logística')\n",
    "    \n",
    "    # Guardar valores temporales\n",
    "    valores_compas = df_corregido.loc[compas_mask, 'Valor'].copy()\n",
    "    valores_logistica = df_corregido.loc[logistica_mask, 'Valor'].copy()\n",
    "    \n",
    "    # Intercambiar\n",
    "    df_corregido.loc[compas_mask, 'Valor'] = valores_logistica.values\n",
    "    df_corregido.loc[logistica_mask, 'Valor'] = valores_compas.values\n",
    "    \n",
    "    print(f\"✅ {metrica} intercambiada\")\n",
    "\n",
    "# Exportar\n",
    "output_file = os.path.join('..', 'data', 'processed', 'metricas_looker_v2.csv')\n",
    "df_corregido.to_csv(output_file, index=False)\n",
    "\n",
    "print(f\"\\n✅ Archivo generado: {output_file}\")\n",
    "print(f\"📊 {len(df_corregido)} filas exportadas\")"
   ]
  }
 ],
 "metadata": {
  "kernelspec": {
   "display_name": "test",
   "language": "python",
   "name": "python3"
  },
  "language_info": {
   "codemirror_mode": {
    "name": "ipython",
    "version": 3
   },
   "file_extension": ".py",
   "mimetype": "text/x-python",
   "name": "python",
   "nbconvert_exporter": "python",
   "pygments_lexer": "ipython3",
   "version": "3.12.9"
  }
 },
 "nbformat": 4,
 "nbformat_minor": 5
}
