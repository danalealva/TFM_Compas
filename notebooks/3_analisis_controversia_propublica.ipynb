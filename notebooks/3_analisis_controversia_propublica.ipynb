{
 "cells": [
  {
   "cell_type": "markdown",
   "id": "5abbfd1a",
   "metadata": {},
   "source": [
    "<div align=\"center\">\n",
    "<h1 style=\"color:#2c3e50;\">🧠 Tesis Final de Master</h1>\n",
    "<h2 style=\"color:#34495e;\">Evaluación Sesgos en Compas</h2>\n",
    "<h3 style=\"color:#34495e;\">ANÁLISIS EXTENSO DEL DATASET TWOYEARS EN BÚSQUEDA DE ERRORES SUSCEPTIBLES DE VARIAR RESULTADOS ESTADÍSTICOS</h3>\n",
    "\n",
    "<img src=\"https://www.shutterstock.com/image-photo/businessman-searching-information-technology-ai-600nw-2529559953.jpg\" width=\"800\">\n",
    "\n",
    "**Nuclio Digital School**  \n",
    "*TFM curso presencial marzo 2025*\n",
    "\n",
    "---\n",
    "\n",
    "**Autor:** Azahara Bravo, Daniel y María\n",
    "**Fecha:** 20 de Junio, 2025  \n",
    "**Versión:** 1.0  \n",
    "\n",
    "</div>"
   ]
  },
  {
   "cell_type": "markdown",
   "id": "c7205126",
   "metadata": {},
   "source": [
    "<hr style=\"border:none; height:2px; background:linear-gradient(to right, #3498db, #e74c3c, #f39c12);\">\n",
    "\n",
    "<hr style=\"border:none; height:1px; background:#ddd;\">\n",
    "\n",
    "<div style=\"text-align:center; margin:20px 0;\">\n",
    "• • • •\n",
    "</div>"
   ]
  },
  {
   "cell_type": "markdown",
   "id": "c76fba7a",
   "metadata": {},
   "source": [
    "# 0. **INTRODUCCIÓN AL PROYECTO**"
   ]
  },
  {
   "cell_type": "markdown",
   "id": "7c07b982",
   "metadata": {},
   "source": [
    "Para crear el conjunto de datos TwoYears Propublica usó esta lógica:\n",
    "- Entran personas que tengan Compas realizado almenos dos años antes del fin del período de recopilación de datos en teoría el 31/12/16 pero vemos que existe otro(30/03/16).\n",
    "- Se descuenta el tiempo en prisión o cárcel a esas personas. \n",
    "- Entran personas que desde Compas a reincidencia pasan 2 años. \n",
    "\n",
    "Recordando los datos del dataset RawCompas es importante recordad que la fecha por la que se incluyen datos allí es que la Evaluación Compas esté realizada entre el 1/01/2013 y el 31/12/2014. \n",
    "\n",
    "Revisando la bibliografía encontrada en relación a la controversia sobre el dataset de Propublica Twoyears vemos que la problemática se centra en la homogéneidad de los datos que dista de hacer a esta muestra estadísticamente correcta. \n",
    "\n",
    "En este notebook queremos analizar qué criterios reales forman este dataset, ya que después de leer el estudio de  Barestein y dar una ojeada en las fechas del dataset TwoYears publicado por propublica nuestra atención fué llamada por casos demasiado extremos incluidos. \n",
    "\n",
    "Durante el notebook vamos a observar datos que nos dejaron algo perplejos y que distaban de la supuesta lógica de Propublica, vamos a analizar cómo son esas excepciones y como influye la retirada de esos datos del dataset. Además como estamos de acuerdo con el criterio de Barestein hemos decidido crear nuestro Twoyears_clean uniendo nuestros descubrimientos a su corte. \n",
    "\n",
    "Vamos a indagar un poco."
   ]
  },
  {
   "cell_type": "markdown",
   "id": "bbaf1a3d",
   "metadata": {},
   "source": [
    "<hr style=\"border:none; height:2px; background:linear-gradient(to right, #3498db, #e74c3c, #f39c12);\">\n",
    "\n",
    "<hr style=\"border:none; height:1px; background:#ddd;\">\n",
    "\n",
    "<div style=\"text-align:center; margin:20px 0;\">\n",
    " • • • •\n",
    "</div>"
   ]
  },
  {
   "cell_type": "markdown",
   "id": "c6a63f5a",
   "metadata": {},
   "source": [
    "# 1. **CONFIGURACIÓN DEL ENTORNO**"
   ]
  },
  {
   "cell_type": "code",
   "execution_count": 2,
   "id": "795ac5e0",
   "metadata": {},
   "outputs": [
    {
     "name": "stderr",
     "output_type": "stream",
     "text": [
      "c:\\Users\\Azahara\\anaconda3\\envs\\DA_TODO\\Lib\\site-packages\\fuzzywuzzy\\fuzz.py:11: UserWarning: Using slow pure-python SequenceMatcher. Install python-Levenshtein to remove this warning\n",
      "  warnings.warn('Using slow pure-python SequenceMatcher. Install python-Levenshtein to remove this warning')\n"
     ]
    }
   ],
   "source": [
    "# Manipulación y análisis de datos\n",
    "import pandas as pd\n",
    "import numpy as np\n",
    "\n",
    "\n",
    "# Visualización de datos\n",
    "import matplotlib.pyplot as plt\n",
    "import plotly.express as px\n",
    "import seaborn as sns\n",
    "from sqlalchemy import create_engine\n",
    "import sqlalchemy\n",
    "import mysql.connector as mysql\n",
    "from scipy.stats import ttest_ind, chi2_contingency\n",
    "import plotly.graph_objects as go\n",
    "from plotly.subplots import make_subplots\n",
    "from sklearn.metrics import confusion_matrix\n",
    "from scipy.stats import chi2_contingency, norm\n",
    "\n",
    "\n",
    "# Sesgos\n",
    "from scipy import stats\n",
    "\n",
    "# Expresiones regulares\n",
    "import re\n",
    "\n",
    "#detección y corrección de errores ortográficos\n",
    "from fuzzywuzzy import process\n",
    "\n",
    "import warnings\n",
    "warnings.filterwarnings('ignore')\n",
    "\n",
    "# mi archivo con funciones definidas\n",
    "import lib_propias as prop\n",
    "\n",
    "\n",
    "# Nulos\n",
    "import missingno as msno\n",
    "\n",
    "# Fechas\n",
    "from datetime import datetime\n"
   ]
  },
  {
   "cell_type": "code",
   "execution_count": 3,
   "id": "8c4f0cd6",
   "metadata": {},
   "outputs": [],
   "source": [
    "# Configuración general de estilo para visualizaciones\n",
    "\n",
    "# Tema visual clásico con fondo claro y grilla suave\n",
    "plt.style.use('seaborn-v0_8')\n",
    "\n",
    "# Paleta de colores moderna y profesional\n",
    "sns.set_palette(\"husl\")\n",
    "\n",
    "# Tamaño estándar para gráficos (ancho x alto en pulgadas)\n",
    "plt.rcParams['figure.figsize'] = (12, 6)\n",
    "\n",
    "# Tamaño general de las fuentes en los gráficos\n",
    "plt.rcParams['font.size'] = 11\n"
   ]
  },
  {
   "cell_type": "code",
   "execution_count": 4,
   "id": "170fe791",
   "metadata": {},
   "outputs": [],
   "source": [
    "import plotly.io as pio\n",
    "\n",
    "# Crear un template personalizado similar al estilo seaborn-v0_8\n",
    "pio.templates[\"custom\"] = pio.templates[\"plotly_white\"]\n",
    "\n",
    "pio.templates[\"custom\"].layout.update(\n",
    "    font=dict(size=11, family='Arial'),\n",
    "    width=1000,  # equivalente aprox a figsize=(12,6)\n",
    "    height=500,\n",
    "    plot_bgcolor='white',\n",
    "    paper_bgcolor='white',\n",
    "    xaxis=dict(showgrid=True, gridcolor='lightgrey'),\n",
    "    yaxis=dict(showgrid=True, gridcolor='lightgrey'),\n",
    "    colorway=px.colors.qualitative.Set2  # paleta similar a sns.husl\n",
    ")\n",
    "\n",
    "# Establecer este template como predeterminado\n",
    "pio.templates.default = \"custom\"\n"
   ]
  },
  {
   "cell_type": "markdown",
   "id": "f64e1f07",
   "metadata": {},
   "source": [
    "<hr style=\"border:none; height:2px; background:linear-gradient(to right, #3498db, #e74c3c, #f39c12);\">\n",
    "\n",
    "<hr style=\"border:none; height:1px; background:#ddd;\">\n",
    "\n",
    "<div style=\"text-align:center; margin:20px 0;\">\n",
    "• • • •\n",
    "</div>"
   ]
  },
  {
   "cell_type": "markdown",
   "id": "055ffb57",
   "metadata": {},
   "source": [
    "# 2. **DESCARGA DE LOS DATOS PARA LA INVESTIACIÓN**"
   ]
  },
  {
   "cell_type": "markdown",
   "id": "921ed553",
   "metadata": {},
   "source": [
    "Usaremos el dataframe creado después de nuestra limpieza del original con las columnas traducidas al castellano. "
   ]
  },
  {
   "cell_type": "code",
   "execution_count": 5,
   "id": "5973bd9a",
   "metadata": {},
   "outputs": [],
   "source": [
    "df_twoyears = pd.read_csv(r\"C:\\Users\\Azahara\\Documents\\NUCLIO\\PROYECTO FINAL\\notebooks\\compas_twoyears.csv\")"
   ]
  },
  {
   "cell_type": "markdown",
   "id": "2f622942",
   "metadata": {},
   "source": [
    "<hr style=\"border:none; height:2px; background:linear-gradient(to right, #3498db, #e74c3c, #f39c12);\">\n",
    "\n",
    "<hr style=\"border:none; height:1px; background:#ddd;\">\n",
    "\n",
    "<div style=\"text-align:center; margin:20px 0;\">\n",
    "• • • •\n",
    "</div>"
   ]
  },
  {
   "cell_type": "markdown",
   "id": "1c637f3b",
   "metadata": {},
   "source": [
    "# **3.PROBLEMÁTICAS BASICAS DEL DATASET DE PROPUBLICA TWOYEARS**"
   ]
  },
  {
   "cell_type": "markdown",
   "id": "101bc942",
   "metadata": {},
   "source": [
    "---"
   ]
  },
  {
   "cell_type": "markdown",
   "id": "62cc33f9",
   "metadata": {},
   "source": [
    "## **3.1 ENCONTRADAS DESDE NUESTRO PUNTO DE VISTA**"
   ]
  },
  {
   "cell_type": "markdown",
   "id": "21a15eff",
   "metadata": {},
   "source": [
    "En el momento en que iniciamos el análisis estadístico básico observamos datos que nos parecieron incoherentes. Ejecutamos describe() y observamos los resultados para: \n",
    "- dias_entre_arresto_evaluacion\n",
    "- dias_desde_compas\n",
    "- dias_entre_arrestos"
   ]
  },
  {
   "cell_type": "code",
   "execution_count": 6,
   "id": "a37ff31d",
   "metadata": {},
   "outputs": [
    {
     "data": {
      "text/html": [
       "<div>\n",
       "<style scoped>\n",
       "    .dataframe tbody tr th:only-of-type {\n",
       "        vertical-align: middle;\n",
       "    }\n",
       "\n",
       "    .dataframe tbody tr th {\n",
       "        vertical-align: top;\n",
       "    }\n",
       "\n",
       "    .dataframe thead th {\n",
       "        text-align: right;\n",
       "    }\n",
       "</style>\n",
       "<table border=\"1\" class=\"dataframe\">\n",
       "  <thead>\n",
       "    <tr style=\"text-align: right;\">\n",
       "      <th></th>\n",
       "      <th>count</th>\n",
       "      <th>mean</th>\n",
       "      <th>std</th>\n",
       "      <th>min</th>\n",
       "      <th>25%</th>\n",
       "      <th>50%</th>\n",
       "      <th>75%</th>\n",
       "      <th>max</th>\n",
       "    </tr>\n",
       "  </thead>\n",
       "  <tbody>\n",
       "    <tr>\n",
       "      <th>id_persona</th>\n",
       "      <td>7214.0</td>\n",
       "      <td>5501.255753</td>\n",
       "      <td>3175.706870</td>\n",
       "      <td>1.0</td>\n",
       "      <td>2735.25</td>\n",
       "      <td>5509.5</td>\n",
       "      <td>8246.5</td>\n",
       "      <td>11001.0</td>\n",
       "    </tr>\n",
       "    <tr>\n",
       "      <th>edad</th>\n",
       "      <td>7214.0</td>\n",
       "      <td>34.817993</td>\n",
       "      <td>11.888922</td>\n",
       "      <td>18.0</td>\n",
       "      <td>25.00</td>\n",
       "      <td>31.0</td>\n",
       "      <td>42.0</td>\n",
       "      <td>96.0</td>\n",
       "    </tr>\n",
       "    <tr>\n",
       "      <th>num_anteced_juv</th>\n",
       "      <td>7214.0</td>\n",
       "      <td>0.067230</td>\n",
       "      <td>0.473972</td>\n",
       "      <td>0.0</td>\n",
       "      <td>0.00</td>\n",
       "      <td>0.0</td>\n",
       "      <td>0.0</td>\n",
       "      <td>20.0</td>\n",
       "    </tr>\n",
       "    <tr>\n",
       "      <th>resultado_compas</th>\n",
       "      <td>7214.0</td>\n",
       "      <td>4.509565</td>\n",
       "      <td>2.856396</td>\n",
       "      <td>1.0</td>\n",
       "      <td>2.00</td>\n",
       "      <td>4.0</td>\n",
       "      <td>7.0</td>\n",
       "      <td>10.0</td>\n",
       "    </tr>\n",
       "    <tr>\n",
       "      <th>num_delitomenor_juv</th>\n",
       "      <td>7214.0</td>\n",
       "      <td>0.090934</td>\n",
       "      <td>0.485239</td>\n",
       "      <td>0.0</td>\n",
       "      <td>0.00</td>\n",
       "      <td>0.0</td>\n",
       "      <td>0.0</td>\n",
       "      <td>13.0</td>\n",
       "    </tr>\n",
       "    <tr>\n",
       "      <th>num_otrosdelitos_juv</th>\n",
       "      <td>7214.0</td>\n",
       "      <td>0.109371</td>\n",
       "      <td>0.501586</td>\n",
       "      <td>0.0</td>\n",
       "      <td>0.00</td>\n",
       "      <td>0.0</td>\n",
       "      <td>0.0</td>\n",
       "      <td>17.0</td>\n",
       "    </tr>\n",
       "    <tr>\n",
       "      <th>num_antecedentes_totales</th>\n",
       "      <td>7214.0</td>\n",
       "      <td>3.472415</td>\n",
       "      <td>4.882538</td>\n",
       "      <td>0.0</td>\n",
       "      <td>0.00</td>\n",
       "      <td>2.0</td>\n",
       "      <td>5.0</td>\n",
       "      <td>38.0</td>\n",
       "    </tr>\n",
       "    <tr>\n",
       "      <th>dias_entre_arresto_evaluacion</th>\n",
       "      <td>6907.0</td>\n",
       "      <td>3.304763</td>\n",
       "      <td>75.809505</td>\n",
       "      <td>-414.0</td>\n",
       "      <td>-1.00</td>\n",
       "      <td>-1.0</td>\n",
       "      <td>0.0</td>\n",
       "      <td>1057.0</td>\n",
       "    </tr>\n",
       "    <tr>\n",
       "      <th>dias_desde_compas</th>\n",
       "      <td>7192.0</td>\n",
       "      <td>57.731368</td>\n",
       "      <td>329.740215</td>\n",
       "      <td>0.0</td>\n",
       "      <td>1.00</td>\n",
       "      <td>1.0</td>\n",
       "      <td>2.0</td>\n",
       "      <td>9485.0</td>\n",
       "    </tr>\n",
       "    <tr>\n",
       "      <th>dias_entre_arrestos</th>\n",
       "      <td>2316.0</td>\n",
       "      <td>20.269430</td>\n",
       "      <td>74.871668</td>\n",
       "      <td>-1.0</td>\n",
       "      <td>0.00</td>\n",
       "      <td>0.0</td>\n",
       "      <td>1.0</td>\n",
       "      <td>993.0</td>\n",
       "    </tr>\n",
       "    <tr>\n",
       "      <th>violent_recid</th>\n",
       "      <td>0.0</td>\n",
       "      <td>NaN</td>\n",
       "      <td>NaN</td>\n",
       "      <td>NaN</td>\n",
       "      <td>NaN</td>\n",
       "      <td>NaN</td>\n",
       "      <td>NaN</td>\n",
       "      <td>NaN</td>\n",
       "    </tr>\n",
       "    <tr>\n",
       "      <th>resultado_compas_duplicado</th>\n",
       "      <td>7214.0</td>\n",
       "      <td>4.509565</td>\n",
       "      <td>2.856396</td>\n",
       "      <td>1.0</td>\n",
       "      <td>2.00</td>\n",
       "      <td>4.0</td>\n",
       "      <td>7.0</td>\n",
       "      <td>10.0</td>\n",
       "    </tr>\n",
       "    <tr>\n",
       "      <th>resultado_rviolencia</th>\n",
       "      <td>7214.0</td>\n",
       "      <td>3.691849</td>\n",
       "      <td>2.510148</td>\n",
       "      <td>1.0</td>\n",
       "      <td>1.00</td>\n",
       "      <td>3.0</td>\n",
       "      <td>5.0</td>\n",
       "      <td>10.0</td>\n",
       "    </tr>\n",
       "    <tr>\n",
       "      <th>num_antecedentes_totales_duplicado</th>\n",
       "      <td>7214.0</td>\n",
       "      <td>3.472415</td>\n",
       "      <td>4.882538</td>\n",
       "      <td>0.0</td>\n",
       "      <td>0.00</td>\n",
       "      <td>2.0</td>\n",
       "      <td>5.0</td>\n",
       "      <td>38.0</td>\n",
       "    </tr>\n",
       "    <tr>\n",
       "      <th>inicio_rango_analisis</th>\n",
       "      <td>7214.0</td>\n",
       "      <td>11.465068</td>\n",
       "      <td>46.954563</td>\n",
       "      <td>0.0</td>\n",
       "      <td>0.00</td>\n",
       "      <td>0.0</td>\n",
       "      <td>1.0</td>\n",
       "      <td>937.0</td>\n",
       "    </tr>\n",
       "    <tr>\n",
       "      <th>fin_rango_analisis</th>\n",
       "      <td>7214.0</td>\n",
       "      <td>553.436651</td>\n",
       "      <td>399.020583</td>\n",
       "      <td>0.0</td>\n",
       "      <td>148.25</td>\n",
       "      <td>530.5</td>\n",
       "      <td>914.0</td>\n",
       "      <td>1186.0</td>\n",
       "    </tr>\n",
       "  </tbody>\n",
       "</table>\n",
       "</div>"
      ],
      "text/plain": [
       "                                     count         mean          std    min  \\\n",
       "id_persona                          7214.0  5501.255753  3175.706870    1.0   \n",
       "edad                                7214.0    34.817993    11.888922   18.0   \n",
       "num_anteced_juv                     7214.0     0.067230     0.473972    0.0   \n",
       "resultado_compas                    7214.0     4.509565     2.856396    1.0   \n",
       "num_delitomenor_juv                 7214.0     0.090934     0.485239    0.0   \n",
       "num_otrosdelitos_juv                7214.0     0.109371     0.501586    0.0   \n",
       "num_antecedentes_totales            7214.0     3.472415     4.882538    0.0   \n",
       "dias_entre_arresto_evaluacion       6907.0     3.304763    75.809505 -414.0   \n",
       "dias_desde_compas                   7192.0    57.731368   329.740215    0.0   \n",
       "dias_entre_arrestos                 2316.0    20.269430    74.871668   -1.0   \n",
       "violent_recid                          0.0          NaN          NaN    NaN   \n",
       "resultado_compas_duplicado          7214.0     4.509565     2.856396    1.0   \n",
       "resultado_rviolencia                7214.0     3.691849     2.510148    1.0   \n",
       "num_antecedentes_totales_duplicado  7214.0     3.472415     4.882538    0.0   \n",
       "inicio_rango_analisis               7214.0    11.465068    46.954563    0.0   \n",
       "fin_rango_analisis                  7214.0   553.436651   399.020583    0.0   \n",
       "\n",
       "                                        25%     50%     75%      max  \n",
       "id_persona                          2735.25  5509.5  8246.5  11001.0  \n",
       "edad                                  25.00    31.0    42.0     96.0  \n",
       "num_anteced_juv                        0.00     0.0     0.0     20.0  \n",
       "resultado_compas                       2.00     4.0     7.0     10.0  \n",
       "num_delitomenor_juv                    0.00     0.0     0.0     13.0  \n",
       "num_otrosdelitos_juv                   0.00     0.0     0.0     17.0  \n",
       "num_antecedentes_totales               0.00     2.0     5.0     38.0  \n",
       "dias_entre_arresto_evaluacion         -1.00    -1.0     0.0   1057.0  \n",
       "dias_desde_compas                      1.00     1.0     2.0   9485.0  \n",
       "dias_entre_arrestos                    0.00     0.0     1.0    993.0  \n",
       "violent_recid                           NaN     NaN     NaN      NaN  \n",
       "resultado_compas_duplicado             2.00     4.0     7.0     10.0  \n",
       "resultado_rviolencia                   1.00     3.0     5.0     10.0  \n",
       "num_antecedentes_totales_duplicado     0.00     2.0     5.0     38.0  \n",
       "inicio_rango_analisis                  0.00     0.0     1.0    937.0  \n",
       "fin_rango_analisis                   148.25   530.5   914.0   1186.0  "
      ]
     },
     "execution_count": 6,
     "metadata": {},
     "output_type": "execute_result"
    }
   ],
   "source": [
    "# Estadísticas numéricas básicas\n",
    "df_twoyears.describe(include='number').T\n"
   ]
  },
  {
   "cell_type": "markdown",
   "id": "c3d42465",
   "metadata": {},
   "source": [
    "1. **DIAS ENTRE EL ARRESTO Y LA EVALUACIÓN(-414 a 1057)**\n",
    "\n",
    "- Lo lógico es que el test COMPAS se haga en los días cercanos al arresto (mismo día o días posteriores).\n",
    "- Un valor negativo implica que el test se aplicó antes de que ocurriera el arresto, lo cual no tiene sentido → probablemente error de registro.\n",
    "- Un valor tan alto como 1057 días (~3 años) indica que el test se aplicó años después del arresto, cuando ya no serviría para predecir el riesgo inmediato → otro error probable.\n",
    "\n",
    "👉 Decisión : eliminar filas con valores negativos o muy grandes (ej. > 30 días). De hecho, ProPublica en su análisis eliminó casos donde la evaluación no se hizo en ±30 días respecto al arresto.\n",
    "\n",
    "2. **DÍAS DESDE COMPAS HASTA EL EVENTO**(hasta 9485 ≈ 25 años)\n",
    "\n",
    "- Esta variable debería reflejar el tiempo transcurrido tras la evaluación COMPAS.\n",
    "- El dataset se recopiló en 2013–2014 y se siguió a los acusados hasta marzo de 2016 → el máximo esperado es unos 1200–1460 días (≈ 4 años).\n",
    "- Valores de 25 años son imposibles, seguramente errores de cálculo o registros históricos que se colaron.\n",
    "\n",
    "👉 Decisión: eliminar o recortar a un máximo razonable (ej. 730 días = 2 años).\n",
    "\n",
    "3. **DIAS ENTRE ARRESTOS** (0, 1, hasta 993)\n",
    "\n",
    "- Aquí se mide el intervalo entre un arresto y el siguiente.\n",
    "- Ceros → mismo día (posible si se registran múltiples cargos en la misma fecha).\n",
    "- Valores pequeños (1,2 días) → factibles (una persona es detenida de nuevo al poco tiempo).\n",
    "- Valores grandes (ej. 993 ≈ 3 años) → siguen siendo posibles, pero hay que contrastar: si estás limitando el análisis a reincidencia en dos años, no deberían entrar intervalos tan largos.\n",
    "\n",
    "👉 Decisión: Mantener los valores realistas (0 a 730 días, es decir hasta 2 años). Eliminar filas con valores mayores a 730, porque no cumplen con tu ventana de análisis."
   ]
  },
  {
   "cell_type": "markdown",
   "id": "7526fe9b",
   "metadata": {},
   "source": [
    "## **3.2 DISCUTIDAS POR BARESTEIN**"
   ]
  },
  {
   "cell_type": "markdown",
   "id": "e4d6bc34",
   "metadata": {},
   "source": [
    "El autor inicia el estudio de los datos de Propublica debido a que esos datos se utilizan en un número cada vez más creciente para poner a prueba la equidad algorítmica. Es así que, como nosotros, examina más de cerca los conjuntos de datos elaborados por estos periodistas de Propublica. \n",
    "\n",
    "Mediante un análisis de la distribución de los acusados a lo largo de las fechas de evaluación de Compas se percata de que hay un corte a partir del 1 de abril de 2016 tan solo para los no reincidentes, dejando en análisis aquellos que sí que reincidieron y creando la hipótesis de que el sesgo implícito en los datos va a favor de aumentar la tasa de reincidentes. \n",
    "\n",
    "De alguna manera el nombre asignado al dataset iba emparejado a la intencion de hacer un análisis a dos años, bien, tal vez habrá que renombrarlo a \"year_and_threemonths\". "
   ]
  },
  {
   "cell_type": "markdown",
   "id": "b320dd43",
   "metadata": {},
   "source": [
    "Barestein tenía acceso a unos datos que llamó completos y realiza una comparativa con varios gráficos para visualizar el número de personas que realizan compas semana a semana. Tiene dos gráficos por grupo, personas identificadas como reincidentes a dos años, y no reincidentes (página 7, [Barestein, 2019](https://arxiv.org/pdf/1906.04711))\n",
    "\n"
   ]
  },
  {
   "cell_type": "markdown",
   "id": "5240ed16",
   "metadata": {},
   "source": [
    "Nosotros vamos a emular de manea algo diferente ese gráfico para demostrar visualmente dicho corte:"
   ]
  },
  {
   "cell_type": "code",
   "execution_count": 7,
   "id": "a0646d34",
   "metadata": {},
   "outputs": [],
   "source": [
    "#CODIGO PARA LLEVAR AL OTRO NOTEBOOK DONDE ANALIZAR LA RECOLECCION DE DATOS DE PROPUBLICA PARA EL TWOYEARS SEGÚN BARSTEIN\n",
    "# PARA VER EL CORTE A FECHA 30/03/16 PARA NO REINCIDENTES\n",
    "\n",
    "def graficar_barras_semanales_px(df, fecha_col, categoria_col):\n",
    "    \"\"\"\n",
    "    Gráfico de barras: número de personas evaluadas por semana\n",
    "    separado por categoría (ej: reincide True/False).\n",
    "    \n",
    "    Parámetros:\n",
    "        df : DataFrame\n",
    "        fecha_col : str -> columna con las fechas (ej: 'fecha_compas')\n",
    "        categoria_col : str -> columna con la categoría (ej: 'reincide')\n",
    "    \"\"\"\n",
    "    # Asegurar formato datetime\n",
    "    df[fecha_col] = pd.to_datetime(df[fecha_col], errors='coerce')\n",
    "\n",
    "    # Crear columna semana\n",
    "    df['semana'] = df[fecha_col].dt.to_period('W').apply(lambda r: r.start_time)\n",
    "\n",
    "    # Contar personas por semana y categoría\n",
    "    conteo = df.groupby(['semana', categoria_col]).size().reset_index(name='num_personas')\n",
    "\n",
    "    # Gráfico de barras agrupadas\n",
    "    fig = px.bar(\n",
    "        conteo,\n",
    "        x='semana',\n",
    "        y='num_personas',\n",
    "        color=categoria_col,\n",
    "        barmode='group',\n",
    "        text='num_personas',\n",
    "        labels={'semana': 'Semana', 'num_personas': 'Número de personas'},\n",
    "        title=f'Número de personas evaluadas por semana según {categoria_col}'\n",
    "    )\n",
    "\n",
    "    fig.update_traces(texttemplate='%{text}', textposition='outside')\n",
    "    fig.update_layout(\n",
    "        plot_bgcolor='white',\n",
    "        xaxis_showgrid=True, xaxis_gridcolor='lightgrey',\n",
    "        yaxis_showgrid=True, yaxis_gridcolor='lightgrey'\n",
    "    )\n",
    "\n",
    "    fig.show()"
   ]
  },
  {
   "cell_type": "code",
   "execution_count": 8,
   "id": "da15f615",
   "metadata": {},
   "outputs": [
    {
     "data": {
      "application/vnd.plotly.v1+json": {
       "config": {
        "plotlyServerURL": "https://plot.ly"
       },
       "data": [
        {
         "alignmentgroup": "True",
         "hovertemplate": "reincide=False<br>Semana=%{x}<br>Número de personas=%{text}<extra></extra>",
         "legendgroup": "False",
         "marker": {
          "color": "rgb(102,194,165)",
          "pattern": {
           "shape": ""
          }
         },
         "name": "False",
         "offsetgroup": "False",
         "orientation": "v",
         "showlegend": true,
         "text": {
          "bdata": "AAAAAAAAUUAAAAAAAIBTQAAAAAAAgFVAAAAAAABAU0AAAAAAAMBVQAAAAAAAgFVAAAAAAABAVUAAAAAAAMBYQAAAAAAAAFFAAAAAAADAVUAAAAAAAIBQQAAAAAAAQFVAAAAAAAAAVkAAAAAAAABVQAAAAAAAQFRAAAAAAADAVUAAAAAAAIBSQAAAAAAAQFZAAAAAAAAAUkAAAAAAAEBQQAAAAAAAgFFAAAAAAAAAR0AAAAAAAAAyQAAAAAAAACpAAAAAAAAAMUAAAAAAAAAxQAAAAAAAAChAAAAAAAAAMUAAAAAAAAA1QAAAAAAAADBAAAAAAACAS0AAAAAAAIBQQAAAAAAAgE5AAAAAAAAAVEAAAAAAAIBKQAAAAAAAQFFAAAAAAADAUkAAAAAAAABOQAAAAAAAAFFAAAAAAADAU0AAAAAAAIBQQAAAAAAAAE9AAAAAAADAUUAAAAAAAIBNQAAAAAAAgEdAAAAAAACAR0AAAAAAAIBNQAAAAAAAAERAAAAAAADAUEAAAAAAAABPQAAAAAAAAFFAAAAAAAAATUAAAAAAAABNQAAAAAAAAE9AAAAAAACASkAAAAAAAABLQAAAAAAAgFBAAAAAAADAUUAAAAAAAABPQAAAAAAAgEVAAAAAAACATUAAAAAAAIBIQAAAAAAAgEdAAAAAAAAAS0AAAAAAAABFQAAAAAAAAChA",
          "dtype": "f8"
         },
         "textposition": "outside",
         "texttemplate": "%{text}",
         "type": "bar",
         "x": [
          "2012-12-31T00:00:00",
          "2013-01-07T00:00:00",
          "2013-01-14T00:00:00",
          "2013-01-21T00:00:00",
          "2013-01-28T00:00:00",
          "2013-02-04T00:00:00",
          "2013-02-11T00:00:00",
          "2013-02-18T00:00:00",
          "2013-02-25T00:00:00",
          "2013-03-04T00:00:00",
          "2013-03-11T00:00:00",
          "2013-03-18T00:00:00",
          "2013-03-25T00:00:00",
          "2013-04-01T00:00:00",
          "2013-04-08T00:00:00",
          "2013-04-15T00:00:00",
          "2013-04-22T00:00:00",
          "2013-04-29T00:00:00",
          "2013-05-06T00:00:00",
          "2013-05-13T00:00:00",
          "2013-05-20T00:00:00",
          "2013-05-27T00:00:00",
          "2013-06-03T00:00:00",
          "2013-06-10T00:00:00",
          "2013-06-17T00:00:00",
          "2013-06-24T00:00:00",
          "2013-07-01T00:00:00",
          "2013-07-08T00:00:00",
          "2013-07-15T00:00:00",
          "2013-07-22T00:00:00",
          "2013-07-29T00:00:00",
          "2013-08-05T00:00:00",
          "2013-08-12T00:00:00",
          "2013-08-19T00:00:00",
          "2013-08-26T00:00:00",
          "2013-09-02T00:00:00",
          "2013-09-09T00:00:00",
          "2013-09-16T00:00:00",
          "2013-09-23T00:00:00",
          "2013-09-30T00:00:00",
          "2013-10-07T00:00:00",
          "2013-10-14T00:00:00",
          "2013-10-21T00:00:00",
          "2013-10-28T00:00:00",
          "2013-11-04T00:00:00",
          "2013-11-11T00:00:00",
          "2013-11-18T00:00:00",
          "2013-11-25T00:00:00",
          "2013-12-02T00:00:00",
          "2013-12-09T00:00:00",
          "2013-12-16T00:00:00",
          "2013-12-23T00:00:00",
          "2013-12-30T00:00:00",
          "2014-01-06T00:00:00",
          "2014-01-13T00:00:00",
          "2014-01-20T00:00:00",
          "2014-01-27T00:00:00",
          "2014-02-03T00:00:00",
          "2014-02-10T00:00:00",
          "2014-02-17T00:00:00",
          "2014-02-24T00:00:00",
          "2014-03-03T00:00:00",
          "2014-03-10T00:00:00",
          "2014-03-17T00:00:00",
          "2014-03-24T00:00:00",
          "2014-03-31T00:00:00"
         ],
         "xaxis": "x",
         "y": {
          "bdata": "RE5WTVdWVWNEV0JVWFRRV0pZSEFGLhINEREMERUQN0I9UDVFSzxET0I+RzsvLzsoQz5EOjo+NTZCRz4rOzEvNioM",
          "dtype": "i1"
         },
         "yaxis": "y"
        },
        {
         "alignmentgroup": "True",
         "hovertemplate": "reincide=True<br>Semana=%{x}<br>Número de personas=%{text}<extra></extra>",
         "legendgroup": "True",
         "marker": {
          "color": "rgb(252,141,98)",
          "pattern": {
           "shape": ""
          }
         },
         "name": "True",
         "offsetgroup": "True",
         "orientation": "v",
         "showlegend": true,
         "text": {
          "bdata": "AAAAAACAREAAAAAAAIBPQAAAAAAAgEtAAAAAAACARkAAAAAAAABGQAAAAAAAAFBAAAAAAACATEAAAAAAAABOQAAAAAAAgEBAAAAAAAAAR0AAAAAAAABHQAAAAAAAwFBAAAAAAACAREAAAAAAAABFQAAAAAAAAE1AAAAAAAAASEAAAAAAAIBLQAAAAAAAAEFAAAAAAACASkAAAAAAAIBGQAAAAAAAAEBAAAAAAAAAJEAAAAAAAAAQQAAAAAAAACBAAAAAAAAAGEAAAAAAAAAYQAAAAAAAAABAAAAAAAAAJEAAAAAAAAAiQAAAAAAAAChAAAAAAAAANkAAAAAAAABHQAAAAAAAAENAAAAAAAAAQ0AAAAAAAABAQAAAAAAAgEBAAAAAAACAREAAAAAAAABAQAAAAAAAgEZAAAAAAAAAPkAAAAAAAIBAQAAAAAAAADpAAAAAAAAAQEAAAAAAAIBCQAAAAAAAgEJAAAAAAACAQkAAAAAAAAA7QAAAAAAAADZAAAAAAACAQUAAAAAAAABHQAAAAAAAAEBAAAAAAAAAQUAAAAAAAAA+QAAAAAAAAD1AAAAAAAAAQkAAAAAAAAA+QAAAAAAAADhAAAAAAAAAQEAAAAAAAABBQAAAAAAAAD1AAAAAAACAQEAAAAAAAABCQAAAAAAAADpAAAAAAAAAOkAAAAAAAAA9QAAAAAAAADVAAAAAAAAAN0AAAAAAAAA4QAAAAAAAADRAAAAAAAAAO0AAAAAAAAA2QAAAAAAAgEBAAAAAAAAAOkAAAAAAAAA2QAAAAAAAADhAAAAAAAAAPUAAAAAAAAAyQAAAAAAAADlAAAAAAAAAPUAAAAAAAABBQAAAAAAAADhAAAAAAAAAJkAAAAAAAIBAQAAAAAAAADlAAAAAAAAAOkAAAAAAAAA1QAAAAAAAADJAAAAAAAAAJkAAAAAAAAA7QAAAAAAAADVAAAAAAAAANkAAAAAAAAA7QAAAAAAAADtAAAAAAAAAPkAAAAAAAABCQAAAAAAAAEJAAAAAAAAAOkAAAAAAAABIQAAAAAAAAEFAAAAAAAAAMUAAAAAAAAAzQAAAAAAAAEFAAAAAAAAAN0AAAAAAAAA2QAAAAAAAACZA",
          "dtype": "f8"
         },
         "textposition": "outside",
         "texttemplate": "%{text}",
         "type": "bar",
         "x": [
          "2012-12-31T00:00:00",
          "2013-01-07T00:00:00",
          "2013-01-14T00:00:00",
          "2013-01-21T00:00:00",
          "2013-01-28T00:00:00",
          "2013-02-04T00:00:00",
          "2013-02-11T00:00:00",
          "2013-02-18T00:00:00",
          "2013-02-25T00:00:00",
          "2013-03-04T00:00:00",
          "2013-03-11T00:00:00",
          "2013-03-18T00:00:00",
          "2013-03-25T00:00:00",
          "2013-04-01T00:00:00",
          "2013-04-08T00:00:00",
          "2013-04-15T00:00:00",
          "2013-04-22T00:00:00",
          "2013-04-29T00:00:00",
          "2013-05-06T00:00:00",
          "2013-05-13T00:00:00",
          "2013-05-20T00:00:00",
          "2013-05-27T00:00:00",
          "2013-06-03T00:00:00",
          "2013-06-10T00:00:00",
          "2013-06-17T00:00:00",
          "2013-06-24T00:00:00",
          "2013-07-01T00:00:00",
          "2013-07-08T00:00:00",
          "2013-07-15T00:00:00",
          "2013-07-22T00:00:00",
          "2013-07-29T00:00:00",
          "2013-08-05T00:00:00",
          "2013-08-12T00:00:00",
          "2013-08-19T00:00:00",
          "2013-08-26T00:00:00",
          "2013-09-02T00:00:00",
          "2013-09-09T00:00:00",
          "2013-09-16T00:00:00",
          "2013-09-23T00:00:00",
          "2013-09-30T00:00:00",
          "2013-10-07T00:00:00",
          "2013-10-14T00:00:00",
          "2013-10-21T00:00:00",
          "2013-10-28T00:00:00",
          "2013-11-04T00:00:00",
          "2013-11-11T00:00:00",
          "2013-11-18T00:00:00",
          "2013-11-25T00:00:00",
          "2013-12-02T00:00:00",
          "2013-12-09T00:00:00",
          "2013-12-16T00:00:00",
          "2013-12-23T00:00:00",
          "2013-12-30T00:00:00",
          "2014-01-06T00:00:00",
          "2014-01-13T00:00:00",
          "2014-01-20T00:00:00",
          "2014-01-27T00:00:00",
          "2014-02-03T00:00:00",
          "2014-02-10T00:00:00",
          "2014-02-17T00:00:00",
          "2014-02-24T00:00:00",
          "2014-03-03T00:00:00",
          "2014-03-10T00:00:00",
          "2014-03-17T00:00:00",
          "2014-03-24T00:00:00",
          "2014-03-31T00:00:00",
          "2014-04-07T00:00:00",
          "2014-04-14T00:00:00",
          "2014-04-21T00:00:00",
          "2014-04-28T00:00:00",
          "2014-05-05T00:00:00",
          "2014-05-12T00:00:00",
          "2014-05-19T00:00:00",
          "2014-05-26T00:00:00",
          "2014-06-02T00:00:00",
          "2014-06-09T00:00:00",
          "2014-06-16T00:00:00",
          "2014-06-23T00:00:00",
          "2014-06-30T00:00:00",
          "2014-07-07T00:00:00",
          "2014-07-14T00:00:00",
          "2014-07-21T00:00:00",
          "2014-07-28T00:00:00",
          "2014-08-04T00:00:00",
          "2014-08-11T00:00:00",
          "2014-08-18T00:00:00",
          "2014-08-25T00:00:00",
          "2014-09-01T00:00:00",
          "2014-09-08T00:00:00",
          "2014-09-15T00:00:00",
          "2014-09-22T00:00:00",
          "2014-09-29T00:00:00",
          "2014-10-06T00:00:00",
          "2014-10-13T00:00:00",
          "2014-10-20T00:00:00",
          "2014-10-27T00:00:00",
          "2014-11-03T00:00:00",
          "2014-11-10T00:00:00",
          "2014-11-17T00:00:00",
          "2014-11-24T00:00:00",
          "2014-12-01T00:00:00",
          "2014-12-08T00:00:00",
          "2014-12-15T00:00:00",
          "2014-12-22T00:00:00",
          "2014-12-29T00:00:00"
         ],
         "xaxis": "x",
         "y": {
          "bdata": "KT83LSxAOTwhLi5DKSo6MDciNS0gCgQIBgYCCgkMFi4mJiAhKSAtHiEaICUlJRsWIy4gIh4dJB4YICIdISQaGh0VFxgUGxYhGhYYHRIZHSIYCyEZGhUSCxsVFhsbHiQkGjAiERMiFxYL",
          "dtype": "i1"
         },
         "yaxis": "y"
        }
       ],
       "layout": {
        "barmode": "group",
        "legend": {
         "title": {
          "text": "reincide"
         },
         "tracegroupgap": 0
        },
        "plot_bgcolor": "white",
        "template": {
         "data": {
          "bar": [
           {
            "error_x": {
             "color": "#2a3f5f"
            },
            "error_y": {
             "color": "#2a3f5f"
            },
            "marker": {
             "line": {
              "color": "white",
              "width": 0.5
             },
             "pattern": {
              "fillmode": "overlay",
              "size": 10,
              "solidity": 0.2
             }
            },
            "type": "bar"
           }
          ],
          "barpolar": [
           {
            "marker": {
             "line": {
              "color": "white",
              "width": 0.5
             },
             "pattern": {
              "fillmode": "overlay",
              "size": 10,
              "solidity": 0.2
             }
            },
            "type": "barpolar"
           }
          ],
          "carpet": [
           {
            "aaxis": {
             "endlinecolor": "#2a3f5f",
             "gridcolor": "#C8D4E3",
             "linecolor": "#C8D4E3",
             "minorgridcolor": "#C8D4E3",
             "startlinecolor": "#2a3f5f"
            },
            "baxis": {
             "endlinecolor": "#2a3f5f",
             "gridcolor": "#C8D4E3",
             "linecolor": "#C8D4E3",
             "minorgridcolor": "#C8D4E3",
             "startlinecolor": "#2a3f5f"
            },
            "type": "carpet"
           }
          ],
          "choropleth": [
           {
            "colorbar": {
             "outlinewidth": 0,
             "ticks": ""
            },
            "type": "choropleth"
           }
          ],
          "contour": [
           {
            "colorbar": {
             "outlinewidth": 0,
             "ticks": ""
            },
            "colorscale": [
             [
              0,
              "#0d0887"
             ],
             [
              0.1111111111111111,
              "#46039f"
             ],
             [
              0.2222222222222222,
              "#7201a8"
             ],
             [
              0.3333333333333333,
              "#9c179e"
             ],
             [
              0.4444444444444444,
              "#bd3786"
             ],
             [
              0.5555555555555556,
              "#d8576b"
             ],
             [
              0.6666666666666666,
              "#ed7953"
             ],
             [
              0.7777777777777778,
              "#fb9f3a"
             ],
             [
              0.8888888888888888,
              "#fdca26"
             ],
             [
              1,
              "#f0f921"
             ]
            ],
            "type": "contour"
           }
          ],
          "contourcarpet": [
           {
            "colorbar": {
             "outlinewidth": 0,
             "ticks": ""
            },
            "type": "contourcarpet"
           }
          ],
          "heatmap": [
           {
            "colorbar": {
             "outlinewidth": 0,
             "ticks": ""
            },
            "colorscale": [
             [
              0,
              "#0d0887"
             ],
             [
              0.1111111111111111,
              "#46039f"
             ],
             [
              0.2222222222222222,
              "#7201a8"
             ],
             [
              0.3333333333333333,
              "#9c179e"
             ],
             [
              0.4444444444444444,
              "#bd3786"
             ],
             [
              0.5555555555555556,
              "#d8576b"
             ],
             [
              0.6666666666666666,
              "#ed7953"
             ],
             [
              0.7777777777777778,
              "#fb9f3a"
             ],
             [
              0.8888888888888888,
              "#fdca26"
             ],
             [
              1,
              "#f0f921"
             ]
            ],
            "type": "heatmap"
           }
          ],
          "histogram": [
           {
            "marker": {
             "pattern": {
              "fillmode": "overlay",
              "size": 10,
              "solidity": 0.2
             }
            },
            "type": "histogram"
           }
          ],
          "histogram2d": [
           {
            "colorbar": {
             "outlinewidth": 0,
             "ticks": ""
            },
            "colorscale": [
             [
              0,
              "#0d0887"
             ],
             [
              0.1111111111111111,
              "#46039f"
             ],
             [
              0.2222222222222222,
              "#7201a8"
             ],
             [
              0.3333333333333333,
              "#9c179e"
             ],
             [
              0.4444444444444444,
              "#bd3786"
             ],
             [
              0.5555555555555556,
              "#d8576b"
             ],
             [
              0.6666666666666666,
              "#ed7953"
             ],
             [
              0.7777777777777778,
              "#fb9f3a"
             ],
             [
              0.8888888888888888,
              "#fdca26"
             ],
             [
              1,
              "#f0f921"
             ]
            ],
            "type": "histogram2d"
           }
          ],
          "histogram2dcontour": [
           {
            "colorbar": {
             "outlinewidth": 0,
             "ticks": ""
            },
            "colorscale": [
             [
              0,
              "#0d0887"
             ],
             [
              0.1111111111111111,
              "#46039f"
             ],
             [
              0.2222222222222222,
              "#7201a8"
             ],
             [
              0.3333333333333333,
              "#9c179e"
             ],
             [
              0.4444444444444444,
              "#bd3786"
             ],
             [
              0.5555555555555556,
              "#d8576b"
             ],
             [
              0.6666666666666666,
              "#ed7953"
             ],
             [
              0.7777777777777778,
              "#fb9f3a"
             ],
             [
              0.8888888888888888,
              "#fdca26"
             ],
             [
              1,
              "#f0f921"
             ]
            ],
            "type": "histogram2dcontour"
           }
          ],
          "mesh3d": [
           {
            "colorbar": {
             "outlinewidth": 0,
             "ticks": ""
            },
            "type": "mesh3d"
           }
          ],
          "parcoords": [
           {
            "line": {
             "colorbar": {
              "outlinewidth": 0,
              "ticks": ""
             }
            },
            "type": "parcoords"
           }
          ],
          "pie": [
           {
            "automargin": true,
            "type": "pie"
           }
          ],
          "scatter": [
           {
            "fillpattern": {
             "fillmode": "overlay",
             "size": 10,
             "solidity": 0.2
            },
            "type": "scatter"
           }
          ],
          "scatter3d": [
           {
            "line": {
             "colorbar": {
              "outlinewidth": 0,
              "ticks": ""
             }
            },
            "marker": {
             "colorbar": {
              "outlinewidth": 0,
              "ticks": ""
             }
            },
            "type": "scatter3d"
           }
          ],
          "scattercarpet": [
           {
            "marker": {
             "colorbar": {
              "outlinewidth": 0,
              "ticks": ""
             }
            },
            "type": "scattercarpet"
           }
          ],
          "scattergeo": [
           {
            "marker": {
             "colorbar": {
              "outlinewidth": 0,
              "ticks": ""
             }
            },
            "type": "scattergeo"
           }
          ],
          "scattergl": [
           {
            "marker": {
             "colorbar": {
              "outlinewidth": 0,
              "ticks": ""
             }
            },
            "type": "scattergl"
           }
          ],
          "scattermap": [
           {
            "marker": {
             "colorbar": {
              "outlinewidth": 0,
              "ticks": ""
             }
            },
            "type": "scattermap"
           }
          ],
          "scattermapbox": [
           {
            "marker": {
             "colorbar": {
              "outlinewidth": 0,
              "ticks": ""
             }
            },
            "type": "scattermapbox"
           }
          ],
          "scatterpolar": [
           {
            "marker": {
             "colorbar": {
              "outlinewidth": 0,
              "ticks": ""
             }
            },
            "type": "scatterpolar"
           }
          ],
          "scatterpolargl": [
           {
            "marker": {
             "colorbar": {
              "outlinewidth": 0,
              "ticks": ""
             }
            },
            "type": "scatterpolargl"
           }
          ],
          "scatterternary": [
           {
            "marker": {
             "colorbar": {
              "outlinewidth": 0,
              "ticks": ""
             }
            },
            "type": "scatterternary"
           }
          ],
          "surface": [
           {
            "colorbar": {
             "outlinewidth": 0,
             "ticks": ""
            },
            "colorscale": [
             [
              0,
              "#0d0887"
             ],
             [
              0.1111111111111111,
              "#46039f"
             ],
             [
              0.2222222222222222,
              "#7201a8"
             ],
             [
              0.3333333333333333,
              "#9c179e"
             ],
             [
              0.4444444444444444,
              "#bd3786"
             ],
             [
              0.5555555555555556,
              "#d8576b"
             ],
             [
              0.6666666666666666,
              "#ed7953"
             ],
             [
              0.7777777777777778,
              "#fb9f3a"
             ],
             [
              0.8888888888888888,
              "#fdca26"
             ],
             [
              1,
              "#f0f921"
             ]
            ],
            "type": "surface"
           }
          ],
          "table": [
           {
            "cells": {
             "fill": {
              "color": "#EBF0F8"
             },
             "line": {
              "color": "white"
             }
            },
            "header": {
             "fill": {
              "color": "#C8D4E3"
             },
             "line": {
              "color": "white"
             }
            },
            "type": "table"
           }
          ]
         },
         "layout": {
          "annotationdefaults": {
           "arrowcolor": "#2a3f5f",
           "arrowhead": 0,
           "arrowwidth": 1
          },
          "autotypenumbers": "strict",
          "coloraxis": {
           "colorbar": {
            "outlinewidth": 0,
            "ticks": ""
           }
          },
          "colorscale": {
           "diverging": [
            [
             0,
             "#8e0152"
            ],
            [
             0.1,
             "#c51b7d"
            ],
            [
             0.2,
             "#de77ae"
            ],
            [
             0.3,
             "#f1b6da"
            ],
            [
             0.4,
             "#fde0ef"
            ],
            [
             0.5,
             "#f7f7f7"
            ],
            [
             0.6,
             "#e6f5d0"
            ],
            [
             0.7,
             "#b8e186"
            ],
            [
             0.8,
             "#7fbc41"
            ],
            [
             0.9,
             "#4d9221"
            ],
            [
             1,
             "#276419"
            ]
           ],
           "sequential": [
            [
             0,
             "#0d0887"
            ],
            [
             0.1111111111111111,
             "#46039f"
            ],
            [
             0.2222222222222222,
             "#7201a8"
            ],
            [
             0.3333333333333333,
             "#9c179e"
            ],
            [
             0.4444444444444444,
             "#bd3786"
            ],
            [
             0.5555555555555556,
             "#d8576b"
            ],
            [
             0.6666666666666666,
             "#ed7953"
            ],
            [
             0.7777777777777778,
             "#fb9f3a"
            ],
            [
             0.8888888888888888,
             "#fdca26"
            ],
            [
             1,
             "#f0f921"
            ]
           ],
           "sequentialminus": [
            [
             0,
             "#0d0887"
            ],
            [
             0.1111111111111111,
             "#46039f"
            ],
            [
             0.2222222222222222,
             "#7201a8"
            ],
            [
             0.3333333333333333,
             "#9c179e"
            ],
            [
             0.4444444444444444,
             "#bd3786"
            ],
            [
             0.5555555555555556,
             "#d8576b"
            ],
            [
             0.6666666666666666,
             "#ed7953"
            ],
            [
             0.7777777777777778,
             "#fb9f3a"
            ],
            [
             0.8888888888888888,
             "#fdca26"
            ],
            [
             1,
             "#f0f921"
            ]
           ]
          },
          "colorway": [
           "rgb(102,194,165)",
           "rgb(252,141,98)",
           "rgb(141,160,203)",
           "rgb(231,138,195)",
           "rgb(166,216,84)",
           "rgb(255,217,47)",
           "rgb(229,196,148)",
           "rgb(179,179,179)"
          ],
          "font": {
           "color": "#2a3f5f",
           "family": "Arial",
           "size": 11
          },
          "geo": {
           "bgcolor": "white",
           "lakecolor": "white",
           "landcolor": "white",
           "showlakes": true,
           "showland": true,
           "subunitcolor": "#C8D4E3"
          },
          "height": 500,
          "hoverlabel": {
           "align": "left"
          },
          "hovermode": "closest",
          "mapbox": {
           "style": "light"
          },
          "paper_bgcolor": "white",
          "plot_bgcolor": "white",
          "polar": {
           "angularaxis": {
            "gridcolor": "#EBF0F8",
            "linecolor": "#EBF0F8",
            "ticks": ""
           },
           "bgcolor": "white",
           "radialaxis": {
            "gridcolor": "#EBF0F8",
            "linecolor": "#EBF0F8",
            "ticks": ""
           }
          },
          "scene": {
           "xaxis": {
            "backgroundcolor": "white",
            "gridcolor": "#DFE8F3",
            "gridwidth": 2,
            "linecolor": "#EBF0F8",
            "showbackground": true,
            "ticks": "",
            "zerolinecolor": "#EBF0F8"
           },
           "yaxis": {
            "backgroundcolor": "white",
            "gridcolor": "#DFE8F3",
            "gridwidth": 2,
            "linecolor": "#EBF0F8",
            "showbackground": true,
            "ticks": "",
            "zerolinecolor": "#EBF0F8"
           },
           "zaxis": {
            "backgroundcolor": "white",
            "gridcolor": "#DFE8F3",
            "gridwidth": 2,
            "linecolor": "#EBF0F8",
            "showbackground": true,
            "ticks": "",
            "zerolinecolor": "#EBF0F8"
           }
          },
          "shapedefaults": {
           "line": {
            "color": "#2a3f5f"
           }
          },
          "ternary": {
           "aaxis": {
            "gridcolor": "#DFE8F3",
            "linecolor": "#A2B1C6",
            "ticks": ""
           },
           "baxis": {
            "gridcolor": "#DFE8F3",
            "linecolor": "#A2B1C6",
            "ticks": ""
           },
           "bgcolor": "white",
           "caxis": {
            "gridcolor": "#DFE8F3",
            "linecolor": "#A2B1C6",
            "ticks": ""
           }
          },
          "title": {
           "x": 0.05
          },
          "width": 1000,
          "xaxis": {
           "automargin": true,
           "gridcolor": "lightgrey",
           "linecolor": "#EBF0F8",
           "showgrid": true,
           "ticks": "",
           "title": {
            "standoff": 15
           },
           "zerolinecolor": "#EBF0F8",
           "zerolinewidth": 2
          },
          "yaxis": {
           "automargin": true,
           "gridcolor": "lightgrey",
           "linecolor": "#EBF0F8",
           "showgrid": true,
           "ticks": "",
           "title": {
            "standoff": 15
           },
           "zerolinecolor": "#EBF0F8",
           "zerolinewidth": 2
          }
         }
        },
        "title": {
         "text": "Número de personas evaluadas por semana según reincide"
        },
        "xaxis": {
         "anchor": "y",
         "domain": [
          0,
          1
         ],
         "gridcolor": "lightgrey",
         "showgrid": true,
         "title": {
          "text": "Semana"
         }
        },
        "yaxis": {
         "anchor": "x",
         "domain": [
          0,
          1
         ],
         "gridcolor": "lightgrey",
         "showgrid": true,
         "title": {
          "text": "Número de personas"
         }
        }
       }
      }
     },
     "metadata": {},
     "output_type": "display_data"
    }
   ],
   "source": [
    "graficar_barras_semanales_px(df_twoyears, 'fecha_evaluacion_compas', 'reincide' )"
   ]
  },
  {
   "cell_type": "markdown",
   "id": "ebbc60c6",
   "metadata": {},
   "source": [
    "**✅ QUEDA REFLEJADO EL CORTE DE DATOS EN CASOS SIN REINCIDENCIA A PARTIR DEL 1 DE ABRIL DE 2014, LO QUE ES SUFICIENTE PARA NOSOTROS PARA ACEPTAR LA TEORÍA DE SESGO EN LA INCLUSIÓN DE DATOS**"
   ]
  },
  {
   "cell_type": "markdown",
   "id": "ce7a6afb",
   "metadata": {},
   "source": [
    "<hr style=\"border:none; height:2px; background:linear-gradient(to right, #3498db, #e74c3c, #f39c12);\">\n",
    "\n",
    "<hr style=\"border:none; height:1px; background:#ddd;\">\n",
    "\n",
    "<div style=\"text-align:center; margin:20px 0;\">\n",
    "• • • •\n",
    "</div>"
   ]
  },
  {
   "cell_type": "markdown",
   "id": "b2f36f51",
   "metadata": {},
   "source": [
    "# **4. QUÉ DATOS DEBEN ESTAR EN EL DATASET PARA EVITAR SESGOS**"
   ]
  },
  {
   "cell_type": "markdown",
   "id": "f4e6f581",
   "metadata": {},
   "source": [
    "Modifico df_twoyears con motivos de inclusión de los casos  coherentes a:\n",
    "- Días entre arresto y Compas: max 30 días. \n",
    "- Días de evento desde Compas: max dos años, 730 días.\n",
    "- Días entre arrestos: max dos años, 730 días. \n",
    "- Corte Barestein.\n",
    "\n",
    "Pero no voy a filtrarlo todo de golpe, si no que voy a crear 3 datasets filtro a filtro para valorar el volumen total del dataset y poder investigar sobre los datos resultantes y los que serían eliminados. \n",
    "\n",
    "A partir de ahora iremos analizando y comparando los datos que serían eliminados en comparativa a los que quedan. "
   ]
  },
  {
   "cell_type": "markdown",
   "id": "cc7f44c8",
   "metadata": {},
   "source": [
    "4. **Hipótesis de Filtrado y Evaluación**\n",
    "   - **4.1 Días entre el arresto y la evaluación (-414 a 1057)**\n",
    "     - Explicación del problema\n",
    "     - Creación de `df_filtrado_eval` aplicando este filtro\n",
    "     - Análisis básico del nuevo dataframe\n",
    "   - **4.2 Días desde COMPAS hasta el evento (hasta 9485 ≈ 25 años)**\n",
    "     - Explicación del problema\n",
    "     - Creación de `df_filtrado_evento` aplicando este filtro\n",
    "     - Análisis básico del nuevo dataframe\n",
    "   - **4.3 Días entre arrestos (0 a 993)**\n",
    "     - Explicación del problema\n",
    "     - Creación de `df_filtrado_arrestos` aplicando este filtro\n",
    "     - Análisis básico del nuevo dataframe\n",
    "   - **4.4 Combinación de filtros**\n",
    "     - Creación de `df_filtrado_total` aplicando todas las hipótesis\n",
    "     - Comparación con el dataset original"
   ]
  },
  {
   "cell_type": "markdown",
   "id": "969d1e66",
   "metadata": {},
   "source": [
    "---"
   ]
  },
  {
   "cell_type": "markdown",
   "id": "878542ef",
   "metadata": {},
   "source": [
    "## **4.1 DIAS ENTRE EL ARRESTO Y LA EVALUCACIÓN COMPAS**"
   ]
  },
  {
   "cell_type": "markdown",
   "id": "9cf8b9f2",
   "metadata": {},
   "source": [
    "**EXPLICACIÓN DEL PROBLEMA** \n",
    "\n",
    "¿Qué dijo ProPublica sobre el periodo de evaluación COMPAS respecto al arresto?\n",
    "\n",
    "En su análisis original, ProPublica precisa que para asociar correctamente cada puntuación COMPAS con sus respectivos casos, solamente incluyeron los registros donde la fecha de arresto o de imputación ocurría dentro de los 30 días de la realización del test. En aquellos casos donde no pudieron establecer esta correspondencia, fueron excluidos del análisis \n",
    "ProPublica. Referencias (https://www.propublica.org/article/how-we-analyzed-the-compas-recidivism-algorithm)\n",
    "\n",
    "Esto significa que, según ProPublica, solo se trabajó con evaluaciones hechas en una ventana razonable alrededor del arresto: ±30 días.\n",
    "\n",
    "Poniendo todo junto: **esto es muy importante, los criterios de inclusión deben ser respetados**. \n",
    "ProPublica estableció explícitamente un criterio razonable de ventana temporal (±30 días entre arresto y evaluación) para asegurar congruencia en los datos."
   ]
  },
  {
   "cell_type": "markdown",
   "id": "f397b7d4",
   "metadata": {},
   "source": [
    "  - Explicación del problema\n",
    "     - Creación de `df_filtrado_eval` aplicando este filtro\n",
    "     - Análisis básico del nuevo dataframe"
   ]
  },
  {
   "cell_type": "markdown",
   "id": "69fc3653",
   "metadata": {},
   "source": [
    "**CREACIÓN DEL FILTRADO POR DIAS ENTRE ARRESTO Y EVALUACIÓN**"
   ]
  },
  {
   "cell_type": "code",
   "execution_count": 9,
   "id": "43089f1f",
   "metadata": {},
   "outputs": [
    {
     "name": "stdout",
     "output_type": "stream",
     "text": [
      "Dimensiones antes: (7214, 54)\n",
      "Dimensiones después: (6172, 54)\n",
      "Dimensiones excluidos: (1042, 54)\n",
      "Se han extraído del análisis 1042 casos\n"
     ]
    }
   ],
   "source": [
    "# Copia del df original\n",
    "df_twoyears_clean_diasArrestoCompas = df_twoyears.copy()\n",
    "\n",
    "# 1. Filtrar días entre arresto y evaluación (mantener ±30 días)\n",
    "df_twoyears_clean_diasArrestoCompas = df_twoyears_clean_diasArrestoCompas[(df_twoyears_clean_diasArrestoCompas['dias_entre_arresto_evaluacion'] >= -30) & \n",
    "                    (df_twoyears_clean_diasArrestoCompas['dias_entre_arresto_evaluacion'] <= 30)]\n",
    "\n",
    "# 2. Filtrar para tener df de los casos que quedan fuera.\n",
    "df_twoyears_dirty_diasArrestoCompas = df_twoyears.loc[~df_twoyears['dias_entre_arresto_evaluacion'].between(-30, 30, inclusive='both') | df_twoyears['dias_entre_arresto_evaluacion'].isna()].copy()\n",
    "\n",
    "\n",
    "# 3. Hacer comparativa de ambos datasets en resultados de reincidencia.\n",
    "\n",
    "print(f\"Dimensiones antes: {df_twoyears.shape}\")\n",
    "print(f\"Dimensiones después: {df_twoyears_clean_diasArrestoCompas.shape}\")\n",
    "print (f\"Dimensiones excluidos: {df_twoyears_dirty_diasArrestoCompas.shape}\")\n",
    "print(f\"Se han extraído del análisis {len(df_twoyears) - len(df_twoyears_clean_diasArrestoCompas)} casos\")\n"
   ]
  },
  {
   "cell_type": "markdown",
   "id": "301630b9",
   "metadata": {},
   "source": [
    "Si somos literales con el margen de 0 a +30 días y no toleramos ninguna fecha en negativo de la evaluación Compas de golpe se pierden muchos datos:"
   ]
  },
  {
   "cell_type": "code",
   "execution_count": 10,
   "id": "e7730460",
   "metadata": {},
   "outputs": [
    {
     "name": "stdout",
     "output_type": "stream",
     "text": [
      "Dimensiones antes: (7214, 54)\n",
      "Dimensiones después: (1448, 54)\n",
      "Dimensiones excluidos: (5766, 54)\n",
      "Se han extraído del análisis 5766 casos\n"
     ]
    }
   ],
   "source": [
    "# Copia del df original\n",
    "df_twoyears_clean_diasArrestoCompas2 = df_twoyears.copy()\n",
    "\n",
    "# 1. Filtrar días entre arresto y evaluación (mantener >=30 días)\n",
    "df_twoyears_clean_diasArrestoCompas2 = df_twoyears_clean_diasArrestoCompas2[\n",
    "    (df_twoyears_clean_diasArrestoCompas2['dias_entre_arresto_evaluacion'] >= 0) & \n",
    "    (df_twoyears_clean_diasArrestoCompas2['dias_entre_arresto_evaluacion'] <= 30)\n",
    "]\n",
    "\n",
    "# 2. Filtrar para tener df de los casos que quedan fuera.\n",
    "df_twoyears_dirty_diasArrestoCompas2 = df_twoyears.loc[~df_twoyears['dias_entre_arresto_evaluacion'].between(0, 30, inclusive='both') | df_twoyears['dias_entre_arresto_evaluacion'].isna()].copy()\n",
    "\n",
    "\n",
    "# 3. Hacer comparativa de ambos datasets en resultados de reincidencia.\n",
    "\n",
    "print(f\"Dimensiones antes: {df_twoyears.shape}\")\n",
    "print(f\"Dimensiones después: {df_twoyears_clean_diasArrestoCompas2.shape}\")\n",
    "print (f\"Dimensiones excluidos: {df_twoyears_dirty_diasArrestoCompas2.shape}\")\n",
    "print(f\"Se han extraído del análisis {len(df_twoyears) - len(df_twoyears_clean_diasArrestoCompas2)} casos\")\n"
   ]
  },
  {
   "cell_type": "markdown",
   "id": "a53c01d6",
   "metadata": {},
   "source": [
    "Por este motivo mantenemos +-30 desde fecha de Compas intentando incluir a una muestra mayor. "
   ]
  },
  {
   "cell_type": "markdown",
   "id": "273f8e2e",
   "metadata": {},
   "source": [
    "En este caso creamos también un dataframe con los datos excluídos para sacar de esos datos insights imporantes.\n",
    "\n",
    "Vamos a comparar los datos que se quedan fuera comparados con los datos del dataset origianl Twoyears usando el filtrado -30 a +30 días de arresto a Compas. "
   ]
  },
  {
   "cell_type": "code",
   "execution_count": 11,
   "id": "f884d40c",
   "metadata": {},
   "outputs": [
    {
     "data": {
      "application/vnd.plotly.v1+json": {
       "config": {
        "plotlyServerURL": "https://plot.ly"
       },
       "data": [
        {
         "alignmentgroup": "True",
         "hovertemplate": "variable=CLEAN (±30 días)<br>resultado_compas=%{x}<br>value=%{y}<extra></extra>",
         "legendgroup": "CLEAN (±30 días)",
         "marker": {
          "color": "rgb(102,194,165)",
          "pattern": {
           "shape": ""
          }
         },
         "name": "CLEAN (±30 días)",
         "offsetgroup": "CLEAN (±30 días)",
         "orientation": "v",
         "showlegend": true,
         "textposition": "auto",
         "texttemplate": "%{y}",
         "type": "bar",
         "x": {
          "bdata": "AQIDBAUGBwgJCg==",
          "dtype": "i1"
         },
         "xaxis": "x",
         "y": {
          "bdata": "zczMzMzMNECamZmZmZkqQAAAAAAAACVAmpmZmZmZJUDNzMzMzMwiQDMzMzMzMyFAAAAAAAAAIEAzMzMzMzMbQDMzMzMzMxtAmpmZmZmZE0A=",
          "dtype": "f8"
         },
         "yaxis": "y"
        },
        {
         "alignmentgroup": "True",
         "hovertemplate": "variable=DIRTY (fuera ±30 o NaN)<br>resultado_compas=%{x}<br>value=%{y}<extra></extra>",
         "legendgroup": "DIRTY (fuera ±30 o NaN)",
         "marker": {
          "color": "rgb(252,141,98)",
          "pattern": {
           "shape": ""
          }
         },
         "name": "DIRTY (fuera ±30 o NaN)",
         "offsetgroup": "DIRTY (fuera ±30 o NaN)",
         "orientation": "v",
         "showlegend": true,
         "textposition": "auto",
         "texttemplate": "%{y}",
         "type": "bar",
         "x": {
          "bdata": "AQIDBAUGBwgJCg==",
          "dtype": "i1"
         },
         "xaxis": "x",
         "y": {
          "bdata": "mpmZmZmZLUDNzMzMzMwmQDMzMzMzMyNAzczMzMzMI0AAAAAAAAAjQGZmZmZmZiVAZmZmZmZmIkCamZmZmZkhQM3MzMzMzCBAZmZmZmZmHkA=",
          "dtype": "f8"
         },
         "yaxis": "y"
        }
       ],
       "layout": {
        "barmode": "group",
        "legend": {
         "title": {
          "text": "variable"
         },
         "tracegroupgap": 0
        },
        "plot_bgcolor": "rgba(255,255,255,1)",
        "template": {
         "data": {
          "bar": [
           {
            "error_x": {
             "color": "#2a3f5f"
            },
            "error_y": {
             "color": "#2a3f5f"
            },
            "marker": {
             "line": {
              "color": "white",
              "width": 0.5
             },
             "pattern": {
              "fillmode": "overlay",
              "size": 10,
              "solidity": 0.2
             }
            },
            "type": "bar"
           }
          ],
          "barpolar": [
           {
            "marker": {
             "line": {
              "color": "white",
              "width": 0.5
             },
             "pattern": {
              "fillmode": "overlay",
              "size": 10,
              "solidity": 0.2
             }
            },
            "type": "barpolar"
           }
          ],
          "carpet": [
           {
            "aaxis": {
             "endlinecolor": "#2a3f5f",
             "gridcolor": "#C8D4E3",
             "linecolor": "#C8D4E3",
             "minorgridcolor": "#C8D4E3",
             "startlinecolor": "#2a3f5f"
            },
            "baxis": {
             "endlinecolor": "#2a3f5f",
             "gridcolor": "#C8D4E3",
             "linecolor": "#C8D4E3",
             "minorgridcolor": "#C8D4E3",
             "startlinecolor": "#2a3f5f"
            },
            "type": "carpet"
           }
          ],
          "choropleth": [
           {
            "colorbar": {
             "outlinewidth": 0,
             "ticks": ""
            },
            "type": "choropleth"
           }
          ],
          "contour": [
           {
            "colorbar": {
             "outlinewidth": 0,
             "ticks": ""
            },
            "colorscale": [
             [
              0,
              "#0d0887"
             ],
             [
              0.1111111111111111,
              "#46039f"
             ],
             [
              0.2222222222222222,
              "#7201a8"
             ],
             [
              0.3333333333333333,
              "#9c179e"
             ],
             [
              0.4444444444444444,
              "#bd3786"
             ],
             [
              0.5555555555555556,
              "#d8576b"
             ],
             [
              0.6666666666666666,
              "#ed7953"
             ],
             [
              0.7777777777777778,
              "#fb9f3a"
             ],
             [
              0.8888888888888888,
              "#fdca26"
             ],
             [
              1,
              "#f0f921"
             ]
            ],
            "type": "contour"
           }
          ],
          "contourcarpet": [
           {
            "colorbar": {
             "outlinewidth": 0,
             "ticks": ""
            },
            "type": "contourcarpet"
           }
          ],
          "heatmap": [
           {
            "colorbar": {
             "outlinewidth": 0,
             "ticks": ""
            },
            "colorscale": [
             [
              0,
              "#0d0887"
             ],
             [
              0.1111111111111111,
              "#46039f"
             ],
             [
              0.2222222222222222,
              "#7201a8"
             ],
             [
              0.3333333333333333,
              "#9c179e"
             ],
             [
              0.4444444444444444,
              "#bd3786"
             ],
             [
              0.5555555555555556,
              "#d8576b"
             ],
             [
              0.6666666666666666,
              "#ed7953"
             ],
             [
              0.7777777777777778,
              "#fb9f3a"
             ],
             [
              0.8888888888888888,
              "#fdca26"
             ],
             [
              1,
              "#f0f921"
             ]
            ],
            "type": "heatmap"
           }
          ],
          "histogram": [
           {
            "marker": {
             "pattern": {
              "fillmode": "overlay",
              "size": 10,
              "solidity": 0.2
             }
            },
            "type": "histogram"
           }
          ],
          "histogram2d": [
           {
            "colorbar": {
             "outlinewidth": 0,
             "ticks": ""
            },
            "colorscale": [
             [
              0,
              "#0d0887"
             ],
             [
              0.1111111111111111,
              "#46039f"
             ],
             [
              0.2222222222222222,
              "#7201a8"
             ],
             [
              0.3333333333333333,
              "#9c179e"
             ],
             [
              0.4444444444444444,
              "#bd3786"
             ],
             [
              0.5555555555555556,
              "#d8576b"
             ],
             [
              0.6666666666666666,
              "#ed7953"
             ],
             [
              0.7777777777777778,
              "#fb9f3a"
             ],
             [
              0.8888888888888888,
              "#fdca26"
             ],
             [
              1,
              "#f0f921"
             ]
            ],
            "type": "histogram2d"
           }
          ],
          "histogram2dcontour": [
           {
            "colorbar": {
             "outlinewidth": 0,
             "ticks": ""
            },
            "colorscale": [
             [
              0,
              "#0d0887"
             ],
             [
              0.1111111111111111,
              "#46039f"
             ],
             [
              0.2222222222222222,
              "#7201a8"
             ],
             [
              0.3333333333333333,
              "#9c179e"
             ],
             [
              0.4444444444444444,
              "#bd3786"
             ],
             [
              0.5555555555555556,
              "#d8576b"
             ],
             [
              0.6666666666666666,
              "#ed7953"
             ],
             [
              0.7777777777777778,
              "#fb9f3a"
             ],
             [
              0.8888888888888888,
              "#fdca26"
             ],
             [
              1,
              "#f0f921"
             ]
            ],
            "type": "histogram2dcontour"
           }
          ],
          "mesh3d": [
           {
            "colorbar": {
             "outlinewidth": 0,
             "ticks": ""
            },
            "type": "mesh3d"
           }
          ],
          "parcoords": [
           {
            "line": {
             "colorbar": {
              "outlinewidth": 0,
              "ticks": ""
             }
            },
            "type": "parcoords"
           }
          ],
          "pie": [
           {
            "automargin": true,
            "type": "pie"
           }
          ],
          "scatter": [
           {
            "fillpattern": {
             "fillmode": "overlay",
             "size": 10,
             "solidity": 0.2
            },
            "type": "scatter"
           }
          ],
          "scatter3d": [
           {
            "line": {
             "colorbar": {
              "outlinewidth": 0,
              "ticks": ""
             }
            },
            "marker": {
             "colorbar": {
              "outlinewidth": 0,
              "ticks": ""
             }
            },
            "type": "scatter3d"
           }
          ],
          "scattercarpet": [
           {
            "marker": {
             "colorbar": {
              "outlinewidth": 0,
              "ticks": ""
             }
            },
            "type": "scattercarpet"
           }
          ],
          "scattergeo": [
           {
            "marker": {
             "colorbar": {
              "outlinewidth": 0,
              "ticks": ""
             }
            },
            "type": "scattergeo"
           }
          ],
          "scattergl": [
           {
            "marker": {
             "colorbar": {
              "outlinewidth": 0,
              "ticks": ""
             }
            },
            "type": "scattergl"
           }
          ],
          "scattermap": [
           {
            "marker": {
             "colorbar": {
              "outlinewidth": 0,
              "ticks": ""
             }
            },
            "type": "scattermap"
           }
          ],
          "scattermapbox": [
           {
            "marker": {
             "colorbar": {
              "outlinewidth": 0,
              "ticks": ""
             }
            },
            "type": "scattermapbox"
           }
          ],
          "scatterpolar": [
           {
            "marker": {
             "colorbar": {
              "outlinewidth": 0,
              "ticks": ""
             }
            },
            "type": "scatterpolar"
           }
          ],
          "scatterpolargl": [
           {
            "marker": {
             "colorbar": {
              "outlinewidth": 0,
              "ticks": ""
             }
            },
            "type": "scatterpolargl"
           }
          ],
          "scatterternary": [
           {
            "marker": {
             "colorbar": {
              "outlinewidth": 0,
              "ticks": ""
             }
            },
            "type": "scatterternary"
           }
          ],
          "surface": [
           {
            "colorbar": {
             "outlinewidth": 0,
             "ticks": ""
            },
            "colorscale": [
             [
              0,
              "#0d0887"
             ],
             [
              0.1111111111111111,
              "#46039f"
             ],
             [
              0.2222222222222222,
              "#7201a8"
             ],
             [
              0.3333333333333333,
              "#9c179e"
             ],
             [
              0.4444444444444444,
              "#bd3786"
             ],
             [
              0.5555555555555556,
              "#d8576b"
             ],
             [
              0.6666666666666666,
              "#ed7953"
             ],
             [
              0.7777777777777778,
              "#fb9f3a"
             ],
             [
              0.8888888888888888,
              "#fdca26"
             ],
             [
              1,
              "#f0f921"
             ]
            ],
            "type": "surface"
           }
          ],
          "table": [
           {
            "cells": {
             "fill": {
              "color": "#EBF0F8"
             },
             "line": {
              "color": "white"
             }
            },
            "header": {
             "fill": {
              "color": "#C8D4E3"
             },
             "line": {
              "color": "white"
             }
            },
            "type": "table"
           }
          ]
         },
         "layout": {
          "annotationdefaults": {
           "arrowcolor": "#2a3f5f",
           "arrowhead": 0,
           "arrowwidth": 1
          },
          "autotypenumbers": "strict",
          "coloraxis": {
           "colorbar": {
            "outlinewidth": 0,
            "ticks": ""
           }
          },
          "colorscale": {
           "diverging": [
            [
             0,
             "#8e0152"
            ],
            [
             0.1,
             "#c51b7d"
            ],
            [
             0.2,
             "#de77ae"
            ],
            [
             0.3,
             "#f1b6da"
            ],
            [
             0.4,
             "#fde0ef"
            ],
            [
             0.5,
             "#f7f7f7"
            ],
            [
             0.6,
             "#e6f5d0"
            ],
            [
             0.7,
             "#b8e186"
            ],
            [
             0.8,
             "#7fbc41"
            ],
            [
             0.9,
             "#4d9221"
            ],
            [
             1,
             "#276419"
            ]
           ],
           "sequential": [
            [
             0,
             "#0d0887"
            ],
            [
             0.1111111111111111,
             "#46039f"
            ],
            [
             0.2222222222222222,
             "#7201a8"
            ],
            [
             0.3333333333333333,
             "#9c179e"
            ],
            [
             0.4444444444444444,
             "#bd3786"
            ],
            [
             0.5555555555555556,
             "#d8576b"
            ],
            [
             0.6666666666666666,
             "#ed7953"
            ],
            [
             0.7777777777777778,
             "#fb9f3a"
            ],
            [
             0.8888888888888888,
             "#fdca26"
            ],
            [
             1,
             "#f0f921"
            ]
           ],
           "sequentialminus": [
            [
             0,
             "#0d0887"
            ],
            [
             0.1111111111111111,
             "#46039f"
            ],
            [
             0.2222222222222222,
             "#7201a8"
            ],
            [
             0.3333333333333333,
             "#9c179e"
            ],
            [
             0.4444444444444444,
             "#bd3786"
            ],
            [
             0.5555555555555556,
             "#d8576b"
            ],
            [
             0.6666666666666666,
             "#ed7953"
            ],
            [
             0.7777777777777778,
             "#fb9f3a"
            ],
            [
             0.8888888888888888,
             "#fdca26"
            ],
            [
             1,
             "#f0f921"
            ]
           ]
          },
          "colorway": [
           "rgb(102,194,165)",
           "rgb(252,141,98)",
           "rgb(141,160,203)",
           "rgb(231,138,195)",
           "rgb(166,216,84)",
           "rgb(255,217,47)",
           "rgb(229,196,148)",
           "rgb(179,179,179)"
          ],
          "font": {
           "color": "#2a3f5f",
           "family": "Arial",
           "size": 11
          },
          "geo": {
           "bgcolor": "white",
           "lakecolor": "white",
           "landcolor": "white",
           "showlakes": true,
           "showland": true,
           "subunitcolor": "#C8D4E3"
          },
          "height": 500,
          "hoverlabel": {
           "align": "left"
          },
          "hovermode": "closest",
          "mapbox": {
           "style": "light"
          },
          "paper_bgcolor": "white",
          "plot_bgcolor": "white",
          "polar": {
           "angularaxis": {
            "gridcolor": "#EBF0F8",
            "linecolor": "#EBF0F8",
            "ticks": ""
           },
           "bgcolor": "white",
           "radialaxis": {
            "gridcolor": "#EBF0F8",
            "linecolor": "#EBF0F8",
            "ticks": ""
           }
          },
          "scene": {
           "xaxis": {
            "backgroundcolor": "white",
            "gridcolor": "#DFE8F3",
            "gridwidth": 2,
            "linecolor": "#EBF0F8",
            "showbackground": true,
            "ticks": "",
            "zerolinecolor": "#EBF0F8"
           },
           "yaxis": {
            "backgroundcolor": "white",
            "gridcolor": "#DFE8F3",
            "gridwidth": 2,
            "linecolor": "#EBF0F8",
            "showbackground": true,
            "ticks": "",
            "zerolinecolor": "#EBF0F8"
           },
           "zaxis": {
            "backgroundcolor": "white",
            "gridcolor": "#DFE8F3",
            "gridwidth": 2,
            "linecolor": "#EBF0F8",
            "showbackground": true,
            "ticks": "",
            "zerolinecolor": "#EBF0F8"
           }
          },
          "shapedefaults": {
           "line": {
            "color": "#2a3f5f"
           }
          },
          "ternary": {
           "aaxis": {
            "gridcolor": "#DFE8F3",
            "linecolor": "#A2B1C6",
            "ticks": ""
           },
           "baxis": {
            "gridcolor": "#DFE8F3",
            "linecolor": "#A2B1C6",
            "ticks": ""
           },
           "bgcolor": "white",
           "caxis": {
            "gridcolor": "#DFE8F3",
            "linecolor": "#A2B1C6",
            "ticks": ""
           }
          },
          "title": {
           "x": 0.05
          },
          "width": 1000,
          "xaxis": {
           "automargin": true,
           "gridcolor": "lightgrey",
           "linecolor": "#EBF0F8",
           "showgrid": true,
           "ticks": "",
           "title": {
            "standoff": 15
           },
           "zerolinecolor": "#EBF0F8",
           "zerolinewidth": 2
          },
          "yaxis": {
           "automargin": true,
           "gridcolor": "lightgrey",
           "linecolor": "#EBF0F8",
           "showgrid": true,
           "ticks": "",
           "title": {
            "standoff": 15
           },
           "zerolinecolor": "#EBF0F8",
           "zerolinewidth": 2
          }
         }
        },
        "title": {
         "text": "Distribución Resultado COMPAS — CLEAN vs DIRTY"
        },
        "xaxis": {
         "anchor": "y",
         "domain": [
          0,
          1
         ],
         "gridcolor": "lightgrey",
         "showgrid": true,
         "title": {
          "text": "resultado_compas"
         }
        },
        "yaxis": {
         "anchor": "x",
         "domain": [
          0,
          1
         ],
         "gridcolor": "lightgrey",
         "showgrid": true,
         "title": {
          "text": "Porcentaje (%)"
         }
        }
       }
      }
     },
     "metadata": {},
     "output_type": "display_data"
    },
    {
     "data": {
      "application/vnd.plotly.v1+json": {
       "config": {
        "plotlyServerURL": "https://plot.ly"
       },
       "data": [
        {
         "alignmentgroup": "True",
         "hovertemplate": "variable=CLEAN (±30 días)<br>reincide=%{x}<br>value=%{y}<extra></extra>",
         "legendgroup": "CLEAN (±30 días)",
         "marker": {
          "color": "rgb(102,194,165)",
          "pattern": {
           "shape": ""
          }
         },
         "name": "CLEAN (±30 días)",
         "offsetgroup": "CLEAN (±30 días)",
         "orientation": "v",
         "showlegend": true,
         "textposition": "auto",
         "texttemplate": "%{y}",
         "type": "bar",
         "x": [
          false,
          true
         ],
         "xaxis": "x",
         "y": {
          "bdata": "AAAAAABAS0AAAAAAAMBGQA==",
          "dtype": "f8"
         },
         "yaxis": "y"
        },
        {
         "alignmentgroup": "True",
         "hovertemplate": "variable=DIRTY (fuera ±30 o NaN)<br>reincide=%{x}<br>value=%{y}<extra></extra>",
         "legendgroup": "DIRTY (fuera ±30 o NaN)",
         "marker": {
          "color": "rgb(252,141,98)",
          "pattern": {
           "shape": ""
          }
         },
         "name": "DIRTY (fuera ±30 o NaN)",
         "offsetgroup": "DIRTY (fuera ±30 o NaN)",
         "orientation": "v",
         "showlegend": true,
         "textposition": "auto",
         "texttemplate": "%{y}",
         "type": "bar",
         "x": [
          false,
          true
         ],
         "xaxis": "x",
         "y": {
          "bdata": "zczMzMzMTEAzMzMzMzNFQA==",
          "dtype": "f8"
         },
         "yaxis": "y"
        }
       ],
       "layout": {
        "barmode": "group",
        "legend": {
         "title": {
          "text": "variable"
         },
         "tracegroupgap": 0
        },
        "plot_bgcolor": "rgba(255,255,255,1)",
        "template": {
         "data": {
          "bar": [
           {
            "error_x": {
             "color": "#2a3f5f"
            },
            "error_y": {
             "color": "#2a3f5f"
            },
            "marker": {
             "line": {
              "color": "white",
              "width": 0.5
             },
             "pattern": {
              "fillmode": "overlay",
              "size": 10,
              "solidity": 0.2
             }
            },
            "type": "bar"
           }
          ],
          "barpolar": [
           {
            "marker": {
             "line": {
              "color": "white",
              "width": 0.5
             },
             "pattern": {
              "fillmode": "overlay",
              "size": 10,
              "solidity": 0.2
             }
            },
            "type": "barpolar"
           }
          ],
          "carpet": [
           {
            "aaxis": {
             "endlinecolor": "#2a3f5f",
             "gridcolor": "#C8D4E3",
             "linecolor": "#C8D4E3",
             "minorgridcolor": "#C8D4E3",
             "startlinecolor": "#2a3f5f"
            },
            "baxis": {
             "endlinecolor": "#2a3f5f",
             "gridcolor": "#C8D4E3",
             "linecolor": "#C8D4E3",
             "minorgridcolor": "#C8D4E3",
             "startlinecolor": "#2a3f5f"
            },
            "type": "carpet"
           }
          ],
          "choropleth": [
           {
            "colorbar": {
             "outlinewidth": 0,
             "ticks": ""
            },
            "type": "choropleth"
           }
          ],
          "contour": [
           {
            "colorbar": {
             "outlinewidth": 0,
             "ticks": ""
            },
            "colorscale": [
             [
              0,
              "#0d0887"
             ],
             [
              0.1111111111111111,
              "#46039f"
             ],
             [
              0.2222222222222222,
              "#7201a8"
             ],
             [
              0.3333333333333333,
              "#9c179e"
             ],
             [
              0.4444444444444444,
              "#bd3786"
             ],
             [
              0.5555555555555556,
              "#d8576b"
             ],
             [
              0.6666666666666666,
              "#ed7953"
             ],
             [
              0.7777777777777778,
              "#fb9f3a"
             ],
             [
              0.8888888888888888,
              "#fdca26"
             ],
             [
              1,
              "#f0f921"
             ]
            ],
            "type": "contour"
           }
          ],
          "contourcarpet": [
           {
            "colorbar": {
             "outlinewidth": 0,
             "ticks": ""
            },
            "type": "contourcarpet"
           }
          ],
          "heatmap": [
           {
            "colorbar": {
             "outlinewidth": 0,
             "ticks": ""
            },
            "colorscale": [
             [
              0,
              "#0d0887"
             ],
             [
              0.1111111111111111,
              "#46039f"
             ],
             [
              0.2222222222222222,
              "#7201a8"
             ],
             [
              0.3333333333333333,
              "#9c179e"
             ],
             [
              0.4444444444444444,
              "#bd3786"
             ],
             [
              0.5555555555555556,
              "#d8576b"
             ],
             [
              0.6666666666666666,
              "#ed7953"
             ],
             [
              0.7777777777777778,
              "#fb9f3a"
             ],
             [
              0.8888888888888888,
              "#fdca26"
             ],
             [
              1,
              "#f0f921"
             ]
            ],
            "type": "heatmap"
           }
          ],
          "histogram": [
           {
            "marker": {
             "pattern": {
              "fillmode": "overlay",
              "size": 10,
              "solidity": 0.2
             }
            },
            "type": "histogram"
           }
          ],
          "histogram2d": [
           {
            "colorbar": {
             "outlinewidth": 0,
             "ticks": ""
            },
            "colorscale": [
             [
              0,
              "#0d0887"
             ],
             [
              0.1111111111111111,
              "#46039f"
             ],
             [
              0.2222222222222222,
              "#7201a8"
             ],
             [
              0.3333333333333333,
              "#9c179e"
             ],
             [
              0.4444444444444444,
              "#bd3786"
             ],
             [
              0.5555555555555556,
              "#d8576b"
             ],
             [
              0.6666666666666666,
              "#ed7953"
             ],
             [
              0.7777777777777778,
              "#fb9f3a"
             ],
             [
              0.8888888888888888,
              "#fdca26"
             ],
             [
              1,
              "#f0f921"
             ]
            ],
            "type": "histogram2d"
           }
          ],
          "histogram2dcontour": [
           {
            "colorbar": {
             "outlinewidth": 0,
             "ticks": ""
            },
            "colorscale": [
             [
              0,
              "#0d0887"
             ],
             [
              0.1111111111111111,
              "#46039f"
             ],
             [
              0.2222222222222222,
              "#7201a8"
             ],
             [
              0.3333333333333333,
              "#9c179e"
             ],
             [
              0.4444444444444444,
              "#bd3786"
             ],
             [
              0.5555555555555556,
              "#d8576b"
             ],
             [
              0.6666666666666666,
              "#ed7953"
             ],
             [
              0.7777777777777778,
              "#fb9f3a"
             ],
             [
              0.8888888888888888,
              "#fdca26"
             ],
             [
              1,
              "#f0f921"
             ]
            ],
            "type": "histogram2dcontour"
           }
          ],
          "mesh3d": [
           {
            "colorbar": {
             "outlinewidth": 0,
             "ticks": ""
            },
            "type": "mesh3d"
           }
          ],
          "parcoords": [
           {
            "line": {
             "colorbar": {
              "outlinewidth": 0,
              "ticks": ""
             }
            },
            "type": "parcoords"
           }
          ],
          "pie": [
           {
            "automargin": true,
            "type": "pie"
           }
          ],
          "scatter": [
           {
            "fillpattern": {
             "fillmode": "overlay",
             "size": 10,
             "solidity": 0.2
            },
            "type": "scatter"
           }
          ],
          "scatter3d": [
           {
            "line": {
             "colorbar": {
              "outlinewidth": 0,
              "ticks": ""
             }
            },
            "marker": {
             "colorbar": {
              "outlinewidth": 0,
              "ticks": ""
             }
            },
            "type": "scatter3d"
           }
          ],
          "scattercarpet": [
           {
            "marker": {
             "colorbar": {
              "outlinewidth": 0,
              "ticks": ""
             }
            },
            "type": "scattercarpet"
           }
          ],
          "scattergeo": [
           {
            "marker": {
             "colorbar": {
              "outlinewidth": 0,
              "ticks": ""
             }
            },
            "type": "scattergeo"
           }
          ],
          "scattergl": [
           {
            "marker": {
             "colorbar": {
              "outlinewidth": 0,
              "ticks": ""
             }
            },
            "type": "scattergl"
           }
          ],
          "scattermap": [
           {
            "marker": {
             "colorbar": {
              "outlinewidth": 0,
              "ticks": ""
             }
            },
            "type": "scattermap"
           }
          ],
          "scattermapbox": [
           {
            "marker": {
             "colorbar": {
              "outlinewidth": 0,
              "ticks": ""
             }
            },
            "type": "scattermapbox"
           }
          ],
          "scatterpolar": [
           {
            "marker": {
             "colorbar": {
              "outlinewidth": 0,
              "ticks": ""
             }
            },
            "type": "scatterpolar"
           }
          ],
          "scatterpolargl": [
           {
            "marker": {
             "colorbar": {
              "outlinewidth": 0,
              "ticks": ""
             }
            },
            "type": "scatterpolargl"
           }
          ],
          "scatterternary": [
           {
            "marker": {
             "colorbar": {
              "outlinewidth": 0,
              "ticks": ""
             }
            },
            "type": "scatterternary"
           }
          ],
          "surface": [
           {
            "colorbar": {
             "outlinewidth": 0,
             "ticks": ""
            },
            "colorscale": [
             [
              0,
              "#0d0887"
             ],
             [
              0.1111111111111111,
              "#46039f"
             ],
             [
              0.2222222222222222,
              "#7201a8"
             ],
             [
              0.3333333333333333,
              "#9c179e"
             ],
             [
              0.4444444444444444,
              "#bd3786"
             ],
             [
              0.5555555555555556,
              "#d8576b"
             ],
             [
              0.6666666666666666,
              "#ed7953"
             ],
             [
              0.7777777777777778,
              "#fb9f3a"
             ],
             [
              0.8888888888888888,
              "#fdca26"
             ],
             [
              1,
              "#f0f921"
             ]
            ],
            "type": "surface"
           }
          ],
          "table": [
           {
            "cells": {
             "fill": {
              "color": "#EBF0F8"
             },
             "line": {
              "color": "white"
             }
            },
            "header": {
             "fill": {
              "color": "#C8D4E3"
             },
             "line": {
              "color": "white"
             }
            },
            "type": "table"
           }
          ]
         },
         "layout": {
          "annotationdefaults": {
           "arrowcolor": "#2a3f5f",
           "arrowhead": 0,
           "arrowwidth": 1
          },
          "autotypenumbers": "strict",
          "coloraxis": {
           "colorbar": {
            "outlinewidth": 0,
            "ticks": ""
           }
          },
          "colorscale": {
           "diverging": [
            [
             0,
             "#8e0152"
            ],
            [
             0.1,
             "#c51b7d"
            ],
            [
             0.2,
             "#de77ae"
            ],
            [
             0.3,
             "#f1b6da"
            ],
            [
             0.4,
             "#fde0ef"
            ],
            [
             0.5,
             "#f7f7f7"
            ],
            [
             0.6,
             "#e6f5d0"
            ],
            [
             0.7,
             "#b8e186"
            ],
            [
             0.8,
             "#7fbc41"
            ],
            [
             0.9,
             "#4d9221"
            ],
            [
             1,
             "#276419"
            ]
           ],
           "sequential": [
            [
             0,
             "#0d0887"
            ],
            [
             0.1111111111111111,
             "#46039f"
            ],
            [
             0.2222222222222222,
             "#7201a8"
            ],
            [
             0.3333333333333333,
             "#9c179e"
            ],
            [
             0.4444444444444444,
             "#bd3786"
            ],
            [
             0.5555555555555556,
             "#d8576b"
            ],
            [
             0.6666666666666666,
             "#ed7953"
            ],
            [
             0.7777777777777778,
             "#fb9f3a"
            ],
            [
             0.8888888888888888,
             "#fdca26"
            ],
            [
             1,
             "#f0f921"
            ]
           ],
           "sequentialminus": [
            [
             0,
             "#0d0887"
            ],
            [
             0.1111111111111111,
             "#46039f"
            ],
            [
             0.2222222222222222,
             "#7201a8"
            ],
            [
             0.3333333333333333,
             "#9c179e"
            ],
            [
             0.4444444444444444,
             "#bd3786"
            ],
            [
             0.5555555555555556,
             "#d8576b"
            ],
            [
             0.6666666666666666,
             "#ed7953"
            ],
            [
             0.7777777777777778,
             "#fb9f3a"
            ],
            [
             0.8888888888888888,
             "#fdca26"
            ],
            [
             1,
             "#f0f921"
            ]
           ]
          },
          "colorway": [
           "rgb(102,194,165)",
           "rgb(252,141,98)",
           "rgb(141,160,203)",
           "rgb(231,138,195)",
           "rgb(166,216,84)",
           "rgb(255,217,47)",
           "rgb(229,196,148)",
           "rgb(179,179,179)"
          ],
          "font": {
           "color": "#2a3f5f",
           "family": "Arial",
           "size": 11
          },
          "geo": {
           "bgcolor": "white",
           "lakecolor": "white",
           "landcolor": "white",
           "showlakes": true,
           "showland": true,
           "subunitcolor": "#C8D4E3"
          },
          "height": 500,
          "hoverlabel": {
           "align": "left"
          },
          "hovermode": "closest",
          "mapbox": {
           "style": "light"
          },
          "paper_bgcolor": "white",
          "plot_bgcolor": "white",
          "polar": {
           "angularaxis": {
            "gridcolor": "#EBF0F8",
            "linecolor": "#EBF0F8",
            "ticks": ""
           },
           "bgcolor": "white",
           "radialaxis": {
            "gridcolor": "#EBF0F8",
            "linecolor": "#EBF0F8",
            "ticks": ""
           }
          },
          "scene": {
           "xaxis": {
            "backgroundcolor": "white",
            "gridcolor": "#DFE8F3",
            "gridwidth": 2,
            "linecolor": "#EBF0F8",
            "showbackground": true,
            "ticks": "",
            "zerolinecolor": "#EBF0F8"
           },
           "yaxis": {
            "backgroundcolor": "white",
            "gridcolor": "#DFE8F3",
            "gridwidth": 2,
            "linecolor": "#EBF0F8",
            "showbackground": true,
            "ticks": "",
            "zerolinecolor": "#EBF0F8"
           },
           "zaxis": {
            "backgroundcolor": "white",
            "gridcolor": "#DFE8F3",
            "gridwidth": 2,
            "linecolor": "#EBF0F8",
            "showbackground": true,
            "ticks": "",
            "zerolinecolor": "#EBF0F8"
           }
          },
          "shapedefaults": {
           "line": {
            "color": "#2a3f5f"
           }
          },
          "ternary": {
           "aaxis": {
            "gridcolor": "#DFE8F3",
            "linecolor": "#A2B1C6",
            "ticks": ""
           },
           "baxis": {
            "gridcolor": "#DFE8F3",
            "linecolor": "#A2B1C6",
            "ticks": ""
           },
           "bgcolor": "white",
           "caxis": {
            "gridcolor": "#DFE8F3",
            "linecolor": "#A2B1C6",
            "ticks": ""
           }
          },
          "title": {
           "x": 0.05
          },
          "width": 1000,
          "xaxis": {
           "automargin": true,
           "gridcolor": "lightgrey",
           "linecolor": "#EBF0F8",
           "showgrid": true,
           "ticks": "",
           "title": {
            "standoff": 15
           },
           "zerolinecolor": "#EBF0F8",
           "zerolinewidth": 2
          },
          "yaxis": {
           "automargin": true,
           "gridcolor": "lightgrey",
           "linecolor": "#EBF0F8",
           "showgrid": true,
           "ticks": "",
           "title": {
            "standoff": 15
           },
           "zerolinecolor": "#EBF0F8",
           "zerolinewidth": 2
          }
         }
        },
        "title": {
         "text": "Distribución Reincidencia — CLEAN vs DIRTY"
        },
        "xaxis": {
         "anchor": "y",
         "domain": [
          0,
          1
         ],
         "gridcolor": "lightgrey",
         "showgrid": true,
         "title": {
          "text": "reincide"
         }
        },
        "yaxis": {
         "anchor": "x",
         "domain": [
          0,
          1
         ],
         "gridcolor": "lightgrey",
         "showgrid": true,
         "title": {
          "text": "Porcentaje (%)"
         }
        }
       }
      }
     },
     "metadata": {},
     "output_type": "display_data"
    }
   ],
   "source": [
    "# Comparar los datos que estoy dejando fuera con los del dataset original:\n",
    "\n",
    "# --- Configuración ---\n",
    "SCORE_COL  = 'resultado_compas'   # columna resultado COMPAS\n",
    "TARGET_COL = 'reincide'     # columna reincidencia\n",
    "LABEL_A = 'CLEAN (±30 días)'\n",
    "LABEL_B = 'DIRTY (fuera ±30 o NaN)'\n",
    "\n",
    "df_a = df_twoyears_clean_diasArrestoCompas.copy()\n",
    "df_b = df_twoyears_dirty_diasArrestoCompas.copy()\n",
    "\n",
    "def comparar_columna_plotly(col, titulo):\n",
    "    # Crear tabla con frecuencias relativas (%)\n",
    "    s_a = df_a[col].value_counts(normalize=True).mul(100).round(1)\n",
    "    s_b = df_b[col].value_counts(normalize=True).mul(100).round(1)\n",
    "    tabla = pd.DataFrame({LABEL_A: s_a, LABEL_B: s_b}).fillna(0).reset_index().rename(columns={'index': col})\n",
    "    \n",
    "    # Gráfico de barras agrupadas\n",
    "    fig = px.bar(tabla, x=col, y=[LABEL_A, LABEL_B], barmode='group', text_auto=True,\n",
    "                 title=titulo)\n",
    "    \n",
    "    # Estilo solicitado\n",
    "    fig.update_layout(\n",
    "        xaxis_title=col,\n",
    "        yaxis_title='Porcentaje (%)',\n",
    "        plot_bgcolor='rgba(255,255,255,1)',\n",
    "        xaxis_showgrid=True, xaxis_gridcolor='lightgrey',\n",
    "        yaxis_showgrid=True, yaxis_gridcolor='lightgrey'\n",
    "    )\n",
    "    fig.show()\n",
    "    return tabla\n",
    "\n",
    "# --- Comparaciones ---\n",
    "tabla_score = comparar_columna_plotly(SCORE_COL, \"Distribución Resultado COMPAS — CLEAN vs DIRTY\")\n",
    "tabla_reinc = comparar_columna_plotly(TARGET_COL, \"Distribución Reincidencia — CLEAN vs DIRTY\")\n"
   ]
  },
  {
   "cell_type": "markdown",
   "id": "f12e5caa",
   "metadata": {},
   "source": [
    "### **CONCLUSIÓN SOBRE LA REINCIDENCIA** — Comparación CLEAN (±30 días) vs DIRTY (fuera de ±30 o NaN)\n",
    "\n",
    "**Tendencia general**  \n",
    "- Ambos grupos muestran proporciones similares, pero con matices:  \n",
    "  - En el grupo **DIRTY** hay algo más de personas sin reincidencia.  \n",
    "  - La reincidencia es ligeramente menor en el grupo **DIRTY** (42,4%) que en el **CLEAN** (45,5%).  \n",
    "\n",
    "**Posible explicación**  \n",
    "- Los registros del grupo dirty incluyen valores temporales incoherentes (ej. -414 días o +1057 días).  \n",
    "- Estos errores de calidad de datos pueden sesgar la tasa de reincidencia hacia abajo, reduciendo artificialmente el porcentaje de reincidentes.  \n",
    "- Incluirlos en el análisis puede distorsionar la estimación real del riesgo.  \n",
    "\n",
    "**Decisión analítica**  \n",
    "- Separar los casos dirty es la mejor opción, ya que no siguen un criterio lógico y pueden contaminar las conclusiones.  \n",
    "- Para evaluar la calidad predictiva de COMPAS lo más sólido es trabajar con el grupo **CLEAN (±30 días)**.  \n",
    "- Los casos **DIRTY** deben documentarse como inconsistencias en los datos, pero no mezclarse en el análisis principal.  \n",
    "\n",
    "📌  \n",
    "Los registros *dirty* presentan una tasa de reincidencia algo menor, lo que demuestra que además de ser un problema de calidad de datos, pueden sesgar las métricas de reincidencia. Por ello conviene excluirlos del análisis principal.\n"
   ]
  },
  {
   "cell_type": "markdown",
   "id": "df8c135e",
   "metadata": {},
   "source": [
    "El grupo “dirty” presenta una tasa de reincidencia algo menor que el grupo “clean”, lo que indica que los registros con fechas incoherentes no solo son un problema de calidad de datos, sino que además pueden estar sesgando las métricas de reincidencia, por lo que conviene excluirlos del análisis principal."
   ]
  },
  {
   "cell_type": "markdown",
   "id": "8b1420d1",
   "metadata": {},
   "source": [
    "---"
   ]
  },
  {
   "cell_type": "markdown",
   "id": "3868356a",
   "metadata": {},
   "source": [
    "## **4.2 DIAS DESDE COMPAS HASTA EL EVENTO (hasta 9485 días, 25 años)**"
   ]
  },
  {
   "cell_type": "markdown",
   "id": "7f526a2d",
   "metadata": {},
   "source": [
    "Al explorar esta variable se detectan **valores extremadamente altos** (hasta más de 9.000 días). Estos registros no son coherentes con el periodo de observación real del dataset, ya que exceden con mucho el **horizonte temporal de seguimiento** establecido para los acusados. \n",
    "\n",
    "La presencia de cifras tan alejadas de lo esperado indica problemas de calidad de datos, probablemente debidos a errores de cálculo o a la inclusión de eventos que no corresponden al marco del estudio.\n",
    "\n",
    "Acción tomada: se opta por limitar esta variable a un rango máximo razonable de análisis (ej. 730 días = 2 años), de modo que se mantenga la consistencia con el diseño del seguimiento y se reduzca el impacto de valores espurios en los resultados."
   ]
  },
  {
   "cell_type": "code",
   "execution_count": 12,
   "id": "a20bf081",
   "metadata": {},
   "outputs": [
    {
     "name": "stdout",
     "output_type": "stream",
     "text": [
      "Dimensiones antes: (7214, 54)\n",
      "Dimensiones después (clean ≤730): (7048, 54)\n",
      "Dimensiones excluidos (dirty >730 o NaN): (166, 54)\n",
      "Se han extraído del análisis 166 casos\n"
     ]
    }
   ],
   "source": [
    "# Copia del df original\n",
    "df_twoyears_clean_diasdesdeEvento = df_twoyears.copy()\n",
    "\n",
    "# 1. Filtrar días desde COMPAS (máximo 2 años = 730 días)\n",
    "df_twoyears_clean_diasdesdeEvento = df_twoyears_clean_diasdesdeEvento[\n",
    "    (df_twoyears_clean_diasdesdeEvento['dias_desde_compas'] >= 0) &\n",
    "    (df_twoyears_clean_diasdesdeEvento['dias_desde_compas'] <= 730)\n",
    "]\n",
    "\n",
    "# 2. Filtrar para tener df de los casos que quedan fuera (>730 o NaN)\n",
    "df_twoyears_dirty_diasdesdeEvento = df_twoyears.loc[\n",
    "    (df_twoyears['dias_desde_compas'] > 730) | df_twoyears['dias_desde_compas'].isna()\n",
    "].copy()\n",
    "\n",
    "# 3. Hacer comparativa de ambos datasets en resultados de reincidencia\n",
    "print(f\"Dimensiones antes: {df_twoyears.shape}\")\n",
    "print(f\"Dimensiones después (clean ≤730): {df_twoyears_clean_diasdesdeEvento.shape}\")\n",
    "print(f\"Dimensiones excluidos (dirty >730 o NaN): {df_twoyears_dirty_diasdesdeEvento.shape}\")\n",
    "print(f\"Se han extraído del análisis {len(df_twoyears) - len(df_twoyears_clean_diasdesdeEvento)} casos\")\n"
   ]
  },
  {
   "cell_type": "markdown",
   "id": "3908b4b7",
   "metadata": {},
   "source": [
    "Vamos a comparar los datos que se quedan fuera comparados con los datos del dataset origianl Twoyears. "
   ]
  },
  {
   "cell_type": "code",
   "execution_count": 13,
   "id": "3c3717a1",
   "metadata": {},
   "outputs": [
    {
     "data": {
      "application/vnd.plotly.v1+json": {
       "config": {
        "plotlyServerURL": "https://plot.ly"
       },
       "data": [
        {
         "alignmentgroup": "True",
         "hovertemplate": "variable=CLEAN (≤730 días)<br>resultado_compas=%{x}<br>value=%{y}<extra></extra>",
         "legendgroup": "CLEAN (≤730 días)",
         "marker": {
          "color": "rgb(102,194,165)",
          "pattern": {
           "shape": ""
          }
         },
         "name": "CLEAN (≤730 días)",
         "offsetgroup": "CLEAN (≤730 días)",
         "orientation": "v",
         "showlegend": true,
         "textposition": "auto",
         "texttemplate": "%{y}",
         "type": "bar",
         "x": {
          "bdata": "AQIDBAUGBwgJCg==",
          "dtype": "i1"
         },
         "xaxis": "x",
         "y": {
          "bdata": "AAAAAAAANEAzMzMzMzMqQM3MzMzMzCRAZmZmZmZmJUDNzMzMzMwiQM3MzMzMzCFAZmZmZmZmIEAAAAAAAAAcQJqZmZmZmRtAMzMzMzMzFUA=",
          "dtype": "f8"
         },
         "yaxis": "y"
        },
        {
         "alignmentgroup": "True",
         "hovertemplate": "variable=DIRTY (>730 o NaN)<br>resultado_compas=%{x}<br>value=%{y}<extra></extra>",
         "legendgroup": "DIRTY (>730 o NaN)",
         "marker": {
          "color": "rgb(252,141,98)",
          "pattern": {
           "shape": ""
          }
         },
         "name": "DIRTY (>730 o NaN)",
         "offsetgroup": "DIRTY (>730 o NaN)",
         "orientation": "v",
         "showlegend": true,
         "textposition": "auto",
         "texttemplate": "%{y}",
         "type": "bar",
         "x": {
          "bdata": "AQIDBAUGBwgJCg==",
          "dtype": "i1"
         },
         "xaxis": "x",
         "y": {
          "bdata": "zczMzMxMMEDNzMzMzMwmQM3MzMzMzCBAMzMzMzMzH0AzMzMzMzMjQAAAAAAAACJAAAAAAAAAIkCamZmZmZklQM3MzMzMzCZAAAAAAAAAGEA=",
          "dtype": "f8"
         },
         "yaxis": "y"
        }
       ],
       "layout": {
        "barmode": "group",
        "legend": {
         "title": {
          "text": "variable"
         },
         "tracegroupgap": 0
        },
        "plot_bgcolor": "rgba(255,255,255,1)",
        "template": {
         "data": {
          "bar": [
           {
            "error_x": {
             "color": "#2a3f5f"
            },
            "error_y": {
             "color": "#2a3f5f"
            },
            "marker": {
             "line": {
              "color": "white",
              "width": 0.5
             },
             "pattern": {
              "fillmode": "overlay",
              "size": 10,
              "solidity": 0.2
             }
            },
            "type": "bar"
           }
          ],
          "barpolar": [
           {
            "marker": {
             "line": {
              "color": "white",
              "width": 0.5
             },
             "pattern": {
              "fillmode": "overlay",
              "size": 10,
              "solidity": 0.2
             }
            },
            "type": "barpolar"
           }
          ],
          "carpet": [
           {
            "aaxis": {
             "endlinecolor": "#2a3f5f",
             "gridcolor": "#C8D4E3",
             "linecolor": "#C8D4E3",
             "minorgridcolor": "#C8D4E3",
             "startlinecolor": "#2a3f5f"
            },
            "baxis": {
             "endlinecolor": "#2a3f5f",
             "gridcolor": "#C8D4E3",
             "linecolor": "#C8D4E3",
             "minorgridcolor": "#C8D4E3",
             "startlinecolor": "#2a3f5f"
            },
            "type": "carpet"
           }
          ],
          "choropleth": [
           {
            "colorbar": {
             "outlinewidth": 0,
             "ticks": ""
            },
            "type": "choropleth"
           }
          ],
          "contour": [
           {
            "colorbar": {
             "outlinewidth": 0,
             "ticks": ""
            },
            "colorscale": [
             [
              0,
              "#0d0887"
             ],
             [
              0.1111111111111111,
              "#46039f"
             ],
             [
              0.2222222222222222,
              "#7201a8"
             ],
             [
              0.3333333333333333,
              "#9c179e"
             ],
             [
              0.4444444444444444,
              "#bd3786"
             ],
             [
              0.5555555555555556,
              "#d8576b"
             ],
             [
              0.6666666666666666,
              "#ed7953"
             ],
             [
              0.7777777777777778,
              "#fb9f3a"
             ],
             [
              0.8888888888888888,
              "#fdca26"
             ],
             [
              1,
              "#f0f921"
             ]
            ],
            "type": "contour"
           }
          ],
          "contourcarpet": [
           {
            "colorbar": {
             "outlinewidth": 0,
             "ticks": ""
            },
            "type": "contourcarpet"
           }
          ],
          "heatmap": [
           {
            "colorbar": {
             "outlinewidth": 0,
             "ticks": ""
            },
            "colorscale": [
             [
              0,
              "#0d0887"
             ],
             [
              0.1111111111111111,
              "#46039f"
             ],
             [
              0.2222222222222222,
              "#7201a8"
             ],
             [
              0.3333333333333333,
              "#9c179e"
             ],
             [
              0.4444444444444444,
              "#bd3786"
             ],
             [
              0.5555555555555556,
              "#d8576b"
             ],
             [
              0.6666666666666666,
              "#ed7953"
             ],
             [
              0.7777777777777778,
              "#fb9f3a"
             ],
             [
              0.8888888888888888,
              "#fdca26"
             ],
             [
              1,
              "#f0f921"
             ]
            ],
            "type": "heatmap"
           }
          ],
          "histogram": [
           {
            "marker": {
             "pattern": {
              "fillmode": "overlay",
              "size": 10,
              "solidity": 0.2
             }
            },
            "type": "histogram"
           }
          ],
          "histogram2d": [
           {
            "colorbar": {
             "outlinewidth": 0,
             "ticks": ""
            },
            "colorscale": [
             [
              0,
              "#0d0887"
             ],
             [
              0.1111111111111111,
              "#46039f"
             ],
             [
              0.2222222222222222,
              "#7201a8"
             ],
             [
              0.3333333333333333,
              "#9c179e"
             ],
             [
              0.4444444444444444,
              "#bd3786"
             ],
             [
              0.5555555555555556,
              "#d8576b"
             ],
             [
              0.6666666666666666,
              "#ed7953"
             ],
             [
              0.7777777777777778,
              "#fb9f3a"
             ],
             [
              0.8888888888888888,
              "#fdca26"
             ],
             [
              1,
              "#f0f921"
             ]
            ],
            "type": "histogram2d"
           }
          ],
          "histogram2dcontour": [
           {
            "colorbar": {
             "outlinewidth": 0,
             "ticks": ""
            },
            "colorscale": [
             [
              0,
              "#0d0887"
             ],
             [
              0.1111111111111111,
              "#46039f"
             ],
             [
              0.2222222222222222,
              "#7201a8"
             ],
             [
              0.3333333333333333,
              "#9c179e"
             ],
             [
              0.4444444444444444,
              "#bd3786"
             ],
             [
              0.5555555555555556,
              "#d8576b"
             ],
             [
              0.6666666666666666,
              "#ed7953"
             ],
             [
              0.7777777777777778,
              "#fb9f3a"
             ],
             [
              0.8888888888888888,
              "#fdca26"
             ],
             [
              1,
              "#f0f921"
             ]
            ],
            "type": "histogram2dcontour"
           }
          ],
          "mesh3d": [
           {
            "colorbar": {
             "outlinewidth": 0,
             "ticks": ""
            },
            "type": "mesh3d"
           }
          ],
          "parcoords": [
           {
            "line": {
             "colorbar": {
              "outlinewidth": 0,
              "ticks": ""
             }
            },
            "type": "parcoords"
           }
          ],
          "pie": [
           {
            "automargin": true,
            "type": "pie"
           }
          ],
          "scatter": [
           {
            "fillpattern": {
             "fillmode": "overlay",
             "size": 10,
             "solidity": 0.2
            },
            "type": "scatter"
           }
          ],
          "scatter3d": [
           {
            "line": {
             "colorbar": {
              "outlinewidth": 0,
              "ticks": ""
             }
            },
            "marker": {
             "colorbar": {
              "outlinewidth": 0,
              "ticks": ""
             }
            },
            "type": "scatter3d"
           }
          ],
          "scattercarpet": [
           {
            "marker": {
             "colorbar": {
              "outlinewidth": 0,
              "ticks": ""
             }
            },
            "type": "scattercarpet"
           }
          ],
          "scattergeo": [
           {
            "marker": {
             "colorbar": {
              "outlinewidth": 0,
              "ticks": ""
             }
            },
            "type": "scattergeo"
           }
          ],
          "scattergl": [
           {
            "marker": {
             "colorbar": {
              "outlinewidth": 0,
              "ticks": ""
             }
            },
            "type": "scattergl"
           }
          ],
          "scattermap": [
           {
            "marker": {
             "colorbar": {
              "outlinewidth": 0,
              "ticks": ""
             }
            },
            "type": "scattermap"
           }
          ],
          "scattermapbox": [
           {
            "marker": {
             "colorbar": {
              "outlinewidth": 0,
              "ticks": ""
             }
            },
            "type": "scattermapbox"
           }
          ],
          "scatterpolar": [
           {
            "marker": {
             "colorbar": {
              "outlinewidth": 0,
              "ticks": ""
             }
            },
            "type": "scatterpolar"
           }
          ],
          "scatterpolargl": [
           {
            "marker": {
             "colorbar": {
              "outlinewidth": 0,
              "ticks": ""
             }
            },
            "type": "scatterpolargl"
           }
          ],
          "scatterternary": [
           {
            "marker": {
             "colorbar": {
              "outlinewidth": 0,
              "ticks": ""
             }
            },
            "type": "scatterternary"
           }
          ],
          "surface": [
           {
            "colorbar": {
             "outlinewidth": 0,
             "ticks": ""
            },
            "colorscale": [
             [
              0,
              "#0d0887"
             ],
             [
              0.1111111111111111,
              "#46039f"
             ],
             [
              0.2222222222222222,
              "#7201a8"
             ],
             [
              0.3333333333333333,
              "#9c179e"
             ],
             [
              0.4444444444444444,
              "#bd3786"
             ],
             [
              0.5555555555555556,
              "#d8576b"
             ],
             [
              0.6666666666666666,
              "#ed7953"
             ],
             [
              0.7777777777777778,
              "#fb9f3a"
             ],
             [
              0.8888888888888888,
              "#fdca26"
             ],
             [
              1,
              "#f0f921"
             ]
            ],
            "type": "surface"
           }
          ],
          "table": [
           {
            "cells": {
             "fill": {
              "color": "#EBF0F8"
             },
             "line": {
              "color": "white"
             }
            },
            "header": {
             "fill": {
              "color": "#C8D4E3"
             },
             "line": {
              "color": "white"
             }
            },
            "type": "table"
           }
          ]
         },
         "layout": {
          "annotationdefaults": {
           "arrowcolor": "#2a3f5f",
           "arrowhead": 0,
           "arrowwidth": 1
          },
          "autotypenumbers": "strict",
          "coloraxis": {
           "colorbar": {
            "outlinewidth": 0,
            "ticks": ""
           }
          },
          "colorscale": {
           "diverging": [
            [
             0,
             "#8e0152"
            ],
            [
             0.1,
             "#c51b7d"
            ],
            [
             0.2,
             "#de77ae"
            ],
            [
             0.3,
             "#f1b6da"
            ],
            [
             0.4,
             "#fde0ef"
            ],
            [
             0.5,
             "#f7f7f7"
            ],
            [
             0.6,
             "#e6f5d0"
            ],
            [
             0.7,
             "#b8e186"
            ],
            [
             0.8,
             "#7fbc41"
            ],
            [
             0.9,
             "#4d9221"
            ],
            [
             1,
             "#276419"
            ]
           ],
           "sequential": [
            [
             0,
             "#0d0887"
            ],
            [
             0.1111111111111111,
             "#46039f"
            ],
            [
             0.2222222222222222,
             "#7201a8"
            ],
            [
             0.3333333333333333,
             "#9c179e"
            ],
            [
             0.4444444444444444,
             "#bd3786"
            ],
            [
             0.5555555555555556,
             "#d8576b"
            ],
            [
             0.6666666666666666,
             "#ed7953"
            ],
            [
             0.7777777777777778,
             "#fb9f3a"
            ],
            [
             0.8888888888888888,
             "#fdca26"
            ],
            [
             1,
             "#f0f921"
            ]
           ],
           "sequentialminus": [
            [
             0,
             "#0d0887"
            ],
            [
             0.1111111111111111,
             "#46039f"
            ],
            [
             0.2222222222222222,
             "#7201a8"
            ],
            [
             0.3333333333333333,
             "#9c179e"
            ],
            [
             0.4444444444444444,
             "#bd3786"
            ],
            [
             0.5555555555555556,
             "#d8576b"
            ],
            [
             0.6666666666666666,
             "#ed7953"
            ],
            [
             0.7777777777777778,
             "#fb9f3a"
            ],
            [
             0.8888888888888888,
             "#fdca26"
            ],
            [
             1,
             "#f0f921"
            ]
           ]
          },
          "colorway": [
           "rgb(102,194,165)",
           "rgb(252,141,98)",
           "rgb(141,160,203)",
           "rgb(231,138,195)",
           "rgb(166,216,84)",
           "rgb(255,217,47)",
           "rgb(229,196,148)",
           "rgb(179,179,179)"
          ],
          "font": {
           "color": "#2a3f5f",
           "family": "Arial",
           "size": 11
          },
          "geo": {
           "bgcolor": "white",
           "lakecolor": "white",
           "landcolor": "white",
           "showlakes": true,
           "showland": true,
           "subunitcolor": "#C8D4E3"
          },
          "height": 500,
          "hoverlabel": {
           "align": "left"
          },
          "hovermode": "closest",
          "mapbox": {
           "style": "light"
          },
          "paper_bgcolor": "white",
          "plot_bgcolor": "white",
          "polar": {
           "angularaxis": {
            "gridcolor": "#EBF0F8",
            "linecolor": "#EBF0F8",
            "ticks": ""
           },
           "bgcolor": "white",
           "radialaxis": {
            "gridcolor": "#EBF0F8",
            "linecolor": "#EBF0F8",
            "ticks": ""
           }
          },
          "scene": {
           "xaxis": {
            "backgroundcolor": "white",
            "gridcolor": "#DFE8F3",
            "gridwidth": 2,
            "linecolor": "#EBF0F8",
            "showbackground": true,
            "ticks": "",
            "zerolinecolor": "#EBF0F8"
           },
           "yaxis": {
            "backgroundcolor": "white",
            "gridcolor": "#DFE8F3",
            "gridwidth": 2,
            "linecolor": "#EBF0F8",
            "showbackground": true,
            "ticks": "",
            "zerolinecolor": "#EBF0F8"
           },
           "zaxis": {
            "backgroundcolor": "white",
            "gridcolor": "#DFE8F3",
            "gridwidth": 2,
            "linecolor": "#EBF0F8",
            "showbackground": true,
            "ticks": "",
            "zerolinecolor": "#EBF0F8"
           }
          },
          "shapedefaults": {
           "line": {
            "color": "#2a3f5f"
           }
          },
          "ternary": {
           "aaxis": {
            "gridcolor": "#DFE8F3",
            "linecolor": "#A2B1C6",
            "ticks": ""
           },
           "baxis": {
            "gridcolor": "#DFE8F3",
            "linecolor": "#A2B1C6",
            "ticks": ""
           },
           "bgcolor": "white",
           "caxis": {
            "gridcolor": "#DFE8F3",
            "linecolor": "#A2B1C6",
            "ticks": ""
           }
          },
          "title": {
           "x": 0.05
          },
          "width": 1000,
          "xaxis": {
           "automargin": true,
           "gridcolor": "lightgrey",
           "linecolor": "#EBF0F8",
           "showgrid": true,
           "ticks": "",
           "title": {
            "standoff": 15
           },
           "zerolinecolor": "#EBF0F8",
           "zerolinewidth": 2
          },
          "yaxis": {
           "automargin": true,
           "gridcolor": "lightgrey",
           "linecolor": "#EBF0F8",
           "showgrid": true,
           "ticks": "",
           "title": {
            "standoff": 15
           },
           "zerolinecolor": "#EBF0F8",
           "zerolinewidth": 2
          }
         }
        },
        "title": {
         "text": "Resultado COMPAS — CLEAN(≤730) vs DIRTY(>730/NaN)"
        },
        "xaxis": {
         "anchor": "y",
         "domain": [
          0,
          1
         ],
         "gridcolor": "lightgrey",
         "showgrid": true,
         "title": {
          "text": "resultado_compas"
         }
        },
        "yaxis": {
         "anchor": "x",
         "domain": [
          0,
          1
         ],
         "gridcolor": "lightgrey",
         "showgrid": true,
         "title": {
          "text": "Porcentaje (%)"
         }
        }
       }
      }
     },
     "metadata": {},
     "output_type": "display_data"
    },
    {
     "data": {
      "application/vnd.plotly.v1+json": {
       "config": {
        "plotlyServerURL": "https://plot.ly"
       },
       "data": [
        {
         "alignmentgroup": "True",
         "hovertemplate": "variable=CLEAN (≤730 días)<br>reincide=%{x}<br>value=%{y}<extra></extra>",
         "legendgroup": "CLEAN (≤730 días)",
         "marker": {
          "color": "rgb(102,194,165)",
          "pattern": {
           "shape": ""
          }
         },
         "name": "CLEAN (≤730 días)",
         "offsetgroup": "CLEAN (≤730 días)",
         "orientation": "v",
         "showlegend": true,
         "textposition": "auto",
         "texttemplate": "%{y}",
         "type": "bar",
         "x": [
          false,
          true
         ],
         "xaxis": "x",
         "y": {
          "bdata": "AAAAAABAS0AAAAAAAMBGQA==",
          "dtype": "f8"
         },
         "yaxis": "y"
        },
        {
         "alignmentgroup": "True",
         "hovertemplate": "variable=DIRTY (>730 o NaN)<br>reincide=%{x}<br>value=%{y}<extra></extra>",
         "legendgroup": "DIRTY (>730 o NaN)",
         "marker": {
          "color": "rgb(252,141,98)",
          "pattern": {
           "shape": ""
          }
         },
         "name": "DIRTY (>730 o NaN)",
         "offsetgroup": "DIRTY (>730 o NaN)",
         "orientation": "v",
         "showlegend": true,
         "textposition": "auto",
         "texttemplate": "%{y}",
         "type": "bar",
         "x": [
          false,
          true
         ],
         "xaxis": "x",
         "y": {
          "bdata": "zczMzMysUkDNzMzMzEw5QA==",
          "dtype": "f8"
         },
         "yaxis": "y"
        }
       ],
       "layout": {
        "barmode": "group",
        "legend": {
         "title": {
          "text": "variable"
         },
         "tracegroupgap": 0
        },
        "plot_bgcolor": "rgba(255,255,255,1)",
        "template": {
         "data": {
          "bar": [
           {
            "error_x": {
             "color": "#2a3f5f"
            },
            "error_y": {
             "color": "#2a3f5f"
            },
            "marker": {
             "line": {
              "color": "white",
              "width": 0.5
             },
             "pattern": {
              "fillmode": "overlay",
              "size": 10,
              "solidity": 0.2
             }
            },
            "type": "bar"
           }
          ],
          "barpolar": [
           {
            "marker": {
             "line": {
              "color": "white",
              "width": 0.5
             },
             "pattern": {
              "fillmode": "overlay",
              "size": 10,
              "solidity": 0.2
             }
            },
            "type": "barpolar"
           }
          ],
          "carpet": [
           {
            "aaxis": {
             "endlinecolor": "#2a3f5f",
             "gridcolor": "#C8D4E3",
             "linecolor": "#C8D4E3",
             "minorgridcolor": "#C8D4E3",
             "startlinecolor": "#2a3f5f"
            },
            "baxis": {
             "endlinecolor": "#2a3f5f",
             "gridcolor": "#C8D4E3",
             "linecolor": "#C8D4E3",
             "minorgridcolor": "#C8D4E3",
             "startlinecolor": "#2a3f5f"
            },
            "type": "carpet"
           }
          ],
          "choropleth": [
           {
            "colorbar": {
             "outlinewidth": 0,
             "ticks": ""
            },
            "type": "choropleth"
           }
          ],
          "contour": [
           {
            "colorbar": {
             "outlinewidth": 0,
             "ticks": ""
            },
            "colorscale": [
             [
              0,
              "#0d0887"
             ],
             [
              0.1111111111111111,
              "#46039f"
             ],
             [
              0.2222222222222222,
              "#7201a8"
             ],
             [
              0.3333333333333333,
              "#9c179e"
             ],
             [
              0.4444444444444444,
              "#bd3786"
             ],
             [
              0.5555555555555556,
              "#d8576b"
             ],
             [
              0.6666666666666666,
              "#ed7953"
             ],
             [
              0.7777777777777778,
              "#fb9f3a"
             ],
             [
              0.8888888888888888,
              "#fdca26"
             ],
             [
              1,
              "#f0f921"
             ]
            ],
            "type": "contour"
           }
          ],
          "contourcarpet": [
           {
            "colorbar": {
             "outlinewidth": 0,
             "ticks": ""
            },
            "type": "contourcarpet"
           }
          ],
          "heatmap": [
           {
            "colorbar": {
             "outlinewidth": 0,
             "ticks": ""
            },
            "colorscale": [
             [
              0,
              "#0d0887"
             ],
             [
              0.1111111111111111,
              "#46039f"
             ],
             [
              0.2222222222222222,
              "#7201a8"
             ],
             [
              0.3333333333333333,
              "#9c179e"
             ],
             [
              0.4444444444444444,
              "#bd3786"
             ],
             [
              0.5555555555555556,
              "#d8576b"
             ],
             [
              0.6666666666666666,
              "#ed7953"
             ],
             [
              0.7777777777777778,
              "#fb9f3a"
             ],
             [
              0.8888888888888888,
              "#fdca26"
             ],
             [
              1,
              "#f0f921"
             ]
            ],
            "type": "heatmap"
           }
          ],
          "histogram": [
           {
            "marker": {
             "pattern": {
              "fillmode": "overlay",
              "size": 10,
              "solidity": 0.2
             }
            },
            "type": "histogram"
           }
          ],
          "histogram2d": [
           {
            "colorbar": {
             "outlinewidth": 0,
             "ticks": ""
            },
            "colorscale": [
             [
              0,
              "#0d0887"
             ],
             [
              0.1111111111111111,
              "#46039f"
             ],
             [
              0.2222222222222222,
              "#7201a8"
             ],
             [
              0.3333333333333333,
              "#9c179e"
             ],
             [
              0.4444444444444444,
              "#bd3786"
             ],
             [
              0.5555555555555556,
              "#d8576b"
             ],
             [
              0.6666666666666666,
              "#ed7953"
             ],
             [
              0.7777777777777778,
              "#fb9f3a"
             ],
             [
              0.8888888888888888,
              "#fdca26"
             ],
             [
              1,
              "#f0f921"
             ]
            ],
            "type": "histogram2d"
           }
          ],
          "histogram2dcontour": [
           {
            "colorbar": {
             "outlinewidth": 0,
             "ticks": ""
            },
            "colorscale": [
             [
              0,
              "#0d0887"
             ],
             [
              0.1111111111111111,
              "#46039f"
             ],
             [
              0.2222222222222222,
              "#7201a8"
             ],
             [
              0.3333333333333333,
              "#9c179e"
             ],
             [
              0.4444444444444444,
              "#bd3786"
             ],
             [
              0.5555555555555556,
              "#d8576b"
             ],
             [
              0.6666666666666666,
              "#ed7953"
             ],
             [
              0.7777777777777778,
              "#fb9f3a"
             ],
             [
              0.8888888888888888,
              "#fdca26"
             ],
             [
              1,
              "#f0f921"
             ]
            ],
            "type": "histogram2dcontour"
           }
          ],
          "mesh3d": [
           {
            "colorbar": {
             "outlinewidth": 0,
             "ticks": ""
            },
            "type": "mesh3d"
           }
          ],
          "parcoords": [
           {
            "line": {
             "colorbar": {
              "outlinewidth": 0,
              "ticks": ""
             }
            },
            "type": "parcoords"
           }
          ],
          "pie": [
           {
            "automargin": true,
            "type": "pie"
           }
          ],
          "scatter": [
           {
            "fillpattern": {
             "fillmode": "overlay",
             "size": 10,
             "solidity": 0.2
            },
            "type": "scatter"
           }
          ],
          "scatter3d": [
           {
            "line": {
             "colorbar": {
              "outlinewidth": 0,
              "ticks": ""
             }
            },
            "marker": {
             "colorbar": {
              "outlinewidth": 0,
              "ticks": ""
             }
            },
            "type": "scatter3d"
           }
          ],
          "scattercarpet": [
           {
            "marker": {
             "colorbar": {
              "outlinewidth": 0,
              "ticks": ""
             }
            },
            "type": "scattercarpet"
           }
          ],
          "scattergeo": [
           {
            "marker": {
             "colorbar": {
              "outlinewidth": 0,
              "ticks": ""
             }
            },
            "type": "scattergeo"
           }
          ],
          "scattergl": [
           {
            "marker": {
             "colorbar": {
              "outlinewidth": 0,
              "ticks": ""
             }
            },
            "type": "scattergl"
           }
          ],
          "scattermap": [
           {
            "marker": {
             "colorbar": {
              "outlinewidth": 0,
              "ticks": ""
             }
            },
            "type": "scattermap"
           }
          ],
          "scattermapbox": [
           {
            "marker": {
             "colorbar": {
              "outlinewidth": 0,
              "ticks": ""
             }
            },
            "type": "scattermapbox"
           }
          ],
          "scatterpolar": [
           {
            "marker": {
             "colorbar": {
              "outlinewidth": 0,
              "ticks": ""
             }
            },
            "type": "scatterpolar"
           }
          ],
          "scatterpolargl": [
           {
            "marker": {
             "colorbar": {
              "outlinewidth": 0,
              "ticks": ""
             }
            },
            "type": "scatterpolargl"
           }
          ],
          "scatterternary": [
           {
            "marker": {
             "colorbar": {
              "outlinewidth": 0,
              "ticks": ""
             }
            },
            "type": "scatterternary"
           }
          ],
          "surface": [
           {
            "colorbar": {
             "outlinewidth": 0,
             "ticks": ""
            },
            "colorscale": [
             [
              0,
              "#0d0887"
             ],
             [
              0.1111111111111111,
              "#46039f"
             ],
             [
              0.2222222222222222,
              "#7201a8"
             ],
             [
              0.3333333333333333,
              "#9c179e"
             ],
             [
              0.4444444444444444,
              "#bd3786"
             ],
             [
              0.5555555555555556,
              "#d8576b"
             ],
             [
              0.6666666666666666,
              "#ed7953"
             ],
             [
              0.7777777777777778,
              "#fb9f3a"
             ],
             [
              0.8888888888888888,
              "#fdca26"
             ],
             [
              1,
              "#f0f921"
             ]
            ],
            "type": "surface"
           }
          ],
          "table": [
           {
            "cells": {
             "fill": {
              "color": "#EBF0F8"
             },
             "line": {
              "color": "white"
             }
            },
            "header": {
             "fill": {
              "color": "#C8D4E3"
             },
             "line": {
              "color": "white"
             }
            },
            "type": "table"
           }
          ]
         },
         "layout": {
          "annotationdefaults": {
           "arrowcolor": "#2a3f5f",
           "arrowhead": 0,
           "arrowwidth": 1
          },
          "autotypenumbers": "strict",
          "coloraxis": {
           "colorbar": {
            "outlinewidth": 0,
            "ticks": ""
           }
          },
          "colorscale": {
           "diverging": [
            [
             0,
             "#8e0152"
            ],
            [
             0.1,
             "#c51b7d"
            ],
            [
             0.2,
             "#de77ae"
            ],
            [
             0.3,
             "#f1b6da"
            ],
            [
             0.4,
             "#fde0ef"
            ],
            [
             0.5,
             "#f7f7f7"
            ],
            [
             0.6,
             "#e6f5d0"
            ],
            [
             0.7,
             "#b8e186"
            ],
            [
             0.8,
             "#7fbc41"
            ],
            [
             0.9,
             "#4d9221"
            ],
            [
             1,
             "#276419"
            ]
           ],
           "sequential": [
            [
             0,
             "#0d0887"
            ],
            [
             0.1111111111111111,
             "#46039f"
            ],
            [
             0.2222222222222222,
             "#7201a8"
            ],
            [
             0.3333333333333333,
             "#9c179e"
            ],
            [
             0.4444444444444444,
             "#bd3786"
            ],
            [
             0.5555555555555556,
             "#d8576b"
            ],
            [
             0.6666666666666666,
             "#ed7953"
            ],
            [
             0.7777777777777778,
             "#fb9f3a"
            ],
            [
             0.8888888888888888,
             "#fdca26"
            ],
            [
             1,
             "#f0f921"
            ]
           ],
           "sequentialminus": [
            [
             0,
             "#0d0887"
            ],
            [
             0.1111111111111111,
             "#46039f"
            ],
            [
             0.2222222222222222,
             "#7201a8"
            ],
            [
             0.3333333333333333,
             "#9c179e"
            ],
            [
             0.4444444444444444,
             "#bd3786"
            ],
            [
             0.5555555555555556,
             "#d8576b"
            ],
            [
             0.6666666666666666,
             "#ed7953"
            ],
            [
             0.7777777777777778,
             "#fb9f3a"
            ],
            [
             0.8888888888888888,
             "#fdca26"
            ],
            [
             1,
             "#f0f921"
            ]
           ]
          },
          "colorway": [
           "rgb(102,194,165)",
           "rgb(252,141,98)",
           "rgb(141,160,203)",
           "rgb(231,138,195)",
           "rgb(166,216,84)",
           "rgb(255,217,47)",
           "rgb(229,196,148)",
           "rgb(179,179,179)"
          ],
          "font": {
           "color": "#2a3f5f",
           "family": "Arial",
           "size": 11
          },
          "geo": {
           "bgcolor": "white",
           "lakecolor": "white",
           "landcolor": "white",
           "showlakes": true,
           "showland": true,
           "subunitcolor": "#C8D4E3"
          },
          "height": 500,
          "hoverlabel": {
           "align": "left"
          },
          "hovermode": "closest",
          "mapbox": {
           "style": "light"
          },
          "paper_bgcolor": "white",
          "plot_bgcolor": "white",
          "polar": {
           "angularaxis": {
            "gridcolor": "#EBF0F8",
            "linecolor": "#EBF0F8",
            "ticks": ""
           },
           "bgcolor": "white",
           "radialaxis": {
            "gridcolor": "#EBF0F8",
            "linecolor": "#EBF0F8",
            "ticks": ""
           }
          },
          "scene": {
           "xaxis": {
            "backgroundcolor": "white",
            "gridcolor": "#DFE8F3",
            "gridwidth": 2,
            "linecolor": "#EBF0F8",
            "showbackground": true,
            "ticks": "",
            "zerolinecolor": "#EBF0F8"
           },
           "yaxis": {
            "backgroundcolor": "white",
            "gridcolor": "#DFE8F3",
            "gridwidth": 2,
            "linecolor": "#EBF0F8",
            "showbackground": true,
            "ticks": "",
            "zerolinecolor": "#EBF0F8"
           },
           "zaxis": {
            "backgroundcolor": "white",
            "gridcolor": "#DFE8F3",
            "gridwidth": 2,
            "linecolor": "#EBF0F8",
            "showbackground": true,
            "ticks": "",
            "zerolinecolor": "#EBF0F8"
           }
          },
          "shapedefaults": {
           "line": {
            "color": "#2a3f5f"
           }
          },
          "ternary": {
           "aaxis": {
            "gridcolor": "#DFE8F3",
            "linecolor": "#A2B1C6",
            "ticks": ""
           },
           "baxis": {
            "gridcolor": "#DFE8F3",
            "linecolor": "#A2B1C6",
            "ticks": ""
           },
           "bgcolor": "white",
           "caxis": {
            "gridcolor": "#DFE8F3",
            "linecolor": "#A2B1C6",
            "ticks": ""
           }
          },
          "title": {
           "x": 0.05
          },
          "width": 1000,
          "xaxis": {
           "automargin": true,
           "gridcolor": "lightgrey",
           "linecolor": "#EBF0F8",
           "showgrid": true,
           "ticks": "",
           "title": {
            "standoff": 15
           },
           "zerolinecolor": "#EBF0F8",
           "zerolinewidth": 2
          },
          "yaxis": {
           "automargin": true,
           "gridcolor": "lightgrey",
           "linecolor": "#EBF0F8",
           "showgrid": true,
           "ticks": "",
           "title": {
            "standoff": 15
           },
           "zerolinecolor": "#EBF0F8",
           "zerolinewidth": 2
          }
         }
        },
        "title": {
         "text": "Reincidencia — CLEAN(≤730) vs DIRTY(>730/NaN)"
        },
        "xaxis": {
         "anchor": "y",
         "domain": [
          0,
          1
         ],
         "gridcolor": "lightgrey",
         "showgrid": true,
         "title": {
          "text": "reincide"
         }
        },
        "yaxis": {
         "anchor": "x",
         "domain": [
          0,
          1
         ],
         "gridcolor": "lightgrey",
         "showgrid": true,
         "title": {
          "text": "Porcentaje (%)"
         }
        }
       }
      }
     },
     "metadata": {},
     "output_type": "display_data"
    }
   ],
   "source": [
    "\n",
    "# --- Configuración ---\n",
    "SCORE_COL  = 'resultado_compas'   # columna resultado COMPAS\n",
    "TARGET_COL = 'reincide'           # columna reincidencia\n",
    "\n",
    "LABEL_C = 'CLEAN (≤730 días)'\n",
    "LABEL_D = 'DIRTY (>730 o NaN)'\n",
    "\n",
    "df_c = df_twoyears_clean_diasdesdeEvento.copy()\n",
    "df_d = df_twoyears_dirty_diasdesdeEvento.copy()\n",
    "\n",
    "def comparar_columna_plotly_evento(col, titulo):\n",
    "    # Crear tabla con frecuencias relativas (%)\n",
    "    s_c = df_c[col].value_counts(normalize=True).mul(100).round(1)\n",
    "    s_d = df_d[col].value_counts(normalize=True).mul(100).round(1)\n",
    "    tabla = (\n",
    "        pd.DataFrame({LABEL_C: s_c, LABEL_D: s_d})\n",
    "        .fillna(0)\n",
    "        .reset_index()\n",
    "        .rename(columns={'index': col})\n",
    "    )\n",
    "\n",
    "    # Gráfico de barras agrupadas\n",
    "    fig = px.bar(\n",
    "        tabla, x=col, y=[LABEL_C, LABEL_D],\n",
    "        barmode='group', text_auto=True, title=titulo\n",
    "    )\n",
    "\n",
    "    # Estilo solicitado\n",
    "    fig.update_layout(\n",
    "        xaxis_title=col,\n",
    "        yaxis_title='Porcentaje (%)',\n",
    "        plot_bgcolor='rgba(255,255,255,1)',\n",
    "        xaxis_showgrid=True, xaxis_gridcolor='lightgrey',\n",
    "        yaxis_showgrid=True, yaxis_gridcolor='lightgrey'\n",
    "    )\n",
    "    fig.show()\n",
    "    return tabla\n",
    "\n",
    "# --- Comparaciones ---\n",
    "tabla_score_evento = comparar_columna_plotly_evento(SCORE_COL,  \"Resultado COMPAS — CLEAN(≤730) vs DIRTY(>730/NaN)\")\n",
    "tabla_reinc_evento = comparar_columna_plotly_evento(TARGET_COL, \"Reincidencia — CLEAN(≤730) vs DIRTY(>730/NaN)\")\n"
   ]
  },
  {
   "cell_type": "markdown",
   "id": "ffd9a3b4",
   "metadata": {},
   "source": [
    "**CONCLUSIÓN DE LOS DATOS EXCLUIDOS**\n",
    "### Reincidencia — Comparación CLEAN (≤730 días) vs DIRTY (>730 o NaN)\n",
    "\n",
    "- En el grupo **CLEAN** (tiempos coherentes, ≤730 días), la reincidencia se mantiene equilibrada:  \n",
    "  - **54,5%** no reinciden.  \n",
    "  - **45,5%** reinciden.  \n",
    "\n",
    "- En el grupo **DIRTY** (tiempos inconsistentes, >730 días o NaN), la distribución cambia notablemente:  \n",
    "  - **74,7%** no reinciden.  \n",
    "  - Solo **25,3%** reinciden.  \n",
    "\n",
    "👉 **Interpretación:** Los registros con valores anómalos en la variable de días muestran una tasa de reincidencia mucho menor. Esto sugiere que dichos casos pueden estar distorsionando la estimación real del riesgo. Por ello, resulta adecuado excluirlos del análisis principal y mantenerlos solo como evidencia de problemas de calidad de datos.\n"
   ]
  },
  {
   "cell_type": "markdown",
   "id": "d7925168",
   "metadata": {},
   "source": [
    "---"
   ]
  },
  {
   "cell_type": "markdown",
   "id": "b30f89d6",
   "metadata": {},
   "source": [
    "## **4.3 DIAS ENTRE ARRESTOS**"
   ]
  },
  {
   "cell_type": "code",
   "execution_count": 14,
   "id": "0a0978fc",
   "metadata": {},
   "outputs": [
    {
     "name": "stdout",
     "output_type": "stream",
     "text": [
      "Dimensiones antes: (7214, 54)\n",
      "Dimensiones después: (2305, 54)\n"
     ]
    }
   ],
   "source": [
    "# Copia del df original\n",
    "df_twoyears_clean_diasentreArrestos = df_twoyears.copy()\n",
    "\n",
    "\n",
    "\n",
    "# 3. Filtrar días entre arrestos (máximo 730 días = 2 años)\n",
    "df_twoyears_clean_diasentreArrestos = df_twoyears_clean_diasentreArrestos[(df_twoyears_clean_diasentreArrestos['dias_entre_arrestos'] >= 0) & \n",
    "                    (df_twoyears_clean_diasentreArrestos['dias_entre_arrestos'] <= 730)]\n",
    "\n",
    "print(f\"Dimensiones antes: {df_twoyears.shape}\")\n",
    "print(f\"Dimensiones después: {df_twoyears_clean_diasentreArrestos.shape}\")"
   ]
  },
  {
   "cell_type": "markdown",
   "id": "ba8fce1b",
   "metadata": {},
   "source": [
    "### **CONCLUSIONES AL FILTRO DÍAS ENTRE ARRESTOS** \n",
    "\n",
    "Al aplicar un filtro de máximo 730 días (2 años) para la variable *dias_entre_arrestos*,\n",
    "observamos que el dataset se reduce drásticamente: de **7.214 filas originales** a solo **2.305 filas**.\n",
    "Esto supone perder cerca del **70% de los casos**.\n",
    "\n",
    "Tras analizarlo, consideramos que aplicar este corte tendría varias implicaciones:\n",
    "\n",
    "- **Reducción de muestra:** con tan pocos registros, el análisis pierde representatividad y robustez.\n",
    "- **Posible sesgo:** si los valores fuera de rango no están distribuidos de manera aleatoria,\n",
    "podríamos estar excluyendo grupos concretos (por ejemplo, según etnia o reincidencia),\n",
    "introduciendo un sesgo adicional en el análisis.\n",
    "- **Consistencia metodológica:** a diferencia de otros filtros aplicados (±30 días entre arresto y COMPAS,\n",
    "y ≤730 días desde COMPAS hasta el evento), en este caso no existe un criterio claro en el diseño original\n",
    "del dataset que justifique este límite.\n",
    "\n",
    "Por estos motivos, **hemos decidido no aplicar este filtro como criterio de exclusión**.\n",
    "En su lugar, mantendremos la variable como un **indicador auxiliar de calidad de datos**, analizando:\n",
    "\n",
    "- qué porcentaje de casos supera los 730 días,  \n",
    "- cómo se distribuyen estos valores según la reincidencia y los grupos demográficos.\n",
    "\n",
    "De este modo preservamos el tamaño muestral para los análisis principales, a la vez que documentamos\n",
    "las incoherencias de la variable como una limitación del dataset.\n"
   ]
  },
  {
   "cell_type": "markdown",
   "id": "427ee3c6",
   "metadata": {},
   "source": [
    "---"
   ]
  },
  {
   "cell_type": "markdown",
   "id": "24585bd8",
   "metadata": {},
   "source": [
    "## **4.4 COMBINACIÓN DE FILTROS PROPUESTA PARA QUE SEA UN DATASET MÁS COHERENTE**"
   ]
  },
  {
   "cell_type": "markdown",
   "id": "145ca2e8",
   "metadata": {},
   "source": [
    "Tal y como Propublica realizó la variable diana del estudio, \"two_year_recid\" en la versión original, \"reincide\" en la nuestra tuvo que analizar los cargos antiguos y posteriores a la evaluación Compas para saber si había reincidido primero. Esa columna se llamó \"is_recid\", o \"reincidencia_general\" para nosotros, con la que filtró despues qué casos habían reincidido dentro de los dos años de la fecha de Compas y así creo la variable más importante. "
   ]
  },
  {
   "cell_type": "markdown",
   "id": "7d945ebc",
   "metadata": {},
   "source": [
    "Eso está haciendo que haya un corte realista y coherente con el supuesto objetivo del estudio, **un estudio a dos años con datos a dos años para todos**. \n",
    "\n",
    "Pero nosotros nos preguntamos, ¿Cómo va a ser coherente con ese corte a dos años si hemos visto fechas de delito inicial de 1987 a 2011 en los datos? ¿Cuántos de esos delitos iniciales se han considerado NO REINCIDENTES? ¿Como estan afectando los datos antiguos al dataset? ¿De qué manera se han introducido si se supone que Compas se evalúa inicalmente después de la detención una vez detenidos por el delito? "
   ]
  },
  {
   "cell_type": "markdown",
   "id": "47769297",
   "metadata": {},
   "source": [
    "Pues bien, hay maneras diferentes de evaluar Compas, y eso lo podíamos ver en el dataset RawCompas. Existen 4 posibles situaciones donde se realiza la evaluación Compas. \n",
    "- Pretrial: División que maneja a personas arrestadas pero que aún no han sido juzgada, evaluación básica para decisiones de fianza.\n",
    "- Probation: Supervisión en la comunidad como alternativa a la prisión, evaluación básica para supervisión postsentencia. \n",
    "- DRRD: División de Recuperación de Drogas, evaluación básica para programas de drogas, evalua la severidad de la adicción.\n",
    "- Broadway County: Agencia General del Condado, es una evaluación básica administrativa. \n",
    "\n",
    "Existen pues diferentes tipos de Compas como podemos ver, desde uno administrativo a otro destinado a conocer el estado de voluntad de desintoxicación. Y por otro lado los que hemos estado viendo desde el los datos en Twoyears, son Pretrial y podemos saberlo tambien porque el tipo de escala valorado \"Risk of Reicidivism\" está dentro de las escalas \"Risk and prescreen\" de valoraciones rápidas. Con todo esto, es fácil deducir que si estamos incorporando datos de evaluaciones Compas desde el 1 enero de 2013 ¿como es posible que se realice un Risk of Reicidivism sobre un delito de 1987?"
   ]
  },
  {
   "cell_type": "markdown",
   "id": "57fabbc9",
   "metadata": {},
   "source": [
    "**PROPUESTA DE FILTRADO FINAL**"
   ]
  },
  {
   "cell_type": "code",
   "execution_count": 15,
   "id": "f577fec9",
   "metadata": {},
   "outputs": [
    {
     "name": "stdout",
     "output_type": "stream",
     "text": [
      "Dimensiones originales: (7214, 54)\n",
      "Dimensiones después de ambos filtros: 7214 → 6122\n",
      "Dimensiones tras añadir Barestein (≤ 2014-04-01): (5259, 54)\n"
     ]
    }
   ],
   "source": [
    "\n",
    "# Copia del df original\n",
    "df_twoyears_clean = df_twoyears.copy()\n",
    "\n",
    "# 1) Filtros temporales ya definidos\n",
    "df_twoyears_clean = df_twoyears_clean[\n",
    "    df_twoyears_clean['dias_entre_arresto_evaluacion'].between(-30, 30, inclusive=\"both\") &\n",
    "    df_twoyears_clean['dias_desde_compas'].between(0, 730, inclusive=\"both\")\n",
    "]\n",
    "\n",
    "# 2) Filtro Barestein: excluir evaluaciones COMPAS posteriores al 01/04/2014\n",
    "#    (conservar solo fechas <= 2014-04-01)\n",
    "\n",
    "# Localizador simple de columna de fecha de evaluación COMPAS\n",
    "def col(df, *names):\n",
    "    cols_lower = {c.lower(): c for c in df.columns}\n",
    "    for n in names:\n",
    "        if n in df.columns:\n",
    "            return n\n",
    "        if n.lower() in cols_lower:\n",
    "            return cols_lower[n.lower()]\n",
    "    return None\n",
    "\n",
    "COMPAS_DATE_COL = col(\n",
    "    df_twoyears_clean,\n",
    "    'compas_screening_date', 'screening_date',\n",
    "    'fecha_compas', 'fecha_evaluacion_compas'\n",
    ")\n",
    "if COMPAS_DATE_COL is None:\n",
    "    raise KeyError(\"No encuentro la columna de fecha de evaluación COMPAS (p. ej. 'compas_screening_date'/'screening_date').\")\n",
    "\n",
    "# Asegurar tipo datetime\n",
    "df_twoyears_clean[COMPAS_DATE_COL] = pd.to_datetime(df_twoyears_clean[COMPAS_DATE_COL], errors='coerce')\n",
    "\n",
    "# Aplicar corte (mantener <= 2014-04-01). NaT se mantienen (solo excluimos las > corte).\n",
    "cutoff = pd.Timestamp('2014-04-01')\n",
    "df_twoyears_clean = df_twoyears_clean[df_twoyears_clean[COMPAS_DATE_COL].isna() | (df_twoyears_clean[COMPAS_DATE_COL] <= cutoff)]\n",
    "\n",
    "# Resumen\n",
    "print(f\"Dimensiones originales: {df_twoyears.shape}\")\n",
    "print(f\"Dimensiones después de ambos filtros: {df_twoyears.shape[0]} → {len(df_twoyears[ df_twoyears['dias_entre_arresto_evaluacion'].between(-30, 30, inclusive='both') & df_twoyears['dias_desde_compas'].between(0, 730, inclusive='both') ])}\")\n",
    "print(f\"Dimensiones tras añadir Barestein (≤ 2014-04-01): {df_twoyears_clean.shape}\")\n"
   ]
  },
  {
   "cell_type": "code",
   "execution_count": 16,
   "id": "e2a5ffd4",
   "metadata": {},
   "outputs": [
    {
     "data": {
      "application/vnd.plotly.v1+json": {
       "config": {
        "plotlyServerURL": "https://plot.ly"
       },
       "data": [
        {
         "alignmentgroup": "True",
         "hovertemplate": "variable=CLEAN<br>resultado_compas=%{x}<br>value=%{y}<extra></extra>",
         "legendgroup": "CLEAN",
         "marker": {
          "color": "rgb(102,194,165)",
          "pattern": {
           "shape": ""
          }
         },
         "name": "CLEAN",
         "offsetgroup": "CLEAN",
         "orientation": "v",
         "showlegend": true,
         "textposition": "auto",
         "texttemplate": "%{y}",
         "type": "bar",
         "x": {
          "bdata": "AQIDBAUGBwgJCg==",
          "dtype": "i1"
         },
         "xaxis": "x",
         "y": {
          "bdata": "MzMzMzOzNkCamZmZmZkrQM3MzMzMzCVAAAAAAAAAJkAAAAAAAAAiQJqZmZmZmSBAzczMzMzMHkDNzMzMzMwYQDMzMzMzMxlAzczMzMzMEEA=",
          "dtype": "f8"
         },
         "yaxis": "y"
        },
        {
         "alignmentgroup": "True",
         "hovertemplate": "variable=TWOYEARS<br>resultado_compas=%{x}<br>value=%{y}<extra></extra>",
         "legendgroup": "TWOYEARS",
         "marker": {
          "color": "rgb(252,141,98)",
          "pattern": {
           "shape": ""
          }
         },
         "name": "TWOYEARS",
         "offsetgroup": "TWOYEARS",
         "orientation": "v",
         "showlegend": true,
         "textposition": "auto",
         "texttemplate": "%{y}",
         "type": "bar",
         "x": {
          "bdata": "AQIDBAUGBwgJCg==",
          "dtype": "i1"
         },
         "xaxis": "x",
         "y": {
          "bdata": "AAAAAAAANEAAAAAAAAAqQM3MzMzMzCRAZmZmZmZmJUDNzMzMzMwiQM3MzMzMzCFAZmZmZmZmIEBmZmZmZmYcQAAAAAAAABxAMzMzMzMzFUA=",
          "dtype": "f8"
         },
         "yaxis": "y"
        }
       ],
       "layout": {
        "barmode": "group",
        "legend": {
         "title": {
          "text": "variable"
         },
         "tracegroupgap": 0
        },
        "plot_bgcolor": "rgba(255,255,255,1)",
        "template": {
         "data": {
          "bar": [
           {
            "error_x": {
             "color": "#2a3f5f"
            },
            "error_y": {
             "color": "#2a3f5f"
            },
            "marker": {
             "line": {
              "color": "white",
              "width": 0.5
             },
             "pattern": {
              "fillmode": "overlay",
              "size": 10,
              "solidity": 0.2
             }
            },
            "type": "bar"
           }
          ],
          "barpolar": [
           {
            "marker": {
             "line": {
              "color": "white",
              "width": 0.5
             },
             "pattern": {
              "fillmode": "overlay",
              "size": 10,
              "solidity": 0.2
             }
            },
            "type": "barpolar"
           }
          ],
          "carpet": [
           {
            "aaxis": {
             "endlinecolor": "#2a3f5f",
             "gridcolor": "#C8D4E3",
             "linecolor": "#C8D4E3",
             "minorgridcolor": "#C8D4E3",
             "startlinecolor": "#2a3f5f"
            },
            "baxis": {
             "endlinecolor": "#2a3f5f",
             "gridcolor": "#C8D4E3",
             "linecolor": "#C8D4E3",
             "minorgridcolor": "#C8D4E3",
             "startlinecolor": "#2a3f5f"
            },
            "type": "carpet"
           }
          ],
          "choropleth": [
           {
            "colorbar": {
             "outlinewidth": 0,
             "ticks": ""
            },
            "type": "choropleth"
           }
          ],
          "contour": [
           {
            "colorbar": {
             "outlinewidth": 0,
             "ticks": ""
            },
            "colorscale": [
             [
              0,
              "#0d0887"
             ],
             [
              0.1111111111111111,
              "#46039f"
             ],
             [
              0.2222222222222222,
              "#7201a8"
             ],
             [
              0.3333333333333333,
              "#9c179e"
             ],
             [
              0.4444444444444444,
              "#bd3786"
             ],
             [
              0.5555555555555556,
              "#d8576b"
             ],
             [
              0.6666666666666666,
              "#ed7953"
             ],
             [
              0.7777777777777778,
              "#fb9f3a"
             ],
             [
              0.8888888888888888,
              "#fdca26"
             ],
             [
              1,
              "#f0f921"
             ]
            ],
            "type": "contour"
           }
          ],
          "contourcarpet": [
           {
            "colorbar": {
             "outlinewidth": 0,
             "ticks": ""
            },
            "type": "contourcarpet"
           }
          ],
          "heatmap": [
           {
            "colorbar": {
             "outlinewidth": 0,
             "ticks": ""
            },
            "colorscale": [
             [
              0,
              "#0d0887"
             ],
             [
              0.1111111111111111,
              "#46039f"
             ],
             [
              0.2222222222222222,
              "#7201a8"
             ],
             [
              0.3333333333333333,
              "#9c179e"
             ],
             [
              0.4444444444444444,
              "#bd3786"
             ],
             [
              0.5555555555555556,
              "#d8576b"
             ],
             [
              0.6666666666666666,
              "#ed7953"
             ],
             [
              0.7777777777777778,
              "#fb9f3a"
             ],
             [
              0.8888888888888888,
              "#fdca26"
             ],
             [
              1,
              "#f0f921"
             ]
            ],
            "type": "heatmap"
           }
          ],
          "histogram": [
           {
            "marker": {
             "pattern": {
              "fillmode": "overlay",
              "size": 10,
              "solidity": 0.2
             }
            },
            "type": "histogram"
           }
          ],
          "histogram2d": [
           {
            "colorbar": {
             "outlinewidth": 0,
             "ticks": ""
            },
            "colorscale": [
             [
              0,
              "#0d0887"
             ],
             [
              0.1111111111111111,
              "#46039f"
             ],
             [
              0.2222222222222222,
              "#7201a8"
             ],
             [
              0.3333333333333333,
              "#9c179e"
             ],
             [
              0.4444444444444444,
              "#bd3786"
             ],
             [
              0.5555555555555556,
              "#d8576b"
             ],
             [
              0.6666666666666666,
              "#ed7953"
             ],
             [
              0.7777777777777778,
              "#fb9f3a"
             ],
             [
              0.8888888888888888,
              "#fdca26"
             ],
             [
              1,
              "#f0f921"
             ]
            ],
            "type": "histogram2d"
           }
          ],
          "histogram2dcontour": [
           {
            "colorbar": {
             "outlinewidth": 0,
             "ticks": ""
            },
            "colorscale": [
             [
              0,
              "#0d0887"
             ],
             [
              0.1111111111111111,
              "#46039f"
             ],
             [
              0.2222222222222222,
              "#7201a8"
             ],
             [
              0.3333333333333333,
              "#9c179e"
             ],
             [
              0.4444444444444444,
              "#bd3786"
             ],
             [
              0.5555555555555556,
              "#d8576b"
             ],
             [
              0.6666666666666666,
              "#ed7953"
             ],
             [
              0.7777777777777778,
              "#fb9f3a"
             ],
             [
              0.8888888888888888,
              "#fdca26"
             ],
             [
              1,
              "#f0f921"
             ]
            ],
            "type": "histogram2dcontour"
           }
          ],
          "mesh3d": [
           {
            "colorbar": {
             "outlinewidth": 0,
             "ticks": ""
            },
            "type": "mesh3d"
           }
          ],
          "parcoords": [
           {
            "line": {
             "colorbar": {
              "outlinewidth": 0,
              "ticks": ""
             }
            },
            "type": "parcoords"
           }
          ],
          "pie": [
           {
            "automargin": true,
            "type": "pie"
           }
          ],
          "scatter": [
           {
            "fillpattern": {
             "fillmode": "overlay",
             "size": 10,
             "solidity": 0.2
            },
            "type": "scatter"
           }
          ],
          "scatter3d": [
           {
            "line": {
             "colorbar": {
              "outlinewidth": 0,
              "ticks": ""
             }
            },
            "marker": {
             "colorbar": {
              "outlinewidth": 0,
              "ticks": ""
             }
            },
            "type": "scatter3d"
           }
          ],
          "scattercarpet": [
           {
            "marker": {
             "colorbar": {
              "outlinewidth": 0,
              "ticks": ""
             }
            },
            "type": "scattercarpet"
           }
          ],
          "scattergeo": [
           {
            "marker": {
             "colorbar": {
              "outlinewidth": 0,
              "ticks": ""
             }
            },
            "type": "scattergeo"
           }
          ],
          "scattergl": [
           {
            "marker": {
             "colorbar": {
              "outlinewidth": 0,
              "ticks": ""
             }
            },
            "type": "scattergl"
           }
          ],
          "scattermap": [
           {
            "marker": {
             "colorbar": {
              "outlinewidth": 0,
              "ticks": ""
             }
            },
            "type": "scattermap"
           }
          ],
          "scattermapbox": [
           {
            "marker": {
             "colorbar": {
              "outlinewidth": 0,
              "ticks": ""
             }
            },
            "type": "scattermapbox"
           }
          ],
          "scatterpolar": [
           {
            "marker": {
             "colorbar": {
              "outlinewidth": 0,
              "ticks": ""
             }
            },
            "type": "scatterpolar"
           }
          ],
          "scatterpolargl": [
           {
            "marker": {
             "colorbar": {
              "outlinewidth": 0,
              "ticks": ""
             }
            },
            "type": "scatterpolargl"
           }
          ],
          "scatterternary": [
           {
            "marker": {
             "colorbar": {
              "outlinewidth": 0,
              "ticks": ""
             }
            },
            "type": "scatterternary"
           }
          ],
          "surface": [
           {
            "colorbar": {
             "outlinewidth": 0,
             "ticks": ""
            },
            "colorscale": [
             [
              0,
              "#0d0887"
             ],
             [
              0.1111111111111111,
              "#46039f"
             ],
             [
              0.2222222222222222,
              "#7201a8"
             ],
             [
              0.3333333333333333,
              "#9c179e"
             ],
             [
              0.4444444444444444,
              "#bd3786"
             ],
             [
              0.5555555555555556,
              "#d8576b"
             ],
             [
              0.6666666666666666,
              "#ed7953"
             ],
             [
              0.7777777777777778,
              "#fb9f3a"
             ],
             [
              0.8888888888888888,
              "#fdca26"
             ],
             [
              1,
              "#f0f921"
             ]
            ],
            "type": "surface"
           }
          ],
          "table": [
           {
            "cells": {
             "fill": {
              "color": "#EBF0F8"
             },
             "line": {
              "color": "white"
             }
            },
            "header": {
             "fill": {
              "color": "#C8D4E3"
             },
             "line": {
              "color": "white"
             }
            },
            "type": "table"
           }
          ]
         },
         "layout": {
          "annotationdefaults": {
           "arrowcolor": "#2a3f5f",
           "arrowhead": 0,
           "arrowwidth": 1
          },
          "autotypenumbers": "strict",
          "coloraxis": {
           "colorbar": {
            "outlinewidth": 0,
            "ticks": ""
           }
          },
          "colorscale": {
           "diverging": [
            [
             0,
             "#8e0152"
            ],
            [
             0.1,
             "#c51b7d"
            ],
            [
             0.2,
             "#de77ae"
            ],
            [
             0.3,
             "#f1b6da"
            ],
            [
             0.4,
             "#fde0ef"
            ],
            [
             0.5,
             "#f7f7f7"
            ],
            [
             0.6,
             "#e6f5d0"
            ],
            [
             0.7,
             "#b8e186"
            ],
            [
             0.8,
             "#7fbc41"
            ],
            [
             0.9,
             "#4d9221"
            ],
            [
             1,
             "#276419"
            ]
           ],
           "sequential": [
            [
             0,
             "#0d0887"
            ],
            [
             0.1111111111111111,
             "#46039f"
            ],
            [
             0.2222222222222222,
             "#7201a8"
            ],
            [
             0.3333333333333333,
             "#9c179e"
            ],
            [
             0.4444444444444444,
             "#bd3786"
            ],
            [
             0.5555555555555556,
             "#d8576b"
            ],
            [
             0.6666666666666666,
             "#ed7953"
            ],
            [
             0.7777777777777778,
             "#fb9f3a"
            ],
            [
             0.8888888888888888,
             "#fdca26"
            ],
            [
             1,
             "#f0f921"
            ]
           ],
           "sequentialminus": [
            [
             0,
             "#0d0887"
            ],
            [
             0.1111111111111111,
             "#46039f"
            ],
            [
             0.2222222222222222,
             "#7201a8"
            ],
            [
             0.3333333333333333,
             "#9c179e"
            ],
            [
             0.4444444444444444,
             "#bd3786"
            ],
            [
             0.5555555555555556,
             "#d8576b"
            ],
            [
             0.6666666666666666,
             "#ed7953"
            ],
            [
             0.7777777777777778,
             "#fb9f3a"
            ],
            [
             0.8888888888888888,
             "#fdca26"
            ],
            [
             1,
             "#f0f921"
            ]
           ]
          },
          "colorway": [
           "rgb(102,194,165)",
           "rgb(252,141,98)",
           "rgb(141,160,203)",
           "rgb(231,138,195)",
           "rgb(166,216,84)",
           "rgb(255,217,47)",
           "rgb(229,196,148)",
           "rgb(179,179,179)"
          ],
          "font": {
           "color": "#2a3f5f",
           "family": "Arial",
           "size": 11
          },
          "geo": {
           "bgcolor": "white",
           "lakecolor": "white",
           "landcolor": "white",
           "showlakes": true,
           "showland": true,
           "subunitcolor": "#C8D4E3"
          },
          "height": 500,
          "hoverlabel": {
           "align": "left"
          },
          "hovermode": "closest",
          "mapbox": {
           "style": "light"
          },
          "paper_bgcolor": "white",
          "plot_bgcolor": "white",
          "polar": {
           "angularaxis": {
            "gridcolor": "#EBF0F8",
            "linecolor": "#EBF0F8",
            "ticks": ""
           },
           "bgcolor": "white",
           "radialaxis": {
            "gridcolor": "#EBF0F8",
            "linecolor": "#EBF0F8",
            "ticks": ""
           }
          },
          "scene": {
           "xaxis": {
            "backgroundcolor": "white",
            "gridcolor": "#DFE8F3",
            "gridwidth": 2,
            "linecolor": "#EBF0F8",
            "showbackground": true,
            "ticks": "",
            "zerolinecolor": "#EBF0F8"
           },
           "yaxis": {
            "backgroundcolor": "white",
            "gridcolor": "#DFE8F3",
            "gridwidth": 2,
            "linecolor": "#EBF0F8",
            "showbackground": true,
            "ticks": "",
            "zerolinecolor": "#EBF0F8"
           },
           "zaxis": {
            "backgroundcolor": "white",
            "gridcolor": "#DFE8F3",
            "gridwidth": 2,
            "linecolor": "#EBF0F8",
            "showbackground": true,
            "ticks": "",
            "zerolinecolor": "#EBF0F8"
           }
          },
          "shapedefaults": {
           "line": {
            "color": "#2a3f5f"
           }
          },
          "ternary": {
           "aaxis": {
            "gridcolor": "#DFE8F3",
            "linecolor": "#A2B1C6",
            "ticks": ""
           },
           "baxis": {
            "gridcolor": "#DFE8F3",
            "linecolor": "#A2B1C6",
            "ticks": ""
           },
           "bgcolor": "white",
           "caxis": {
            "gridcolor": "#DFE8F3",
            "linecolor": "#A2B1C6",
            "ticks": ""
           }
          },
          "title": {
           "x": 0.05
          },
          "width": 1000,
          "xaxis": {
           "automargin": true,
           "gridcolor": "lightgrey",
           "linecolor": "#EBF0F8",
           "showgrid": true,
           "ticks": "",
           "title": {
            "standoff": 15
           },
           "zerolinecolor": "#EBF0F8",
           "zerolinewidth": 2
          },
          "yaxis": {
           "automargin": true,
           "gridcolor": "lightgrey",
           "linecolor": "#EBF0F8",
           "showgrid": true,
           "ticks": "",
           "title": {
            "standoff": 15
           },
           "zerolinecolor": "#EBF0F8",
           "zerolinewidth": 2
          }
         }
        },
        "title": {
         "text": "Resultado COMPAS — CLEAN vs TWOYEARS"
        },
        "xaxis": {
         "anchor": "y",
         "domain": [
          0,
          1
         ],
         "gridcolor": "lightgrey",
         "showgrid": true,
         "title": {
          "text": "resultado_compas"
         }
        },
        "yaxis": {
         "anchor": "x",
         "domain": [
          0,
          1
         ],
         "gridcolor": "lightgrey",
         "showgrid": true,
         "title": {
          "text": "Porcentaje (%)"
         }
        }
       }
      }
     },
     "metadata": {},
     "output_type": "display_data"
    },
    {
     "data": {
      "application/vnd.plotly.v1+json": {
       "config": {
        "plotlyServerURL": "https://plot.ly"
       },
       "data": [
        {
         "alignmentgroup": "True",
         "hovertemplate": "variable=CLEAN<br>reincide=%{x}<br>value=%{y}<extra></extra>",
         "legendgroup": "CLEAN",
         "marker": {
          "color": "rgb(102,194,165)",
          "pattern": {
           "shape": ""
          }
         },
         "name": "CLEAN",
         "offsetgroup": "CLEAN",
         "orientation": "v",
         "showlegend": true,
         "textposition": "auto",
         "texttemplate": "%{y}",
         "type": "bar",
         "x": [
          false,
          true
         ],
         "xaxis": "x",
         "y": {
          "bdata": "mpmZmZmZT0BmZmZmZmZCQA==",
          "dtype": "f8"
         },
         "yaxis": "y"
        },
        {
         "alignmentgroup": "True",
         "hovertemplate": "variable=TWOYEARS<br>reincide=%{x}<br>value=%{y}<extra></extra>",
         "legendgroup": "TWOYEARS",
         "marker": {
          "color": "rgb(252,141,98)",
          "pattern": {
           "shape": ""
          }
         },
         "name": "TWOYEARS",
         "offsetgroup": "TWOYEARS",
         "orientation": "v",
         "showlegend": true,
         "textposition": "auto",
         "texttemplate": "%{y}",
         "type": "bar",
         "x": [
          false,
          true
         ],
         "xaxis": "x",
         "y": {
          "bdata": "MzMzMzNzS0DNzMzMzIxGQA==",
          "dtype": "f8"
         },
         "yaxis": "y"
        }
       ],
       "layout": {
        "barmode": "group",
        "legend": {
         "title": {
          "text": "variable"
         },
         "tracegroupgap": 0
        },
        "plot_bgcolor": "rgba(255,255,255,1)",
        "template": {
         "data": {
          "bar": [
           {
            "error_x": {
             "color": "#2a3f5f"
            },
            "error_y": {
             "color": "#2a3f5f"
            },
            "marker": {
             "line": {
              "color": "white",
              "width": 0.5
             },
             "pattern": {
              "fillmode": "overlay",
              "size": 10,
              "solidity": 0.2
             }
            },
            "type": "bar"
           }
          ],
          "barpolar": [
           {
            "marker": {
             "line": {
              "color": "white",
              "width": 0.5
             },
             "pattern": {
              "fillmode": "overlay",
              "size": 10,
              "solidity": 0.2
             }
            },
            "type": "barpolar"
           }
          ],
          "carpet": [
           {
            "aaxis": {
             "endlinecolor": "#2a3f5f",
             "gridcolor": "#C8D4E3",
             "linecolor": "#C8D4E3",
             "minorgridcolor": "#C8D4E3",
             "startlinecolor": "#2a3f5f"
            },
            "baxis": {
             "endlinecolor": "#2a3f5f",
             "gridcolor": "#C8D4E3",
             "linecolor": "#C8D4E3",
             "minorgridcolor": "#C8D4E3",
             "startlinecolor": "#2a3f5f"
            },
            "type": "carpet"
           }
          ],
          "choropleth": [
           {
            "colorbar": {
             "outlinewidth": 0,
             "ticks": ""
            },
            "type": "choropleth"
           }
          ],
          "contour": [
           {
            "colorbar": {
             "outlinewidth": 0,
             "ticks": ""
            },
            "colorscale": [
             [
              0,
              "#0d0887"
             ],
             [
              0.1111111111111111,
              "#46039f"
             ],
             [
              0.2222222222222222,
              "#7201a8"
             ],
             [
              0.3333333333333333,
              "#9c179e"
             ],
             [
              0.4444444444444444,
              "#bd3786"
             ],
             [
              0.5555555555555556,
              "#d8576b"
             ],
             [
              0.6666666666666666,
              "#ed7953"
             ],
             [
              0.7777777777777778,
              "#fb9f3a"
             ],
             [
              0.8888888888888888,
              "#fdca26"
             ],
             [
              1,
              "#f0f921"
             ]
            ],
            "type": "contour"
           }
          ],
          "contourcarpet": [
           {
            "colorbar": {
             "outlinewidth": 0,
             "ticks": ""
            },
            "type": "contourcarpet"
           }
          ],
          "heatmap": [
           {
            "colorbar": {
             "outlinewidth": 0,
             "ticks": ""
            },
            "colorscale": [
             [
              0,
              "#0d0887"
             ],
             [
              0.1111111111111111,
              "#46039f"
             ],
             [
              0.2222222222222222,
              "#7201a8"
             ],
             [
              0.3333333333333333,
              "#9c179e"
             ],
             [
              0.4444444444444444,
              "#bd3786"
             ],
             [
              0.5555555555555556,
              "#d8576b"
             ],
             [
              0.6666666666666666,
              "#ed7953"
             ],
             [
              0.7777777777777778,
              "#fb9f3a"
             ],
             [
              0.8888888888888888,
              "#fdca26"
             ],
             [
              1,
              "#f0f921"
             ]
            ],
            "type": "heatmap"
           }
          ],
          "histogram": [
           {
            "marker": {
             "pattern": {
              "fillmode": "overlay",
              "size": 10,
              "solidity": 0.2
             }
            },
            "type": "histogram"
           }
          ],
          "histogram2d": [
           {
            "colorbar": {
             "outlinewidth": 0,
             "ticks": ""
            },
            "colorscale": [
             [
              0,
              "#0d0887"
             ],
             [
              0.1111111111111111,
              "#46039f"
             ],
             [
              0.2222222222222222,
              "#7201a8"
             ],
             [
              0.3333333333333333,
              "#9c179e"
             ],
             [
              0.4444444444444444,
              "#bd3786"
             ],
             [
              0.5555555555555556,
              "#d8576b"
             ],
             [
              0.6666666666666666,
              "#ed7953"
             ],
             [
              0.7777777777777778,
              "#fb9f3a"
             ],
             [
              0.8888888888888888,
              "#fdca26"
             ],
             [
              1,
              "#f0f921"
             ]
            ],
            "type": "histogram2d"
           }
          ],
          "histogram2dcontour": [
           {
            "colorbar": {
             "outlinewidth": 0,
             "ticks": ""
            },
            "colorscale": [
             [
              0,
              "#0d0887"
             ],
             [
              0.1111111111111111,
              "#46039f"
             ],
             [
              0.2222222222222222,
              "#7201a8"
             ],
             [
              0.3333333333333333,
              "#9c179e"
             ],
             [
              0.4444444444444444,
              "#bd3786"
             ],
             [
              0.5555555555555556,
              "#d8576b"
             ],
             [
              0.6666666666666666,
              "#ed7953"
             ],
             [
              0.7777777777777778,
              "#fb9f3a"
             ],
             [
              0.8888888888888888,
              "#fdca26"
             ],
             [
              1,
              "#f0f921"
             ]
            ],
            "type": "histogram2dcontour"
           }
          ],
          "mesh3d": [
           {
            "colorbar": {
             "outlinewidth": 0,
             "ticks": ""
            },
            "type": "mesh3d"
           }
          ],
          "parcoords": [
           {
            "line": {
             "colorbar": {
              "outlinewidth": 0,
              "ticks": ""
             }
            },
            "type": "parcoords"
           }
          ],
          "pie": [
           {
            "automargin": true,
            "type": "pie"
           }
          ],
          "scatter": [
           {
            "fillpattern": {
             "fillmode": "overlay",
             "size": 10,
             "solidity": 0.2
            },
            "type": "scatter"
           }
          ],
          "scatter3d": [
           {
            "line": {
             "colorbar": {
              "outlinewidth": 0,
              "ticks": ""
             }
            },
            "marker": {
             "colorbar": {
              "outlinewidth": 0,
              "ticks": ""
             }
            },
            "type": "scatter3d"
           }
          ],
          "scattercarpet": [
           {
            "marker": {
             "colorbar": {
              "outlinewidth": 0,
              "ticks": ""
             }
            },
            "type": "scattercarpet"
           }
          ],
          "scattergeo": [
           {
            "marker": {
             "colorbar": {
              "outlinewidth": 0,
              "ticks": ""
             }
            },
            "type": "scattergeo"
           }
          ],
          "scattergl": [
           {
            "marker": {
             "colorbar": {
              "outlinewidth": 0,
              "ticks": ""
             }
            },
            "type": "scattergl"
           }
          ],
          "scattermap": [
           {
            "marker": {
             "colorbar": {
              "outlinewidth": 0,
              "ticks": ""
             }
            },
            "type": "scattermap"
           }
          ],
          "scattermapbox": [
           {
            "marker": {
             "colorbar": {
              "outlinewidth": 0,
              "ticks": ""
             }
            },
            "type": "scattermapbox"
           }
          ],
          "scatterpolar": [
           {
            "marker": {
             "colorbar": {
              "outlinewidth": 0,
              "ticks": ""
             }
            },
            "type": "scatterpolar"
           }
          ],
          "scatterpolargl": [
           {
            "marker": {
             "colorbar": {
              "outlinewidth": 0,
              "ticks": ""
             }
            },
            "type": "scatterpolargl"
           }
          ],
          "scatterternary": [
           {
            "marker": {
             "colorbar": {
              "outlinewidth": 0,
              "ticks": ""
             }
            },
            "type": "scatterternary"
           }
          ],
          "surface": [
           {
            "colorbar": {
             "outlinewidth": 0,
             "ticks": ""
            },
            "colorscale": [
             [
              0,
              "#0d0887"
             ],
             [
              0.1111111111111111,
              "#46039f"
             ],
             [
              0.2222222222222222,
              "#7201a8"
             ],
             [
              0.3333333333333333,
              "#9c179e"
             ],
             [
              0.4444444444444444,
              "#bd3786"
             ],
             [
              0.5555555555555556,
              "#d8576b"
             ],
             [
              0.6666666666666666,
              "#ed7953"
             ],
             [
              0.7777777777777778,
              "#fb9f3a"
             ],
             [
              0.8888888888888888,
              "#fdca26"
             ],
             [
              1,
              "#f0f921"
             ]
            ],
            "type": "surface"
           }
          ],
          "table": [
           {
            "cells": {
             "fill": {
              "color": "#EBF0F8"
             },
             "line": {
              "color": "white"
             }
            },
            "header": {
             "fill": {
              "color": "#C8D4E3"
             },
             "line": {
              "color": "white"
             }
            },
            "type": "table"
           }
          ]
         },
         "layout": {
          "annotationdefaults": {
           "arrowcolor": "#2a3f5f",
           "arrowhead": 0,
           "arrowwidth": 1
          },
          "autotypenumbers": "strict",
          "coloraxis": {
           "colorbar": {
            "outlinewidth": 0,
            "ticks": ""
           }
          },
          "colorscale": {
           "diverging": [
            [
             0,
             "#8e0152"
            ],
            [
             0.1,
             "#c51b7d"
            ],
            [
             0.2,
             "#de77ae"
            ],
            [
             0.3,
             "#f1b6da"
            ],
            [
             0.4,
             "#fde0ef"
            ],
            [
             0.5,
             "#f7f7f7"
            ],
            [
             0.6,
             "#e6f5d0"
            ],
            [
             0.7,
             "#b8e186"
            ],
            [
             0.8,
             "#7fbc41"
            ],
            [
             0.9,
             "#4d9221"
            ],
            [
             1,
             "#276419"
            ]
           ],
           "sequential": [
            [
             0,
             "#0d0887"
            ],
            [
             0.1111111111111111,
             "#46039f"
            ],
            [
             0.2222222222222222,
             "#7201a8"
            ],
            [
             0.3333333333333333,
             "#9c179e"
            ],
            [
             0.4444444444444444,
             "#bd3786"
            ],
            [
             0.5555555555555556,
             "#d8576b"
            ],
            [
             0.6666666666666666,
             "#ed7953"
            ],
            [
             0.7777777777777778,
             "#fb9f3a"
            ],
            [
             0.8888888888888888,
             "#fdca26"
            ],
            [
             1,
             "#f0f921"
            ]
           ],
           "sequentialminus": [
            [
             0,
             "#0d0887"
            ],
            [
             0.1111111111111111,
             "#46039f"
            ],
            [
             0.2222222222222222,
             "#7201a8"
            ],
            [
             0.3333333333333333,
             "#9c179e"
            ],
            [
             0.4444444444444444,
             "#bd3786"
            ],
            [
             0.5555555555555556,
             "#d8576b"
            ],
            [
             0.6666666666666666,
             "#ed7953"
            ],
            [
             0.7777777777777778,
             "#fb9f3a"
            ],
            [
             0.8888888888888888,
             "#fdca26"
            ],
            [
             1,
             "#f0f921"
            ]
           ]
          },
          "colorway": [
           "rgb(102,194,165)",
           "rgb(252,141,98)",
           "rgb(141,160,203)",
           "rgb(231,138,195)",
           "rgb(166,216,84)",
           "rgb(255,217,47)",
           "rgb(229,196,148)",
           "rgb(179,179,179)"
          ],
          "font": {
           "color": "#2a3f5f",
           "family": "Arial",
           "size": 11
          },
          "geo": {
           "bgcolor": "white",
           "lakecolor": "white",
           "landcolor": "white",
           "showlakes": true,
           "showland": true,
           "subunitcolor": "#C8D4E3"
          },
          "height": 500,
          "hoverlabel": {
           "align": "left"
          },
          "hovermode": "closest",
          "mapbox": {
           "style": "light"
          },
          "paper_bgcolor": "white",
          "plot_bgcolor": "white",
          "polar": {
           "angularaxis": {
            "gridcolor": "#EBF0F8",
            "linecolor": "#EBF0F8",
            "ticks": ""
           },
           "bgcolor": "white",
           "radialaxis": {
            "gridcolor": "#EBF0F8",
            "linecolor": "#EBF0F8",
            "ticks": ""
           }
          },
          "scene": {
           "xaxis": {
            "backgroundcolor": "white",
            "gridcolor": "#DFE8F3",
            "gridwidth": 2,
            "linecolor": "#EBF0F8",
            "showbackground": true,
            "ticks": "",
            "zerolinecolor": "#EBF0F8"
           },
           "yaxis": {
            "backgroundcolor": "white",
            "gridcolor": "#DFE8F3",
            "gridwidth": 2,
            "linecolor": "#EBF0F8",
            "showbackground": true,
            "ticks": "",
            "zerolinecolor": "#EBF0F8"
           },
           "zaxis": {
            "backgroundcolor": "white",
            "gridcolor": "#DFE8F3",
            "gridwidth": 2,
            "linecolor": "#EBF0F8",
            "showbackground": true,
            "ticks": "",
            "zerolinecolor": "#EBF0F8"
           }
          },
          "shapedefaults": {
           "line": {
            "color": "#2a3f5f"
           }
          },
          "ternary": {
           "aaxis": {
            "gridcolor": "#DFE8F3",
            "linecolor": "#A2B1C6",
            "ticks": ""
           },
           "baxis": {
            "gridcolor": "#DFE8F3",
            "linecolor": "#A2B1C6",
            "ticks": ""
           },
           "bgcolor": "white",
           "caxis": {
            "gridcolor": "#DFE8F3",
            "linecolor": "#A2B1C6",
            "ticks": ""
           }
          },
          "title": {
           "x": 0.05
          },
          "width": 1000,
          "xaxis": {
           "automargin": true,
           "gridcolor": "lightgrey",
           "linecolor": "#EBF0F8",
           "showgrid": true,
           "ticks": "",
           "title": {
            "standoff": 15
           },
           "zerolinecolor": "#EBF0F8",
           "zerolinewidth": 2
          },
          "yaxis": {
           "automargin": true,
           "gridcolor": "lightgrey",
           "linecolor": "#EBF0F8",
           "showgrid": true,
           "ticks": "",
           "title": {
            "standoff": 15
           },
           "zerolinecolor": "#EBF0F8",
           "zerolinewidth": 2
          }
         }
        },
        "title": {
         "text": "Reincidencia — CLEAN vs TWOYEARS"
        },
        "xaxis": {
         "anchor": "y",
         "domain": [
          0,
          1
         ],
         "gridcolor": "lightgrey",
         "showgrid": true,
         "title": {
          "text": "reincide"
         }
        },
        "yaxis": {
         "anchor": "x",
         "domain": [
          0,
          1
         ],
         "gridcolor": "lightgrey",
         "showgrid": true,
         "title": {
          "text": "Porcentaje (%)"
         }
        }
       }
      }
     },
     "metadata": {},
     "output_type": "display_data"
    }
   ],
   "source": [
    "\n",
    "# --- Configuración ---\n",
    "SCORE_COL  = 'resultado_compas'   # columna resultado COMPAS\n",
    "TARGET_COL = 'reincide'           # columna reincidencia\n",
    "\n",
    "LABEL_C = 'CLEAN'\n",
    "LABEL_D = 'TWOYEARS'\n",
    "\n",
    "df_c = df_twoyears_clean.copy()\n",
    "df_d = df_twoyears.copy()\n",
    "\n",
    "def comparar_columna_plotly_evento(col, titulo):\n",
    "    # Crear tabla con frecuencias relativas (%)\n",
    "    s_c = df_c[col].value_counts(normalize=True).mul(100).round(1)\n",
    "    s_d = df_d[col].value_counts(normalize=True).mul(100).round(1)\n",
    "    tabla = (\n",
    "        pd.DataFrame({LABEL_C: s_c, LABEL_D: s_d})\n",
    "        .fillna(0)\n",
    "        .reset_index()\n",
    "        .rename(columns={'index': col})\n",
    "    )\n",
    "\n",
    "    # Gráfico de barras agrupadas\n",
    "    fig = px.bar(\n",
    "        tabla, x=col, y=[LABEL_C, LABEL_D],\n",
    "        barmode='group', text_auto=True, title=titulo\n",
    "    )\n",
    "\n",
    "    # Estilo solicitado\n",
    "    fig.update_layout(\n",
    "        xaxis_title=col,\n",
    "        yaxis_title='Porcentaje (%)',\n",
    "        plot_bgcolor='rgba(255,255,255,1)',\n",
    "        xaxis_showgrid=True, xaxis_gridcolor='lightgrey',\n",
    "        yaxis_showgrid=True, yaxis_gridcolor='lightgrey'\n",
    "    )\n",
    "    fig.show()\n",
    "    return tabla\n",
    "\n",
    "# --- Comparaciones ---\n",
    "tabla_score_evento = comparar_columna_plotly_evento(SCORE_COL,  \"Resultado COMPAS — CLEAN vs TWOYEARS\")\n",
    "tabla_reinc_evento = comparar_columna_plotly_evento(TARGET_COL, \"Reincidencia — CLEAN vs TWOYEARS\")\n"
   ]
  },
  {
   "cell_type": "markdown",
   "id": "c59fb18e",
   "metadata": {},
   "source": [
    "### Comparativa de tasas de reincidencia — ProPublica, Barstein y nuestro filtrado\n",
    "\n",
    "| Dataset                              | Total casos | % No reincide | % Reincide |\n",
    "|--------------------------------------|-------------|---------------|------------|\n",
    "| ProPublica (2016, two-year data)     | 7,214       | 54.9%         | **45.1%**  |\n",
    "| Barstein (2019, corrected dataset)   | 6,216       | 63.8%         | **36.2%**  |\n",
    "| Nuestro filtrado (±30, ≤730, ≤1/4/14)| 5,259       | 63.2%         | **36.8%**  |\n",
    "\n",
    "- Diferencia absoluta ProPublica vs filtrado: **8.3 p.p.**  \n",
    "- Diferencia relativa: la tasa de ProPublica es **22.6% más alta** que la real corregida.\n",
    "\n",
    "👉 Con esto confirmamos que el error de incluir reincidentes posteriores a abril de 2014 infló artificialmente\n",
    "la tasa de reincidencia a dos años en el análisis original de ProPublica.\n"
   ]
  },
  {
   "cell_type": "markdown",
   "id": "056108fb",
   "metadata": {},
   "source": [
    "<hr style=\"border:none; height:2px; background:linear-gradient(to right, #3498db, #e74c3c, #f39c12);\">\n",
    "\n",
    "<hr style=\"border:none; height:1px; background:#ddd;\">\n",
    "\n",
    "<div style=\"text-align:center; margin:20px 0;\">\n",
    "- • • • •\n",
    "</div>"
   ]
  },
  {
   "cell_type": "markdown",
   "id": "0341d2c8",
   "metadata": {},
   "source": [
    "# **5. COMPARATIVA DATOS FILTRADOS VS PROPUBLICA**"
   ]
  },
  {
   "cell_type": "markdown",
   "id": "2dae3d56",
   "metadata": {},
   "source": [
    "---"
   ]
  },
  {
   "cell_type": "markdown",
   "id": "e20171cf",
   "metadata": {},
   "source": [
    "## **5.1 SPEARMAN, RIESGO VS REINCIDENCIAPOR ETNIA**"
   ]
  },
  {
   "cell_type": "markdown",
   "id": "fdc55493",
   "metadata": {},
   "source": [
    "\n",
    "\n",
    "Objetivo. Queremos comprobar si la relación entre la **puntuación COMPAS** (`resultado_compas`) y la **reincidencia real** (`reincide`) es parecida en los distintos grupos étnicos.\n",
    "\n",
    "Método. Como estamos empezando y no asumimos normalidad, usamos **Spearman**, que mide la relación **monótona** entre dos variables. Calculamos Spearman por **etnia** en ambos datasets (ProPublica y Clean).\n"
   ]
  },
  {
   "cell_type": "code",
   "execution_count": 17,
   "id": "92b8d9a7",
   "metadata": {},
   "outputs": [
    {
     "data": {
      "application/vnd.plotly.v1+json": {
       "config": {
        "plotlyServerURL": "https://plot.ly"
       },
       "data": [
        {
         "alignmentgroup": "True",
         "hovertemplate": "dataset=CLEAN<br>metric=Riesgo medio (escalado)<br>etnia=%{x}<br>value=%{text}<extra></extra>",
         "legendgroup": "CLEAN",
         "marker": {
          "color": "rgb(102,194,165)",
          "pattern": {
           "shape": ""
          }
         },
         "name": "CLEAN",
         "offsetgroup": "CLEAN",
         "orientation": "v",
         "showlegend": true,
         "text": {
          "bdata": "qJRZqJRZ4D81/G2KUcPPP9eDrDnJFdY/7vBy6QM+1T/SJ33SJ33iP7ZCkGFJuNE/",
          "dtype": "f8"
         },
         "textposition": "outside",
         "texttemplate": "%{text:.1%}",
         "type": "bar",
         "x": [
          "African-American",
          "Asian",
          "Caucasian",
          "Hispanic",
          "Native American",
          "Other"
         ],
         "xaxis": "x",
         "y": {
          "bdata": "qJRZqJRZ4D81/G2KUcPPP9eDrDnJFdY/7vBy6QM+1T/SJ33SJ33iP7ZCkGFJuNE/",
          "dtype": "f8"
         },
         "yaxis": "y"
        },
        {
         "alignmentgroup": "True",
         "hovertemplate": "dataset=CLEAN<br>metric=Reincidencia real<br>etnia=%{x}<br>value=%{text}<extra></extra>",
         "legendgroup": "CLEAN",
         "marker": {
          "color": "rgb(102,194,165)",
          "pattern": {
           "shape": ""
          }
         },
         "name": "CLEAN",
         "offsetgroup": "CLEAN",
         "orientation": "v",
         "showlegend": false,
         "text": {
          "bdata": "vM8KvM8K3D9oL6G9hPbCPwyep5vqR9M/JwHWfLNo0j9VVVVVVVXVP+6Ra4Ugw9I/",
          "dtype": "f8"
         },
         "textposition": "outside",
         "texttemplate": "%{text:.1%}",
         "type": "bar",
         "x": [
          "African-American",
          "Asian",
          "Caucasian",
          "Hispanic",
          "Native American",
          "Other"
         ],
         "xaxis": "x2",
         "y": {
          "bdata": "vM8KvM8K3D9oL6G9hPbCPwyep5vqR9M/JwHWfLNo0j9VVVVVVVXVP+6Ra4Ugw9I/",
          "dtype": "f8"
         },
         "yaxis": "y2"
        },
        {
         "alignmentgroup": "True",
         "hovertemplate": "dataset=PROPUBLICA<br>metric=Riesgo medio (escalado)<br>etnia=%{x}<br>value=%{text}<extra></extra>",
         "legendgroup": "PROPUBLICA",
         "marker": {
          "color": "rgb(252,141,98)",
          "pattern": {
           "shape": ""
          }
         },
         "name": "PROPUBLICA",
         "offsetgroup": "PROPUBLICA",
         "orientation": "v",
         "showlegend": true,
         "text": {
          "bdata": "nOtzJxou4T/NzMzMzMzSP69hPYeh59c/ehlz6PQp1j+8u7u7u7vjP0i7Qcyg4NI/",
          "dtype": "f8"
         },
         "textposition": "outside",
         "texttemplate": "%{text:.1%}",
         "type": "bar",
         "x": [
          "African-American",
          "Asian",
          "Caucasian",
          "Hispanic",
          "Native American",
          "Other"
         ],
         "xaxis": "x",
         "y": {
          "bdata": "nOtzJxou4T/NzMzMzMzSP69hPYeh59c/ehlz6PQp1j+8u7u7u7vjP0i7Qcyg4NI/",
          "dtype": "f8"
         },
         "yaxis": "y"
        },
        {
         "alignmentgroup": "True",
         "hovertemplate": "dataset=PROPUBLICA<br>metric=Reincidencia real<br>etnia=%{x}<br>value=%{text}<extra></extra>",
         "legendgroup": "PROPUBLICA",
         "marker": {
          "color": "rgb(252,141,98)",
          "pattern": {
           "shape": ""
          }
         },
         "name": "PROPUBLICA",
         "offsetgroup": "PROPUBLICA",
         "orientation": "v",
         "showlegend": false,
         "text": {
          "bdata": "49Xpy3h14D8AAAAAAADSP4ob9IpyMdk/hZkqzitP1z9yHMdxHMfhP1vKBiYIlNY/",
          "dtype": "f8"
         },
         "textposition": "outside",
         "texttemplate": "%{text:.1%}",
         "type": "bar",
         "x": [
          "African-American",
          "Asian",
          "Caucasian",
          "Hispanic",
          "Native American",
          "Other"
         ],
         "xaxis": "x2",
         "y": {
          "bdata": "49Xpy3h14D8AAAAAAADSP4ob9IpyMdk/hZkqzitP1z9yHMdxHMfhP1vKBiYIlNY/",
          "dtype": "f8"
         },
         "yaxis": "y2"
        }
       ],
       "layout": {
        "annotations": [
         {
          "font": {},
          "showarrow": false,
          "text": "metric=Riesgo medio (escalado)",
          "x": 0.245,
          "xanchor": "center",
          "xref": "paper",
          "y": 1,
          "yanchor": "bottom",
          "yref": "paper"
         },
         {
          "font": {},
          "showarrow": false,
          "text": "metric=Reincidencia real",
          "x": 0.755,
          "xanchor": "center",
          "xref": "paper",
          "y": 1,
          "yanchor": "bottom",
          "yref": "paper"
         }
        ],
        "barmode": "group",
        "legend": {
         "title": {
          "text": "dataset"
         },
         "tracegroupgap": 0
        },
        "plot_bgcolor": "rgba(255,255,255,1)",
        "template": {
         "data": {
          "bar": [
           {
            "error_x": {
             "color": "#2a3f5f"
            },
            "error_y": {
             "color": "#2a3f5f"
            },
            "marker": {
             "line": {
              "color": "white",
              "width": 0.5
             },
             "pattern": {
              "fillmode": "overlay",
              "size": 10,
              "solidity": 0.2
             }
            },
            "type": "bar"
           }
          ],
          "barpolar": [
           {
            "marker": {
             "line": {
              "color": "white",
              "width": 0.5
             },
             "pattern": {
              "fillmode": "overlay",
              "size": 10,
              "solidity": 0.2
             }
            },
            "type": "barpolar"
           }
          ],
          "carpet": [
           {
            "aaxis": {
             "endlinecolor": "#2a3f5f",
             "gridcolor": "#C8D4E3",
             "linecolor": "#C8D4E3",
             "minorgridcolor": "#C8D4E3",
             "startlinecolor": "#2a3f5f"
            },
            "baxis": {
             "endlinecolor": "#2a3f5f",
             "gridcolor": "#C8D4E3",
             "linecolor": "#C8D4E3",
             "minorgridcolor": "#C8D4E3",
             "startlinecolor": "#2a3f5f"
            },
            "type": "carpet"
           }
          ],
          "choropleth": [
           {
            "colorbar": {
             "outlinewidth": 0,
             "ticks": ""
            },
            "type": "choropleth"
           }
          ],
          "contour": [
           {
            "colorbar": {
             "outlinewidth": 0,
             "ticks": ""
            },
            "colorscale": [
             [
              0,
              "#0d0887"
             ],
             [
              0.1111111111111111,
              "#46039f"
             ],
             [
              0.2222222222222222,
              "#7201a8"
             ],
             [
              0.3333333333333333,
              "#9c179e"
             ],
             [
              0.4444444444444444,
              "#bd3786"
             ],
             [
              0.5555555555555556,
              "#d8576b"
             ],
             [
              0.6666666666666666,
              "#ed7953"
             ],
             [
              0.7777777777777778,
              "#fb9f3a"
             ],
             [
              0.8888888888888888,
              "#fdca26"
             ],
             [
              1,
              "#f0f921"
             ]
            ],
            "type": "contour"
           }
          ],
          "contourcarpet": [
           {
            "colorbar": {
             "outlinewidth": 0,
             "ticks": ""
            },
            "type": "contourcarpet"
           }
          ],
          "heatmap": [
           {
            "colorbar": {
             "outlinewidth": 0,
             "ticks": ""
            },
            "colorscale": [
             [
              0,
              "#0d0887"
             ],
             [
              0.1111111111111111,
              "#46039f"
             ],
             [
              0.2222222222222222,
              "#7201a8"
             ],
             [
              0.3333333333333333,
              "#9c179e"
             ],
             [
              0.4444444444444444,
              "#bd3786"
             ],
             [
              0.5555555555555556,
              "#d8576b"
             ],
             [
              0.6666666666666666,
              "#ed7953"
             ],
             [
              0.7777777777777778,
              "#fb9f3a"
             ],
             [
              0.8888888888888888,
              "#fdca26"
             ],
             [
              1,
              "#f0f921"
             ]
            ],
            "type": "heatmap"
           }
          ],
          "histogram": [
           {
            "marker": {
             "pattern": {
              "fillmode": "overlay",
              "size": 10,
              "solidity": 0.2
             }
            },
            "type": "histogram"
           }
          ],
          "histogram2d": [
           {
            "colorbar": {
             "outlinewidth": 0,
             "ticks": ""
            },
            "colorscale": [
             [
              0,
              "#0d0887"
             ],
             [
              0.1111111111111111,
              "#46039f"
             ],
             [
              0.2222222222222222,
              "#7201a8"
             ],
             [
              0.3333333333333333,
              "#9c179e"
             ],
             [
              0.4444444444444444,
              "#bd3786"
             ],
             [
              0.5555555555555556,
              "#d8576b"
             ],
             [
              0.6666666666666666,
              "#ed7953"
             ],
             [
              0.7777777777777778,
              "#fb9f3a"
             ],
             [
              0.8888888888888888,
              "#fdca26"
             ],
             [
              1,
              "#f0f921"
             ]
            ],
            "type": "histogram2d"
           }
          ],
          "histogram2dcontour": [
           {
            "colorbar": {
             "outlinewidth": 0,
             "ticks": ""
            },
            "colorscale": [
             [
              0,
              "#0d0887"
             ],
             [
              0.1111111111111111,
              "#46039f"
             ],
             [
              0.2222222222222222,
              "#7201a8"
             ],
             [
              0.3333333333333333,
              "#9c179e"
             ],
             [
              0.4444444444444444,
              "#bd3786"
             ],
             [
              0.5555555555555556,
              "#d8576b"
             ],
             [
              0.6666666666666666,
              "#ed7953"
             ],
             [
              0.7777777777777778,
              "#fb9f3a"
             ],
             [
              0.8888888888888888,
              "#fdca26"
             ],
             [
              1,
              "#f0f921"
             ]
            ],
            "type": "histogram2dcontour"
           }
          ],
          "mesh3d": [
           {
            "colorbar": {
             "outlinewidth": 0,
             "ticks": ""
            },
            "type": "mesh3d"
           }
          ],
          "parcoords": [
           {
            "line": {
             "colorbar": {
              "outlinewidth": 0,
              "ticks": ""
             }
            },
            "type": "parcoords"
           }
          ],
          "pie": [
           {
            "automargin": true,
            "type": "pie"
           }
          ],
          "scatter": [
           {
            "fillpattern": {
             "fillmode": "overlay",
             "size": 10,
             "solidity": 0.2
            },
            "type": "scatter"
           }
          ],
          "scatter3d": [
           {
            "line": {
             "colorbar": {
              "outlinewidth": 0,
              "ticks": ""
             }
            },
            "marker": {
             "colorbar": {
              "outlinewidth": 0,
              "ticks": ""
             }
            },
            "type": "scatter3d"
           }
          ],
          "scattercarpet": [
           {
            "marker": {
             "colorbar": {
              "outlinewidth": 0,
              "ticks": ""
             }
            },
            "type": "scattercarpet"
           }
          ],
          "scattergeo": [
           {
            "marker": {
             "colorbar": {
              "outlinewidth": 0,
              "ticks": ""
             }
            },
            "type": "scattergeo"
           }
          ],
          "scattergl": [
           {
            "marker": {
             "colorbar": {
              "outlinewidth": 0,
              "ticks": ""
             }
            },
            "type": "scattergl"
           }
          ],
          "scattermap": [
           {
            "marker": {
             "colorbar": {
              "outlinewidth": 0,
              "ticks": ""
             }
            },
            "type": "scattermap"
           }
          ],
          "scattermapbox": [
           {
            "marker": {
             "colorbar": {
              "outlinewidth": 0,
              "ticks": ""
             }
            },
            "type": "scattermapbox"
           }
          ],
          "scatterpolar": [
           {
            "marker": {
             "colorbar": {
              "outlinewidth": 0,
              "ticks": ""
             }
            },
            "type": "scatterpolar"
           }
          ],
          "scatterpolargl": [
           {
            "marker": {
             "colorbar": {
              "outlinewidth": 0,
              "ticks": ""
             }
            },
            "type": "scatterpolargl"
           }
          ],
          "scatterternary": [
           {
            "marker": {
             "colorbar": {
              "outlinewidth": 0,
              "ticks": ""
             }
            },
            "type": "scatterternary"
           }
          ],
          "surface": [
           {
            "colorbar": {
             "outlinewidth": 0,
             "ticks": ""
            },
            "colorscale": [
             [
              0,
              "#0d0887"
             ],
             [
              0.1111111111111111,
              "#46039f"
             ],
             [
              0.2222222222222222,
              "#7201a8"
             ],
             [
              0.3333333333333333,
              "#9c179e"
             ],
             [
              0.4444444444444444,
              "#bd3786"
             ],
             [
              0.5555555555555556,
              "#d8576b"
             ],
             [
              0.6666666666666666,
              "#ed7953"
             ],
             [
              0.7777777777777778,
              "#fb9f3a"
             ],
             [
              0.8888888888888888,
              "#fdca26"
             ],
             [
              1,
              "#f0f921"
             ]
            ],
            "type": "surface"
           }
          ],
          "table": [
           {
            "cells": {
             "fill": {
              "color": "#EBF0F8"
             },
             "line": {
              "color": "white"
             }
            },
            "header": {
             "fill": {
              "color": "#C8D4E3"
             },
             "line": {
              "color": "white"
             }
            },
            "type": "table"
           }
          ]
         },
         "layout": {
          "annotationdefaults": {
           "arrowcolor": "#2a3f5f",
           "arrowhead": 0,
           "arrowwidth": 1
          },
          "autotypenumbers": "strict",
          "coloraxis": {
           "colorbar": {
            "outlinewidth": 0,
            "ticks": ""
           }
          },
          "colorscale": {
           "diverging": [
            [
             0,
             "#8e0152"
            ],
            [
             0.1,
             "#c51b7d"
            ],
            [
             0.2,
             "#de77ae"
            ],
            [
             0.3,
             "#f1b6da"
            ],
            [
             0.4,
             "#fde0ef"
            ],
            [
             0.5,
             "#f7f7f7"
            ],
            [
             0.6,
             "#e6f5d0"
            ],
            [
             0.7,
             "#b8e186"
            ],
            [
             0.8,
             "#7fbc41"
            ],
            [
             0.9,
             "#4d9221"
            ],
            [
             1,
             "#276419"
            ]
           ],
           "sequential": [
            [
             0,
             "#0d0887"
            ],
            [
             0.1111111111111111,
             "#46039f"
            ],
            [
             0.2222222222222222,
             "#7201a8"
            ],
            [
             0.3333333333333333,
             "#9c179e"
            ],
            [
             0.4444444444444444,
             "#bd3786"
            ],
            [
             0.5555555555555556,
             "#d8576b"
            ],
            [
             0.6666666666666666,
             "#ed7953"
            ],
            [
             0.7777777777777778,
             "#fb9f3a"
            ],
            [
             0.8888888888888888,
             "#fdca26"
            ],
            [
             1,
             "#f0f921"
            ]
           ],
           "sequentialminus": [
            [
             0,
             "#0d0887"
            ],
            [
             0.1111111111111111,
             "#46039f"
            ],
            [
             0.2222222222222222,
             "#7201a8"
            ],
            [
             0.3333333333333333,
             "#9c179e"
            ],
            [
             0.4444444444444444,
             "#bd3786"
            ],
            [
             0.5555555555555556,
             "#d8576b"
            ],
            [
             0.6666666666666666,
             "#ed7953"
            ],
            [
             0.7777777777777778,
             "#fb9f3a"
            ],
            [
             0.8888888888888888,
             "#fdca26"
            ],
            [
             1,
             "#f0f921"
            ]
           ]
          },
          "colorway": [
           "rgb(102,194,165)",
           "rgb(252,141,98)",
           "rgb(141,160,203)",
           "rgb(231,138,195)",
           "rgb(166,216,84)",
           "rgb(255,217,47)",
           "rgb(229,196,148)",
           "rgb(179,179,179)"
          ],
          "font": {
           "color": "#2a3f5f",
           "family": "Arial",
           "size": 11
          },
          "geo": {
           "bgcolor": "white",
           "lakecolor": "white",
           "landcolor": "white",
           "showlakes": true,
           "showland": true,
           "subunitcolor": "#C8D4E3"
          },
          "height": 500,
          "hoverlabel": {
           "align": "left"
          },
          "hovermode": "closest",
          "mapbox": {
           "style": "light"
          },
          "paper_bgcolor": "white",
          "plot_bgcolor": "white",
          "polar": {
           "angularaxis": {
            "gridcolor": "#EBF0F8",
            "linecolor": "#EBF0F8",
            "ticks": ""
           },
           "bgcolor": "white",
           "radialaxis": {
            "gridcolor": "#EBF0F8",
            "linecolor": "#EBF0F8",
            "ticks": ""
           }
          },
          "scene": {
           "xaxis": {
            "backgroundcolor": "white",
            "gridcolor": "#DFE8F3",
            "gridwidth": 2,
            "linecolor": "#EBF0F8",
            "showbackground": true,
            "ticks": "",
            "zerolinecolor": "#EBF0F8"
           },
           "yaxis": {
            "backgroundcolor": "white",
            "gridcolor": "#DFE8F3",
            "gridwidth": 2,
            "linecolor": "#EBF0F8",
            "showbackground": true,
            "ticks": "",
            "zerolinecolor": "#EBF0F8"
           },
           "zaxis": {
            "backgroundcolor": "white",
            "gridcolor": "#DFE8F3",
            "gridwidth": 2,
            "linecolor": "#EBF0F8",
            "showbackground": true,
            "ticks": "",
            "zerolinecolor": "#EBF0F8"
           }
          },
          "shapedefaults": {
           "line": {
            "color": "#2a3f5f"
           }
          },
          "ternary": {
           "aaxis": {
            "gridcolor": "#DFE8F3",
            "linecolor": "#A2B1C6",
            "ticks": ""
           },
           "baxis": {
            "gridcolor": "#DFE8F3",
            "linecolor": "#A2B1C6",
            "ticks": ""
           },
           "bgcolor": "white",
           "caxis": {
            "gridcolor": "#DFE8F3",
            "linecolor": "#A2B1C6",
            "ticks": ""
           }
          },
          "title": {
           "x": 0.05
          },
          "width": 1000,
          "xaxis": {
           "automargin": true,
           "gridcolor": "lightgrey",
           "linecolor": "#EBF0F8",
           "showgrid": true,
           "ticks": "",
           "title": {
            "standoff": 15
           },
           "zerolinecolor": "#EBF0F8",
           "zerolinewidth": 2
          },
          "yaxis": {
           "automargin": true,
           "gridcolor": "lightgrey",
           "linecolor": "#EBF0F8",
           "showgrid": true,
           "ticks": "",
           "title": {
            "standoff": 15
           },
           "zerolinecolor": "#EBF0F8",
           "zerolinewidth": 2
          }
         }
        },
        "title": {
         "text": "Riesgo vs Reincidencia por etnia — CLEAN vs PROPUBLICA"
        },
        "xaxis": {
         "anchor": "y",
         "domain": [
          0,
          0.49
         ],
         "gridcolor": "lightgrey",
         "showgrid": true,
         "title": {
          "text": "etnia"
         }
        },
        "xaxis2": {
         "anchor": "y2",
         "domain": [
          0.51,
          1
         ],
         "matches": "x",
         "title": {
          "text": "etnia"
         }
        },
        "yaxis": {
         "anchor": "x",
         "domain": [
          0,
          1
         ],
         "gridcolor": "lightgrey",
         "showgrid": true,
         "tickformat": ",.0%",
         "title": {
          "text": "Porcentaje"
         }
        },
        "yaxis2": {
         "anchor": "x2",
         "domain": [
          0,
          1
         ],
         "matches": "y",
         "showticklabels": false
        }
       }
      }
     },
     "metadata": {},
     "output_type": "display_data"
    },
    {
     "name": "stdout",
     "output_type": "stream",
     "text": [
      "[CLEAN] Spearman: rho=0.886, p=0.0188\n",
      "[PROPUBLICA] Spearman: rho=1.000, p=0.0000\n"
     ]
    },
    {
     "data": {
      "application/vnd.plotly.v1+json": {
       "config": {
        "plotlyServerURL": "https://plot.ly"
       },
       "data": [
        {
         "alignmentgroup": "True",
         "hovertemplate": "dataset=CLEAN<br>metric=Riesgo medio (escalado)<br>genero=%{x}<br>value=%{text}<extra></extra>",
         "legendgroup": "CLEAN",
         "marker": {
          "color": "rgb(102,194,165)",
          "pattern": {
           "shape": ""
          }
         },
         "name": "CLEAN",
         "offsetgroup": "CLEAN",
         "orientation": "v",
         "showlegend": true,
         "text": {
          "bdata": "Ih6TGbmH2D9ChaZf4LfbPw==",
          "dtype": "f8"
         },
         "textposition": "outside",
         "texttemplate": "%{text:.1%}",
         "type": "bar",
         "x": [
          "Female",
          "Male"
         ],
         "xaxis": "x",
         "y": {
          "bdata": "Ih6TGbmH2D9ChaZf4LfbPw==",
          "dtype": "f8"
         },
         "yaxis": "y"
        },
        {
         "alignmentgroup": "True",
         "hovertemplate": "dataset=CLEAN<br>metric=Reincidencia real<br>genero=%{x}<br>value=%{text}<extra></extra>",
         "legendgroup": "CLEAN",
         "marker": {
          "color": "rgb(102,194,165)",
          "pattern": {
           "shape": ""
          }
         },
         "name": "CLEAN",
         "offsetgroup": "CLEAN",
         "orientation": "v",
         "showlegend": false,
         "text": {
          "bdata": "CbQjgXYk0D+egzVLjE/ZPw==",
          "dtype": "f8"
         },
         "textposition": "outside",
         "texttemplate": "%{text:.1%}",
         "type": "bar",
         "x": [
          "Female",
          "Male"
         ],
         "xaxis": "x2",
         "y": {
          "bdata": "CbQjgXYk0D+egzVLjE/ZPw==",
          "dtype": "f8"
         },
         "yaxis": "y2"
        },
        {
         "alignmentgroup": "True",
         "hovertemplate": "dataset=PROPUBLICA<br>metric=Riesgo medio (escalado)<br>genero=%{x}<br>value=%{text}<extra></extra>",
         "legendgroup": "PROPUBLICA",
         "marker": {
          "color": "rgb(252,141,98)",
          "pattern": {
           "shape": ""
          }
         },
         "name": "PROPUBLICA",
         "offsetgroup": "PROPUBLICA",
         "orientation": "v",
         "showlegend": true,
         "text": {
          "bdata": "s5o3q3mz2j/6kkCjCmHdPw==",
          "dtype": "f8"
         },
         "textposition": "outside",
         "texttemplate": "%{text:.1%}",
         "type": "bar",
         "x": [
          "Female",
          "Male"
         ],
         "xaxis": "x",
         "y": {
          "bdata": "s5o3q3mz2j/6kkCjCmHdPw==",
          "dtype": "f8"
         },
         "yaxis": "y"
        },
        {
         "alignmentgroup": "True",
         "hovertemplate": "dataset=PROPUBLICA<br>metric=Reincidencia real<br>genero=%{x}<br>value=%{text}<extra></extra>",
         "legendgroup": "PROPUBLICA",
         "marker": {
          "color": "rgb(252,141,98)",
          "pattern": {
           "shape": ""
          }
         },
         "name": "PROPUBLICA",
         "offsetgroup": "PROPUBLICA",
         "orientation": "v",
         "showlegend": false,
         "text": {
          "bdata": "2ZaObenY1j8K7ZyjW0fePw==",
          "dtype": "f8"
         },
         "textposition": "outside",
         "texttemplate": "%{text:.1%}",
         "type": "bar",
         "x": [
          "Female",
          "Male"
         ],
         "xaxis": "x2",
         "y": {
          "bdata": "2ZaObenY1j8K7ZyjW0fePw==",
          "dtype": "f8"
         },
         "yaxis": "y2"
        }
       ],
       "layout": {
        "annotations": [
         {
          "font": {},
          "showarrow": false,
          "text": "metric=Riesgo medio (escalado)",
          "x": 0.245,
          "xanchor": "center",
          "xref": "paper",
          "y": 1,
          "yanchor": "bottom",
          "yref": "paper"
         },
         {
          "font": {},
          "showarrow": false,
          "text": "metric=Reincidencia real",
          "x": 0.755,
          "xanchor": "center",
          "xref": "paper",
          "y": 1,
          "yanchor": "bottom",
          "yref": "paper"
         }
        ],
        "barmode": "group",
        "legend": {
         "title": {
          "text": "dataset"
         },
         "tracegroupgap": 0
        },
        "plot_bgcolor": "rgba(255,255,255,1)",
        "template": {
         "data": {
          "bar": [
           {
            "error_x": {
             "color": "#2a3f5f"
            },
            "error_y": {
             "color": "#2a3f5f"
            },
            "marker": {
             "line": {
              "color": "white",
              "width": 0.5
             },
             "pattern": {
              "fillmode": "overlay",
              "size": 10,
              "solidity": 0.2
             }
            },
            "type": "bar"
           }
          ],
          "barpolar": [
           {
            "marker": {
             "line": {
              "color": "white",
              "width": 0.5
             },
             "pattern": {
              "fillmode": "overlay",
              "size": 10,
              "solidity": 0.2
             }
            },
            "type": "barpolar"
           }
          ],
          "carpet": [
           {
            "aaxis": {
             "endlinecolor": "#2a3f5f",
             "gridcolor": "#C8D4E3",
             "linecolor": "#C8D4E3",
             "minorgridcolor": "#C8D4E3",
             "startlinecolor": "#2a3f5f"
            },
            "baxis": {
             "endlinecolor": "#2a3f5f",
             "gridcolor": "#C8D4E3",
             "linecolor": "#C8D4E3",
             "minorgridcolor": "#C8D4E3",
             "startlinecolor": "#2a3f5f"
            },
            "type": "carpet"
           }
          ],
          "choropleth": [
           {
            "colorbar": {
             "outlinewidth": 0,
             "ticks": ""
            },
            "type": "choropleth"
           }
          ],
          "contour": [
           {
            "colorbar": {
             "outlinewidth": 0,
             "ticks": ""
            },
            "colorscale": [
             [
              0,
              "#0d0887"
             ],
             [
              0.1111111111111111,
              "#46039f"
             ],
             [
              0.2222222222222222,
              "#7201a8"
             ],
             [
              0.3333333333333333,
              "#9c179e"
             ],
             [
              0.4444444444444444,
              "#bd3786"
             ],
             [
              0.5555555555555556,
              "#d8576b"
             ],
             [
              0.6666666666666666,
              "#ed7953"
             ],
             [
              0.7777777777777778,
              "#fb9f3a"
             ],
             [
              0.8888888888888888,
              "#fdca26"
             ],
             [
              1,
              "#f0f921"
             ]
            ],
            "type": "contour"
           }
          ],
          "contourcarpet": [
           {
            "colorbar": {
             "outlinewidth": 0,
             "ticks": ""
            },
            "type": "contourcarpet"
           }
          ],
          "heatmap": [
           {
            "colorbar": {
             "outlinewidth": 0,
             "ticks": ""
            },
            "colorscale": [
             [
              0,
              "#0d0887"
             ],
             [
              0.1111111111111111,
              "#46039f"
             ],
             [
              0.2222222222222222,
              "#7201a8"
             ],
             [
              0.3333333333333333,
              "#9c179e"
             ],
             [
              0.4444444444444444,
              "#bd3786"
             ],
             [
              0.5555555555555556,
              "#d8576b"
             ],
             [
              0.6666666666666666,
              "#ed7953"
             ],
             [
              0.7777777777777778,
              "#fb9f3a"
             ],
             [
              0.8888888888888888,
              "#fdca26"
             ],
             [
              1,
              "#f0f921"
             ]
            ],
            "type": "heatmap"
           }
          ],
          "histogram": [
           {
            "marker": {
             "pattern": {
              "fillmode": "overlay",
              "size": 10,
              "solidity": 0.2
             }
            },
            "type": "histogram"
           }
          ],
          "histogram2d": [
           {
            "colorbar": {
             "outlinewidth": 0,
             "ticks": ""
            },
            "colorscale": [
             [
              0,
              "#0d0887"
             ],
             [
              0.1111111111111111,
              "#46039f"
             ],
             [
              0.2222222222222222,
              "#7201a8"
             ],
             [
              0.3333333333333333,
              "#9c179e"
             ],
             [
              0.4444444444444444,
              "#bd3786"
             ],
             [
              0.5555555555555556,
              "#d8576b"
             ],
             [
              0.6666666666666666,
              "#ed7953"
             ],
             [
              0.7777777777777778,
              "#fb9f3a"
             ],
             [
              0.8888888888888888,
              "#fdca26"
             ],
             [
              1,
              "#f0f921"
             ]
            ],
            "type": "histogram2d"
           }
          ],
          "histogram2dcontour": [
           {
            "colorbar": {
             "outlinewidth": 0,
             "ticks": ""
            },
            "colorscale": [
             [
              0,
              "#0d0887"
             ],
             [
              0.1111111111111111,
              "#46039f"
             ],
             [
              0.2222222222222222,
              "#7201a8"
             ],
             [
              0.3333333333333333,
              "#9c179e"
             ],
             [
              0.4444444444444444,
              "#bd3786"
             ],
             [
              0.5555555555555556,
              "#d8576b"
             ],
             [
              0.6666666666666666,
              "#ed7953"
             ],
             [
              0.7777777777777778,
              "#fb9f3a"
             ],
             [
              0.8888888888888888,
              "#fdca26"
             ],
             [
              1,
              "#f0f921"
             ]
            ],
            "type": "histogram2dcontour"
           }
          ],
          "mesh3d": [
           {
            "colorbar": {
             "outlinewidth": 0,
             "ticks": ""
            },
            "type": "mesh3d"
           }
          ],
          "parcoords": [
           {
            "line": {
             "colorbar": {
              "outlinewidth": 0,
              "ticks": ""
             }
            },
            "type": "parcoords"
           }
          ],
          "pie": [
           {
            "automargin": true,
            "type": "pie"
           }
          ],
          "scatter": [
           {
            "fillpattern": {
             "fillmode": "overlay",
             "size": 10,
             "solidity": 0.2
            },
            "type": "scatter"
           }
          ],
          "scatter3d": [
           {
            "line": {
             "colorbar": {
              "outlinewidth": 0,
              "ticks": ""
             }
            },
            "marker": {
             "colorbar": {
              "outlinewidth": 0,
              "ticks": ""
             }
            },
            "type": "scatter3d"
           }
          ],
          "scattercarpet": [
           {
            "marker": {
             "colorbar": {
              "outlinewidth": 0,
              "ticks": ""
             }
            },
            "type": "scattercarpet"
           }
          ],
          "scattergeo": [
           {
            "marker": {
             "colorbar": {
              "outlinewidth": 0,
              "ticks": ""
             }
            },
            "type": "scattergeo"
           }
          ],
          "scattergl": [
           {
            "marker": {
             "colorbar": {
              "outlinewidth": 0,
              "ticks": ""
             }
            },
            "type": "scattergl"
           }
          ],
          "scattermap": [
           {
            "marker": {
             "colorbar": {
              "outlinewidth": 0,
              "ticks": ""
             }
            },
            "type": "scattermap"
           }
          ],
          "scattermapbox": [
           {
            "marker": {
             "colorbar": {
              "outlinewidth": 0,
              "ticks": ""
             }
            },
            "type": "scattermapbox"
           }
          ],
          "scatterpolar": [
           {
            "marker": {
             "colorbar": {
              "outlinewidth": 0,
              "ticks": ""
             }
            },
            "type": "scatterpolar"
           }
          ],
          "scatterpolargl": [
           {
            "marker": {
             "colorbar": {
              "outlinewidth": 0,
              "ticks": ""
             }
            },
            "type": "scatterpolargl"
           }
          ],
          "scatterternary": [
           {
            "marker": {
             "colorbar": {
              "outlinewidth": 0,
              "ticks": ""
             }
            },
            "type": "scatterternary"
           }
          ],
          "surface": [
           {
            "colorbar": {
             "outlinewidth": 0,
             "ticks": ""
            },
            "colorscale": [
             [
              0,
              "#0d0887"
             ],
             [
              0.1111111111111111,
              "#46039f"
             ],
             [
              0.2222222222222222,
              "#7201a8"
             ],
             [
              0.3333333333333333,
              "#9c179e"
             ],
             [
              0.4444444444444444,
              "#bd3786"
             ],
             [
              0.5555555555555556,
              "#d8576b"
             ],
             [
              0.6666666666666666,
              "#ed7953"
             ],
             [
              0.7777777777777778,
              "#fb9f3a"
             ],
             [
              0.8888888888888888,
              "#fdca26"
             ],
             [
              1,
              "#f0f921"
             ]
            ],
            "type": "surface"
           }
          ],
          "table": [
           {
            "cells": {
             "fill": {
              "color": "#EBF0F8"
             },
             "line": {
              "color": "white"
             }
            },
            "header": {
             "fill": {
              "color": "#C8D4E3"
             },
             "line": {
              "color": "white"
             }
            },
            "type": "table"
           }
          ]
         },
         "layout": {
          "annotationdefaults": {
           "arrowcolor": "#2a3f5f",
           "arrowhead": 0,
           "arrowwidth": 1
          },
          "autotypenumbers": "strict",
          "coloraxis": {
           "colorbar": {
            "outlinewidth": 0,
            "ticks": ""
           }
          },
          "colorscale": {
           "diverging": [
            [
             0,
             "#8e0152"
            ],
            [
             0.1,
             "#c51b7d"
            ],
            [
             0.2,
             "#de77ae"
            ],
            [
             0.3,
             "#f1b6da"
            ],
            [
             0.4,
             "#fde0ef"
            ],
            [
             0.5,
             "#f7f7f7"
            ],
            [
             0.6,
             "#e6f5d0"
            ],
            [
             0.7,
             "#b8e186"
            ],
            [
             0.8,
             "#7fbc41"
            ],
            [
             0.9,
             "#4d9221"
            ],
            [
             1,
             "#276419"
            ]
           ],
           "sequential": [
            [
             0,
             "#0d0887"
            ],
            [
             0.1111111111111111,
             "#46039f"
            ],
            [
             0.2222222222222222,
             "#7201a8"
            ],
            [
             0.3333333333333333,
             "#9c179e"
            ],
            [
             0.4444444444444444,
             "#bd3786"
            ],
            [
             0.5555555555555556,
             "#d8576b"
            ],
            [
             0.6666666666666666,
             "#ed7953"
            ],
            [
             0.7777777777777778,
             "#fb9f3a"
            ],
            [
             0.8888888888888888,
             "#fdca26"
            ],
            [
             1,
             "#f0f921"
            ]
           ],
           "sequentialminus": [
            [
             0,
             "#0d0887"
            ],
            [
             0.1111111111111111,
             "#46039f"
            ],
            [
             0.2222222222222222,
             "#7201a8"
            ],
            [
             0.3333333333333333,
             "#9c179e"
            ],
            [
             0.4444444444444444,
             "#bd3786"
            ],
            [
             0.5555555555555556,
             "#d8576b"
            ],
            [
             0.6666666666666666,
             "#ed7953"
            ],
            [
             0.7777777777777778,
             "#fb9f3a"
            ],
            [
             0.8888888888888888,
             "#fdca26"
            ],
            [
             1,
             "#f0f921"
            ]
           ]
          },
          "colorway": [
           "rgb(102,194,165)",
           "rgb(252,141,98)",
           "rgb(141,160,203)",
           "rgb(231,138,195)",
           "rgb(166,216,84)",
           "rgb(255,217,47)",
           "rgb(229,196,148)",
           "rgb(179,179,179)"
          ],
          "font": {
           "color": "#2a3f5f",
           "family": "Arial",
           "size": 11
          },
          "geo": {
           "bgcolor": "white",
           "lakecolor": "white",
           "landcolor": "white",
           "showlakes": true,
           "showland": true,
           "subunitcolor": "#C8D4E3"
          },
          "height": 500,
          "hoverlabel": {
           "align": "left"
          },
          "hovermode": "closest",
          "mapbox": {
           "style": "light"
          },
          "paper_bgcolor": "white",
          "plot_bgcolor": "white",
          "polar": {
           "angularaxis": {
            "gridcolor": "#EBF0F8",
            "linecolor": "#EBF0F8",
            "ticks": ""
           },
           "bgcolor": "white",
           "radialaxis": {
            "gridcolor": "#EBF0F8",
            "linecolor": "#EBF0F8",
            "ticks": ""
           }
          },
          "scene": {
           "xaxis": {
            "backgroundcolor": "white",
            "gridcolor": "#DFE8F3",
            "gridwidth": 2,
            "linecolor": "#EBF0F8",
            "showbackground": true,
            "ticks": "",
            "zerolinecolor": "#EBF0F8"
           },
           "yaxis": {
            "backgroundcolor": "white",
            "gridcolor": "#DFE8F3",
            "gridwidth": 2,
            "linecolor": "#EBF0F8",
            "showbackground": true,
            "ticks": "",
            "zerolinecolor": "#EBF0F8"
           },
           "zaxis": {
            "backgroundcolor": "white",
            "gridcolor": "#DFE8F3",
            "gridwidth": 2,
            "linecolor": "#EBF0F8",
            "showbackground": true,
            "ticks": "",
            "zerolinecolor": "#EBF0F8"
           }
          },
          "shapedefaults": {
           "line": {
            "color": "#2a3f5f"
           }
          },
          "ternary": {
           "aaxis": {
            "gridcolor": "#DFE8F3",
            "linecolor": "#A2B1C6",
            "ticks": ""
           },
           "baxis": {
            "gridcolor": "#DFE8F3",
            "linecolor": "#A2B1C6",
            "ticks": ""
           },
           "bgcolor": "white",
           "caxis": {
            "gridcolor": "#DFE8F3",
            "linecolor": "#A2B1C6",
            "ticks": ""
           }
          },
          "title": {
           "x": 0.05
          },
          "width": 1000,
          "xaxis": {
           "automargin": true,
           "gridcolor": "lightgrey",
           "linecolor": "#EBF0F8",
           "showgrid": true,
           "ticks": "",
           "title": {
            "standoff": 15
           },
           "zerolinecolor": "#EBF0F8",
           "zerolinewidth": 2
          },
          "yaxis": {
           "automargin": true,
           "gridcolor": "lightgrey",
           "linecolor": "#EBF0F8",
           "showgrid": true,
           "ticks": "",
           "title": {
            "standoff": 15
           },
           "zerolinecolor": "#EBF0F8",
           "zerolinewidth": 2
          }
         }
        },
        "title": {
         "text": "Riesgo vs Reincidencia por genero — CLEAN vs PROPUBLICA"
        },
        "xaxis": {
         "anchor": "y",
         "domain": [
          0,
          0.49
         ],
         "gridcolor": "lightgrey",
         "showgrid": true,
         "title": {
          "text": "genero"
         }
        },
        "xaxis2": {
         "anchor": "y2",
         "domain": [
          0.51,
          1
         ],
         "matches": "x",
         "title": {
          "text": "genero"
         }
        },
        "yaxis": {
         "anchor": "x",
         "domain": [
          0,
          1
         ],
         "gridcolor": "lightgrey",
         "showgrid": true,
         "tickformat": ",.0%",
         "title": {
          "text": "Porcentaje"
         }
        },
        "yaxis2": {
         "anchor": "x2",
         "domain": [
          0,
          1
         ],
         "matches": "y",
         "showticklabels": false
        }
       }
      }
     },
     "metadata": {},
     "output_type": "display_data"
    },
    {
     "name": "stdout",
     "output_type": "stream",
     "text": [
      "[CLEAN] Spearman: rho=1.000, p=nan\n",
      "[PROPUBLICA] Spearman: rho=1.000, p=nan\n"
     ]
    },
    {
     "data": {
      "application/vnd.plotly.v1+json": {
       "config": {
        "plotlyServerURL": "https://plot.ly"
       },
       "data": [
        {
         "alignmentgroup": "True",
         "hovertemplate": "dataset=CLEAN<br>metric=Riesgo medio (escalado)<br>rango_edad=%{x}<br>value=%{text}<extra></extra>",
         "legendgroup": "CLEAN",
         "marker": {
          "color": "rgb(102,194,165)",
          "pattern": {
           "shape": ""
          }
         },
         "name": "CLEAN",
         "offsetgroup": "CLEAN",
         "orientation": "v",
         "showlegend": true,
         "text": {
          "bdata": "/hcNjaye2z90jPfgLRbQPxwWnppvjeI/",
          "dtype": "f8"
         },
         "textposition": "outside",
         "texttemplate": "%{text:.1%}",
         "type": "bar",
         "x": [
          "25 - 45",
          "Greater than 45",
          "Less than 25"
         ],
         "xaxis": "x",
         "y": {
          "bdata": "/hcNjaye2z90jPfgLRbQPxwWnppvjeI/",
          "dtype": "f8"
         },
         "yaxis": "y"
        },
        {
         "alignmentgroup": "True",
         "hovertemplate": "dataset=CLEAN<br>metric=Reincidencia real<br>rango_edad=%{x}<br>value=%{text}<extra></extra>",
         "legendgroup": "CLEAN",
         "marker": {
          "color": "rgb(102,194,165)",
          "pattern": {
           "shape": ""
          }
         },
         "name": "CLEAN",
         "offsetgroup": "CLEAN",
         "orientation": "v",
         "showlegend": false,
         "text": {
          "bdata": "iLrPiIc42D/ngdM+X4bPP/9rf6Mvxt0/",
          "dtype": "f8"
         },
         "textposition": "outside",
         "texttemplate": "%{text:.1%}",
         "type": "bar",
         "x": [
          "25 - 45",
          "Greater than 45",
          "Less than 25"
         ],
         "xaxis": "x2",
         "y": {
          "bdata": "iLrPiIc42D/ngdM+X4bPP/9rf6Mvxt0/",
          "dtype": "f8"
         },
         "yaxis": "y2"
        },
        {
         "alignmentgroup": "True",
         "hovertemplate": "dataset=PROPUBLICA<br>metric=Riesgo medio (escalado)<br>rango_edad=%{x}<br>value=%{text}<extra></extra>",
         "legendgroup": "PROPUBLICA",
         "marker": {
          "color": "rgb(252,141,98)",
          "pattern": {
           "shape": ""
          }
         },
         "name": "PROPUBLICA",
         "offsetgroup": "PROPUBLICA",
         "orientation": "v",
         "showlegend": true,
         "text": {
          "bdata": "xdH97hRw3T8/vsSDDazSP6t1/gUx6OI/",
          "dtype": "f8"
         },
         "textposition": "outside",
         "texttemplate": "%{text:.1%}",
         "type": "bar",
         "x": [
          "25 - 45",
          "Greater than 45",
          "Less than 25"
         ],
         "xaxis": "x",
         "y": {
          "bdata": "xdH97hRw3T8/vsSDDazSP6t1/gUx6OI/",
          "dtype": "f8"
         },
         "yaxis": "y"
        },
        {
         "alignmentgroup": "True",
         "hovertemplate": "dataset=PROPUBLICA<br>metric=Reincidencia real<br>rango_edad=%{x}<br>value=%{text}<extra></extra>",
         "legendgroup": "PROPUBLICA",
         "marker": {
          "color": "rgb(252,141,98)",
          "pattern": {
           "shape": ""
          }
         },
         "name": "PROPUBLICA",
         "offsetgroup": "PROPUBLICA",
         "orientation": "v",
         "showlegend": false,
         "text": {
          "bdata": "SfVbLBhs3T+ip3N7LTnUP07VtpwYFeI/",
          "dtype": "f8"
         },
         "textposition": "outside",
         "texttemplate": "%{text:.1%}",
         "type": "bar",
         "x": [
          "25 - 45",
          "Greater than 45",
          "Less than 25"
         ],
         "xaxis": "x2",
         "y": {
          "bdata": "SfVbLBhs3T+ip3N7LTnUP07VtpwYFeI/",
          "dtype": "f8"
         },
         "yaxis": "y2"
        }
       ],
       "layout": {
        "annotations": [
         {
          "font": {},
          "showarrow": false,
          "text": "metric=Riesgo medio (escalado)",
          "x": 0.245,
          "xanchor": "center",
          "xref": "paper",
          "y": 1,
          "yanchor": "bottom",
          "yref": "paper"
         },
         {
          "font": {},
          "showarrow": false,
          "text": "metric=Reincidencia real",
          "x": 0.755,
          "xanchor": "center",
          "xref": "paper",
          "y": 1,
          "yanchor": "bottom",
          "yref": "paper"
         }
        ],
        "barmode": "group",
        "legend": {
         "title": {
          "text": "dataset"
         },
         "tracegroupgap": 0
        },
        "plot_bgcolor": "rgba(255,255,255,1)",
        "template": {
         "data": {
          "bar": [
           {
            "error_x": {
             "color": "#2a3f5f"
            },
            "error_y": {
             "color": "#2a3f5f"
            },
            "marker": {
             "line": {
              "color": "white",
              "width": 0.5
             },
             "pattern": {
              "fillmode": "overlay",
              "size": 10,
              "solidity": 0.2
             }
            },
            "type": "bar"
           }
          ],
          "barpolar": [
           {
            "marker": {
             "line": {
              "color": "white",
              "width": 0.5
             },
             "pattern": {
              "fillmode": "overlay",
              "size": 10,
              "solidity": 0.2
             }
            },
            "type": "barpolar"
           }
          ],
          "carpet": [
           {
            "aaxis": {
             "endlinecolor": "#2a3f5f",
             "gridcolor": "#C8D4E3",
             "linecolor": "#C8D4E3",
             "minorgridcolor": "#C8D4E3",
             "startlinecolor": "#2a3f5f"
            },
            "baxis": {
             "endlinecolor": "#2a3f5f",
             "gridcolor": "#C8D4E3",
             "linecolor": "#C8D4E3",
             "minorgridcolor": "#C8D4E3",
             "startlinecolor": "#2a3f5f"
            },
            "type": "carpet"
           }
          ],
          "choropleth": [
           {
            "colorbar": {
             "outlinewidth": 0,
             "ticks": ""
            },
            "type": "choropleth"
           }
          ],
          "contour": [
           {
            "colorbar": {
             "outlinewidth": 0,
             "ticks": ""
            },
            "colorscale": [
             [
              0,
              "#0d0887"
             ],
             [
              0.1111111111111111,
              "#46039f"
             ],
             [
              0.2222222222222222,
              "#7201a8"
             ],
             [
              0.3333333333333333,
              "#9c179e"
             ],
             [
              0.4444444444444444,
              "#bd3786"
             ],
             [
              0.5555555555555556,
              "#d8576b"
             ],
             [
              0.6666666666666666,
              "#ed7953"
             ],
             [
              0.7777777777777778,
              "#fb9f3a"
             ],
             [
              0.8888888888888888,
              "#fdca26"
             ],
             [
              1,
              "#f0f921"
             ]
            ],
            "type": "contour"
           }
          ],
          "contourcarpet": [
           {
            "colorbar": {
             "outlinewidth": 0,
             "ticks": ""
            },
            "type": "contourcarpet"
           }
          ],
          "heatmap": [
           {
            "colorbar": {
             "outlinewidth": 0,
             "ticks": ""
            },
            "colorscale": [
             [
              0,
              "#0d0887"
             ],
             [
              0.1111111111111111,
              "#46039f"
             ],
             [
              0.2222222222222222,
              "#7201a8"
             ],
             [
              0.3333333333333333,
              "#9c179e"
             ],
             [
              0.4444444444444444,
              "#bd3786"
             ],
             [
              0.5555555555555556,
              "#d8576b"
             ],
             [
              0.6666666666666666,
              "#ed7953"
             ],
             [
              0.7777777777777778,
              "#fb9f3a"
             ],
             [
              0.8888888888888888,
              "#fdca26"
             ],
             [
              1,
              "#f0f921"
             ]
            ],
            "type": "heatmap"
           }
          ],
          "histogram": [
           {
            "marker": {
             "pattern": {
              "fillmode": "overlay",
              "size": 10,
              "solidity": 0.2
             }
            },
            "type": "histogram"
           }
          ],
          "histogram2d": [
           {
            "colorbar": {
             "outlinewidth": 0,
             "ticks": ""
            },
            "colorscale": [
             [
              0,
              "#0d0887"
             ],
             [
              0.1111111111111111,
              "#46039f"
             ],
             [
              0.2222222222222222,
              "#7201a8"
             ],
             [
              0.3333333333333333,
              "#9c179e"
             ],
             [
              0.4444444444444444,
              "#bd3786"
             ],
             [
              0.5555555555555556,
              "#d8576b"
             ],
             [
              0.6666666666666666,
              "#ed7953"
             ],
             [
              0.7777777777777778,
              "#fb9f3a"
             ],
             [
              0.8888888888888888,
              "#fdca26"
             ],
             [
              1,
              "#f0f921"
             ]
            ],
            "type": "histogram2d"
           }
          ],
          "histogram2dcontour": [
           {
            "colorbar": {
             "outlinewidth": 0,
             "ticks": ""
            },
            "colorscale": [
             [
              0,
              "#0d0887"
             ],
             [
              0.1111111111111111,
              "#46039f"
             ],
             [
              0.2222222222222222,
              "#7201a8"
             ],
             [
              0.3333333333333333,
              "#9c179e"
             ],
             [
              0.4444444444444444,
              "#bd3786"
             ],
             [
              0.5555555555555556,
              "#d8576b"
             ],
             [
              0.6666666666666666,
              "#ed7953"
             ],
             [
              0.7777777777777778,
              "#fb9f3a"
             ],
             [
              0.8888888888888888,
              "#fdca26"
             ],
             [
              1,
              "#f0f921"
             ]
            ],
            "type": "histogram2dcontour"
           }
          ],
          "mesh3d": [
           {
            "colorbar": {
             "outlinewidth": 0,
             "ticks": ""
            },
            "type": "mesh3d"
           }
          ],
          "parcoords": [
           {
            "line": {
             "colorbar": {
              "outlinewidth": 0,
              "ticks": ""
             }
            },
            "type": "parcoords"
           }
          ],
          "pie": [
           {
            "automargin": true,
            "type": "pie"
           }
          ],
          "scatter": [
           {
            "fillpattern": {
             "fillmode": "overlay",
             "size": 10,
             "solidity": 0.2
            },
            "type": "scatter"
           }
          ],
          "scatter3d": [
           {
            "line": {
             "colorbar": {
              "outlinewidth": 0,
              "ticks": ""
             }
            },
            "marker": {
             "colorbar": {
              "outlinewidth": 0,
              "ticks": ""
             }
            },
            "type": "scatter3d"
           }
          ],
          "scattercarpet": [
           {
            "marker": {
             "colorbar": {
              "outlinewidth": 0,
              "ticks": ""
             }
            },
            "type": "scattercarpet"
           }
          ],
          "scattergeo": [
           {
            "marker": {
             "colorbar": {
              "outlinewidth": 0,
              "ticks": ""
             }
            },
            "type": "scattergeo"
           }
          ],
          "scattergl": [
           {
            "marker": {
             "colorbar": {
              "outlinewidth": 0,
              "ticks": ""
             }
            },
            "type": "scattergl"
           }
          ],
          "scattermap": [
           {
            "marker": {
             "colorbar": {
              "outlinewidth": 0,
              "ticks": ""
             }
            },
            "type": "scattermap"
           }
          ],
          "scattermapbox": [
           {
            "marker": {
             "colorbar": {
              "outlinewidth": 0,
              "ticks": ""
             }
            },
            "type": "scattermapbox"
           }
          ],
          "scatterpolar": [
           {
            "marker": {
             "colorbar": {
              "outlinewidth": 0,
              "ticks": ""
             }
            },
            "type": "scatterpolar"
           }
          ],
          "scatterpolargl": [
           {
            "marker": {
             "colorbar": {
              "outlinewidth": 0,
              "ticks": ""
             }
            },
            "type": "scatterpolargl"
           }
          ],
          "scatterternary": [
           {
            "marker": {
             "colorbar": {
              "outlinewidth": 0,
              "ticks": ""
             }
            },
            "type": "scatterternary"
           }
          ],
          "surface": [
           {
            "colorbar": {
             "outlinewidth": 0,
             "ticks": ""
            },
            "colorscale": [
             [
              0,
              "#0d0887"
             ],
             [
              0.1111111111111111,
              "#46039f"
             ],
             [
              0.2222222222222222,
              "#7201a8"
             ],
             [
              0.3333333333333333,
              "#9c179e"
             ],
             [
              0.4444444444444444,
              "#bd3786"
             ],
             [
              0.5555555555555556,
              "#d8576b"
             ],
             [
              0.6666666666666666,
              "#ed7953"
             ],
             [
              0.7777777777777778,
              "#fb9f3a"
             ],
             [
              0.8888888888888888,
              "#fdca26"
             ],
             [
              1,
              "#f0f921"
             ]
            ],
            "type": "surface"
           }
          ],
          "table": [
           {
            "cells": {
             "fill": {
              "color": "#EBF0F8"
             },
             "line": {
              "color": "white"
             }
            },
            "header": {
             "fill": {
              "color": "#C8D4E3"
             },
             "line": {
              "color": "white"
             }
            },
            "type": "table"
           }
          ]
         },
         "layout": {
          "annotationdefaults": {
           "arrowcolor": "#2a3f5f",
           "arrowhead": 0,
           "arrowwidth": 1
          },
          "autotypenumbers": "strict",
          "coloraxis": {
           "colorbar": {
            "outlinewidth": 0,
            "ticks": ""
           }
          },
          "colorscale": {
           "diverging": [
            [
             0,
             "#8e0152"
            ],
            [
             0.1,
             "#c51b7d"
            ],
            [
             0.2,
             "#de77ae"
            ],
            [
             0.3,
             "#f1b6da"
            ],
            [
             0.4,
             "#fde0ef"
            ],
            [
             0.5,
             "#f7f7f7"
            ],
            [
             0.6,
             "#e6f5d0"
            ],
            [
             0.7,
             "#b8e186"
            ],
            [
             0.8,
             "#7fbc41"
            ],
            [
             0.9,
             "#4d9221"
            ],
            [
             1,
             "#276419"
            ]
           ],
           "sequential": [
            [
             0,
             "#0d0887"
            ],
            [
             0.1111111111111111,
             "#46039f"
            ],
            [
             0.2222222222222222,
             "#7201a8"
            ],
            [
             0.3333333333333333,
             "#9c179e"
            ],
            [
             0.4444444444444444,
             "#bd3786"
            ],
            [
             0.5555555555555556,
             "#d8576b"
            ],
            [
             0.6666666666666666,
             "#ed7953"
            ],
            [
             0.7777777777777778,
             "#fb9f3a"
            ],
            [
             0.8888888888888888,
             "#fdca26"
            ],
            [
             1,
             "#f0f921"
            ]
           ],
           "sequentialminus": [
            [
             0,
             "#0d0887"
            ],
            [
             0.1111111111111111,
             "#46039f"
            ],
            [
             0.2222222222222222,
             "#7201a8"
            ],
            [
             0.3333333333333333,
             "#9c179e"
            ],
            [
             0.4444444444444444,
             "#bd3786"
            ],
            [
             0.5555555555555556,
             "#d8576b"
            ],
            [
             0.6666666666666666,
             "#ed7953"
            ],
            [
             0.7777777777777778,
             "#fb9f3a"
            ],
            [
             0.8888888888888888,
             "#fdca26"
            ],
            [
             1,
             "#f0f921"
            ]
           ]
          },
          "colorway": [
           "rgb(102,194,165)",
           "rgb(252,141,98)",
           "rgb(141,160,203)",
           "rgb(231,138,195)",
           "rgb(166,216,84)",
           "rgb(255,217,47)",
           "rgb(229,196,148)",
           "rgb(179,179,179)"
          ],
          "font": {
           "color": "#2a3f5f",
           "family": "Arial",
           "size": 11
          },
          "geo": {
           "bgcolor": "white",
           "lakecolor": "white",
           "landcolor": "white",
           "showlakes": true,
           "showland": true,
           "subunitcolor": "#C8D4E3"
          },
          "height": 500,
          "hoverlabel": {
           "align": "left"
          },
          "hovermode": "closest",
          "mapbox": {
           "style": "light"
          },
          "paper_bgcolor": "white",
          "plot_bgcolor": "white",
          "polar": {
           "angularaxis": {
            "gridcolor": "#EBF0F8",
            "linecolor": "#EBF0F8",
            "ticks": ""
           },
           "bgcolor": "white",
           "radialaxis": {
            "gridcolor": "#EBF0F8",
            "linecolor": "#EBF0F8",
            "ticks": ""
           }
          },
          "scene": {
           "xaxis": {
            "backgroundcolor": "white",
            "gridcolor": "#DFE8F3",
            "gridwidth": 2,
            "linecolor": "#EBF0F8",
            "showbackground": true,
            "ticks": "",
            "zerolinecolor": "#EBF0F8"
           },
           "yaxis": {
            "backgroundcolor": "white",
            "gridcolor": "#DFE8F3",
            "gridwidth": 2,
            "linecolor": "#EBF0F8",
            "showbackground": true,
            "ticks": "",
            "zerolinecolor": "#EBF0F8"
           },
           "zaxis": {
            "backgroundcolor": "white",
            "gridcolor": "#DFE8F3",
            "gridwidth": 2,
            "linecolor": "#EBF0F8",
            "showbackground": true,
            "ticks": "",
            "zerolinecolor": "#EBF0F8"
           }
          },
          "shapedefaults": {
           "line": {
            "color": "#2a3f5f"
           }
          },
          "ternary": {
           "aaxis": {
            "gridcolor": "#DFE8F3",
            "linecolor": "#A2B1C6",
            "ticks": ""
           },
           "baxis": {
            "gridcolor": "#DFE8F3",
            "linecolor": "#A2B1C6",
            "ticks": ""
           },
           "bgcolor": "white",
           "caxis": {
            "gridcolor": "#DFE8F3",
            "linecolor": "#A2B1C6",
            "ticks": ""
           }
          },
          "title": {
           "x": 0.05
          },
          "width": 1000,
          "xaxis": {
           "automargin": true,
           "gridcolor": "lightgrey",
           "linecolor": "#EBF0F8",
           "showgrid": true,
           "ticks": "",
           "title": {
            "standoff": 15
           },
           "zerolinecolor": "#EBF0F8",
           "zerolinewidth": 2
          },
          "yaxis": {
           "automargin": true,
           "gridcolor": "lightgrey",
           "linecolor": "#EBF0F8",
           "showgrid": true,
           "ticks": "",
           "title": {
            "standoff": 15
           },
           "zerolinecolor": "#EBF0F8",
           "zerolinewidth": 2
          }
         }
        },
        "title": {
         "text": "Riesgo vs Reincidencia por rango_edad — CLEAN vs PROPUBLICA"
        },
        "xaxis": {
         "anchor": "y",
         "domain": [
          0,
          0.49
         ],
         "gridcolor": "lightgrey",
         "showgrid": true,
         "title": {
          "text": "rango_edad"
         }
        },
        "xaxis2": {
         "anchor": "y2",
         "domain": [
          0.51,
          1
         ],
         "matches": "x",
         "title": {
          "text": "rango_edad"
         }
        },
        "yaxis": {
         "anchor": "x",
         "domain": [
          0,
          1
         ],
         "gridcolor": "lightgrey",
         "showgrid": true,
         "tickformat": ",.0%",
         "title": {
          "text": "Porcentaje"
         }
        },
        "yaxis2": {
         "anchor": "x2",
         "domain": [
          0,
          1
         ],
         "matches": "y",
         "showticklabels": false
        }
       }
      }
     },
     "metadata": {},
     "output_type": "display_data"
    },
    {
     "name": "stdout",
     "output_type": "stream",
     "text": [
      "[CLEAN] Spearman: rho=1.000, p=0.0000\n",
      "[PROPUBLICA] Spearman: rho=1.000, p=0.0000\n"
     ]
    }
   ],
   "source": [
    "\n",
    "def _agg_riesgo_reincid(df, group_var):\n",
    "    # Riesgo medio (1–10) -> escalar a 0–1\n",
    "    riesgo = (\n",
    "        df.groupby(group_var)['resultado_compas']\n",
    "          .mean()\n",
    "          .reset_index()\n",
    "          .rename(columns={'resultado_compas':'riesgo_medio'})\n",
    "    )\n",
    "    riesgo['riesgo_medio_scaled'] = riesgo['riesgo_medio'] / 10.0\n",
    "\n",
    "    # Reincidencia real (0–1)\n",
    "    real = (\n",
    "        df.groupby(group_var)['reincide']\n",
    "          .mean()\n",
    "          .reset_index()\n",
    "          .rename(columns={'reincide':'reincidencia_real'})\n",
    "    )\n",
    "    return riesgo.merge(real, on=group_var)\n",
    "\n",
    "def compare_risk_vs_recid_two(df_a, df_b, group_var, label_a='CLEAN', label_b='DIRTY'):\n",
    "    \"\"\"\n",
    "    Compara riesgo medio (escalado) y reincidencia real por grupo entre dos datasets.\n",
    "    Muestra barras paralelas por dataset y separa por métrica.\n",
    "    Devuelve la tabla combinada.\n",
    "    \"\"\"\n",
    "    comp_a = _agg_riesgo_reincid(df_a, group_var)\n",
    "    comp_b = _agg_riesgo_reincid(df_b, group_var)\n",
    "\n",
    "    comp_a['dataset'] = label_a\n",
    "    comp_b['dataset'] = label_b\n",
    "\n",
    "    comp = pd.concat([comp_a, comp_b], ignore_index=True)\n",
    "\n",
    "    # Long para plot\n",
    "    df_long = comp.melt(\n",
    "        id_vars=[group_var,'dataset'],\n",
    "        value_vars=['riesgo_medio_scaled','reincidencia_real'],\n",
    "        var_name='metric', value_name='value'\n",
    "    ).replace({'metric':{\n",
    "        'riesgo_medio_scaled':'Riesgo medio (escalado)',\n",
    "        'reincidencia_real':'Reincidencia real'\n",
    "    }})\n",
    "\n",
    "    # Barras paralelas (agrupadas) y facet por métrica\n",
    "    fig = px.bar(\n",
    "        df_long, x=group_var, y='value', color='dataset',\n",
    "        barmode='group', text='value', facet_col='metric',\n",
    "        title=f'Riesgo vs Reincidencia por {group_var} — {label_a} vs {label_b}'\n",
    "    )\n",
    "    fig.update_traces(texttemplate='%{text:.1%}', textposition='outside')\n",
    "    fig.update_layout(\n",
    "        yaxis_tickformat=',.0%', yaxis_title='Porcentaje',\n",
    "        plot_bgcolor='rgba(255,255,255,1)',\n",
    "        xaxis_showgrid=True, xaxis_gridcolor='lightgrey',\n",
    "        yaxis_showgrid=True, yaxis_gridcolor='lightgrey'\n",
    "    )\n",
    "    fig.show()\n",
    "\n",
    "    # Correlación de rangos (Spearman) en cada dataset (promedios por grupo)\n",
    "    try:\n",
    "        from scipy.stats import spearmanr\n",
    "        rho_a, p_a = spearmanr(comp_a['riesgo_medio_scaled'], comp_a['reincidencia_real'])\n",
    "        rho_b, p_b = spearmanr(comp_b['riesgo_medio_scaled'], comp_b['reincidencia_real'])\n",
    "        print(f\"[{label_a}] Spearman: rho={rho_a:.3f}, p={p_a:.4f}\")\n",
    "        print(f\"[{label_b}] Spearman: rho={rho_b:.3f}, p={p_b:.4f}\")\n",
    "    except Exception as e:\n",
    "        print(f\"[Aviso] No se pudo calcular Spearman: {e}\")\n",
    "\n",
    "    return comp\n",
    "\n",
    "# Ejecuto código\n",
    "for g in [c for c in ['etnia','genero','rango_edad'] if c in df_twoyears.columns]:\n",
    "     compare_risk_vs_recid_two(df_twoyears_clean, df_twoyears, g, 'CLEAN', 'PROPUBLICA')\n"
   ]
  },
  {
   "cell_type": "markdown",
   "id": "39b7dd2e",
   "metadata": {},
   "source": [
    "### Correlación de Spearman — Riesgo COMPAS vs Reincidencia real\n",
    "\n",
    "Hemos evaluado la correlación de rangos (Spearman) entre el **riesgo medio escalado**\n",
    "y la **tasa de reincidencia real**, comparando el dataset *CLEAN* (con filtros aplicados)\n",
    "y el dataset original de *ProPublica*.\n",
    "\n",
    "#### Resultados por etnia\n",
    "- **CLEAN:** rho = 0.886, p = 0.0188  \n",
    "  - Correlación **fuerte y positiva**, estadísticamente significativa.  \n",
    "  - A mayor riesgo medio por etnia, mayor reincidencia real, aunque no perfecta.  \n",
    "- **PROPUBLICA:** rho = 1.000, p = 0.0000  \n",
    "  - Correlación **perfecta**, irreal en datos sociales.  \n",
    "  - Explicada por el sesgo de ProPublica al incluir recidivistas posteriores al 1/04/2014.\n",
    "\n",
    "#### Resultados por rango de edad\n",
    "- **CLEAN:** rho = 1.000, p = 0.0000  \n",
    "- **PROPUBLICA:** rho = 1.000, p = 0.0000  \n",
    "  - En ambos casos aparece correlación **perfecta**.  \n",
    "  - Esto refleja que los grupos de edad mantienen exactamente el mismo orden en riesgo y reincidencia (menores de 25 con mayor riesgo y reincidencia, mayores de 45 con menor).  \n",
    "  - Aunque el valor es perfecto, aquí sí es plausible porque hay solo 3 grupos de edad claramente ordenados.\n",
    "\n",
    "#### Resultados por género\n",
    "- **CLEAN:** rho = 1.000, p = nan  \n",
    "- **PROPUBLICA:** rho = 1.000, p = nan  \n",
    "  - Con solo **dos grupos (hombre y mujer)**, Spearman devuelve una correlación perfecta por definición.  \n",
    "  - El p-value aparece como *nan* porque no se puede calcular significación estadística con solo 2 puntos.\n",
    "\n",
    "\n",
    "\n",
    "📌 **Conclusión general:**\n",
    "- Con el dataset *CLEAN*, las correlaciones siguen siendo altas pero más realistas (ej. etnia, rho≈0.886).  \n",
    "- En el dataset *ProPublica*, algunas correlaciones aparecen artificialmente perfectas debido al error de muestreo (ej. etnia, rho=1).  \n",
    "- En variables con pocos grupos (género = 2, edad = 3), Spearman tiende a devolver correlaciones extremas (1.0), lo cual debe interpretarse con cuidado: más que una \"predicción perfecta\", refleja que los grupos están perfectamente ordenados de forma monótona.\n"
   ]
  },
  {
   "cell_type": "markdown",
   "id": "e263fd31",
   "metadata": {},
   "source": [
    "---"
   ]
  },
  {
   "cell_type": "markdown",
   "id": "1fbc455e",
   "metadata": {},
   "source": [
    "\n",
    "## **5.2 DIFERENCIA GLOBAL DE TASAS: T-TEST DE WELCH Y χ² (uso descriptivo)**"
   ]
  },
  {
   "cell_type": "markdown",
   "id": "d003461b",
   "metadata": {},
   "source": [
    "En 5.2.1 hacemos la comparación descriptiva (Welch y χ²). En 5.2.2 realizamos el contraste formal con Incluidos vs Excluidos (χ² y test de dos proporciones con IC95%)."
   ]
  },
  {
   "cell_type": "markdown",
   "id": "340ce40d",
   "metadata": {},
   "source": [
    "### **5.2.1 DIFERENCIA GLOBAL DE TASAS: T-TEST DE WELCH Y χ² (uso descriptivo)**"
   ]
  },
  {
   "cell_type": "markdown",
   "id": "b2700121",
   "metadata": {},
   "source": [
    "\n",
    "\n",
    "Objetivo. Comparar la **tasa global de reincidencia** entre ProPublica y nuestro dataset Clean.\n",
    "\n",
    "Qué hacemos.  \n",
    "- **t-test (Welch)** para comparar medias de `reincide` (equivale a comparar proporciones).  \n",
    "- **χ²** en una tabla de contingencia (*dataset* × *reincide*).\n",
    "\n",
    "⚠️ Nota importante sobre el supuesto de independencia.  \n",
    "`df_twoyears_clean` es un **subconjunto** de `df_twoyears` (hay **solapamiento de filas**), por lo que **estos tests no cumplen** el supuesto de **muestras independientes**.  \n",
    "> **Decisión**: usamos estos tests **solo como resumen descriptivo** para confirmar que la diferencia observada no es casual.\n"
   ]
  },
  {
   "cell_type": "code",
   "execution_count": 18,
   "id": "5f83478f",
   "metadata": {},
   "outputs": [
    {
     "data": {
      "application/vnd.plotly.v1+json": {
       "config": {
        "plotlyServerURL": "https://plot.ly"
       },
       "data": [
        {
         "hovertemplate": "Decil %{x}<br>Tasa %{y:.2%}<extra></extra>",
         "line": {
          "width": 2
         },
         "marker": {
          "size": 8,
          "symbol": "circle"
         },
         "mode": "lines+markers",
         "name": "ProPublica",
         "type": "scatter",
         "x": {
          "bdata": "AQIDBAUGBwgJCg==",
          "dtype": "i1"
         },
         "xaxis": "x",
         "y": {
          "bdata": "C7ZgC7Zgyz9GkdIigO3TP0yptgExE9g/SSWQTxHM2z/F1Lr3JaPeP8AgrkxA3+E/tG4wRT7r4j8AAAAAAODlP5fL5XK5XOY/1b+fbye76D8=",
          "dtype": "f8"
         },
         "yaxis": "y"
        },
        {
         "hovertemplate": "Decil %{x}<br>Tasa %{y:.2%}<extra></extra>",
         "line": {
          "width": 2
         },
         "marker": {
          "size": 8,
          "symbol": "square"
         },
         "mode": "lines+markers",
         "name": "Clean",
         "type": "scatter",
         "x": {
          "bdata": "AQIDBAUGBwgJCg==",
          "dtype": "i1"
         },
         "xaxis": "x",
         "y": {
          "bdata": "Pa28KB3MxD8NcklwujDOP2jVLBRJR9M/rTn+AzeE1j98G3dZLh7YP6iWAIVqCeA/+9ck4nSY4D+vRO1K1K7kP5cVAyW80eQ/Z3ib4W2G5z8=",
          "dtype": "f8"
         },
         "yaxis": "y"
        },
        {
         "hovertemplate": "Decil %{x}<br>Diferencia %{y:.1f} p.p.<extra></extra>",
         "name": "Clean – ProPublica (p.p.)",
         "text": {
          "bdata": "ZmZmZmZmFMBmZmZmZmYewAAAAAAAAB7AmpmZmZmZIMBmZmZmZmYkwM3MzMzMzBbAMzMzMzMzHcCamZmZmZkNwDMzMzMzMxPAZmZmZmZmDsA=",
          "dtype": "f8"
         },
         "textposition": "outside",
         "type": "bar",
         "x": {
          "bdata": "AQIDBAUGBwgJCg==",
          "dtype": "i1"
         },
         "xaxis": "x2",
         "y": {
          "bdata": "hJtAxF2QFMCNh746GjQewFFsnYxp+h3ASAAoLIqAIMAEo5POhV8kwCw++T/w8BbACNwQVtUKHcDpStSuRM0NwADjkU1eSRPAvvlq3h4mDsA=",
          "dtype": "f8"
         },
         "yaxis": "y2"
        }
       ],
       "layout": {
        "annotations": [
         {
          "font": {
           "size": 16
          },
          "showarrow": false,
          "text": "Tasa de reincidencia por decil COMPAS",
          "x": 0.5,
          "xanchor": "center",
          "xref": "paper",
          "y": 1,
          "yanchor": "bottom",
          "yref": "paper"
         },
         {
          "font": {
           "size": 16
          },
          "showarrow": false,
          "text": "Diferencia de tasas (Clean – ProPublica) por decil",
          "x": 0.5,
          "xanchor": "center",
          "xref": "paper",
          "y": 0.35200000000000004,
          "yanchor": "bottom",
          "yref": "paper"
         },
         {
          "showarrow": false,
          "text": "Media ProPublica 45.07%",
          "x": 1,
          "xanchor": "right",
          "xref": "x domain",
          "y": 0.45065151095092876,
          "yanchor": "bottom",
          "yref": "y"
         },
         {
          "showarrow": false,
          "text": "Media Clean 36.79%",
          "x": 1,
          "xanchor": "right",
          "xref": "x domain",
          "y": 0.3679406731317741,
          "yanchor": "bottom",
          "yref": "y"
         }
        ],
        "legend": {
         "title": {
          "text": "Dataset"
         }
        },
        "margin": {
         "b": 60,
         "l": 70,
         "r": 40,
         "t": 80
        },
        "plot_bgcolor": "rgba(255,255,255,1)",
        "shapes": [
         {
          "line": {
           "dash": "dash"
          },
          "opacity": 0.5,
          "type": "line",
          "x0": 0,
          "x1": 1,
          "xref": "x domain",
          "y0": 0.45065151095092876,
          "y1": 0.45065151095092876,
          "yref": "y"
         },
         {
          "line": {
           "dash": "dash"
          },
          "opacity": 0.5,
          "type": "line",
          "x0": 0,
          "x1": 1,
          "xref": "x domain",
          "y0": 0.3679406731317741,
          "y1": 0.3679406731317741,
          "yref": "y"
         },
         {
          "line": {
           "dash": "dash"
          },
          "opacity": 0.5,
          "type": "line",
          "x0": 0,
          "x1": 1,
          "xref": "x2 domain",
          "y0": 0,
          "y1": 0,
          "yref": "y2"
         }
        ],
        "template": {
         "data": {
          "bar": [
           {
            "error_x": {
             "color": "#2a3f5f"
            },
            "error_y": {
             "color": "#2a3f5f"
            },
            "marker": {
             "line": {
              "color": "white",
              "width": 0.5
             },
             "pattern": {
              "fillmode": "overlay",
              "size": 10,
              "solidity": 0.2
             }
            },
            "type": "bar"
           }
          ],
          "barpolar": [
           {
            "marker": {
             "line": {
              "color": "white",
              "width": 0.5
             },
             "pattern": {
              "fillmode": "overlay",
              "size": 10,
              "solidity": 0.2
             }
            },
            "type": "barpolar"
           }
          ],
          "carpet": [
           {
            "aaxis": {
             "endlinecolor": "#2a3f5f",
             "gridcolor": "#C8D4E3",
             "linecolor": "#C8D4E3",
             "minorgridcolor": "#C8D4E3",
             "startlinecolor": "#2a3f5f"
            },
            "baxis": {
             "endlinecolor": "#2a3f5f",
             "gridcolor": "#C8D4E3",
             "linecolor": "#C8D4E3",
             "minorgridcolor": "#C8D4E3",
             "startlinecolor": "#2a3f5f"
            },
            "type": "carpet"
           }
          ],
          "choropleth": [
           {
            "colorbar": {
             "outlinewidth": 0,
             "ticks": ""
            },
            "type": "choropleth"
           }
          ],
          "contour": [
           {
            "colorbar": {
             "outlinewidth": 0,
             "ticks": ""
            },
            "colorscale": [
             [
              0,
              "#0d0887"
             ],
             [
              0.1111111111111111,
              "#46039f"
             ],
             [
              0.2222222222222222,
              "#7201a8"
             ],
             [
              0.3333333333333333,
              "#9c179e"
             ],
             [
              0.4444444444444444,
              "#bd3786"
             ],
             [
              0.5555555555555556,
              "#d8576b"
             ],
             [
              0.6666666666666666,
              "#ed7953"
             ],
             [
              0.7777777777777778,
              "#fb9f3a"
             ],
             [
              0.8888888888888888,
              "#fdca26"
             ],
             [
              1,
              "#f0f921"
             ]
            ],
            "type": "contour"
           }
          ],
          "contourcarpet": [
           {
            "colorbar": {
             "outlinewidth": 0,
             "ticks": ""
            },
            "type": "contourcarpet"
           }
          ],
          "heatmap": [
           {
            "colorbar": {
             "outlinewidth": 0,
             "ticks": ""
            },
            "colorscale": [
             [
              0,
              "#0d0887"
             ],
             [
              0.1111111111111111,
              "#46039f"
             ],
             [
              0.2222222222222222,
              "#7201a8"
             ],
             [
              0.3333333333333333,
              "#9c179e"
             ],
             [
              0.4444444444444444,
              "#bd3786"
             ],
             [
              0.5555555555555556,
              "#d8576b"
             ],
             [
              0.6666666666666666,
              "#ed7953"
             ],
             [
              0.7777777777777778,
              "#fb9f3a"
             ],
             [
              0.8888888888888888,
              "#fdca26"
             ],
             [
              1,
              "#f0f921"
             ]
            ],
            "type": "heatmap"
           }
          ],
          "histogram": [
           {
            "marker": {
             "pattern": {
              "fillmode": "overlay",
              "size": 10,
              "solidity": 0.2
             }
            },
            "type": "histogram"
           }
          ],
          "histogram2d": [
           {
            "colorbar": {
             "outlinewidth": 0,
             "ticks": ""
            },
            "colorscale": [
             [
              0,
              "#0d0887"
             ],
             [
              0.1111111111111111,
              "#46039f"
             ],
             [
              0.2222222222222222,
              "#7201a8"
             ],
             [
              0.3333333333333333,
              "#9c179e"
             ],
             [
              0.4444444444444444,
              "#bd3786"
             ],
             [
              0.5555555555555556,
              "#d8576b"
             ],
             [
              0.6666666666666666,
              "#ed7953"
             ],
             [
              0.7777777777777778,
              "#fb9f3a"
             ],
             [
              0.8888888888888888,
              "#fdca26"
             ],
             [
              1,
              "#f0f921"
             ]
            ],
            "type": "histogram2d"
           }
          ],
          "histogram2dcontour": [
           {
            "colorbar": {
             "outlinewidth": 0,
             "ticks": ""
            },
            "colorscale": [
             [
              0,
              "#0d0887"
             ],
             [
              0.1111111111111111,
              "#46039f"
             ],
             [
              0.2222222222222222,
              "#7201a8"
             ],
             [
              0.3333333333333333,
              "#9c179e"
             ],
             [
              0.4444444444444444,
              "#bd3786"
             ],
             [
              0.5555555555555556,
              "#d8576b"
             ],
             [
              0.6666666666666666,
              "#ed7953"
             ],
             [
              0.7777777777777778,
              "#fb9f3a"
             ],
             [
              0.8888888888888888,
              "#fdca26"
             ],
             [
              1,
              "#f0f921"
             ]
            ],
            "type": "histogram2dcontour"
           }
          ],
          "mesh3d": [
           {
            "colorbar": {
             "outlinewidth": 0,
             "ticks": ""
            },
            "type": "mesh3d"
           }
          ],
          "parcoords": [
           {
            "line": {
             "colorbar": {
              "outlinewidth": 0,
              "ticks": ""
             }
            },
            "type": "parcoords"
           }
          ],
          "pie": [
           {
            "automargin": true,
            "type": "pie"
           }
          ],
          "scatter": [
           {
            "fillpattern": {
             "fillmode": "overlay",
             "size": 10,
             "solidity": 0.2
            },
            "type": "scatter"
           }
          ],
          "scatter3d": [
           {
            "line": {
             "colorbar": {
              "outlinewidth": 0,
              "ticks": ""
             }
            },
            "marker": {
             "colorbar": {
              "outlinewidth": 0,
              "ticks": ""
             }
            },
            "type": "scatter3d"
           }
          ],
          "scattercarpet": [
           {
            "marker": {
             "colorbar": {
              "outlinewidth": 0,
              "ticks": ""
             }
            },
            "type": "scattercarpet"
           }
          ],
          "scattergeo": [
           {
            "marker": {
             "colorbar": {
              "outlinewidth": 0,
              "ticks": ""
             }
            },
            "type": "scattergeo"
           }
          ],
          "scattergl": [
           {
            "marker": {
             "colorbar": {
              "outlinewidth": 0,
              "ticks": ""
             }
            },
            "type": "scattergl"
           }
          ],
          "scattermap": [
           {
            "marker": {
             "colorbar": {
              "outlinewidth": 0,
              "ticks": ""
             }
            },
            "type": "scattermap"
           }
          ],
          "scattermapbox": [
           {
            "marker": {
             "colorbar": {
              "outlinewidth": 0,
              "ticks": ""
             }
            },
            "type": "scattermapbox"
           }
          ],
          "scatterpolar": [
           {
            "marker": {
             "colorbar": {
              "outlinewidth": 0,
              "ticks": ""
             }
            },
            "type": "scatterpolar"
           }
          ],
          "scatterpolargl": [
           {
            "marker": {
             "colorbar": {
              "outlinewidth": 0,
              "ticks": ""
             }
            },
            "type": "scatterpolargl"
           }
          ],
          "scatterternary": [
           {
            "marker": {
             "colorbar": {
              "outlinewidth": 0,
              "ticks": ""
             }
            },
            "type": "scatterternary"
           }
          ],
          "surface": [
           {
            "colorbar": {
             "outlinewidth": 0,
             "ticks": ""
            },
            "colorscale": [
             [
              0,
              "#0d0887"
             ],
             [
              0.1111111111111111,
              "#46039f"
             ],
             [
              0.2222222222222222,
              "#7201a8"
             ],
             [
              0.3333333333333333,
              "#9c179e"
             ],
             [
              0.4444444444444444,
              "#bd3786"
             ],
             [
              0.5555555555555556,
              "#d8576b"
             ],
             [
              0.6666666666666666,
              "#ed7953"
             ],
             [
              0.7777777777777778,
              "#fb9f3a"
             ],
             [
              0.8888888888888888,
              "#fdca26"
             ],
             [
              1,
              "#f0f921"
             ]
            ],
            "type": "surface"
           }
          ],
          "table": [
           {
            "cells": {
             "fill": {
              "color": "#EBF0F8"
             },
             "line": {
              "color": "white"
             }
            },
            "header": {
             "fill": {
              "color": "#C8D4E3"
             },
             "line": {
              "color": "white"
             }
            },
            "type": "table"
           }
          ]
         },
         "layout": {
          "annotationdefaults": {
           "arrowcolor": "#2a3f5f",
           "arrowhead": 0,
           "arrowwidth": 1
          },
          "autotypenumbers": "strict",
          "coloraxis": {
           "colorbar": {
            "outlinewidth": 0,
            "ticks": ""
           }
          },
          "colorscale": {
           "diverging": [
            [
             0,
             "#8e0152"
            ],
            [
             0.1,
             "#c51b7d"
            ],
            [
             0.2,
             "#de77ae"
            ],
            [
             0.3,
             "#f1b6da"
            ],
            [
             0.4,
             "#fde0ef"
            ],
            [
             0.5,
             "#f7f7f7"
            ],
            [
             0.6,
             "#e6f5d0"
            ],
            [
             0.7,
             "#b8e186"
            ],
            [
             0.8,
             "#7fbc41"
            ],
            [
             0.9,
             "#4d9221"
            ],
            [
             1,
             "#276419"
            ]
           ],
           "sequential": [
            [
             0,
             "#0d0887"
            ],
            [
             0.1111111111111111,
             "#46039f"
            ],
            [
             0.2222222222222222,
             "#7201a8"
            ],
            [
             0.3333333333333333,
             "#9c179e"
            ],
            [
             0.4444444444444444,
             "#bd3786"
            ],
            [
             0.5555555555555556,
             "#d8576b"
            ],
            [
             0.6666666666666666,
             "#ed7953"
            ],
            [
             0.7777777777777778,
             "#fb9f3a"
            ],
            [
             0.8888888888888888,
             "#fdca26"
            ],
            [
             1,
             "#f0f921"
            ]
           ],
           "sequentialminus": [
            [
             0,
             "#0d0887"
            ],
            [
             0.1111111111111111,
             "#46039f"
            ],
            [
             0.2222222222222222,
             "#7201a8"
            ],
            [
             0.3333333333333333,
             "#9c179e"
            ],
            [
             0.4444444444444444,
             "#bd3786"
            ],
            [
             0.5555555555555556,
             "#d8576b"
            ],
            [
             0.6666666666666666,
             "#ed7953"
            ],
            [
             0.7777777777777778,
             "#fb9f3a"
            ],
            [
             0.8888888888888888,
             "#fdca26"
            ],
            [
             1,
             "#f0f921"
            ]
           ]
          },
          "colorway": [
           "rgb(102,194,165)",
           "rgb(252,141,98)",
           "rgb(141,160,203)",
           "rgb(231,138,195)",
           "rgb(166,216,84)",
           "rgb(255,217,47)",
           "rgb(229,196,148)",
           "rgb(179,179,179)"
          ],
          "font": {
           "color": "#2a3f5f",
           "family": "Arial",
           "size": 11
          },
          "geo": {
           "bgcolor": "white",
           "lakecolor": "white",
           "landcolor": "white",
           "showlakes": true,
           "showland": true,
           "subunitcolor": "#C8D4E3"
          },
          "height": 500,
          "hoverlabel": {
           "align": "left"
          },
          "hovermode": "closest",
          "mapbox": {
           "style": "light"
          },
          "paper_bgcolor": "white",
          "plot_bgcolor": "white",
          "polar": {
           "angularaxis": {
            "gridcolor": "#EBF0F8",
            "linecolor": "#EBF0F8",
            "ticks": ""
           },
           "bgcolor": "white",
           "radialaxis": {
            "gridcolor": "#EBF0F8",
            "linecolor": "#EBF0F8",
            "ticks": ""
           }
          },
          "scene": {
           "xaxis": {
            "backgroundcolor": "white",
            "gridcolor": "#DFE8F3",
            "gridwidth": 2,
            "linecolor": "#EBF0F8",
            "showbackground": true,
            "ticks": "",
            "zerolinecolor": "#EBF0F8"
           },
           "yaxis": {
            "backgroundcolor": "white",
            "gridcolor": "#DFE8F3",
            "gridwidth": 2,
            "linecolor": "#EBF0F8",
            "showbackground": true,
            "ticks": "",
            "zerolinecolor": "#EBF0F8"
           },
           "zaxis": {
            "backgroundcolor": "white",
            "gridcolor": "#DFE8F3",
            "gridwidth": 2,
            "linecolor": "#EBF0F8",
            "showbackground": true,
            "ticks": "",
            "zerolinecolor": "#EBF0F8"
           }
          },
          "shapedefaults": {
           "line": {
            "color": "#2a3f5f"
           }
          },
          "ternary": {
           "aaxis": {
            "gridcolor": "#DFE8F3",
            "linecolor": "#A2B1C6",
            "ticks": ""
           },
           "baxis": {
            "gridcolor": "#DFE8F3",
            "linecolor": "#A2B1C6",
            "ticks": ""
           },
           "bgcolor": "white",
           "caxis": {
            "gridcolor": "#DFE8F3",
            "linecolor": "#A2B1C6",
            "ticks": ""
           }
          },
          "title": {
           "x": 0.05
          },
          "width": 1000,
          "xaxis": {
           "automargin": true,
           "gridcolor": "lightgrey",
           "linecolor": "#EBF0F8",
           "showgrid": true,
           "ticks": "",
           "title": {
            "standoff": 15
           },
           "zerolinecolor": "#EBF0F8",
           "zerolinewidth": 2
          },
          "yaxis": {
           "automargin": true,
           "gridcolor": "lightgrey",
           "linecolor": "#EBF0F8",
           "showgrid": true,
           "ticks": "",
           "title": {
            "standoff": 15
           },
           "zerolinecolor": "#EBF0F8",
           "zerolinewidth": 2
          }
         }
        },
        "xaxis": {
         "anchor": "y",
         "domain": [
          0,
          1
         ],
         "gridcolor": "lightgrey",
         "matches": "x2",
         "showgrid": true,
         "showticklabels": false
        },
        "xaxis2": {
         "anchor": "y2",
         "domain": [
          0,
          1
         ],
         "dtick": 1,
         "gridcolor": "lightgrey",
         "showgrid": true,
         "title": {
          "text": "Decil COMPAS"
         }
        },
        "yaxis": {
         "anchor": "x",
         "domain": [
          0.47200000000000003,
          1
         ],
         "gridcolor": "lightgrey",
         "showgrid": true,
         "tickformat": ".0%",
         "title": {
          "text": "Tasa de reincidencia"
         }
        },
        "yaxis2": {
         "anchor": "x2",
         "domain": [
          0,
          0.35200000000000004
         ],
         "gridcolor": "lightgrey",
         "showgrid": true,
         "title": {
          "text": "Diferencia (p.p.)"
         }
        }
       }
      }
     },
     "metadata": {},
     "output_type": "display_data"
    }
   ],
   "source": [
    "\n",
    "\n",
    "# --- 0) (Re)construir 'rates' desde los dos datasets ---\n",
    "def build_rates(df_clean, df_propu,\n",
    "                decil_col='resultado_compas', y_col='reincide'):\n",
    "    rate_clean = (df_clean.groupby(decil_col, as_index=False)[y_col]\n",
    "                  .mean().rename(columns={y_col: 'recid_clean'}))\n",
    "    rate_propu = (df_propu.groupby(decil_col, as_index=False)[y_col]\n",
    "                  .mean().rename(columns={y_col: 'recid_propu'}))\n",
    "    rates = (rate_clean.merge(rate_propu, on=decil_col, how='inner')\n",
    "                        .sort_values(decil_col))\n",
    "    rates['diff'] = rates['recid_clean'] - rates['recid_propu']\n",
    "    rates['diff_pp'] = rates['diff'] * 100\n",
    "    return rates\n",
    "\n",
    "rates = build_rates(df_twoyears_clean, df_twoyears)\n",
    "\n",
    "# --- 1) Subplots: líneas (arriba) + barras (abajo) ---\n",
    "fig = make_subplots(\n",
    "    rows=2, cols=1, shared_xaxes=True,\n",
    "    vertical_spacing=0.12,\n",
    "    row_heights=[0.6, 0.4],\n",
    "    subplot_titles=(\"Tasa de reincidencia por decil COMPAS\",\n",
    "                    \"Diferencia de tasas (Clean – ProPublica) por decil\")\n",
    ")\n",
    "\n",
    "# (1) Líneas\n",
    "fig.add_trace(\n",
    "    go.Scatter(\n",
    "        x=rates['resultado_compas'], y=rates['recid_propu'],\n",
    "        mode='lines+markers', name='ProPublica',\n",
    "        line=dict(width=2), marker=dict(symbol='circle', size=8),\n",
    "        hovertemplate='Decil %{x}<br>Tasa %{y:.2%}<extra></extra>'\n",
    "    ),\n",
    "    row=1, col=1\n",
    ")\n",
    "fig.add_trace(\n",
    "    go.Scatter(\n",
    "        x=rates['resultado_compas'], y=rates['recid_clean'],\n",
    "        mode='lines+markers', name='Clean',\n",
    "        line=dict(width=2), marker=dict(symbol='square', size=8),\n",
    "        hovertemplate='Decil %{x}<br>Tasa %{y:.2%}<extra></extra>'\n",
    "    ),\n",
    "    row=1, col=1\n",
    ")\n",
    "\n",
    "# Medias globales\n",
    "mean_propu = df_twoyears['reincide'].mean()\n",
    "mean_clean = df_twoyears_clean['reincide'].mean()\n",
    "fig.add_hline(y=mean_propu, line_dash=\"dash\", opacity=0.5,\n",
    "              annotation_text=f\"Media ProPublica {mean_propu:.2%}\",\n",
    "              row=1, col=1)\n",
    "fig.add_hline(y=mean_clean, line_dash=\"dash\", opacity=0.5,\n",
    "              annotation_text=f\"Media Clean {mean_clean:.2%}\",\n",
    "              row=1, col=1)\n",
    "\n",
    "# (2) Barras de diferencia (p.p.)\n",
    "fig.add_trace(\n",
    "    go.Bar(\n",
    "        x=rates['resultado_compas'], y=rates['diff_pp'],\n",
    "        name='Clean – ProPublica (p.p.)',\n",
    "        text=rates['diff_pp'].round(1), textposition='outside',\n",
    "        hovertemplate='Decil %{x}<br>Diferencia %{y:.1f} p.p.<extra></extra>'\n",
    "    ),\n",
    "    row=2, col=1\n",
    ")\n",
    "fig.add_hline(y=0, line_dash=\"dash\", opacity=0.5, row=2, col=1)\n",
    "\n",
    "# Estilo homogéneo\n",
    "fig.update_layout(\n",
    "    plot_bgcolor='rgba(255,255,255,1)',\n",
    "    xaxis_showgrid=True, xaxis_gridcolor='lightgrey',\n",
    "    xaxis2_showgrid=True, xaxis2_gridcolor='lightgrey',\n",
    "    yaxis_showgrid=True, yaxis_gridcolor='lightgrey',\n",
    "    yaxis2_showgrid=True, yaxis2_gridcolor='lightgrey',\n",
    "    legend_title_text='Dataset',\n",
    "    margin=dict(l=70, r=40, t=80, b=60)\n",
    ")\n",
    "fig.update_xaxes(title_text=\"Decil COMPAS\", dtick=1, row=2, col=1)\n",
    "fig.update_yaxes(title_text=\"Tasa de reincidencia\", tickformat=\".0%\", row=1, col=1)\n",
    "fig.update_yaxes(title_text=\"Diferencia (p.p.)\", row=2, col=1)\n",
    "\n",
    "fig.show()\n"
   ]
  },
  {
   "cell_type": "markdown",
   "id": "c4525bd7",
   "metadata": {},
   "source": [
    "**Lectura de la figura**\n",
    "\n",
    "- En **todos los deciles** la tasa de reincidencia de **ProPublica** está **por encima** de la de **Clean**.  \n",
    "- La **media** también refleja esa diferencia: ProPublica ≈ **45,1%** frente a Clean ≈ **38,8%**.\n",
    "- El patrón por decil es **creciente** (a mayor decil, mayor tasa) y las dos curvas son **muy parecidas** en forma; la diferencia es sobre todo de **nivel**.\n",
    "- La banda inferior (barras) muestra **Clean − ProPublica** en **puntos porcentuales**: es **negativa en todos los deciles** (entre **−3,7 p.p.** y **−10 p.p.**, con el **máximo hueco** en deciles **5–6**).\n",
    "- **Interpretación sencilla:** al limpiar el dataset hemos eliminado casos con más probabilidad de reincidencia; por eso, **en todos los tramos de riesgo** la tasa de Clean es **menor** que la de ProPublica.\n",
    "\n",
    "**Implicación para el resto del análisis**\n",
    "\n",
    "- Cuando comparemos métricas (matriz de confusión, FPR/TPR, etc.), debemos usar el **mismo umbral** en ambos datasets y tener en cuenta que **Clean parte de una base más baja** de reincidencia.\n"
   ]
  },
  {
   "cell_type": "markdown",
   "id": "6386cac4",
   "metadata": {},
   "source": [
    "---"
   ]
  },
  {
   "cell_type": "markdown",
   "id": "8bc0a980",
   "metadata": {},
   "source": [
    "### **5.2.2 CONTRASTE FORMAL (Incluidos vs Excluidos dentro de ProPublica: χ² + test de dos proporciones con IC95%)**"
   ]
  },
  {
   "cell_type": "markdown",
   "id": "7b4e1863",
   "metadata": {},
   "source": [
    "**Objetivo.** Ver si la **limpieza de datos** cambia **de forma significativa** la tasa de reincidencia.\n",
    "\n",
    "**En qué nos basamos.** Como nuestro dataset *Clean* es un **subconjunto** del original (*ProPublica*), no podemos tratar “Clean vs ProPublica” como **muestras independientes**. Por eso, para un contraste correcto comparamos **dos grupos disjuntos** **dentro** del dataset original:\n",
    "- **Incluidos**: personas que permanecen en *Clean*.\n",
    "- **Excluidos**: personas que fueron eliminadas por los filtros.\n",
    "\n",
    "**Qué hacemos (resumen operativo).**\n",
    "1. Creamos `df_casosexcluidos` como un **anti-join** de `df_twoyears` contra `df_twoyears_clean` (por **índice** o por una **clave** estable).\n",
    "2. Calculamos la **tasa de reincidencia** en **Incluidos** y en **Excluidos**.\n",
    "3. Aplicamos dos contrastes:\n",
    "   - **χ² de independencia** sobre la tabla 2×2 (*Incluido/Excluido* × *Reincide Sí/No*).\n",
    "   - **Test de dos proporciones** con **IC95%** para la diferencia absoluta **Δ = p_incl − p_excl**.\n",
    "\n",
    "**Cómo lo leemos.** Si **p ≤ 0,05** y el **IC95% de Δ** **no** incluye 0, concluimos que la limpieza **cambia** la tasa de reincidencia.  \n",
    "- Si **Δ < 0**, la tasa es **menor** en *Incluidos* (esperable si al limpiar quitamos muchos casos con alta probabilidad de reincidencia, como sugiere Barstein).  \n",
    "Mostramos también un **gráfico de barras con IC** para visualizar ambas tasas.\n"
   ]
  },
  {
   "cell_type": "markdown",
   "id": "67db6b10",
   "metadata": {},
   "source": [
    "1º CREAMOS DF DE CASOS EXCLUIDOS:"
   ]
  },
  {
   "cell_type": "code",
   "execution_count": 19,
   "id": "2cc1773a",
   "metadata": {},
   "outputs": [
    {
     "name": "stdout",
     "output_type": "stream",
     "text": [
      "Número de casos excluidos (1955, 54)\n"
     ]
    }
   ],
   "source": [
    "# --- Opción A (recomendada): por ÍNDICE (si df_twoyears_clean conservó el índice original) ---\n",
    "df_casosexcluidos = df_twoyears.loc[~df_twoyears.index.isin(df_twoyears_clean.index)].copy()\n",
    "\n",
    "print (f\"Número de casos excluidos\", df_casosexcluidos.shape)"
   ]
  },
  {
   "cell_type": "markdown",
   "id": "2058933e",
   "metadata": {},
   "source": [
    "2º CREAMOS CÓDIGO PARA TASAS DE REINCIDENCIA, CHI-CUADRADO, TEST DE DOS PROPORCIONES CON IC95%."
   ]
  },
  {
   "cell_type": "code",
   "execution_count": 20,
   "id": "39003911",
   "metadata": {},
   "outputs": [
    {
     "name": "stdout",
     "output_type": "stream",
     "text": [
      "Tabla de contingencia (Incluido/Excluido × Reincide):\n",
      "             No    Sí\n",
      "Excluido   639  1316\n",
      "Incluido  3324  1935 \n",
      "\n",
      "Chi-cuadrado: chi2=535.020, gl=1, p=0.000000\n",
      "Dos proporciones: p_incl=0.3679, p_excl=0.6731, Δ=-0.3052, IC95%=[-0.3297, -0.2807], z=-23.157, p=0.000000\n"
     ]
    },
    {
     "data": {
      "application/vnd.plotly.v1+json": {
       "config": {
        "plotlyServerURL": "https://plot.ly"
       },
       "data": [
        {
         "error_y": {
          "array": {
           "bdata": "QPDbE3yxij/AptZyuUqVPw==",
           "dtype": "f8"
          },
          "arrayminus": {
           "bdata": "QPDbE3yxij/AptZyuUqVPw==",
           "dtype": "f8"
          }
         },
         "hovertemplate": "Grupo=%{x}<br>Tasa=%{y}<br>text=%{text}<extra></extra>",
         "legendgroup": "",
         "marker": {
          "color": "rgb(102,194,165)",
          "pattern": {
           "shape": ""
          }
         },
         "name": "",
         "orientation": "v",
         "showlegend": false,
         "text": [
          "36.8%",
          "67.3%"
         ],
         "textposition": "outside",
         "type": "bar",
         "x": [
          "Incluido",
          "Excluido"
         ],
         "xaxis": "x",
         "y": {
          "bdata": "TQd+CVeM1z/CUtgEaYrlPw==",
          "dtype": "f8"
         },
         "yaxis": "y"
        }
       ],
       "layout": {
        "barmode": "relative",
        "legend": {
         "tracegroupgap": 0
        },
        "plot_bgcolor": "white",
        "template": {
         "data": {
          "bar": [
           {
            "error_x": {
             "color": "#2a3f5f"
            },
            "error_y": {
             "color": "#2a3f5f"
            },
            "marker": {
             "line": {
              "color": "white",
              "width": 0.5
             },
             "pattern": {
              "fillmode": "overlay",
              "size": 10,
              "solidity": 0.2
             }
            },
            "type": "bar"
           }
          ],
          "barpolar": [
           {
            "marker": {
             "line": {
              "color": "white",
              "width": 0.5
             },
             "pattern": {
              "fillmode": "overlay",
              "size": 10,
              "solidity": 0.2
             }
            },
            "type": "barpolar"
           }
          ],
          "carpet": [
           {
            "aaxis": {
             "endlinecolor": "#2a3f5f",
             "gridcolor": "#C8D4E3",
             "linecolor": "#C8D4E3",
             "minorgridcolor": "#C8D4E3",
             "startlinecolor": "#2a3f5f"
            },
            "baxis": {
             "endlinecolor": "#2a3f5f",
             "gridcolor": "#C8D4E3",
             "linecolor": "#C8D4E3",
             "minorgridcolor": "#C8D4E3",
             "startlinecolor": "#2a3f5f"
            },
            "type": "carpet"
           }
          ],
          "choropleth": [
           {
            "colorbar": {
             "outlinewidth": 0,
             "ticks": ""
            },
            "type": "choropleth"
           }
          ],
          "contour": [
           {
            "colorbar": {
             "outlinewidth": 0,
             "ticks": ""
            },
            "colorscale": [
             [
              0,
              "#0d0887"
             ],
             [
              0.1111111111111111,
              "#46039f"
             ],
             [
              0.2222222222222222,
              "#7201a8"
             ],
             [
              0.3333333333333333,
              "#9c179e"
             ],
             [
              0.4444444444444444,
              "#bd3786"
             ],
             [
              0.5555555555555556,
              "#d8576b"
             ],
             [
              0.6666666666666666,
              "#ed7953"
             ],
             [
              0.7777777777777778,
              "#fb9f3a"
             ],
             [
              0.8888888888888888,
              "#fdca26"
             ],
             [
              1,
              "#f0f921"
             ]
            ],
            "type": "contour"
           }
          ],
          "contourcarpet": [
           {
            "colorbar": {
             "outlinewidth": 0,
             "ticks": ""
            },
            "type": "contourcarpet"
           }
          ],
          "heatmap": [
           {
            "colorbar": {
             "outlinewidth": 0,
             "ticks": ""
            },
            "colorscale": [
             [
              0,
              "#0d0887"
             ],
             [
              0.1111111111111111,
              "#46039f"
             ],
             [
              0.2222222222222222,
              "#7201a8"
             ],
             [
              0.3333333333333333,
              "#9c179e"
             ],
             [
              0.4444444444444444,
              "#bd3786"
             ],
             [
              0.5555555555555556,
              "#d8576b"
             ],
             [
              0.6666666666666666,
              "#ed7953"
             ],
             [
              0.7777777777777778,
              "#fb9f3a"
             ],
             [
              0.8888888888888888,
              "#fdca26"
             ],
             [
              1,
              "#f0f921"
             ]
            ],
            "type": "heatmap"
           }
          ],
          "histogram": [
           {
            "marker": {
             "pattern": {
              "fillmode": "overlay",
              "size": 10,
              "solidity": 0.2
             }
            },
            "type": "histogram"
           }
          ],
          "histogram2d": [
           {
            "colorbar": {
             "outlinewidth": 0,
             "ticks": ""
            },
            "colorscale": [
             [
              0,
              "#0d0887"
             ],
             [
              0.1111111111111111,
              "#46039f"
             ],
             [
              0.2222222222222222,
              "#7201a8"
             ],
             [
              0.3333333333333333,
              "#9c179e"
             ],
             [
              0.4444444444444444,
              "#bd3786"
             ],
             [
              0.5555555555555556,
              "#d8576b"
             ],
             [
              0.6666666666666666,
              "#ed7953"
             ],
             [
              0.7777777777777778,
              "#fb9f3a"
             ],
             [
              0.8888888888888888,
              "#fdca26"
             ],
             [
              1,
              "#f0f921"
             ]
            ],
            "type": "histogram2d"
           }
          ],
          "histogram2dcontour": [
           {
            "colorbar": {
             "outlinewidth": 0,
             "ticks": ""
            },
            "colorscale": [
             [
              0,
              "#0d0887"
             ],
             [
              0.1111111111111111,
              "#46039f"
             ],
             [
              0.2222222222222222,
              "#7201a8"
             ],
             [
              0.3333333333333333,
              "#9c179e"
             ],
             [
              0.4444444444444444,
              "#bd3786"
             ],
             [
              0.5555555555555556,
              "#d8576b"
             ],
             [
              0.6666666666666666,
              "#ed7953"
             ],
             [
              0.7777777777777778,
              "#fb9f3a"
             ],
             [
              0.8888888888888888,
              "#fdca26"
             ],
             [
              1,
              "#f0f921"
             ]
            ],
            "type": "histogram2dcontour"
           }
          ],
          "mesh3d": [
           {
            "colorbar": {
             "outlinewidth": 0,
             "ticks": ""
            },
            "type": "mesh3d"
           }
          ],
          "parcoords": [
           {
            "line": {
             "colorbar": {
              "outlinewidth": 0,
              "ticks": ""
             }
            },
            "type": "parcoords"
           }
          ],
          "pie": [
           {
            "automargin": true,
            "type": "pie"
           }
          ],
          "scatter": [
           {
            "fillpattern": {
             "fillmode": "overlay",
             "size": 10,
             "solidity": 0.2
            },
            "type": "scatter"
           }
          ],
          "scatter3d": [
           {
            "line": {
             "colorbar": {
              "outlinewidth": 0,
              "ticks": ""
             }
            },
            "marker": {
             "colorbar": {
              "outlinewidth": 0,
              "ticks": ""
             }
            },
            "type": "scatter3d"
           }
          ],
          "scattercarpet": [
           {
            "marker": {
             "colorbar": {
              "outlinewidth": 0,
              "ticks": ""
             }
            },
            "type": "scattercarpet"
           }
          ],
          "scattergeo": [
           {
            "marker": {
             "colorbar": {
              "outlinewidth": 0,
              "ticks": ""
             }
            },
            "type": "scattergeo"
           }
          ],
          "scattergl": [
           {
            "marker": {
             "colorbar": {
              "outlinewidth": 0,
              "ticks": ""
             }
            },
            "type": "scattergl"
           }
          ],
          "scattermap": [
           {
            "marker": {
             "colorbar": {
              "outlinewidth": 0,
              "ticks": ""
             }
            },
            "type": "scattermap"
           }
          ],
          "scattermapbox": [
           {
            "marker": {
             "colorbar": {
              "outlinewidth": 0,
              "ticks": ""
             }
            },
            "type": "scattermapbox"
           }
          ],
          "scatterpolar": [
           {
            "marker": {
             "colorbar": {
              "outlinewidth": 0,
              "ticks": ""
             }
            },
            "type": "scatterpolar"
           }
          ],
          "scatterpolargl": [
           {
            "marker": {
             "colorbar": {
              "outlinewidth": 0,
              "ticks": ""
             }
            },
            "type": "scatterpolargl"
           }
          ],
          "scatterternary": [
           {
            "marker": {
             "colorbar": {
              "outlinewidth": 0,
              "ticks": ""
             }
            },
            "type": "scatterternary"
           }
          ],
          "surface": [
           {
            "colorbar": {
             "outlinewidth": 0,
             "ticks": ""
            },
            "colorscale": [
             [
              0,
              "#0d0887"
             ],
             [
              0.1111111111111111,
              "#46039f"
             ],
             [
              0.2222222222222222,
              "#7201a8"
             ],
             [
              0.3333333333333333,
              "#9c179e"
             ],
             [
              0.4444444444444444,
              "#bd3786"
             ],
             [
              0.5555555555555556,
              "#d8576b"
             ],
             [
              0.6666666666666666,
              "#ed7953"
             ],
             [
              0.7777777777777778,
              "#fb9f3a"
             ],
             [
              0.8888888888888888,
              "#fdca26"
             ],
             [
              1,
              "#f0f921"
             ]
            ],
            "type": "surface"
           }
          ],
          "table": [
           {
            "cells": {
             "fill": {
              "color": "#EBF0F8"
             },
             "line": {
              "color": "white"
             }
            },
            "header": {
             "fill": {
              "color": "#C8D4E3"
             },
             "line": {
              "color": "white"
             }
            },
            "type": "table"
           }
          ]
         },
         "layout": {
          "annotationdefaults": {
           "arrowcolor": "#2a3f5f",
           "arrowhead": 0,
           "arrowwidth": 1
          },
          "autotypenumbers": "strict",
          "coloraxis": {
           "colorbar": {
            "outlinewidth": 0,
            "ticks": ""
           }
          },
          "colorscale": {
           "diverging": [
            [
             0,
             "#8e0152"
            ],
            [
             0.1,
             "#c51b7d"
            ],
            [
             0.2,
             "#de77ae"
            ],
            [
             0.3,
             "#f1b6da"
            ],
            [
             0.4,
             "#fde0ef"
            ],
            [
             0.5,
             "#f7f7f7"
            ],
            [
             0.6,
             "#e6f5d0"
            ],
            [
             0.7,
             "#b8e186"
            ],
            [
             0.8,
             "#7fbc41"
            ],
            [
             0.9,
             "#4d9221"
            ],
            [
             1,
             "#276419"
            ]
           ],
           "sequential": [
            [
             0,
             "#0d0887"
            ],
            [
             0.1111111111111111,
             "#46039f"
            ],
            [
             0.2222222222222222,
             "#7201a8"
            ],
            [
             0.3333333333333333,
             "#9c179e"
            ],
            [
             0.4444444444444444,
             "#bd3786"
            ],
            [
             0.5555555555555556,
             "#d8576b"
            ],
            [
             0.6666666666666666,
             "#ed7953"
            ],
            [
             0.7777777777777778,
             "#fb9f3a"
            ],
            [
             0.8888888888888888,
             "#fdca26"
            ],
            [
             1,
             "#f0f921"
            ]
           ],
           "sequentialminus": [
            [
             0,
             "#0d0887"
            ],
            [
             0.1111111111111111,
             "#46039f"
            ],
            [
             0.2222222222222222,
             "#7201a8"
            ],
            [
             0.3333333333333333,
             "#9c179e"
            ],
            [
             0.4444444444444444,
             "#bd3786"
            ],
            [
             0.5555555555555556,
             "#d8576b"
            ],
            [
             0.6666666666666666,
             "#ed7953"
            ],
            [
             0.7777777777777778,
             "#fb9f3a"
            ],
            [
             0.8888888888888888,
             "#fdca26"
            ],
            [
             1,
             "#f0f921"
            ]
           ]
          },
          "colorway": [
           "rgb(102,194,165)",
           "rgb(252,141,98)",
           "rgb(141,160,203)",
           "rgb(231,138,195)",
           "rgb(166,216,84)",
           "rgb(255,217,47)",
           "rgb(229,196,148)",
           "rgb(179,179,179)"
          ],
          "font": {
           "color": "#2a3f5f",
           "family": "Arial",
           "size": 11
          },
          "geo": {
           "bgcolor": "white",
           "lakecolor": "white",
           "landcolor": "white",
           "showlakes": true,
           "showland": true,
           "subunitcolor": "#C8D4E3"
          },
          "height": 500,
          "hoverlabel": {
           "align": "left"
          },
          "hovermode": "closest",
          "mapbox": {
           "style": "light"
          },
          "paper_bgcolor": "white",
          "plot_bgcolor": "white",
          "polar": {
           "angularaxis": {
            "gridcolor": "#EBF0F8",
            "linecolor": "#EBF0F8",
            "ticks": ""
           },
           "bgcolor": "white",
           "radialaxis": {
            "gridcolor": "#EBF0F8",
            "linecolor": "#EBF0F8",
            "ticks": ""
           }
          },
          "scene": {
           "xaxis": {
            "backgroundcolor": "white",
            "gridcolor": "#DFE8F3",
            "gridwidth": 2,
            "linecolor": "#EBF0F8",
            "showbackground": true,
            "ticks": "",
            "zerolinecolor": "#EBF0F8"
           },
           "yaxis": {
            "backgroundcolor": "white",
            "gridcolor": "#DFE8F3",
            "gridwidth": 2,
            "linecolor": "#EBF0F8",
            "showbackground": true,
            "ticks": "",
            "zerolinecolor": "#EBF0F8"
           },
           "zaxis": {
            "backgroundcolor": "white",
            "gridcolor": "#DFE8F3",
            "gridwidth": 2,
            "linecolor": "#EBF0F8",
            "showbackground": true,
            "ticks": "",
            "zerolinecolor": "#EBF0F8"
           }
          },
          "shapedefaults": {
           "line": {
            "color": "#2a3f5f"
           }
          },
          "ternary": {
           "aaxis": {
            "gridcolor": "#DFE8F3",
            "linecolor": "#A2B1C6",
            "ticks": ""
           },
           "baxis": {
            "gridcolor": "#DFE8F3",
            "linecolor": "#A2B1C6",
            "ticks": ""
           },
           "bgcolor": "white",
           "caxis": {
            "gridcolor": "#DFE8F3",
            "linecolor": "#A2B1C6",
            "ticks": ""
           }
          },
          "title": {
           "x": 0.05
          },
          "width": 1000,
          "xaxis": {
           "automargin": true,
           "gridcolor": "lightgrey",
           "linecolor": "#EBF0F8",
           "showgrid": true,
           "ticks": "",
           "title": {
            "standoff": 15
           },
           "zerolinecolor": "#EBF0F8",
           "zerolinewidth": 2
          },
          "yaxis": {
           "automargin": true,
           "gridcolor": "lightgrey",
           "linecolor": "#EBF0F8",
           "showgrid": true,
           "ticks": "",
           "title": {
            "standoff": 15
           },
           "zerolinecolor": "#EBF0F8",
           "zerolinewidth": 2
          }
         }
        },
        "title": {
         "text": "Tasa de reincidencia: Incluidos vs Excluidos (con IC95%)"
        },
        "xaxis": {
         "anchor": "y",
         "domain": [
          0,
          1
         ],
         "gridcolor": "lightgrey",
         "showgrid": true,
         "title": {
          "text": "Grupo"
         }
        },
        "yaxis": {
         "anchor": "x",
         "domain": [
          0,
          1
         ],
         "gridcolor": "lightgrey",
         "showgrid": true,
         "tickformat": ".0%",
         "title": {
          "text": "Tasa"
         }
        }
       }
      }
     },
     "metadata": {},
     "output_type": "display_data"
    },
    {
     "name": "stdout",
     "output_type": "stream",
     "text": [
      "\n",
      "**Comparación formal (Incluidos vs Excluidos).** χ²=535.02, gl=1, p=2.29e-118.\n",
      "Tasa en *Incluidos* = 36.8%, en *Excluidos* = 67.3%.\n",
      "Δ = -30.5 p.p. (IC95% [-33.0, -28.1] p.p.), z=-23.16, p=0.\n",
      "\n"
     ]
    }
   ],
   "source": [
    "# Alineamos NaN en 'reincide' del mismo modo en que limpiaste en el punto 4\n",
    "y_clean = df_twoyears_clean['reincide'].dropna().astype(int)\n",
    "y_exclu = df_casosexcluidos['reincide'].dropna().astype(int)\n",
    "\n",
    "# 2x2 (Excluido/Incluido × Reincide Sí/No)\n",
    "ct = pd.DataFrame({\n",
    "    'No': [int((1 - y_exclu).sum()), int((1 - y_clean).sum())],\n",
    "    'Sí': [int(y_exclu.sum()),        int(y_clean.sum())]\n",
    "}, index=['Excluido','Incluido'])\n",
    "print(\"Tabla de contingencia (Incluido/Excluido × Reincide):\\n\", ct, \"\\n\")\n",
    "\n",
    "# Chi-cuadrado\n",
    "chi2, p_chi, dof, expected = chi2_contingency(ct)\n",
    "print(f\"Chi-cuadrado: chi2={chi2:.3f}, gl={dof}, p={p_chi:.6f}\")\n",
    "\n",
    "# Dos proporciones (Incluidos vs Excluidos)\n",
    "X_incl, N_incl = int(y_clean.sum()),  int(y_clean.size)\n",
    "X_excl, N_excl = int(y_exclu.sum()),  int(y_exclu.size)\n",
    "\n",
    "p1 = X_incl / N_incl   # tasa incluidos\n",
    "p2 = X_excl / N_excl   # tasa excluidos\n",
    "diff = p1 - p2\n",
    "\n",
    "# z con proporción combinada\n",
    "p_pool = (X_incl + X_excl) / (N_incl + N_excl)\n",
    "se_pool = np.sqrt(p_pool*(1-p_pool)*(1/N_incl + 1/N_excl))\n",
    "z  = diff / se_pool\n",
    "p_z = 2*(1 - norm.cdf(abs(z)))\n",
    "\n",
    "# IC95% para la diferencia (aprox. normal no combinada)\n",
    "se_diff = np.sqrt(p1*(1-p1)/N_incl + p2*(1-p2)/N_excl)\n",
    "lo = diff - 1.96*se_diff\n",
    "hi = diff + 1.96*se_diff\n",
    "\n",
    "print(f\"Dos proporciones: p_incl={p1:.4f}, p_excl={p2:.4f}, Δ={diff:.4f}, IC95%=[{lo:.4f}, {hi:.4f}], z={z:.3f}, p={p_z:.6f}\")\n",
    "\n",
    "# Visual simple con IC\n",
    "rates = pd.DataFrame({\n",
    "    'Grupo': ['Incluido','Excluido'],\n",
    "    'Tasa':  [p1, p2],\n",
    "    'N':     [N_incl, N_excl]\n",
    "})\n",
    "rates['se'] = np.sqrt(rates['Tasa']*(1-rates['Tasa'])/rates['N'])\n",
    "rates['lo'] = rates['Tasa'] - 1.96*rates['se']\n",
    "rates['hi'] = rates['Tasa'] + 1.96*rates['se']\n",
    "\n",
    "fig = px.bar(\n",
    "    rates, x='Grupo', y='Tasa',\n",
    "    text=rates['Tasa'].map(lambda v: f\"{v*100:.1f}%\"),\n",
    "    error_y=rates['hi']-rates['Tasa'],\n",
    "    error_y_minus=rates['Tasa']-rates['lo'],\n",
    "    title=\"Tasa de reincidencia: Incluidos vs Excluidos (con IC95%)\"\n",
    ")\n",
    "fig.update_traces(textposition='outside')\n",
    "fig.update_layout(\n",
    "    plot_bgcolor='white',\n",
    "    xaxis_showgrid=True, xaxis_gridcolor='lightgrey',\n",
    "    yaxis_showgrid=True, yaxis_gridcolor='lightgrey',\n",
    "    yaxis_tickformat=\".0%\"\n",
    ")\n",
    "fig.show()\n",
    "\n",
    "# Texto listo para informe\n",
    "md = f\"\"\"\n",
    "**Comparación formal (Incluidos vs Excluidos).** χ²={chi2:.2f}, gl={dof}, p={p_chi:.3g}.\n",
    "Tasa en *Incluidos* = {p1*100:.1f}%, en *Excluidos* = {p2*100:.1f}%.\n",
    "Δ = {diff*100:.1f} p.p. (IC95% [{lo*100:.1f}, {hi*100:.1f}] p.p.), z={z:.2f}, p={p_z:.3g}.\n",
    "\"\"\"\n",
    "print(md)\n"
   ]
  },
  {
   "cell_type": "markdown",
   "id": "ae1540ed",
   "metadata": {},
   "source": [
    "**Resultados (Incluidos vs Excluidos)**  \n",
    "- **Tamaños:** Incluidos **N=5.259**, Excluidos **N=1.955**.  \n",
    "- **Tasas de reincidencia:**  \n",
    "  - Incluidos: **36,8%**  \n",
    "  - Excluidos: **67,3%**  \n",
    "  - **Δ = −30,5 p.p.** (Incluidos − Excluidos)  \n",
    "  - **IC95% de Δ:** [−33,0, −28,1] p.p.\n",
    "- **Contrastes:**  \n",
    "  - **Chi-cuadrado:** χ² = **535,02**, gl = 1, **p < 0,001**  \n",
    "  - **Dos proporciones (z):** z = **−23,16**, **p < 0,001**\n",
    "\n",
    "**Lectura sencilla.** Aproximadamente **2 de cada 3** personas en *Excluidos* reinciden (67%), mientras que en *Incluidos* es **1 de cada 3** (37%). La diferencia es **muy grande** y **estadísticamente significativa**. Esto confirma que la **limpieza** eliminó sobre todo casos con mayor probabilidad de reincidencia, y por eso la **media global de ProPublica** es **más alta** que la de nuestro **dataset limpio**.\n",
    "\n",
    "**Implicación para el informe.**  \n",
    "- Este resultado **justifica** la creación del dataset limpio: reduce sesgos de medición/registro y cambia de forma sustancial la tasa observada.  \n",
    "- A partir de aquí, cuando comparemos métricas (matrices de confusión, FPR/TPR, etc.), debemos **dejar claro** con qué dataset trabajamos y mantener **el mismo umbral**.\n"
   ]
  },
  {
   "cell_type": "markdown",
   "id": "b3a30f58",
   "metadata": {},
   "source": [
    "---"
   ]
  },
  {
   "cell_type": "markdown",
   "id": "0da396bf",
   "metadata": {},
   "source": [
    "## **5.3 MATRIZ DE CONFUSIÓN / TABLAS DE VERDAD**"
   ]
  },
  {
   "cell_type": "markdown",
   "id": "155f2333",
   "metadata": {},
   "source": [
    "\n",
    "\n",
    "Objetivo. Evaluar cómo clasificaría COMPAS en **alto riesgo** (positivo) usando el corte estándar **≥5** (Medium+High) frente a **<5** (Low).\n",
    "\n",
    "Qué mostramos.  \n",
    "- **Matrices de confusión** (heatmaps) para ProPublica y Clean.  \n",
    "- **Métricas clave**: Accuracy, **TPR** (recall), **FPR** (tasa de falsos positivos), **TNR** (especificidad), Precision, F1 y **Balanced Accuracy**.  \n",
    "- Visualizamos una **tabla comparativa**, **heatmaps** y un **gráfico de barras**.\n",
    "- **Sensibilidad** con corte **≥8** (High puro) para ver el intercambio FP↔FN.\n"
   ]
  },
  {
   "cell_type": "markdown",
   "id": "eb738827",
   "metadata": {},
   "source": [
    "Usar matriz de confusión y sus métricas (FPR, TPR, especificidad, etc.) Necesitamos convertir el score en una predicción binaria aplicando un umbral al decil COMPAS.\n",
    "\n",
    "Northopint decidió que los valores Low/Medium/High se dividieran así: 1-4, 5-7, 8-10. Pero para binarizar Propublica y Barestein decidieron el colapso 1–4 vs 5–10 (≥5) que vamos a mantener. Para binario, agrupan Medium+High como “High” (positivo), y Low como “Low” (negativo).\n",
    "\n",
    "**DECISION**: Regla de binarización documentada: para binarizar Propublica y Barestein decidieron el colapso 1–4 vs 5–10 (≥5) que vamos a mantener. \n",
    "\n",
    "> Nota: aquí comparamos de forma **descriptiva** al mismo umbral. (Las pruebas formales ya las hicimos en el 5.2.)"
   ]
  },
  {
   "cell_type": "markdown",
   "id": "97515229",
   "metadata": {},
   "source": [
    "<div align=\"center\">\n",
    "<h2>Matriz de confusión y métricas (umbral ≥ 5)</h2>"
   ]
  },
  {
   "cell_type": "code",
   "execution_count": 21,
   "id": "b400a049",
   "metadata": {},
   "outputs": [
    {
     "data": {
      "application/vnd.plotly.v1+json": {
       "config": {
        "plotlyServerURL": "https://plot.ly"
       },
       "data": [
        {
         "cells": {
          "align": "left",
          "values": [
           [
            "Accuracy",
            "TPR (Recall)",
            "FPR",
            "TNR (Especificidad)",
            "Precision (PPV)",
            "F1",
            "BalancedAcc"
           ],
           [
            "65.4%",
            "62.6%",
            "32.3%",
            "67.7%",
            "61.4%",
            "62.0%",
            "65.1%"
           ],
           [
            "67.0%",
            "61.8%",
            "30.0%",
            "70.0%",
            "54.5%",
            "57.9%",
            "65.9%"
           ],
           [
            "1.6%",
            "-0.8%",
            "-2.4%",
            "2.4%",
            "-6.8%",
            "-4.1%",
            "0.8%"
           ]
          ]
         },
         "header": {
          "align": "left",
          "fill": {
           "color": "#fc9278"
          },
          "values": [
           "Métrica",
           "ProPublica",
           "Clean",
           "Δ (Clean − ProPublica)"
          ]
         },
         "type": "table"
        }
       ],
       "layout": {
        "template": {
         "data": {
          "bar": [
           {
            "error_x": {
             "color": "#2a3f5f"
            },
            "error_y": {
             "color": "#2a3f5f"
            },
            "marker": {
             "line": {
              "color": "white",
              "width": 0.5
             },
             "pattern": {
              "fillmode": "overlay",
              "size": 10,
              "solidity": 0.2
             }
            },
            "type": "bar"
           }
          ],
          "barpolar": [
           {
            "marker": {
             "line": {
              "color": "white",
              "width": 0.5
             },
             "pattern": {
              "fillmode": "overlay",
              "size": 10,
              "solidity": 0.2
             }
            },
            "type": "barpolar"
           }
          ],
          "carpet": [
           {
            "aaxis": {
             "endlinecolor": "#2a3f5f",
             "gridcolor": "#C8D4E3",
             "linecolor": "#C8D4E3",
             "minorgridcolor": "#C8D4E3",
             "startlinecolor": "#2a3f5f"
            },
            "baxis": {
             "endlinecolor": "#2a3f5f",
             "gridcolor": "#C8D4E3",
             "linecolor": "#C8D4E3",
             "minorgridcolor": "#C8D4E3",
             "startlinecolor": "#2a3f5f"
            },
            "type": "carpet"
           }
          ],
          "choropleth": [
           {
            "colorbar": {
             "outlinewidth": 0,
             "ticks": ""
            },
            "type": "choropleth"
           }
          ],
          "contour": [
           {
            "colorbar": {
             "outlinewidth": 0,
             "ticks": ""
            },
            "colorscale": [
             [
              0,
              "#0d0887"
             ],
             [
              0.1111111111111111,
              "#46039f"
             ],
             [
              0.2222222222222222,
              "#7201a8"
             ],
             [
              0.3333333333333333,
              "#9c179e"
             ],
             [
              0.4444444444444444,
              "#bd3786"
             ],
             [
              0.5555555555555556,
              "#d8576b"
             ],
             [
              0.6666666666666666,
              "#ed7953"
             ],
             [
              0.7777777777777778,
              "#fb9f3a"
             ],
             [
              0.8888888888888888,
              "#fdca26"
             ],
             [
              1,
              "#f0f921"
             ]
            ],
            "type": "contour"
           }
          ],
          "contourcarpet": [
           {
            "colorbar": {
             "outlinewidth": 0,
             "ticks": ""
            },
            "type": "contourcarpet"
           }
          ],
          "heatmap": [
           {
            "colorbar": {
             "outlinewidth": 0,
             "ticks": ""
            },
            "colorscale": [
             [
              0,
              "#0d0887"
             ],
             [
              0.1111111111111111,
              "#46039f"
             ],
             [
              0.2222222222222222,
              "#7201a8"
             ],
             [
              0.3333333333333333,
              "#9c179e"
             ],
             [
              0.4444444444444444,
              "#bd3786"
             ],
             [
              0.5555555555555556,
              "#d8576b"
             ],
             [
              0.6666666666666666,
              "#ed7953"
             ],
             [
              0.7777777777777778,
              "#fb9f3a"
             ],
             [
              0.8888888888888888,
              "#fdca26"
             ],
             [
              1,
              "#f0f921"
             ]
            ],
            "type": "heatmap"
           }
          ],
          "histogram": [
           {
            "marker": {
             "pattern": {
              "fillmode": "overlay",
              "size": 10,
              "solidity": 0.2
             }
            },
            "type": "histogram"
           }
          ],
          "histogram2d": [
           {
            "colorbar": {
             "outlinewidth": 0,
             "ticks": ""
            },
            "colorscale": [
             [
              0,
              "#0d0887"
             ],
             [
              0.1111111111111111,
              "#46039f"
             ],
             [
              0.2222222222222222,
              "#7201a8"
             ],
             [
              0.3333333333333333,
              "#9c179e"
             ],
             [
              0.4444444444444444,
              "#bd3786"
             ],
             [
              0.5555555555555556,
              "#d8576b"
             ],
             [
              0.6666666666666666,
              "#ed7953"
             ],
             [
              0.7777777777777778,
              "#fb9f3a"
             ],
             [
              0.8888888888888888,
              "#fdca26"
             ],
             [
              1,
              "#f0f921"
             ]
            ],
            "type": "histogram2d"
           }
          ],
          "histogram2dcontour": [
           {
            "colorbar": {
             "outlinewidth": 0,
             "ticks": ""
            },
            "colorscale": [
             [
              0,
              "#0d0887"
             ],
             [
              0.1111111111111111,
              "#46039f"
             ],
             [
              0.2222222222222222,
              "#7201a8"
             ],
             [
              0.3333333333333333,
              "#9c179e"
             ],
             [
              0.4444444444444444,
              "#bd3786"
             ],
             [
              0.5555555555555556,
              "#d8576b"
             ],
             [
              0.6666666666666666,
              "#ed7953"
             ],
             [
              0.7777777777777778,
              "#fb9f3a"
             ],
             [
              0.8888888888888888,
              "#fdca26"
             ],
             [
              1,
              "#f0f921"
             ]
            ],
            "type": "histogram2dcontour"
           }
          ],
          "mesh3d": [
           {
            "colorbar": {
             "outlinewidth": 0,
             "ticks": ""
            },
            "type": "mesh3d"
           }
          ],
          "parcoords": [
           {
            "line": {
             "colorbar": {
              "outlinewidth": 0,
              "ticks": ""
             }
            },
            "type": "parcoords"
           }
          ],
          "pie": [
           {
            "automargin": true,
            "type": "pie"
           }
          ],
          "scatter": [
           {
            "fillpattern": {
             "fillmode": "overlay",
             "size": 10,
             "solidity": 0.2
            },
            "type": "scatter"
           }
          ],
          "scatter3d": [
           {
            "line": {
             "colorbar": {
              "outlinewidth": 0,
              "ticks": ""
             }
            },
            "marker": {
             "colorbar": {
              "outlinewidth": 0,
              "ticks": ""
             }
            },
            "type": "scatter3d"
           }
          ],
          "scattercarpet": [
           {
            "marker": {
             "colorbar": {
              "outlinewidth": 0,
              "ticks": ""
             }
            },
            "type": "scattercarpet"
           }
          ],
          "scattergeo": [
           {
            "marker": {
             "colorbar": {
              "outlinewidth": 0,
              "ticks": ""
             }
            },
            "type": "scattergeo"
           }
          ],
          "scattergl": [
           {
            "marker": {
             "colorbar": {
              "outlinewidth": 0,
              "ticks": ""
             }
            },
            "type": "scattergl"
           }
          ],
          "scattermap": [
           {
            "marker": {
             "colorbar": {
              "outlinewidth": 0,
              "ticks": ""
             }
            },
            "type": "scattermap"
           }
          ],
          "scattermapbox": [
           {
            "marker": {
             "colorbar": {
              "outlinewidth": 0,
              "ticks": ""
             }
            },
            "type": "scattermapbox"
           }
          ],
          "scatterpolar": [
           {
            "marker": {
             "colorbar": {
              "outlinewidth": 0,
              "ticks": ""
             }
            },
            "type": "scatterpolar"
           }
          ],
          "scatterpolargl": [
           {
            "marker": {
             "colorbar": {
              "outlinewidth": 0,
              "ticks": ""
             }
            },
            "type": "scatterpolargl"
           }
          ],
          "scatterternary": [
           {
            "marker": {
             "colorbar": {
              "outlinewidth": 0,
              "ticks": ""
             }
            },
            "type": "scatterternary"
           }
          ],
          "surface": [
           {
            "colorbar": {
             "outlinewidth": 0,
             "ticks": ""
            },
            "colorscale": [
             [
              0,
              "#0d0887"
             ],
             [
              0.1111111111111111,
              "#46039f"
             ],
             [
              0.2222222222222222,
              "#7201a8"
             ],
             [
              0.3333333333333333,
              "#9c179e"
             ],
             [
              0.4444444444444444,
              "#bd3786"
             ],
             [
              0.5555555555555556,
              "#d8576b"
             ],
             [
              0.6666666666666666,
              "#ed7953"
             ],
             [
              0.7777777777777778,
              "#fb9f3a"
             ],
             [
              0.8888888888888888,
              "#fdca26"
             ],
             [
              1,
              "#f0f921"
             ]
            ],
            "type": "surface"
           }
          ],
          "table": [
           {
            "cells": {
             "fill": {
              "color": "#EBF0F8"
             },
             "line": {
              "color": "white"
             }
            },
            "header": {
             "fill": {
              "color": "#C8D4E3"
             },
             "line": {
              "color": "white"
             }
            },
            "type": "table"
           }
          ]
         },
         "layout": {
          "annotationdefaults": {
           "arrowcolor": "#2a3f5f",
           "arrowhead": 0,
           "arrowwidth": 1
          },
          "autotypenumbers": "strict",
          "coloraxis": {
           "colorbar": {
            "outlinewidth": 0,
            "ticks": ""
           }
          },
          "colorscale": {
           "diverging": [
            [
             0,
             "#8e0152"
            ],
            [
             0.1,
             "#c51b7d"
            ],
            [
             0.2,
             "#de77ae"
            ],
            [
             0.3,
             "#f1b6da"
            ],
            [
             0.4,
             "#fde0ef"
            ],
            [
             0.5,
             "#f7f7f7"
            ],
            [
             0.6,
             "#e6f5d0"
            ],
            [
             0.7,
             "#b8e186"
            ],
            [
             0.8,
             "#7fbc41"
            ],
            [
             0.9,
             "#4d9221"
            ],
            [
             1,
             "#276419"
            ]
           ],
           "sequential": [
            [
             0,
             "#0d0887"
            ],
            [
             0.1111111111111111,
             "#46039f"
            ],
            [
             0.2222222222222222,
             "#7201a8"
            ],
            [
             0.3333333333333333,
             "#9c179e"
            ],
            [
             0.4444444444444444,
             "#bd3786"
            ],
            [
             0.5555555555555556,
             "#d8576b"
            ],
            [
             0.6666666666666666,
             "#ed7953"
            ],
            [
             0.7777777777777778,
             "#fb9f3a"
            ],
            [
             0.8888888888888888,
             "#fdca26"
            ],
            [
             1,
             "#f0f921"
            ]
           ],
           "sequentialminus": [
            [
             0,
             "#0d0887"
            ],
            [
             0.1111111111111111,
             "#46039f"
            ],
            [
             0.2222222222222222,
             "#7201a8"
            ],
            [
             0.3333333333333333,
             "#9c179e"
            ],
            [
             0.4444444444444444,
             "#bd3786"
            ],
            [
             0.5555555555555556,
             "#d8576b"
            ],
            [
             0.6666666666666666,
             "#ed7953"
            ],
            [
             0.7777777777777778,
             "#fb9f3a"
            ],
            [
             0.8888888888888888,
             "#fdca26"
            ],
            [
             1,
             "#f0f921"
            ]
           ]
          },
          "colorway": [
           "rgb(102,194,165)",
           "rgb(252,141,98)",
           "rgb(141,160,203)",
           "rgb(231,138,195)",
           "rgb(166,216,84)",
           "rgb(255,217,47)",
           "rgb(229,196,148)",
           "rgb(179,179,179)"
          ],
          "font": {
           "color": "#2a3f5f",
           "family": "Arial",
           "size": 11
          },
          "geo": {
           "bgcolor": "white",
           "lakecolor": "white",
           "landcolor": "white",
           "showlakes": true,
           "showland": true,
           "subunitcolor": "#C8D4E3"
          },
          "height": 500,
          "hoverlabel": {
           "align": "left"
          },
          "hovermode": "closest",
          "mapbox": {
           "style": "light"
          },
          "paper_bgcolor": "white",
          "plot_bgcolor": "white",
          "polar": {
           "angularaxis": {
            "gridcolor": "#EBF0F8",
            "linecolor": "#EBF0F8",
            "ticks": ""
           },
           "bgcolor": "white",
           "radialaxis": {
            "gridcolor": "#EBF0F8",
            "linecolor": "#EBF0F8",
            "ticks": ""
           }
          },
          "scene": {
           "xaxis": {
            "backgroundcolor": "white",
            "gridcolor": "#DFE8F3",
            "gridwidth": 2,
            "linecolor": "#EBF0F8",
            "showbackground": true,
            "ticks": "",
            "zerolinecolor": "#EBF0F8"
           },
           "yaxis": {
            "backgroundcolor": "white",
            "gridcolor": "#DFE8F3",
            "gridwidth": 2,
            "linecolor": "#EBF0F8",
            "showbackground": true,
            "ticks": "",
            "zerolinecolor": "#EBF0F8"
           },
           "zaxis": {
            "backgroundcolor": "white",
            "gridcolor": "#DFE8F3",
            "gridwidth": 2,
            "linecolor": "#EBF0F8",
            "showbackground": true,
            "ticks": "",
            "zerolinecolor": "#EBF0F8"
           }
          },
          "shapedefaults": {
           "line": {
            "color": "#2a3f5f"
           }
          },
          "ternary": {
           "aaxis": {
            "gridcolor": "#DFE8F3",
            "linecolor": "#A2B1C6",
            "ticks": ""
           },
           "baxis": {
            "gridcolor": "#DFE8F3",
            "linecolor": "#A2B1C6",
            "ticks": ""
           },
           "bgcolor": "white",
           "caxis": {
            "gridcolor": "#DFE8F3",
            "linecolor": "#A2B1C6",
            "ticks": ""
           }
          },
          "title": {
           "x": 0.05
          },
          "width": 1000,
          "xaxis": {
           "automargin": true,
           "gridcolor": "lightgrey",
           "linecolor": "#EBF0F8",
           "showgrid": true,
           "ticks": "",
           "title": {
            "standoff": 15
           },
           "zerolinecolor": "#EBF0F8",
           "zerolinewidth": 2
          },
          "yaxis": {
           "automargin": true,
           "gridcolor": "lightgrey",
           "linecolor": "#EBF0F8",
           "showgrid": true,
           "ticks": "",
           "title": {
            "standoff": 15
           },
           "zerolinecolor": "#EBF0F8",
           "zerolinewidth": 2
          }
         }
        },
        "title": {
         "text": "Resumen de métricas a umbral ≥5"
        }
       }
      }
     },
     "metadata": {},
     "output_type": "display_data"
    },
    {
     "data": {
      "application/vnd.plotly.v1+json": {
       "config": {
        "plotlyServerURL": "https://plot.ly"
       },
       "data": [
        {
         "colorscale": [
          [
           0,
           "rgb(247,252,240)"
          ],
          [
           0.125,
           "rgb(224,243,219)"
          ],
          [
           0.25,
           "rgb(204,235,197)"
          ],
          [
           0.375,
           "rgb(168,221,181)"
          ],
          [
           0.5,
           "rgb(123,204,196)"
          ],
          [
           0.625,
           "rgb(78,179,211)"
          ],
          [
           0.75,
           "rgb(43,140,190)"
          ],
          [
           0.875,
           "rgb(8,104,172)"
          ],
          [
           1,
           "rgb(8,64,129)"
          ]
         ],
         "hovertemplate": "%{y} / %{x}<br>Casos: %{z}<extra></extra>",
         "showscale": false,
         "text": [
          [
           "2035\n(62.6%)",
           "1216\n(37.4%)"
          ],
          [
           "1282\n(32.3%)",
           "2681\n(67.7%)"
          ]
         ],
         "texttemplate": "%{text}",
         "type": "heatmap",
         "x": [
          "Pred: Sí",
          "Pred: No"
         ],
         "xaxis": "x",
         "y": [
          "Real: Sí",
          "Real: No"
         ],
         "yaxis": "y",
         "z": {
          "bdata": "8wfABAIFeQo=",
          "dtype": "i2",
          "shape": "2, 2"
         }
        },
        {
         "colorscale": [
          [
           0,
           "rgb(247,252,240)"
          ],
          [
           0.125,
           "rgb(224,243,219)"
          ],
          [
           0.25,
           "rgb(204,235,197)"
          ],
          [
           0.375,
           "rgb(168,221,181)"
          ],
          [
           0.5,
           "rgb(123,204,196)"
          ],
          [
           0.625,
           "rgb(78,179,211)"
          ],
          [
           0.75,
           "rgb(43,140,190)"
          ],
          [
           0.875,
           "rgb(8,104,172)"
          ],
          [
           1,
           "rgb(8,64,129)"
          ]
         ],
         "hovertemplate": "%{y} / %{x}<br>Casos: %{z}<extra></extra>",
         "showscale": false,
         "text": [
          [
           "1195\n(61.8%)",
           "740\n(38.2%)"
          ],
          [
           "997\n(30.0%)",
           "2327\n(70.0%)"
          ]
         ],
         "texttemplate": "%{text}",
         "type": "heatmap",
         "x": [
          "Pred: Sí",
          "Pred: No"
         ],
         "xaxis": "x2",
         "y": [
          "Real: Sí",
          "Real: No"
         ],
         "yaxis": "y2",
         "z": {
          "bdata": "qwTkAuUDFwk=",
          "dtype": "i2",
          "shape": "2, 2"
         }
        }
       ],
       "layout": {
        "annotations": [
         {
          "font": {
           "size": 16
          },
          "showarrow": false,
          "text": "Matriz - ProPublica (N=7214)",
          "x": 0.225,
          "xanchor": "center",
          "xref": "paper",
          "y": 1,
          "yanchor": "bottom",
          "yref": "paper"
         },
         {
          "font": {
           "size": 16
          },
          "showarrow": false,
          "text": "Matriz - Clean (N=5259)",
          "x": 0.775,
          "xanchor": "center",
          "xref": "paper",
          "y": 1,
          "yanchor": "bottom",
          "yref": "paper"
         }
        ],
        "legend": {
         "title": {
          "text": ""
         }
        },
        "margin": {
         "b": 60,
         "l": 70,
         "r": 40,
         "t": 60
        },
        "plot_bgcolor": "rgba(255, 255, 255, 1)",
        "template": {
         "data": {
          "bar": [
           {
            "error_x": {
             "color": "#2a3f5f"
            },
            "error_y": {
             "color": "#2a3f5f"
            },
            "marker": {
             "line": {
              "color": "white",
              "width": 0.5
             },
             "pattern": {
              "fillmode": "overlay",
              "size": 10,
              "solidity": 0.2
             }
            },
            "type": "bar"
           }
          ],
          "barpolar": [
           {
            "marker": {
             "line": {
              "color": "white",
              "width": 0.5
             },
             "pattern": {
              "fillmode": "overlay",
              "size": 10,
              "solidity": 0.2
             }
            },
            "type": "barpolar"
           }
          ],
          "carpet": [
           {
            "aaxis": {
             "endlinecolor": "#2a3f5f",
             "gridcolor": "#C8D4E3",
             "linecolor": "#C8D4E3",
             "minorgridcolor": "#C8D4E3",
             "startlinecolor": "#2a3f5f"
            },
            "baxis": {
             "endlinecolor": "#2a3f5f",
             "gridcolor": "#C8D4E3",
             "linecolor": "#C8D4E3",
             "minorgridcolor": "#C8D4E3",
             "startlinecolor": "#2a3f5f"
            },
            "type": "carpet"
           }
          ],
          "choropleth": [
           {
            "colorbar": {
             "outlinewidth": 0,
             "ticks": ""
            },
            "type": "choropleth"
           }
          ],
          "contour": [
           {
            "colorbar": {
             "outlinewidth": 0,
             "ticks": ""
            },
            "colorscale": [
             [
              0,
              "#0d0887"
             ],
             [
              0.1111111111111111,
              "#46039f"
             ],
             [
              0.2222222222222222,
              "#7201a8"
             ],
             [
              0.3333333333333333,
              "#9c179e"
             ],
             [
              0.4444444444444444,
              "#bd3786"
             ],
             [
              0.5555555555555556,
              "#d8576b"
             ],
             [
              0.6666666666666666,
              "#ed7953"
             ],
             [
              0.7777777777777778,
              "#fb9f3a"
             ],
             [
              0.8888888888888888,
              "#fdca26"
             ],
             [
              1,
              "#f0f921"
             ]
            ],
            "type": "contour"
           }
          ],
          "contourcarpet": [
           {
            "colorbar": {
             "outlinewidth": 0,
             "ticks": ""
            },
            "type": "contourcarpet"
           }
          ],
          "heatmap": [
           {
            "colorbar": {
             "outlinewidth": 0,
             "ticks": ""
            },
            "colorscale": [
             [
              0,
              "#0d0887"
             ],
             [
              0.1111111111111111,
              "#46039f"
             ],
             [
              0.2222222222222222,
              "#7201a8"
             ],
             [
              0.3333333333333333,
              "#9c179e"
             ],
             [
              0.4444444444444444,
              "#bd3786"
             ],
             [
              0.5555555555555556,
              "#d8576b"
             ],
             [
              0.6666666666666666,
              "#ed7953"
             ],
             [
              0.7777777777777778,
              "#fb9f3a"
             ],
             [
              0.8888888888888888,
              "#fdca26"
             ],
             [
              1,
              "#f0f921"
             ]
            ],
            "type": "heatmap"
           }
          ],
          "histogram": [
           {
            "marker": {
             "pattern": {
              "fillmode": "overlay",
              "size": 10,
              "solidity": 0.2
             }
            },
            "type": "histogram"
           }
          ],
          "histogram2d": [
           {
            "colorbar": {
             "outlinewidth": 0,
             "ticks": ""
            },
            "colorscale": [
             [
              0,
              "#0d0887"
             ],
             [
              0.1111111111111111,
              "#46039f"
             ],
             [
              0.2222222222222222,
              "#7201a8"
             ],
             [
              0.3333333333333333,
              "#9c179e"
             ],
             [
              0.4444444444444444,
              "#bd3786"
             ],
             [
              0.5555555555555556,
              "#d8576b"
             ],
             [
              0.6666666666666666,
              "#ed7953"
             ],
             [
              0.7777777777777778,
              "#fb9f3a"
             ],
             [
              0.8888888888888888,
              "#fdca26"
             ],
             [
              1,
              "#f0f921"
             ]
            ],
            "type": "histogram2d"
           }
          ],
          "histogram2dcontour": [
           {
            "colorbar": {
             "outlinewidth": 0,
             "ticks": ""
            },
            "colorscale": [
             [
              0,
              "#0d0887"
             ],
             [
              0.1111111111111111,
              "#46039f"
             ],
             [
              0.2222222222222222,
              "#7201a8"
             ],
             [
              0.3333333333333333,
              "#9c179e"
             ],
             [
              0.4444444444444444,
              "#bd3786"
             ],
             [
              0.5555555555555556,
              "#d8576b"
             ],
             [
              0.6666666666666666,
              "#ed7953"
             ],
             [
              0.7777777777777778,
              "#fb9f3a"
             ],
             [
              0.8888888888888888,
              "#fdca26"
             ],
             [
              1,
              "#f0f921"
             ]
            ],
            "type": "histogram2dcontour"
           }
          ],
          "mesh3d": [
           {
            "colorbar": {
             "outlinewidth": 0,
             "ticks": ""
            },
            "type": "mesh3d"
           }
          ],
          "parcoords": [
           {
            "line": {
             "colorbar": {
              "outlinewidth": 0,
              "ticks": ""
             }
            },
            "type": "parcoords"
           }
          ],
          "pie": [
           {
            "automargin": true,
            "type": "pie"
           }
          ],
          "scatter": [
           {
            "fillpattern": {
             "fillmode": "overlay",
             "size": 10,
             "solidity": 0.2
            },
            "type": "scatter"
           }
          ],
          "scatter3d": [
           {
            "line": {
             "colorbar": {
              "outlinewidth": 0,
              "ticks": ""
             }
            },
            "marker": {
             "colorbar": {
              "outlinewidth": 0,
              "ticks": ""
             }
            },
            "type": "scatter3d"
           }
          ],
          "scattercarpet": [
           {
            "marker": {
             "colorbar": {
              "outlinewidth": 0,
              "ticks": ""
             }
            },
            "type": "scattercarpet"
           }
          ],
          "scattergeo": [
           {
            "marker": {
             "colorbar": {
              "outlinewidth": 0,
              "ticks": ""
             }
            },
            "type": "scattergeo"
           }
          ],
          "scattergl": [
           {
            "marker": {
             "colorbar": {
              "outlinewidth": 0,
              "ticks": ""
             }
            },
            "type": "scattergl"
           }
          ],
          "scattermap": [
           {
            "marker": {
             "colorbar": {
              "outlinewidth": 0,
              "ticks": ""
             }
            },
            "type": "scattermap"
           }
          ],
          "scattermapbox": [
           {
            "marker": {
             "colorbar": {
              "outlinewidth": 0,
              "ticks": ""
             }
            },
            "type": "scattermapbox"
           }
          ],
          "scatterpolar": [
           {
            "marker": {
             "colorbar": {
              "outlinewidth": 0,
              "ticks": ""
             }
            },
            "type": "scatterpolar"
           }
          ],
          "scatterpolargl": [
           {
            "marker": {
             "colorbar": {
              "outlinewidth": 0,
              "ticks": ""
             }
            },
            "type": "scatterpolargl"
           }
          ],
          "scatterternary": [
           {
            "marker": {
             "colorbar": {
              "outlinewidth": 0,
              "ticks": ""
             }
            },
            "type": "scatterternary"
           }
          ],
          "surface": [
           {
            "colorbar": {
             "outlinewidth": 0,
             "ticks": ""
            },
            "colorscale": [
             [
              0,
              "#0d0887"
             ],
             [
              0.1111111111111111,
              "#46039f"
             ],
             [
              0.2222222222222222,
              "#7201a8"
             ],
             [
              0.3333333333333333,
              "#9c179e"
             ],
             [
              0.4444444444444444,
              "#bd3786"
             ],
             [
              0.5555555555555556,
              "#d8576b"
             ],
             [
              0.6666666666666666,
              "#ed7953"
             ],
             [
              0.7777777777777778,
              "#fb9f3a"
             ],
             [
              0.8888888888888888,
              "#fdca26"
             ],
             [
              1,
              "#f0f921"
             ]
            ],
            "type": "surface"
           }
          ],
          "table": [
           {
            "cells": {
             "fill": {
              "color": "#EBF0F8"
             },
             "line": {
              "color": "white"
             }
            },
            "header": {
             "fill": {
              "color": "#C8D4E3"
             },
             "line": {
              "color": "white"
             }
            },
            "type": "table"
           }
          ]
         },
         "layout": {
          "annotationdefaults": {
           "arrowcolor": "#2a3f5f",
           "arrowhead": 0,
           "arrowwidth": 1
          },
          "autotypenumbers": "strict",
          "coloraxis": {
           "colorbar": {
            "outlinewidth": 0,
            "ticks": ""
           }
          },
          "colorscale": {
           "diverging": [
            [
             0,
             "#8e0152"
            ],
            [
             0.1,
             "#c51b7d"
            ],
            [
             0.2,
             "#de77ae"
            ],
            [
             0.3,
             "#f1b6da"
            ],
            [
             0.4,
             "#fde0ef"
            ],
            [
             0.5,
             "#f7f7f7"
            ],
            [
             0.6,
             "#e6f5d0"
            ],
            [
             0.7,
             "#b8e186"
            ],
            [
             0.8,
             "#7fbc41"
            ],
            [
             0.9,
             "#4d9221"
            ],
            [
             1,
             "#276419"
            ]
           ],
           "sequential": [
            [
             0,
             "#0d0887"
            ],
            [
             0.1111111111111111,
             "#46039f"
            ],
            [
             0.2222222222222222,
             "#7201a8"
            ],
            [
             0.3333333333333333,
             "#9c179e"
            ],
            [
             0.4444444444444444,
             "#bd3786"
            ],
            [
             0.5555555555555556,
             "#d8576b"
            ],
            [
             0.6666666666666666,
             "#ed7953"
            ],
            [
             0.7777777777777778,
             "#fb9f3a"
            ],
            [
             0.8888888888888888,
             "#fdca26"
            ],
            [
             1,
             "#f0f921"
            ]
           ],
           "sequentialminus": [
            [
             0,
             "#0d0887"
            ],
            [
             0.1111111111111111,
             "#46039f"
            ],
            [
             0.2222222222222222,
             "#7201a8"
            ],
            [
             0.3333333333333333,
             "#9c179e"
            ],
            [
             0.4444444444444444,
             "#bd3786"
            ],
            [
             0.5555555555555556,
             "#d8576b"
            ],
            [
             0.6666666666666666,
             "#ed7953"
            ],
            [
             0.7777777777777778,
             "#fb9f3a"
            ],
            [
             0.8888888888888888,
             "#fdca26"
            ],
            [
             1,
             "#f0f921"
            ]
           ]
          },
          "colorway": [
           "rgb(102,194,165)",
           "rgb(252,141,98)",
           "rgb(141,160,203)",
           "rgb(231,138,195)",
           "rgb(166,216,84)",
           "rgb(255,217,47)",
           "rgb(229,196,148)",
           "rgb(179,179,179)"
          ],
          "font": {
           "color": "#2a3f5f",
           "family": "Arial",
           "size": 11
          },
          "geo": {
           "bgcolor": "white",
           "lakecolor": "white",
           "landcolor": "white",
           "showlakes": true,
           "showland": true,
           "subunitcolor": "#C8D4E3"
          },
          "height": 500,
          "hoverlabel": {
           "align": "left"
          },
          "hovermode": "closest",
          "mapbox": {
           "style": "light"
          },
          "paper_bgcolor": "white",
          "plot_bgcolor": "white",
          "polar": {
           "angularaxis": {
            "gridcolor": "#EBF0F8",
            "linecolor": "#EBF0F8",
            "ticks": ""
           },
           "bgcolor": "white",
           "radialaxis": {
            "gridcolor": "#EBF0F8",
            "linecolor": "#EBF0F8",
            "ticks": ""
           }
          },
          "scene": {
           "xaxis": {
            "backgroundcolor": "white",
            "gridcolor": "#DFE8F3",
            "gridwidth": 2,
            "linecolor": "#EBF0F8",
            "showbackground": true,
            "ticks": "",
            "zerolinecolor": "#EBF0F8"
           },
           "yaxis": {
            "backgroundcolor": "white",
            "gridcolor": "#DFE8F3",
            "gridwidth": 2,
            "linecolor": "#EBF0F8",
            "showbackground": true,
            "ticks": "",
            "zerolinecolor": "#EBF0F8"
           },
           "zaxis": {
            "backgroundcolor": "white",
            "gridcolor": "#DFE8F3",
            "gridwidth": 2,
            "linecolor": "#EBF0F8",
            "showbackground": true,
            "ticks": "",
            "zerolinecolor": "#EBF0F8"
           }
          },
          "shapedefaults": {
           "line": {
            "color": "#2a3f5f"
           }
          },
          "ternary": {
           "aaxis": {
            "gridcolor": "#DFE8F3",
            "linecolor": "#A2B1C6",
            "ticks": ""
           },
           "baxis": {
            "gridcolor": "#DFE8F3",
            "linecolor": "#A2B1C6",
            "ticks": ""
           },
           "bgcolor": "white",
           "caxis": {
            "gridcolor": "#DFE8F3",
            "linecolor": "#A2B1C6",
            "ticks": ""
           }
          },
          "title": {
           "x": 0.05
          },
          "width": 1000,
          "xaxis": {
           "automargin": true,
           "gridcolor": "lightgrey",
           "linecolor": "#EBF0F8",
           "showgrid": true,
           "ticks": "",
           "title": {
            "standoff": 15
           },
           "zerolinecolor": "#EBF0F8",
           "zerolinewidth": 2
          },
          "yaxis": {
           "automargin": true,
           "gridcolor": "lightgrey",
           "linecolor": "#EBF0F8",
           "showgrid": true,
           "ticks": "",
           "title": {
            "standoff": 15
           },
           "zerolinecolor": "#EBF0F8",
           "zerolinewidth": 2
          }
         }
        },
        "title": {
         "text": "Matrices de confusión a umbral ≥5"
        },
        "xaxis": {
         "anchor": "y",
         "domain": [
          0,
          0.45
         ],
         "gridcolor": "lightgrey",
         "showgrid": false
        },
        "xaxis2": {
         "anchor": "y2",
         "domain": [
          0.55,
          1
         ],
         "showgrid": false
        },
        "yaxis": {
         "anchor": "x",
         "domain": [
          0,
          1
         ],
         "gridcolor": "lightgrey",
         "showgrid": false
        },
        "yaxis2": {
         "anchor": "x2",
         "domain": [
          0,
          1
         ],
         "showgrid": false
        }
       }
      }
     },
     "metadata": {},
     "output_type": "display_data"
    },
    {
     "data": {
      "application/vnd.plotly.v1+json": {
       "config": {
        "plotlyServerURL": "https://plot.ly"
       },
       "data": [
        {
         "alignmentgroup": "True",
         "hovertemplate": "dataset=ProPublica<br>metric=%{x}<br>value=%{y}<br>text=%{text}<extra></extra>",
         "legendgroup": "ProPublica",
         "marker": {
          "color": "rgb(102,194,165)",
          "pattern": {
           "shape": ""
          }
         },
         "name": "ProPublica",
         "offsetgroup": "ProPublica",
         "orientation": "v",
         "showlegend": true,
         "text": [
          "65.4%",
          "62.6%",
          "32.3%",
          "67.7%",
          "65.1%"
         ],
         "textposition": "outside",
         "type": "bar",
         "x": [
          "Accuracy",
          "TPR",
          "FPR",
          "TNR",
          "BalancedAcc"
         ],
         "xaxis": "x",
         "y": {
          "bdata": "0EmQyVjr5D/q+D3f3wfkP0baVxAZtNQ/3RLUd/Ol5T/kBYmr6dbkPw==",
          "dtype": "f8"
         },
         "yaxis": "y"
        },
        {
         "alignmentgroup": "True",
         "hovertemplate": "dataset=Clean<br>metric=%{x}<br>value=%{y}<br>text=%{text}<extra></extra>",
         "legendgroup": "Clean",
         "marker": {
          "color": "rgb(252,141,98)",
          "pattern": {
           "shape": ""
          }
         },
         "name": "Clean",
         "offsetgroup": "Clean",
         "orientation": "v",
         "showlegend": true,
         "text": [
          "67.0%",
          "61.8%",
          "30.0%",
          "70.0%",
          "65.9%"
         ],
         "textposition": "outside",
         "type": "bar",
         "x": [
          "Accuracy",
          "TPR",
          "FPR",
          "TNR",
          "BalancedAcc"
         ],
         "xaxis": "x",
         "y": {
          "bdata": "Nj5Gt0Fu5T/x3OZhJMPjPx6hy9U2MtM/cS8aleRm5j8xhoB7BBXlPw==",
          "dtype": "f8"
         },
         "yaxis": "y"
        }
       ],
       "layout": {
        "barmode": "group",
        "legend": {
         "title": {
          "text": ""
         },
         "tracegroupgap": 0
        },
        "margin": {
         "b": 60,
         "l": 70,
         "r": 40,
         "t": 60
        },
        "plot_bgcolor": "rgba(255, 255, 255, 1)",
        "template": {
         "data": {
          "bar": [
           {
            "error_x": {
             "color": "#2a3f5f"
            },
            "error_y": {
             "color": "#2a3f5f"
            },
            "marker": {
             "line": {
              "color": "white",
              "width": 0.5
             },
             "pattern": {
              "fillmode": "overlay",
              "size": 10,
              "solidity": 0.2
             }
            },
            "type": "bar"
           }
          ],
          "barpolar": [
           {
            "marker": {
             "line": {
              "color": "white",
              "width": 0.5
             },
             "pattern": {
              "fillmode": "overlay",
              "size": 10,
              "solidity": 0.2
             }
            },
            "type": "barpolar"
           }
          ],
          "carpet": [
           {
            "aaxis": {
             "endlinecolor": "#2a3f5f",
             "gridcolor": "#C8D4E3",
             "linecolor": "#C8D4E3",
             "minorgridcolor": "#C8D4E3",
             "startlinecolor": "#2a3f5f"
            },
            "baxis": {
             "endlinecolor": "#2a3f5f",
             "gridcolor": "#C8D4E3",
             "linecolor": "#C8D4E3",
             "minorgridcolor": "#C8D4E3",
             "startlinecolor": "#2a3f5f"
            },
            "type": "carpet"
           }
          ],
          "choropleth": [
           {
            "colorbar": {
             "outlinewidth": 0,
             "ticks": ""
            },
            "type": "choropleth"
           }
          ],
          "contour": [
           {
            "colorbar": {
             "outlinewidth": 0,
             "ticks": ""
            },
            "colorscale": [
             [
              0,
              "#0d0887"
             ],
             [
              0.1111111111111111,
              "#46039f"
             ],
             [
              0.2222222222222222,
              "#7201a8"
             ],
             [
              0.3333333333333333,
              "#9c179e"
             ],
             [
              0.4444444444444444,
              "#bd3786"
             ],
             [
              0.5555555555555556,
              "#d8576b"
             ],
             [
              0.6666666666666666,
              "#ed7953"
             ],
             [
              0.7777777777777778,
              "#fb9f3a"
             ],
             [
              0.8888888888888888,
              "#fdca26"
             ],
             [
              1,
              "#f0f921"
             ]
            ],
            "type": "contour"
           }
          ],
          "contourcarpet": [
           {
            "colorbar": {
             "outlinewidth": 0,
             "ticks": ""
            },
            "type": "contourcarpet"
           }
          ],
          "heatmap": [
           {
            "colorbar": {
             "outlinewidth": 0,
             "ticks": ""
            },
            "colorscale": [
             [
              0,
              "#0d0887"
             ],
             [
              0.1111111111111111,
              "#46039f"
             ],
             [
              0.2222222222222222,
              "#7201a8"
             ],
             [
              0.3333333333333333,
              "#9c179e"
             ],
             [
              0.4444444444444444,
              "#bd3786"
             ],
             [
              0.5555555555555556,
              "#d8576b"
             ],
             [
              0.6666666666666666,
              "#ed7953"
             ],
             [
              0.7777777777777778,
              "#fb9f3a"
             ],
             [
              0.8888888888888888,
              "#fdca26"
             ],
             [
              1,
              "#f0f921"
             ]
            ],
            "type": "heatmap"
           }
          ],
          "histogram": [
           {
            "marker": {
             "pattern": {
              "fillmode": "overlay",
              "size": 10,
              "solidity": 0.2
             }
            },
            "type": "histogram"
           }
          ],
          "histogram2d": [
           {
            "colorbar": {
             "outlinewidth": 0,
             "ticks": ""
            },
            "colorscale": [
             [
              0,
              "#0d0887"
             ],
             [
              0.1111111111111111,
              "#46039f"
             ],
             [
              0.2222222222222222,
              "#7201a8"
             ],
             [
              0.3333333333333333,
              "#9c179e"
             ],
             [
              0.4444444444444444,
              "#bd3786"
             ],
             [
              0.5555555555555556,
              "#d8576b"
             ],
             [
              0.6666666666666666,
              "#ed7953"
             ],
             [
              0.7777777777777778,
              "#fb9f3a"
             ],
             [
              0.8888888888888888,
              "#fdca26"
             ],
             [
              1,
              "#f0f921"
             ]
            ],
            "type": "histogram2d"
           }
          ],
          "histogram2dcontour": [
           {
            "colorbar": {
             "outlinewidth": 0,
             "ticks": ""
            },
            "colorscale": [
             [
              0,
              "#0d0887"
             ],
             [
              0.1111111111111111,
              "#46039f"
             ],
             [
              0.2222222222222222,
              "#7201a8"
             ],
             [
              0.3333333333333333,
              "#9c179e"
             ],
             [
              0.4444444444444444,
              "#bd3786"
             ],
             [
              0.5555555555555556,
              "#d8576b"
             ],
             [
              0.6666666666666666,
              "#ed7953"
             ],
             [
              0.7777777777777778,
              "#fb9f3a"
             ],
             [
              0.8888888888888888,
              "#fdca26"
             ],
             [
              1,
              "#f0f921"
             ]
            ],
            "type": "histogram2dcontour"
           }
          ],
          "mesh3d": [
           {
            "colorbar": {
             "outlinewidth": 0,
             "ticks": ""
            },
            "type": "mesh3d"
           }
          ],
          "parcoords": [
           {
            "line": {
             "colorbar": {
              "outlinewidth": 0,
              "ticks": ""
             }
            },
            "type": "parcoords"
           }
          ],
          "pie": [
           {
            "automargin": true,
            "type": "pie"
           }
          ],
          "scatter": [
           {
            "fillpattern": {
             "fillmode": "overlay",
             "size": 10,
             "solidity": 0.2
            },
            "type": "scatter"
           }
          ],
          "scatter3d": [
           {
            "line": {
             "colorbar": {
              "outlinewidth": 0,
              "ticks": ""
             }
            },
            "marker": {
             "colorbar": {
              "outlinewidth": 0,
              "ticks": ""
             }
            },
            "type": "scatter3d"
           }
          ],
          "scattercarpet": [
           {
            "marker": {
             "colorbar": {
              "outlinewidth": 0,
              "ticks": ""
             }
            },
            "type": "scattercarpet"
           }
          ],
          "scattergeo": [
           {
            "marker": {
             "colorbar": {
              "outlinewidth": 0,
              "ticks": ""
             }
            },
            "type": "scattergeo"
           }
          ],
          "scattergl": [
           {
            "marker": {
             "colorbar": {
              "outlinewidth": 0,
              "ticks": ""
             }
            },
            "type": "scattergl"
           }
          ],
          "scattermap": [
           {
            "marker": {
             "colorbar": {
              "outlinewidth": 0,
              "ticks": ""
             }
            },
            "type": "scattermap"
           }
          ],
          "scattermapbox": [
           {
            "marker": {
             "colorbar": {
              "outlinewidth": 0,
              "ticks": ""
             }
            },
            "type": "scattermapbox"
           }
          ],
          "scatterpolar": [
           {
            "marker": {
             "colorbar": {
              "outlinewidth": 0,
              "ticks": ""
             }
            },
            "type": "scatterpolar"
           }
          ],
          "scatterpolargl": [
           {
            "marker": {
             "colorbar": {
              "outlinewidth": 0,
              "ticks": ""
             }
            },
            "type": "scatterpolargl"
           }
          ],
          "scatterternary": [
           {
            "marker": {
             "colorbar": {
              "outlinewidth": 0,
              "ticks": ""
             }
            },
            "type": "scatterternary"
           }
          ],
          "surface": [
           {
            "colorbar": {
             "outlinewidth": 0,
             "ticks": ""
            },
            "colorscale": [
             [
              0,
              "#0d0887"
             ],
             [
              0.1111111111111111,
              "#46039f"
             ],
             [
              0.2222222222222222,
              "#7201a8"
             ],
             [
              0.3333333333333333,
              "#9c179e"
             ],
             [
              0.4444444444444444,
              "#bd3786"
             ],
             [
              0.5555555555555556,
              "#d8576b"
             ],
             [
              0.6666666666666666,
              "#ed7953"
             ],
             [
              0.7777777777777778,
              "#fb9f3a"
             ],
             [
              0.8888888888888888,
              "#fdca26"
             ],
             [
              1,
              "#f0f921"
             ]
            ],
            "type": "surface"
           }
          ],
          "table": [
           {
            "cells": {
             "fill": {
              "color": "#EBF0F8"
             },
             "line": {
              "color": "white"
             }
            },
            "header": {
             "fill": {
              "color": "#C8D4E3"
             },
             "line": {
              "color": "white"
             }
            },
            "type": "table"
           }
          ]
         },
         "layout": {
          "annotationdefaults": {
           "arrowcolor": "#2a3f5f",
           "arrowhead": 0,
           "arrowwidth": 1
          },
          "autotypenumbers": "strict",
          "coloraxis": {
           "colorbar": {
            "outlinewidth": 0,
            "ticks": ""
           }
          },
          "colorscale": {
           "diverging": [
            [
             0,
             "#8e0152"
            ],
            [
             0.1,
             "#c51b7d"
            ],
            [
             0.2,
             "#de77ae"
            ],
            [
             0.3,
             "#f1b6da"
            ],
            [
             0.4,
             "#fde0ef"
            ],
            [
             0.5,
             "#f7f7f7"
            ],
            [
             0.6,
             "#e6f5d0"
            ],
            [
             0.7,
             "#b8e186"
            ],
            [
             0.8,
             "#7fbc41"
            ],
            [
             0.9,
             "#4d9221"
            ],
            [
             1,
             "#276419"
            ]
           ],
           "sequential": [
            [
             0,
             "#0d0887"
            ],
            [
             0.1111111111111111,
             "#46039f"
            ],
            [
             0.2222222222222222,
             "#7201a8"
            ],
            [
             0.3333333333333333,
             "#9c179e"
            ],
            [
             0.4444444444444444,
             "#bd3786"
            ],
            [
             0.5555555555555556,
             "#d8576b"
            ],
            [
             0.6666666666666666,
             "#ed7953"
            ],
            [
             0.7777777777777778,
             "#fb9f3a"
            ],
            [
             0.8888888888888888,
             "#fdca26"
            ],
            [
             1,
             "#f0f921"
            ]
           ],
           "sequentialminus": [
            [
             0,
             "#0d0887"
            ],
            [
             0.1111111111111111,
             "#46039f"
            ],
            [
             0.2222222222222222,
             "#7201a8"
            ],
            [
             0.3333333333333333,
             "#9c179e"
            ],
            [
             0.4444444444444444,
             "#bd3786"
            ],
            [
             0.5555555555555556,
             "#d8576b"
            ],
            [
             0.6666666666666666,
             "#ed7953"
            ],
            [
             0.7777777777777778,
             "#fb9f3a"
            ],
            [
             0.8888888888888888,
             "#fdca26"
            ],
            [
             1,
             "#f0f921"
            ]
           ]
          },
          "colorway": [
           "rgb(102,194,165)",
           "rgb(252,141,98)",
           "rgb(141,160,203)",
           "rgb(231,138,195)",
           "rgb(166,216,84)",
           "rgb(255,217,47)",
           "rgb(229,196,148)",
           "rgb(179,179,179)"
          ],
          "font": {
           "color": "#2a3f5f",
           "family": "Arial",
           "size": 11
          },
          "geo": {
           "bgcolor": "white",
           "lakecolor": "white",
           "landcolor": "white",
           "showlakes": true,
           "showland": true,
           "subunitcolor": "#C8D4E3"
          },
          "height": 500,
          "hoverlabel": {
           "align": "left"
          },
          "hovermode": "closest",
          "mapbox": {
           "style": "light"
          },
          "paper_bgcolor": "white",
          "plot_bgcolor": "white",
          "polar": {
           "angularaxis": {
            "gridcolor": "#EBF0F8",
            "linecolor": "#EBF0F8",
            "ticks": ""
           },
           "bgcolor": "white",
           "radialaxis": {
            "gridcolor": "#EBF0F8",
            "linecolor": "#EBF0F8",
            "ticks": ""
           }
          },
          "scene": {
           "xaxis": {
            "backgroundcolor": "white",
            "gridcolor": "#DFE8F3",
            "gridwidth": 2,
            "linecolor": "#EBF0F8",
            "showbackground": true,
            "ticks": "",
            "zerolinecolor": "#EBF0F8"
           },
           "yaxis": {
            "backgroundcolor": "white",
            "gridcolor": "#DFE8F3",
            "gridwidth": 2,
            "linecolor": "#EBF0F8",
            "showbackground": true,
            "ticks": "",
            "zerolinecolor": "#EBF0F8"
           },
           "zaxis": {
            "backgroundcolor": "white",
            "gridcolor": "#DFE8F3",
            "gridwidth": 2,
            "linecolor": "#EBF0F8",
            "showbackground": true,
            "ticks": "",
            "zerolinecolor": "#EBF0F8"
           }
          },
          "shapedefaults": {
           "line": {
            "color": "#2a3f5f"
           }
          },
          "ternary": {
           "aaxis": {
            "gridcolor": "#DFE8F3",
            "linecolor": "#A2B1C6",
            "ticks": ""
           },
           "baxis": {
            "gridcolor": "#DFE8F3",
            "linecolor": "#A2B1C6",
            "ticks": ""
           },
           "bgcolor": "white",
           "caxis": {
            "gridcolor": "#DFE8F3",
            "linecolor": "#A2B1C6",
            "ticks": ""
           }
          },
          "title": {
           "x": 0.05
          },
          "width": 1000,
          "xaxis": {
           "automargin": true,
           "gridcolor": "lightgrey",
           "linecolor": "#EBF0F8",
           "showgrid": true,
           "ticks": "",
           "title": {
            "standoff": 15
           },
           "zerolinecolor": "#EBF0F8",
           "zerolinewidth": 2
          },
          "yaxis": {
           "automargin": true,
           "gridcolor": "lightgrey",
           "linecolor": "#EBF0F8",
           "showgrid": true,
           "ticks": "",
           "title": {
            "standoff": 15
           },
           "zerolinecolor": "#EBF0F8",
           "zerolinewidth": 2
          }
         }
        },
        "title": {
         "text": "Comparativa de métricas a umbral ≥5"
        },
        "xaxis": {
         "anchor": "y",
         "domain": [
          0,
          1
         ],
         "gridcolor": "lightgrey",
         "showgrid": true,
         "title": {
          "text": "Métrica"
         }
        },
        "yaxis": {
         "anchor": "x",
         "domain": [
          0,
          1
         ],
         "gridcolor": "lightgrey",
         "showgrid": true,
         "tickformat": ".0%",
         "title": {
          "text": "Valor"
         }
        }
       }
      }
     },
     "metadata": {},
     "output_type": "display_data"
    }
   ],
   "source": [
    "# --- Estilo homogéneo visualizacion gráficos ---\n",
    "def aplicar_estilo(fig, x_title=None, y_title=None, legend_title=''):\n",
    "    fig.update_layout(\n",
    "        plot_bgcolor='rgba(255, 255, 255, 1)',\n",
    "        xaxis_showgrid=True, xaxis_gridcolor='lightgrey',\n",
    "        yaxis_showgrid=True, yaxis_gridcolor='lightgrey',\n",
    "        legend_title_text=legend_title,\n",
    "        margin=dict(l=70, r=40, t=60, b=60)\n",
    "    )\n",
    "    if x_title: fig.update_xaxes(title_text=x_title)\n",
    "    if y_title: fig.update_yaxes(title_text=y_title)\n",
    "    return fig\n",
    "\n",
    "# --- Métricas a partir de una matriz de confusión ---\n",
    "def metrics_from_cm(tp, fp, fn, tn):\n",
    "    acc = (tp+tn)/max(tp+fp+fn+tn, 1)\n",
    "    tpr = tp/max(tp+fn, 1)  # recall / sensibilidad\n",
    "    fpr = fp/max(fp+tn, 1)\n",
    "    tnr = tn/max(tn+fp, 1)  # especificidad\n",
    "    ppv = tp/max(tp+fp, 1)  # precision\n",
    "    npv = tn/max(tn+fn, 1)\n",
    "    f1  = 2*ppv*tpr/max(ppv+tpr, 1e-12)\n",
    "    bal = (tpr+tnr)/2\n",
    "    return dict(Accuracy=acc, TPR=tpr, FPR=fpr, TNR=tnr, Precision=ppv, NPV=npv, F1=f1, BalancedAcc=bal)\n",
    "\n",
    "# --- Construir predicción binaria a partir del decil ---\n",
    "def get_cm_and_metrics(df, threshold=5, y_true='reincide', score='resultado_compas', label=''):\n",
    "    y = df[y_true].astype(int).values\n",
    "    yhat = (df[score] >= threshold).astype(int).values\n",
    "    tn, fp, fn, tp = confusion_matrix(y, yhat, labels=[0,1]).ravel()\n",
    "    m = metrics_from_cm(tp, fp, fn, tn)\n",
    "    cm_counts = np.array([[tp, fn],\n",
    "                          [fp, tn]])  # formato [fila: Real Sí/No] x [col: Pred Sí/No] para mostrar claro\n",
    "    support = dict(Pos=tp+fn, Neg=tn+fp, N=len(y))\n",
    "    return {'label': label, 'tp': tp, 'fp': fp, 'fn': fn, 'tn': tn, 'metrics': m, 'cm': cm_counts, 'support': support}\n",
    "\n",
    "# === 1) Calcular métricas y CMs para ambos datasets (umbral ≥5) ===\n",
    "res_propu = get_cm_and_metrics(df_twoyears,       threshold=5, label='ProPublica')\n",
    "res_clean = get_cm_and_metrics(df_twoyears_clean, threshold=5, label='Clean')\n",
    "\n",
    "# === 2A) TABLA-RESUMEN DE MÉTRICAS (profesional) ===\n",
    "def format_pct(x): \n",
    "    return f\"{100*x:.1f}%\" if pd.notnull(x) else \"—\"\n",
    "\n",
    "summary = pd.DataFrame({\n",
    "    'Métrica': ['Accuracy', 'TPR (Recall)', 'FPR', 'TNR (Especificidad)', 'Precision (PPV)', 'F1', 'BalancedAcc'],\n",
    "    'ProPublica': [res_propu['metrics'][k] for k in ['Accuracy','TPR','FPR','TNR','Precision','F1','BalancedAcc']],\n",
    "    'Clean':      [res_clean['metrics'][k] for k in ['Accuracy','TPR','FPR','TNR','Precision','F1','BalancedAcc']],\n",
    "})\n",
    "summary['Δ (Clean − ProPublica)'] = summary['Clean'] - summary['ProPublica']\n",
    "\n",
    "# Formateo a texto para Table\n",
    "summary_fmt = summary.copy()\n",
    "for col in ['ProPublica','Clean','Δ (Clean − ProPublica)']:\n",
    "    summary_fmt[col] = summary_fmt[col].map(format_pct)\n",
    "\n",
    "table_fig = go.Figure(data=[go.Table(\n",
    "    header=dict(values=list(summary_fmt.columns), fill_color=\"#fc9278\", align='left'),\n",
    "    cells=dict(values=[summary_fmt[c] for c in summary_fmt.columns], align='left')\n",
    ")])\n",
    "table_fig.update_layout(title=\"Resumen de métricas a umbral ≥5\")\n",
    "table_fig.show()\n",
    "\n",
    "# === 2B) HEATMAPS DE MATRIZ DE CONFUSIÓN (lado a lado) ===\n",
    "# Texto por celda: cuenta y porcentaje fila\n",
    "def cm_text(cm):\n",
    "    row_sums = cm.sum(axis=1, keepdims=True)\n",
    "    pct = np.divide(cm, np.where(row_sums==0, 1, row_sums), where=row_sums!=0)\n",
    "    return np.array([[f\"{cm[0,0]}\\n({pct[0,0]*100:.1f}%)\", f\"{cm[0,1]}\\n({pct[0,1]*100:.1f}%)\"],\n",
    "                     [f\"{cm[1,0]}\\n({pct[1,0]*100:.1f}%)\", f\"{cm[1,1]}\\n({pct[1,1]*100:.1f}%)\"]])\n",
    "\n",
    "labels_x = ['Pred: Sí', 'Pred: No']\n",
    "labels_y = ['Real: Sí', 'Real: No']\n",
    "\n",
    "fig_cm = make_subplots(rows=1, cols=2, subplot_titles=(f\"Matriz - ProPublica (N={res_propu['support']['N']})\",\n",
    "                                                       f\"Matriz - Clean (N={res_clean['support']['N']})\"))\n",
    "\n",
    "fig_cm.add_trace(go.Heatmap(\n",
    "    z=res_propu['cm'], x=labels_x, y=labels_y, colorscale=\"GnBu\", showscale=False,\n",
    "    text=cm_text(res_propu['cm']), texttemplate=\"%{text}\", hovertemplate=\"%{y} / %{x}<br>Casos: %{z}<extra></extra>\"\n",
    "), row=1, col=1)\n",
    "\n",
    "fig_cm.add_trace(go.Heatmap(\n",
    "    z=res_clean['cm'], x=labels_x, y=labels_y, colorscale='GnBu', showscale=False,\n",
    "    text=cm_text(res_clean['cm']), texttemplate=\"%{text}\", hovertemplate=\"%{y} / %{x}<br>Casos: %{z}<extra></extra>\"\n",
    "), row=1, col=2)\n",
    "\n",
    "aplicar_estilo(fig_cm, legend_title='')\n",
    "fig_cm.update_xaxes(showgrid=False)\n",
    "fig_cm.update_yaxes(showgrid=False)\n",
    "fig_cm.update_layout(title=\"Matrices de confusión a umbral ≥5\")\n",
    "fig_cm.show()\n",
    "\n",
    "# === 2C) BARRAS COMPARATIVAS DE MÉTRICAS CLAVE ===\n",
    "plot_metrics = ['Accuracy', 'TPR', 'FPR', 'TNR', 'BalancedAcc']\n",
    "tidy = (pd.DataFrame({\n",
    "    'metric': plot_metrics,\n",
    "    'ProPublica': [res_propu['metrics'][m] for m in plot_metrics],\n",
    "    'Clean':      [res_clean['metrics'][m] for m in plot_metrics]\n",
    "})\n",
    ".melt(id_vars='metric', var_name='dataset', value_name='value'))\n",
    "\n",
    "fig_bar = px.bar(tidy, x='metric', y='value', color='dataset', barmode='group',\n",
    "                 title='Comparativa de métricas a umbral ≥5', text=tidy['value'].map(lambda v: f\"{v*100:.1f}%\"))\n",
    "fig_bar.update_traces(textposition='outside')\n",
    "fig_bar.update_yaxes(tickformat=\".0%\")\n",
    "fig_bar = aplicar_estilo(fig_bar, x_title=\"Métrica\", y_title=\"Valor\")\n",
    "fig_bar.show()\n"
   ]
  },
  {
   "cell_type": "markdown",
   "id": "9942bc78",
   "metadata": {},
   "source": [
    "\n",
    "\n",
    "**Lectura de la tabla y las matrices**\n",
    "\n",
    "- **Accuracy**: sube de **65,4%** a **67,0%** en *Clean* (**+1,6 p.p.**).  \n",
    "- **FPR (falsos positivos)**: baja de **32,3%** a **30,0%** (**−2,4 p.p.**).  \n",
    "  > Traducción: por cada **100 no reincidentes**, en *Clean* etiquetamos como “alto riesgo” a **2–3 personas menos**.\n",
    "- **TNR (especificidad)**: sube de **67,7%** a **70,0%** (**+2,4 p.p.**).  \n",
    "- **TPR (recall)**: cae ligeramente de **62,8%** a **61,8%** (**−0,8 p.p.**).  \n",
    "  > Captamos casi lo mismo de quienes sí reinciden, con una pérdida pequeña.\n",
    "- **Precision (PPV)**: baja de **61,4%** a **54,5%** (**−6,8 p.p.**).  \n",
    "  > Entre los etiquetados como “alto riesgo”, la proporción que realmente reincide es menor. Es coherente con que la **prevalencia** de reincidencia sea más baja en *Clean*.\n",
    "- **F1**: baja de **62,0%** a **57,9%** (**−4,1 p.p.**).  \n",
    "- **Balanced Accuracy** (media de TPR y TNR): mejora de **65,1%** a **65,9%** (**+0,8 p.p.**).\n",
    "\n",
    "**Qué nos dice esto**\n",
    "\n",
    "- La **limpieza** logra un clasificador **más conservador con los no reincidentes**: **menos falsos positivos** y **más especificidad**, a costa de una **leve caída** del recall y del F1.  \n",
    "- El **equilibrio global** mejora un poco (**BalancedAcc +0,8 p.p.**), y la **accuracy** también (**+1,6 p.p.**).\n",
    "\n",
    "**Mensaje para decisión**\n",
    "\n",
    "- Si priorizamos **no etiquetar injustamente** a no reincidentes, *Clean* es mejor (FPR ↓, TNR ↑).  \n",
    "- Si priorizamos **detectar más reincidentes**, la pérdida es **pequeña** (TPR −0,8 p.p.), pero existe.  \n",
    "- En conjunto, el comportamiento de *Clean* es **ligeramente más equilibrado** al umbral estándar **≥5**.\n",
    "---\n"
   ]
  },
  {
   "cell_type": "markdown",
   "id": "76018315",
   "metadata": {},
   "source": [
    "<div align=\"center\">\n",
    "<h2>Matriz de confusión y métricas (umbral ≥ 8)</h2>"
   ]
  },
  {
   "cell_type": "code",
   "execution_count": 22,
   "id": "32772182",
   "metadata": {},
   "outputs": [
    {
     "data": {
      "application/vnd.plotly.v1+json": {
       "config": {
        "plotlyServerURL": "https://plot.ly"
       },
       "data": [
        {
         "cells": {
          "align": "left",
          "values": [
           [
            "Accuracy",
            "TPR (Recall)",
            "FPR",
            "TNR (Especificidad)",
            "Precision (PPV)",
            "F1",
            "BalancedAcc"
           ],
           [
            "63.2%",
            "30.8%",
            "10.1%",
            "89.9%",
            "71.3%",
            "43.0%",
            "60.3%"
           ],
           [
            "68.9%",
            "30.4%",
            "8.7%",
            "91.3%",
            "67.0%",
            "41.9%",
            "60.9%"
           ],
           [
            "5.7%",
            "-0.4%",
            "-1.4%",
            "1.4%",
            "-4.3%",
            "-1.2%",
            "0.5%"
           ]
          ]
         },
         "header": {
          "align": "left",
          "fill": {
           "color": "#fc9278"
          },
          "values": [
           "Métrica",
           "ProPublica",
           "Clean",
           "Δ (Clean − ProPublica)"
          ]
         },
         "type": "table"
        }
       ],
       "layout": {
        "template": {
         "data": {
          "bar": [
           {
            "error_x": {
             "color": "#2a3f5f"
            },
            "error_y": {
             "color": "#2a3f5f"
            },
            "marker": {
             "line": {
              "color": "white",
              "width": 0.5
             },
             "pattern": {
              "fillmode": "overlay",
              "size": 10,
              "solidity": 0.2
             }
            },
            "type": "bar"
           }
          ],
          "barpolar": [
           {
            "marker": {
             "line": {
              "color": "white",
              "width": 0.5
             },
             "pattern": {
              "fillmode": "overlay",
              "size": 10,
              "solidity": 0.2
             }
            },
            "type": "barpolar"
           }
          ],
          "carpet": [
           {
            "aaxis": {
             "endlinecolor": "#2a3f5f",
             "gridcolor": "#C8D4E3",
             "linecolor": "#C8D4E3",
             "minorgridcolor": "#C8D4E3",
             "startlinecolor": "#2a3f5f"
            },
            "baxis": {
             "endlinecolor": "#2a3f5f",
             "gridcolor": "#C8D4E3",
             "linecolor": "#C8D4E3",
             "minorgridcolor": "#C8D4E3",
             "startlinecolor": "#2a3f5f"
            },
            "type": "carpet"
           }
          ],
          "choropleth": [
           {
            "colorbar": {
             "outlinewidth": 0,
             "ticks": ""
            },
            "type": "choropleth"
           }
          ],
          "contour": [
           {
            "colorbar": {
             "outlinewidth": 0,
             "ticks": ""
            },
            "colorscale": [
             [
              0,
              "#0d0887"
             ],
             [
              0.1111111111111111,
              "#46039f"
             ],
             [
              0.2222222222222222,
              "#7201a8"
             ],
             [
              0.3333333333333333,
              "#9c179e"
             ],
             [
              0.4444444444444444,
              "#bd3786"
             ],
             [
              0.5555555555555556,
              "#d8576b"
             ],
             [
              0.6666666666666666,
              "#ed7953"
             ],
             [
              0.7777777777777778,
              "#fb9f3a"
             ],
             [
              0.8888888888888888,
              "#fdca26"
             ],
             [
              1,
              "#f0f921"
             ]
            ],
            "type": "contour"
           }
          ],
          "contourcarpet": [
           {
            "colorbar": {
             "outlinewidth": 0,
             "ticks": ""
            },
            "type": "contourcarpet"
           }
          ],
          "heatmap": [
           {
            "colorbar": {
             "outlinewidth": 0,
             "ticks": ""
            },
            "colorscale": [
             [
              0,
              "#0d0887"
             ],
             [
              0.1111111111111111,
              "#46039f"
             ],
             [
              0.2222222222222222,
              "#7201a8"
             ],
             [
              0.3333333333333333,
              "#9c179e"
             ],
             [
              0.4444444444444444,
              "#bd3786"
             ],
             [
              0.5555555555555556,
              "#d8576b"
             ],
             [
              0.6666666666666666,
              "#ed7953"
             ],
             [
              0.7777777777777778,
              "#fb9f3a"
             ],
             [
              0.8888888888888888,
              "#fdca26"
             ],
             [
              1,
              "#f0f921"
             ]
            ],
            "type": "heatmap"
           }
          ],
          "histogram": [
           {
            "marker": {
             "pattern": {
              "fillmode": "overlay",
              "size": 10,
              "solidity": 0.2
             }
            },
            "type": "histogram"
           }
          ],
          "histogram2d": [
           {
            "colorbar": {
             "outlinewidth": 0,
             "ticks": ""
            },
            "colorscale": [
             [
              0,
              "#0d0887"
             ],
             [
              0.1111111111111111,
              "#46039f"
             ],
             [
              0.2222222222222222,
              "#7201a8"
             ],
             [
              0.3333333333333333,
              "#9c179e"
             ],
             [
              0.4444444444444444,
              "#bd3786"
             ],
             [
              0.5555555555555556,
              "#d8576b"
             ],
             [
              0.6666666666666666,
              "#ed7953"
             ],
             [
              0.7777777777777778,
              "#fb9f3a"
             ],
             [
              0.8888888888888888,
              "#fdca26"
             ],
             [
              1,
              "#f0f921"
             ]
            ],
            "type": "histogram2d"
           }
          ],
          "histogram2dcontour": [
           {
            "colorbar": {
             "outlinewidth": 0,
             "ticks": ""
            },
            "colorscale": [
             [
              0,
              "#0d0887"
             ],
             [
              0.1111111111111111,
              "#46039f"
             ],
             [
              0.2222222222222222,
              "#7201a8"
             ],
             [
              0.3333333333333333,
              "#9c179e"
             ],
             [
              0.4444444444444444,
              "#bd3786"
             ],
             [
              0.5555555555555556,
              "#d8576b"
             ],
             [
              0.6666666666666666,
              "#ed7953"
             ],
             [
              0.7777777777777778,
              "#fb9f3a"
             ],
             [
              0.8888888888888888,
              "#fdca26"
             ],
             [
              1,
              "#f0f921"
             ]
            ],
            "type": "histogram2dcontour"
           }
          ],
          "mesh3d": [
           {
            "colorbar": {
             "outlinewidth": 0,
             "ticks": ""
            },
            "type": "mesh3d"
           }
          ],
          "parcoords": [
           {
            "line": {
             "colorbar": {
              "outlinewidth": 0,
              "ticks": ""
             }
            },
            "type": "parcoords"
           }
          ],
          "pie": [
           {
            "automargin": true,
            "type": "pie"
           }
          ],
          "scatter": [
           {
            "fillpattern": {
             "fillmode": "overlay",
             "size": 10,
             "solidity": 0.2
            },
            "type": "scatter"
           }
          ],
          "scatter3d": [
           {
            "line": {
             "colorbar": {
              "outlinewidth": 0,
              "ticks": ""
             }
            },
            "marker": {
             "colorbar": {
              "outlinewidth": 0,
              "ticks": ""
             }
            },
            "type": "scatter3d"
           }
          ],
          "scattercarpet": [
           {
            "marker": {
             "colorbar": {
              "outlinewidth": 0,
              "ticks": ""
             }
            },
            "type": "scattercarpet"
           }
          ],
          "scattergeo": [
           {
            "marker": {
             "colorbar": {
              "outlinewidth": 0,
              "ticks": ""
             }
            },
            "type": "scattergeo"
           }
          ],
          "scattergl": [
           {
            "marker": {
             "colorbar": {
              "outlinewidth": 0,
              "ticks": ""
             }
            },
            "type": "scattergl"
           }
          ],
          "scattermap": [
           {
            "marker": {
             "colorbar": {
              "outlinewidth": 0,
              "ticks": ""
             }
            },
            "type": "scattermap"
           }
          ],
          "scattermapbox": [
           {
            "marker": {
             "colorbar": {
              "outlinewidth": 0,
              "ticks": ""
             }
            },
            "type": "scattermapbox"
           }
          ],
          "scatterpolar": [
           {
            "marker": {
             "colorbar": {
              "outlinewidth": 0,
              "ticks": ""
             }
            },
            "type": "scatterpolar"
           }
          ],
          "scatterpolargl": [
           {
            "marker": {
             "colorbar": {
              "outlinewidth": 0,
              "ticks": ""
             }
            },
            "type": "scatterpolargl"
           }
          ],
          "scatterternary": [
           {
            "marker": {
             "colorbar": {
              "outlinewidth": 0,
              "ticks": ""
             }
            },
            "type": "scatterternary"
           }
          ],
          "surface": [
           {
            "colorbar": {
             "outlinewidth": 0,
             "ticks": ""
            },
            "colorscale": [
             [
              0,
              "#0d0887"
             ],
             [
              0.1111111111111111,
              "#46039f"
             ],
             [
              0.2222222222222222,
              "#7201a8"
             ],
             [
              0.3333333333333333,
              "#9c179e"
             ],
             [
              0.4444444444444444,
              "#bd3786"
             ],
             [
              0.5555555555555556,
              "#d8576b"
             ],
             [
              0.6666666666666666,
              "#ed7953"
             ],
             [
              0.7777777777777778,
              "#fb9f3a"
             ],
             [
              0.8888888888888888,
              "#fdca26"
             ],
             [
              1,
              "#f0f921"
             ]
            ],
            "type": "surface"
           }
          ],
          "table": [
           {
            "cells": {
             "fill": {
              "color": "#EBF0F8"
             },
             "line": {
              "color": "white"
             }
            },
            "header": {
             "fill": {
              "color": "#C8D4E3"
             },
             "line": {
              "color": "white"
             }
            },
            "type": "table"
           }
          ]
         },
         "layout": {
          "annotationdefaults": {
           "arrowcolor": "#2a3f5f",
           "arrowhead": 0,
           "arrowwidth": 1
          },
          "autotypenumbers": "strict",
          "coloraxis": {
           "colorbar": {
            "outlinewidth": 0,
            "ticks": ""
           }
          },
          "colorscale": {
           "diverging": [
            [
             0,
             "#8e0152"
            ],
            [
             0.1,
             "#c51b7d"
            ],
            [
             0.2,
             "#de77ae"
            ],
            [
             0.3,
             "#f1b6da"
            ],
            [
             0.4,
             "#fde0ef"
            ],
            [
             0.5,
             "#f7f7f7"
            ],
            [
             0.6,
             "#e6f5d0"
            ],
            [
             0.7,
             "#b8e186"
            ],
            [
             0.8,
             "#7fbc41"
            ],
            [
             0.9,
             "#4d9221"
            ],
            [
             1,
             "#276419"
            ]
           ],
           "sequential": [
            [
             0,
             "#0d0887"
            ],
            [
             0.1111111111111111,
             "#46039f"
            ],
            [
             0.2222222222222222,
             "#7201a8"
            ],
            [
             0.3333333333333333,
             "#9c179e"
            ],
            [
             0.4444444444444444,
             "#bd3786"
            ],
            [
             0.5555555555555556,
             "#d8576b"
            ],
            [
             0.6666666666666666,
             "#ed7953"
            ],
            [
             0.7777777777777778,
             "#fb9f3a"
            ],
            [
             0.8888888888888888,
             "#fdca26"
            ],
            [
             1,
             "#f0f921"
            ]
           ],
           "sequentialminus": [
            [
             0,
             "#0d0887"
            ],
            [
             0.1111111111111111,
             "#46039f"
            ],
            [
             0.2222222222222222,
             "#7201a8"
            ],
            [
             0.3333333333333333,
             "#9c179e"
            ],
            [
             0.4444444444444444,
             "#bd3786"
            ],
            [
             0.5555555555555556,
             "#d8576b"
            ],
            [
             0.6666666666666666,
             "#ed7953"
            ],
            [
             0.7777777777777778,
             "#fb9f3a"
            ],
            [
             0.8888888888888888,
             "#fdca26"
            ],
            [
             1,
             "#f0f921"
            ]
           ]
          },
          "colorway": [
           "rgb(102,194,165)",
           "rgb(252,141,98)",
           "rgb(141,160,203)",
           "rgb(231,138,195)",
           "rgb(166,216,84)",
           "rgb(255,217,47)",
           "rgb(229,196,148)",
           "rgb(179,179,179)"
          ],
          "font": {
           "color": "#2a3f5f",
           "family": "Arial",
           "size": 11
          },
          "geo": {
           "bgcolor": "white",
           "lakecolor": "white",
           "landcolor": "white",
           "showlakes": true,
           "showland": true,
           "subunitcolor": "#C8D4E3"
          },
          "height": 500,
          "hoverlabel": {
           "align": "left"
          },
          "hovermode": "closest",
          "mapbox": {
           "style": "light"
          },
          "paper_bgcolor": "white",
          "plot_bgcolor": "white",
          "polar": {
           "angularaxis": {
            "gridcolor": "#EBF0F8",
            "linecolor": "#EBF0F8",
            "ticks": ""
           },
           "bgcolor": "white",
           "radialaxis": {
            "gridcolor": "#EBF0F8",
            "linecolor": "#EBF0F8",
            "ticks": ""
           }
          },
          "scene": {
           "xaxis": {
            "backgroundcolor": "white",
            "gridcolor": "#DFE8F3",
            "gridwidth": 2,
            "linecolor": "#EBF0F8",
            "showbackground": true,
            "ticks": "",
            "zerolinecolor": "#EBF0F8"
           },
           "yaxis": {
            "backgroundcolor": "white",
            "gridcolor": "#DFE8F3",
            "gridwidth": 2,
            "linecolor": "#EBF0F8",
            "showbackground": true,
            "ticks": "",
            "zerolinecolor": "#EBF0F8"
           },
           "zaxis": {
            "backgroundcolor": "white",
            "gridcolor": "#DFE8F3",
            "gridwidth": 2,
            "linecolor": "#EBF0F8",
            "showbackground": true,
            "ticks": "",
            "zerolinecolor": "#EBF0F8"
           }
          },
          "shapedefaults": {
           "line": {
            "color": "#2a3f5f"
           }
          },
          "ternary": {
           "aaxis": {
            "gridcolor": "#DFE8F3",
            "linecolor": "#A2B1C6",
            "ticks": ""
           },
           "baxis": {
            "gridcolor": "#DFE8F3",
            "linecolor": "#A2B1C6",
            "ticks": ""
           },
           "bgcolor": "white",
           "caxis": {
            "gridcolor": "#DFE8F3",
            "linecolor": "#A2B1C6",
            "ticks": ""
           }
          },
          "title": {
           "x": 0.05
          },
          "width": 1000,
          "xaxis": {
           "automargin": true,
           "gridcolor": "lightgrey",
           "linecolor": "#EBF0F8",
           "showgrid": true,
           "ticks": "",
           "title": {
            "standoff": 15
           },
           "zerolinecolor": "#EBF0F8",
           "zerolinewidth": 2
          },
          "yaxis": {
           "automargin": true,
           "gridcolor": "lightgrey",
           "linecolor": "#EBF0F8",
           "showgrid": true,
           "ticks": "",
           "title": {
            "standoff": 15
           },
           "zerolinecolor": "#EBF0F8",
           "zerolinewidth": 2
          }
         }
        },
        "title": {
         "text": "Resumen de métricas a umbral ≥8"
        }
       }
      }
     },
     "metadata": {},
     "output_type": "display_data"
    },
    {
     "data": {
      "application/vnd.plotly.v1+json": {
       "config": {
        "plotlyServerURL": "https://plot.ly"
       },
       "data": [
        {
         "colorscale": [
          [
           0,
           "rgb(247,252,240)"
          ],
          [
           0.125,
           "rgb(224,243,219)"
          ],
          [
           0.25,
           "rgb(204,235,197)"
          ],
          [
           0.375,
           "rgb(168,221,181)"
          ],
          [
           0.5,
           "rgb(123,204,196)"
          ],
          [
           0.625,
           "rgb(78,179,211)"
          ],
          [
           0.75,
           "rgb(43,140,190)"
          ],
          [
           0.875,
           "rgb(8,104,172)"
          ],
          [
           1,
           "rgb(8,64,129)"
          ]
         ],
         "hovertemplate": "%{y} / %{x}<br>Casos: %{z}<extra></extra>",
         "showscale": false,
         "text": [
          [
           "1001\n(30.8%)",
           "2250\n(69.2%)"
          ],
          [
           "402\n(10.1%)",
           "3561\n(89.9%)"
          ]
         ],
         "texttemplate": "%{text}",
         "type": "heatmap",
         "x": [
          "Pred: Sí",
          "Pred: No"
         ],
         "xaxis": "x",
         "y": [
          "Real: Sí",
          "Real: No"
         ],
         "yaxis": "y",
         "z": {
          "bdata": "6QPKCJIB6Q0=",
          "dtype": "i2",
          "shape": "2, 2"
         }
        },
        {
         "colorscale": [
          [
           0,
           "rgb(247,252,240)"
          ],
          [
           0.125,
           "rgb(224,243,219)"
          ],
          [
           0.25,
           "rgb(204,235,197)"
          ],
          [
           0.375,
           "rgb(168,221,181)"
          ],
          [
           0.5,
           "rgb(123,204,196)"
          ],
          [
           0.625,
           "rgb(78,179,211)"
          ],
          [
           0.75,
           "rgb(43,140,190)"
          ],
          [
           0.875,
           "rgb(8,104,172)"
          ],
          [
           1,
           "rgb(8,64,129)"
          ]
         ],
         "hovertemplate": "%{y} / %{x}<br>Casos: %{z}<extra></extra>",
         "showscale": false,
         "text": [
          [
           "589\n(30.4%)",
           "1346\n(69.6%)"
          ],
          [
           "290\n(8.7%)",
           "3034\n(91.3%)"
          ]
         ],
         "texttemplate": "%{text}",
         "type": "heatmap",
         "x": [
          "Pred: Sí",
          "Pred: No"
         ],
         "xaxis": "x2",
         "y": [
          "Real: Sí",
          "Real: No"
         ],
         "yaxis": "y2",
         "z": {
          "bdata": "TQJCBSIB2gs=",
          "dtype": "i2",
          "shape": "2, 2"
         }
        }
       ],
       "layout": {
        "annotations": [
         {
          "font": {
           "size": 16
          },
          "showarrow": false,
          "text": "Matriz - ProPublica (N=7214)",
          "x": 0.225,
          "xanchor": "center",
          "xref": "paper",
          "y": 1,
          "yanchor": "bottom",
          "yref": "paper"
         },
         {
          "font": {
           "size": 16
          },
          "showarrow": false,
          "text": "Matriz - Clean (N=5259)",
          "x": 0.775,
          "xanchor": "center",
          "xref": "paper",
          "y": 1,
          "yanchor": "bottom",
          "yref": "paper"
         }
        ],
        "legend": {
         "title": {
          "text": ""
         }
        },
        "margin": {
         "b": 60,
         "l": 70,
         "r": 40,
         "t": 60
        },
        "plot_bgcolor": "rgba(255, 255, 255, 1)",
        "template": {
         "data": {
          "bar": [
           {
            "error_x": {
             "color": "#2a3f5f"
            },
            "error_y": {
             "color": "#2a3f5f"
            },
            "marker": {
             "line": {
              "color": "white",
              "width": 0.5
             },
             "pattern": {
              "fillmode": "overlay",
              "size": 10,
              "solidity": 0.2
             }
            },
            "type": "bar"
           }
          ],
          "barpolar": [
           {
            "marker": {
             "line": {
              "color": "white",
              "width": 0.5
             },
             "pattern": {
              "fillmode": "overlay",
              "size": 10,
              "solidity": 0.2
             }
            },
            "type": "barpolar"
           }
          ],
          "carpet": [
           {
            "aaxis": {
             "endlinecolor": "#2a3f5f",
             "gridcolor": "#C8D4E3",
             "linecolor": "#C8D4E3",
             "minorgridcolor": "#C8D4E3",
             "startlinecolor": "#2a3f5f"
            },
            "baxis": {
             "endlinecolor": "#2a3f5f",
             "gridcolor": "#C8D4E3",
             "linecolor": "#C8D4E3",
             "minorgridcolor": "#C8D4E3",
             "startlinecolor": "#2a3f5f"
            },
            "type": "carpet"
           }
          ],
          "choropleth": [
           {
            "colorbar": {
             "outlinewidth": 0,
             "ticks": ""
            },
            "type": "choropleth"
           }
          ],
          "contour": [
           {
            "colorbar": {
             "outlinewidth": 0,
             "ticks": ""
            },
            "colorscale": [
             [
              0,
              "#0d0887"
             ],
             [
              0.1111111111111111,
              "#46039f"
             ],
             [
              0.2222222222222222,
              "#7201a8"
             ],
             [
              0.3333333333333333,
              "#9c179e"
             ],
             [
              0.4444444444444444,
              "#bd3786"
             ],
             [
              0.5555555555555556,
              "#d8576b"
             ],
             [
              0.6666666666666666,
              "#ed7953"
             ],
             [
              0.7777777777777778,
              "#fb9f3a"
             ],
             [
              0.8888888888888888,
              "#fdca26"
             ],
             [
              1,
              "#f0f921"
             ]
            ],
            "type": "contour"
           }
          ],
          "contourcarpet": [
           {
            "colorbar": {
             "outlinewidth": 0,
             "ticks": ""
            },
            "type": "contourcarpet"
           }
          ],
          "heatmap": [
           {
            "colorbar": {
             "outlinewidth": 0,
             "ticks": ""
            },
            "colorscale": [
             [
              0,
              "#0d0887"
             ],
             [
              0.1111111111111111,
              "#46039f"
             ],
             [
              0.2222222222222222,
              "#7201a8"
             ],
             [
              0.3333333333333333,
              "#9c179e"
             ],
             [
              0.4444444444444444,
              "#bd3786"
             ],
             [
              0.5555555555555556,
              "#d8576b"
             ],
             [
              0.6666666666666666,
              "#ed7953"
             ],
             [
              0.7777777777777778,
              "#fb9f3a"
             ],
             [
              0.8888888888888888,
              "#fdca26"
             ],
             [
              1,
              "#f0f921"
             ]
            ],
            "type": "heatmap"
           }
          ],
          "histogram": [
           {
            "marker": {
             "pattern": {
              "fillmode": "overlay",
              "size": 10,
              "solidity": 0.2
             }
            },
            "type": "histogram"
           }
          ],
          "histogram2d": [
           {
            "colorbar": {
             "outlinewidth": 0,
             "ticks": ""
            },
            "colorscale": [
             [
              0,
              "#0d0887"
             ],
             [
              0.1111111111111111,
              "#46039f"
             ],
             [
              0.2222222222222222,
              "#7201a8"
             ],
             [
              0.3333333333333333,
              "#9c179e"
             ],
             [
              0.4444444444444444,
              "#bd3786"
             ],
             [
              0.5555555555555556,
              "#d8576b"
             ],
             [
              0.6666666666666666,
              "#ed7953"
             ],
             [
              0.7777777777777778,
              "#fb9f3a"
             ],
             [
              0.8888888888888888,
              "#fdca26"
             ],
             [
              1,
              "#f0f921"
             ]
            ],
            "type": "histogram2d"
           }
          ],
          "histogram2dcontour": [
           {
            "colorbar": {
             "outlinewidth": 0,
             "ticks": ""
            },
            "colorscale": [
             [
              0,
              "#0d0887"
             ],
             [
              0.1111111111111111,
              "#46039f"
             ],
             [
              0.2222222222222222,
              "#7201a8"
             ],
             [
              0.3333333333333333,
              "#9c179e"
             ],
             [
              0.4444444444444444,
              "#bd3786"
             ],
             [
              0.5555555555555556,
              "#d8576b"
             ],
             [
              0.6666666666666666,
              "#ed7953"
             ],
             [
              0.7777777777777778,
              "#fb9f3a"
             ],
             [
              0.8888888888888888,
              "#fdca26"
             ],
             [
              1,
              "#f0f921"
             ]
            ],
            "type": "histogram2dcontour"
           }
          ],
          "mesh3d": [
           {
            "colorbar": {
             "outlinewidth": 0,
             "ticks": ""
            },
            "type": "mesh3d"
           }
          ],
          "parcoords": [
           {
            "line": {
             "colorbar": {
              "outlinewidth": 0,
              "ticks": ""
             }
            },
            "type": "parcoords"
           }
          ],
          "pie": [
           {
            "automargin": true,
            "type": "pie"
           }
          ],
          "scatter": [
           {
            "fillpattern": {
             "fillmode": "overlay",
             "size": 10,
             "solidity": 0.2
            },
            "type": "scatter"
           }
          ],
          "scatter3d": [
           {
            "line": {
             "colorbar": {
              "outlinewidth": 0,
              "ticks": ""
             }
            },
            "marker": {
             "colorbar": {
              "outlinewidth": 0,
              "ticks": ""
             }
            },
            "type": "scatter3d"
           }
          ],
          "scattercarpet": [
           {
            "marker": {
             "colorbar": {
              "outlinewidth": 0,
              "ticks": ""
             }
            },
            "type": "scattercarpet"
           }
          ],
          "scattergeo": [
           {
            "marker": {
             "colorbar": {
              "outlinewidth": 0,
              "ticks": ""
             }
            },
            "type": "scattergeo"
           }
          ],
          "scattergl": [
           {
            "marker": {
             "colorbar": {
              "outlinewidth": 0,
              "ticks": ""
             }
            },
            "type": "scattergl"
           }
          ],
          "scattermap": [
           {
            "marker": {
             "colorbar": {
              "outlinewidth": 0,
              "ticks": ""
             }
            },
            "type": "scattermap"
           }
          ],
          "scattermapbox": [
           {
            "marker": {
             "colorbar": {
              "outlinewidth": 0,
              "ticks": ""
             }
            },
            "type": "scattermapbox"
           }
          ],
          "scatterpolar": [
           {
            "marker": {
             "colorbar": {
              "outlinewidth": 0,
              "ticks": ""
             }
            },
            "type": "scatterpolar"
           }
          ],
          "scatterpolargl": [
           {
            "marker": {
             "colorbar": {
              "outlinewidth": 0,
              "ticks": ""
             }
            },
            "type": "scatterpolargl"
           }
          ],
          "scatterternary": [
           {
            "marker": {
             "colorbar": {
              "outlinewidth": 0,
              "ticks": ""
             }
            },
            "type": "scatterternary"
           }
          ],
          "surface": [
           {
            "colorbar": {
             "outlinewidth": 0,
             "ticks": ""
            },
            "colorscale": [
             [
              0,
              "#0d0887"
             ],
             [
              0.1111111111111111,
              "#46039f"
             ],
             [
              0.2222222222222222,
              "#7201a8"
             ],
             [
              0.3333333333333333,
              "#9c179e"
             ],
             [
              0.4444444444444444,
              "#bd3786"
             ],
             [
              0.5555555555555556,
              "#d8576b"
             ],
             [
              0.6666666666666666,
              "#ed7953"
             ],
             [
              0.7777777777777778,
              "#fb9f3a"
             ],
             [
              0.8888888888888888,
              "#fdca26"
             ],
             [
              1,
              "#f0f921"
             ]
            ],
            "type": "surface"
           }
          ],
          "table": [
           {
            "cells": {
             "fill": {
              "color": "#EBF0F8"
             },
             "line": {
              "color": "white"
             }
            },
            "header": {
             "fill": {
              "color": "#C8D4E3"
             },
             "line": {
              "color": "white"
             }
            },
            "type": "table"
           }
          ]
         },
         "layout": {
          "annotationdefaults": {
           "arrowcolor": "#2a3f5f",
           "arrowhead": 0,
           "arrowwidth": 1
          },
          "autotypenumbers": "strict",
          "coloraxis": {
           "colorbar": {
            "outlinewidth": 0,
            "ticks": ""
           }
          },
          "colorscale": {
           "diverging": [
            [
             0,
             "#8e0152"
            ],
            [
             0.1,
             "#c51b7d"
            ],
            [
             0.2,
             "#de77ae"
            ],
            [
             0.3,
             "#f1b6da"
            ],
            [
             0.4,
             "#fde0ef"
            ],
            [
             0.5,
             "#f7f7f7"
            ],
            [
             0.6,
             "#e6f5d0"
            ],
            [
             0.7,
             "#b8e186"
            ],
            [
             0.8,
             "#7fbc41"
            ],
            [
             0.9,
             "#4d9221"
            ],
            [
             1,
             "#276419"
            ]
           ],
           "sequential": [
            [
             0,
             "#0d0887"
            ],
            [
             0.1111111111111111,
             "#46039f"
            ],
            [
             0.2222222222222222,
             "#7201a8"
            ],
            [
             0.3333333333333333,
             "#9c179e"
            ],
            [
             0.4444444444444444,
             "#bd3786"
            ],
            [
             0.5555555555555556,
             "#d8576b"
            ],
            [
             0.6666666666666666,
             "#ed7953"
            ],
            [
             0.7777777777777778,
             "#fb9f3a"
            ],
            [
             0.8888888888888888,
             "#fdca26"
            ],
            [
             1,
             "#f0f921"
            ]
           ],
           "sequentialminus": [
            [
             0,
             "#0d0887"
            ],
            [
             0.1111111111111111,
             "#46039f"
            ],
            [
             0.2222222222222222,
             "#7201a8"
            ],
            [
             0.3333333333333333,
             "#9c179e"
            ],
            [
             0.4444444444444444,
             "#bd3786"
            ],
            [
             0.5555555555555556,
             "#d8576b"
            ],
            [
             0.6666666666666666,
             "#ed7953"
            ],
            [
             0.7777777777777778,
             "#fb9f3a"
            ],
            [
             0.8888888888888888,
             "#fdca26"
            ],
            [
             1,
             "#f0f921"
            ]
           ]
          },
          "colorway": [
           "rgb(102,194,165)",
           "rgb(252,141,98)",
           "rgb(141,160,203)",
           "rgb(231,138,195)",
           "rgb(166,216,84)",
           "rgb(255,217,47)",
           "rgb(229,196,148)",
           "rgb(179,179,179)"
          ],
          "font": {
           "color": "#2a3f5f",
           "family": "Arial",
           "size": 11
          },
          "geo": {
           "bgcolor": "white",
           "lakecolor": "white",
           "landcolor": "white",
           "showlakes": true,
           "showland": true,
           "subunitcolor": "#C8D4E3"
          },
          "height": 500,
          "hoverlabel": {
           "align": "left"
          },
          "hovermode": "closest",
          "mapbox": {
           "style": "light"
          },
          "paper_bgcolor": "white",
          "plot_bgcolor": "white",
          "polar": {
           "angularaxis": {
            "gridcolor": "#EBF0F8",
            "linecolor": "#EBF0F8",
            "ticks": ""
           },
           "bgcolor": "white",
           "radialaxis": {
            "gridcolor": "#EBF0F8",
            "linecolor": "#EBF0F8",
            "ticks": ""
           }
          },
          "scene": {
           "xaxis": {
            "backgroundcolor": "white",
            "gridcolor": "#DFE8F3",
            "gridwidth": 2,
            "linecolor": "#EBF0F8",
            "showbackground": true,
            "ticks": "",
            "zerolinecolor": "#EBF0F8"
           },
           "yaxis": {
            "backgroundcolor": "white",
            "gridcolor": "#DFE8F3",
            "gridwidth": 2,
            "linecolor": "#EBF0F8",
            "showbackground": true,
            "ticks": "",
            "zerolinecolor": "#EBF0F8"
           },
           "zaxis": {
            "backgroundcolor": "white",
            "gridcolor": "#DFE8F3",
            "gridwidth": 2,
            "linecolor": "#EBF0F8",
            "showbackground": true,
            "ticks": "",
            "zerolinecolor": "#EBF0F8"
           }
          },
          "shapedefaults": {
           "line": {
            "color": "#2a3f5f"
           }
          },
          "ternary": {
           "aaxis": {
            "gridcolor": "#DFE8F3",
            "linecolor": "#A2B1C6",
            "ticks": ""
           },
           "baxis": {
            "gridcolor": "#DFE8F3",
            "linecolor": "#A2B1C6",
            "ticks": ""
           },
           "bgcolor": "white",
           "caxis": {
            "gridcolor": "#DFE8F3",
            "linecolor": "#A2B1C6",
            "ticks": ""
           }
          },
          "title": {
           "x": 0.05
          },
          "width": 1000,
          "xaxis": {
           "automargin": true,
           "gridcolor": "lightgrey",
           "linecolor": "#EBF0F8",
           "showgrid": true,
           "ticks": "",
           "title": {
            "standoff": 15
           },
           "zerolinecolor": "#EBF0F8",
           "zerolinewidth": 2
          },
          "yaxis": {
           "automargin": true,
           "gridcolor": "lightgrey",
           "linecolor": "#EBF0F8",
           "showgrid": true,
           "ticks": "",
           "title": {
            "standoff": 15
           },
           "zerolinecolor": "#EBF0F8",
           "zerolinewidth": 2
          }
         }
        },
        "title": {
         "text": "Matrices de confusión a umbral ≥8"
        },
        "xaxis": {
         "anchor": "y",
         "domain": [
          0,
          0.45
         ],
         "gridcolor": "lightgrey",
         "showgrid": false
        },
        "xaxis2": {
         "anchor": "y2",
         "domain": [
          0.55,
          1
         ],
         "showgrid": false
        },
        "yaxis": {
         "anchor": "x",
         "domain": [
          0,
          1
         ],
         "gridcolor": "lightgrey",
         "showgrid": false
        },
        "yaxis2": {
         "anchor": "x2",
         "domain": [
          0,
          1
         ],
         "showgrid": false
        }
       }
      }
     },
     "metadata": {},
     "output_type": "display_data"
    },
    {
     "data": {
      "application/vnd.plotly.v1+json": {
       "config": {
        "plotlyServerURL": "https://plot.ly"
       },
       "data": [
        {
         "alignmentgroup": "True",
         "hovertemplate": "dataset=ProPublica<br>metric=%{x}<br>value=%{y}<br>text=%{text}<extra></extra>",
         "legendgroup": "ProPublica",
         "marker": {
          "color": "rgb(102,194,165)",
          "pattern": {
           "shape": ""
          }
         },
         "name": "ProPublica",
         "offsetgroup": "ProPublica",
         "orientation": "v",
         "showlegend": true,
         "text": [
          "63.2%",
          "30.8%",
          "10.1%",
          "89.9%",
          "60.3%"
         ],
         "textposition": "outside",
         "type": "bar",
         "x": [
          "Accuracy",
          "TPR",
          "FPR",
          "TNR",
          "BalancedAcc"
         ],
         "xaxis": "x",
         "y": {
          "bdata": "msMkFng85D9a3WdDuLTTP48gmFfc97k/7vsMdQTB7D9OdWBLsE3jPw==",
          "dtype": "f8"
         },
         "yaxis": "y"
        },
        {
         "alignmentgroup": "True",
         "hovertemplate": "dataset=Clean<br>metric=%{x}<br>value=%{y}<br>text=%{text}<extra></extra>",
         "legendgroup": "Clean",
         "marker": {
          "color": "rgb(252,141,98)",
          "pattern": {
           "shape": ""
          }
         },
         "name": "Clean",
         "offsetgroup": "Clean",
         "orientation": "v",
         "showlegend": true,
         "text": [
          "68.9%",
          "30.4%",
          "8.7%",
          "91.3%",
          "60.9%"
         ],
         "textposition": "outside",
         "type": "bar",
         "x": [
          "Accuracy",
          "TPR",
          "FPR",
          "TNR",
          "BalancedAcc"
         ],
         "xaxis": "x",
         "y": {
          "bdata": "QPyG4ZUL5j8SCI3KK3vTP/yyhTKkVbY/oUmveUs17T/V5nqvcHnjPw==",
          "dtype": "f8"
         },
         "yaxis": "y"
        }
       ],
       "layout": {
        "barmode": "group",
        "legend": {
         "title": {
          "text": ""
         },
         "tracegroupgap": 0
        },
        "margin": {
         "b": 60,
         "l": 70,
         "r": 40,
         "t": 60
        },
        "plot_bgcolor": "rgba(255, 255, 255, 1)",
        "template": {
         "data": {
          "bar": [
           {
            "error_x": {
             "color": "#2a3f5f"
            },
            "error_y": {
             "color": "#2a3f5f"
            },
            "marker": {
             "line": {
              "color": "white",
              "width": 0.5
             },
             "pattern": {
              "fillmode": "overlay",
              "size": 10,
              "solidity": 0.2
             }
            },
            "type": "bar"
           }
          ],
          "barpolar": [
           {
            "marker": {
             "line": {
              "color": "white",
              "width": 0.5
             },
             "pattern": {
              "fillmode": "overlay",
              "size": 10,
              "solidity": 0.2
             }
            },
            "type": "barpolar"
           }
          ],
          "carpet": [
           {
            "aaxis": {
             "endlinecolor": "#2a3f5f",
             "gridcolor": "#C8D4E3",
             "linecolor": "#C8D4E3",
             "minorgridcolor": "#C8D4E3",
             "startlinecolor": "#2a3f5f"
            },
            "baxis": {
             "endlinecolor": "#2a3f5f",
             "gridcolor": "#C8D4E3",
             "linecolor": "#C8D4E3",
             "minorgridcolor": "#C8D4E3",
             "startlinecolor": "#2a3f5f"
            },
            "type": "carpet"
           }
          ],
          "choropleth": [
           {
            "colorbar": {
             "outlinewidth": 0,
             "ticks": ""
            },
            "type": "choropleth"
           }
          ],
          "contour": [
           {
            "colorbar": {
             "outlinewidth": 0,
             "ticks": ""
            },
            "colorscale": [
             [
              0,
              "#0d0887"
             ],
             [
              0.1111111111111111,
              "#46039f"
             ],
             [
              0.2222222222222222,
              "#7201a8"
             ],
             [
              0.3333333333333333,
              "#9c179e"
             ],
             [
              0.4444444444444444,
              "#bd3786"
             ],
             [
              0.5555555555555556,
              "#d8576b"
             ],
             [
              0.6666666666666666,
              "#ed7953"
             ],
             [
              0.7777777777777778,
              "#fb9f3a"
             ],
             [
              0.8888888888888888,
              "#fdca26"
             ],
             [
              1,
              "#f0f921"
             ]
            ],
            "type": "contour"
           }
          ],
          "contourcarpet": [
           {
            "colorbar": {
             "outlinewidth": 0,
             "ticks": ""
            },
            "type": "contourcarpet"
           }
          ],
          "heatmap": [
           {
            "colorbar": {
             "outlinewidth": 0,
             "ticks": ""
            },
            "colorscale": [
             [
              0,
              "#0d0887"
             ],
             [
              0.1111111111111111,
              "#46039f"
             ],
             [
              0.2222222222222222,
              "#7201a8"
             ],
             [
              0.3333333333333333,
              "#9c179e"
             ],
             [
              0.4444444444444444,
              "#bd3786"
             ],
             [
              0.5555555555555556,
              "#d8576b"
             ],
             [
              0.6666666666666666,
              "#ed7953"
             ],
             [
              0.7777777777777778,
              "#fb9f3a"
             ],
             [
              0.8888888888888888,
              "#fdca26"
             ],
             [
              1,
              "#f0f921"
             ]
            ],
            "type": "heatmap"
           }
          ],
          "histogram": [
           {
            "marker": {
             "pattern": {
              "fillmode": "overlay",
              "size": 10,
              "solidity": 0.2
             }
            },
            "type": "histogram"
           }
          ],
          "histogram2d": [
           {
            "colorbar": {
             "outlinewidth": 0,
             "ticks": ""
            },
            "colorscale": [
             [
              0,
              "#0d0887"
             ],
             [
              0.1111111111111111,
              "#46039f"
             ],
             [
              0.2222222222222222,
              "#7201a8"
             ],
             [
              0.3333333333333333,
              "#9c179e"
             ],
             [
              0.4444444444444444,
              "#bd3786"
             ],
             [
              0.5555555555555556,
              "#d8576b"
             ],
             [
              0.6666666666666666,
              "#ed7953"
             ],
             [
              0.7777777777777778,
              "#fb9f3a"
             ],
             [
              0.8888888888888888,
              "#fdca26"
             ],
             [
              1,
              "#f0f921"
             ]
            ],
            "type": "histogram2d"
           }
          ],
          "histogram2dcontour": [
           {
            "colorbar": {
             "outlinewidth": 0,
             "ticks": ""
            },
            "colorscale": [
             [
              0,
              "#0d0887"
             ],
             [
              0.1111111111111111,
              "#46039f"
             ],
             [
              0.2222222222222222,
              "#7201a8"
             ],
             [
              0.3333333333333333,
              "#9c179e"
             ],
             [
              0.4444444444444444,
              "#bd3786"
             ],
             [
              0.5555555555555556,
              "#d8576b"
             ],
             [
              0.6666666666666666,
              "#ed7953"
             ],
             [
              0.7777777777777778,
              "#fb9f3a"
             ],
             [
              0.8888888888888888,
              "#fdca26"
             ],
             [
              1,
              "#f0f921"
             ]
            ],
            "type": "histogram2dcontour"
           }
          ],
          "mesh3d": [
           {
            "colorbar": {
             "outlinewidth": 0,
             "ticks": ""
            },
            "type": "mesh3d"
           }
          ],
          "parcoords": [
           {
            "line": {
             "colorbar": {
              "outlinewidth": 0,
              "ticks": ""
             }
            },
            "type": "parcoords"
           }
          ],
          "pie": [
           {
            "automargin": true,
            "type": "pie"
           }
          ],
          "scatter": [
           {
            "fillpattern": {
             "fillmode": "overlay",
             "size": 10,
             "solidity": 0.2
            },
            "type": "scatter"
           }
          ],
          "scatter3d": [
           {
            "line": {
             "colorbar": {
              "outlinewidth": 0,
              "ticks": ""
             }
            },
            "marker": {
             "colorbar": {
              "outlinewidth": 0,
              "ticks": ""
             }
            },
            "type": "scatter3d"
           }
          ],
          "scattercarpet": [
           {
            "marker": {
             "colorbar": {
              "outlinewidth": 0,
              "ticks": ""
             }
            },
            "type": "scattercarpet"
           }
          ],
          "scattergeo": [
           {
            "marker": {
             "colorbar": {
              "outlinewidth": 0,
              "ticks": ""
             }
            },
            "type": "scattergeo"
           }
          ],
          "scattergl": [
           {
            "marker": {
             "colorbar": {
              "outlinewidth": 0,
              "ticks": ""
             }
            },
            "type": "scattergl"
           }
          ],
          "scattermap": [
           {
            "marker": {
             "colorbar": {
              "outlinewidth": 0,
              "ticks": ""
             }
            },
            "type": "scattermap"
           }
          ],
          "scattermapbox": [
           {
            "marker": {
             "colorbar": {
              "outlinewidth": 0,
              "ticks": ""
             }
            },
            "type": "scattermapbox"
           }
          ],
          "scatterpolar": [
           {
            "marker": {
             "colorbar": {
              "outlinewidth": 0,
              "ticks": ""
             }
            },
            "type": "scatterpolar"
           }
          ],
          "scatterpolargl": [
           {
            "marker": {
             "colorbar": {
              "outlinewidth": 0,
              "ticks": ""
             }
            },
            "type": "scatterpolargl"
           }
          ],
          "scatterternary": [
           {
            "marker": {
             "colorbar": {
              "outlinewidth": 0,
              "ticks": ""
             }
            },
            "type": "scatterternary"
           }
          ],
          "surface": [
           {
            "colorbar": {
             "outlinewidth": 0,
             "ticks": ""
            },
            "colorscale": [
             [
              0,
              "#0d0887"
             ],
             [
              0.1111111111111111,
              "#46039f"
             ],
             [
              0.2222222222222222,
              "#7201a8"
             ],
             [
              0.3333333333333333,
              "#9c179e"
             ],
             [
              0.4444444444444444,
              "#bd3786"
             ],
             [
              0.5555555555555556,
              "#d8576b"
             ],
             [
              0.6666666666666666,
              "#ed7953"
             ],
             [
              0.7777777777777778,
              "#fb9f3a"
             ],
             [
              0.8888888888888888,
              "#fdca26"
             ],
             [
              1,
              "#f0f921"
             ]
            ],
            "type": "surface"
           }
          ],
          "table": [
           {
            "cells": {
             "fill": {
              "color": "#EBF0F8"
             },
             "line": {
              "color": "white"
             }
            },
            "header": {
             "fill": {
              "color": "#C8D4E3"
             },
             "line": {
              "color": "white"
             }
            },
            "type": "table"
           }
          ]
         },
         "layout": {
          "annotationdefaults": {
           "arrowcolor": "#2a3f5f",
           "arrowhead": 0,
           "arrowwidth": 1
          },
          "autotypenumbers": "strict",
          "coloraxis": {
           "colorbar": {
            "outlinewidth": 0,
            "ticks": ""
           }
          },
          "colorscale": {
           "diverging": [
            [
             0,
             "#8e0152"
            ],
            [
             0.1,
             "#c51b7d"
            ],
            [
             0.2,
             "#de77ae"
            ],
            [
             0.3,
             "#f1b6da"
            ],
            [
             0.4,
             "#fde0ef"
            ],
            [
             0.5,
             "#f7f7f7"
            ],
            [
             0.6,
             "#e6f5d0"
            ],
            [
             0.7,
             "#b8e186"
            ],
            [
             0.8,
             "#7fbc41"
            ],
            [
             0.9,
             "#4d9221"
            ],
            [
             1,
             "#276419"
            ]
           ],
           "sequential": [
            [
             0,
             "#0d0887"
            ],
            [
             0.1111111111111111,
             "#46039f"
            ],
            [
             0.2222222222222222,
             "#7201a8"
            ],
            [
             0.3333333333333333,
             "#9c179e"
            ],
            [
             0.4444444444444444,
             "#bd3786"
            ],
            [
             0.5555555555555556,
             "#d8576b"
            ],
            [
             0.6666666666666666,
             "#ed7953"
            ],
            [
             0.7777777777777778,
             "#fb9f3a"
            ],
            [
             0.8888888888888888,
             "#fdca26"
            ],
            [
             1,
             "#f0f921"
            ]
           ],
           "sequentialminus": [
            [
             0,
             "#0d0887"
            ],
            [
             0.1111111111111111,
             "#46039f"
            ],
            [
             0.2222222222222222,
             "#7201a8"
            ],
            [
             0.3333333333333333,
             "#9c179e"
            ],
            [
             0.4444444444444444,
             "#bd3786"
            ],
            [
             0.5555555555555556,
             "#d8576b"
            ],
            [
             0.6666666666666666,
             "#ed7953"
            ],
            [
             0.7777777777777778,
             "#fb9f3a"
            ],
            [
             0.8888888888888888,
             "#fdca26"
            ],
            [
             1,
             "#f0f921"
            ]
           ]
          },
          "colorway": [
           "rgb(102,194,165)",
           "rgb(252,141,98)",
           "rgb(141,160,203)",
           "rgb(231,138,195)",
           "rgb(166,216,84)",
           "rgb(255,217,47)",
           "rgb(229,196,148)",
           "rgb(179,179,179)"
          ],
          "font": {
           "color": "#2a3f5f",
           "family": "Arial",
           "size": 11
          },
          "geo": {
           "bgcolor": "white",
           "lakecolor": "white",
           "landcolor": "white",
           "showlakes": true,
           "showland": true,
           "subunitcolor": "#C8D4E3"
          },
          "height": 500,
          "hoverlabel": {
           "align": "left"
          },
          "hovermode": "closest",
          "mapbox": {
           "style": "light"
          },
          "paper_bgcolor": "white",
          "plot_bgcolor": "white",
          "polar": {
           "angularaxis": {
            "gridcolor": "#EBF0F8",
            "linecolor": "#EBF0F8",
            "ticks": ""
           },
           "bgcolor": "white",
           "radialaxis": {
            "gridcolor": "#EBF0F8",
            "linecolor": "#EBF0F8",
            "ticks": ""
           }
          },
          "scene": {
           "xaxis": {
            "backgroundcolor": "white",
            "gridcolor": "#DFE8F3",
            "gridwidth": 2,
            "linecolor": "#EBF0F8",
            "showbackground": true,
            "ticks": "",
            "zerolinecolor": "#EBF0F8"
           },
           "yaxis": {
            "backgroundcolor": "white",
            "gridcolor": "#DFE8F3",
            "gridwidth": 2,
            "linecolor": "#EBF0F8",
            "showbackground": true,
            "ticks": "",
            "zerolinecolor": "#EBF0F8"
           },
           "zaxis": {
            "backgroundcolor": "white",
            "gridcolor": "#DFE8F3",
            "gridwidth": 2,
            "linecolor": "#EBF0F8",
            "showbackground": true,
            "ticks": "",
            "zerolinecolor": "#EBF0F8"
           }
          },
          "shapedefaults": {
           "line": {
            "color": "#2a3f5f"
           }
          },
          "ternary": {
           "aaxis": {
            "gridcolor": "#DFE8F3",
            "linecolor": "#A2B1C6",
            "ticks": ""
           },
           "baxis": {
            "gridcolor": "#DFE8F3",
            "linecolor": "#A2B1C6",
            "ticks": ""
           },
           "bgcolor": "white",
           "caxis": {
            "gridcolor": "#DFE8F3",
            "linecolor": "#A2B1C6",
            "ticks": ""
           }
          },
          "title": {
           "x": 0.05
          },
          "width": 1000,
          "xaxis": {
           "automargin": true,
           "gridcolor": "lightgrey",
           "linecolor": "#EBF0F8",
           "showgrid": true,
           "ticks": "",
           "title": {
            "standoff": 15
           },
           "zerolinecolor": "#EBF0F8",
           "zerolinewidth": 2
          },
          "yaxis": {
           "automargin": true,
           "gridcolor": "lightgrey",
           "linecolor": "#EBF0F8",
           "showgrid": true,
           "ticks": "",
           "title": {
            "standoff": 15
           },
           "zerolinecolor": "#EBF0F8",
           "zerolinewidth": 2
          }
         }
        },
        "title": {
         "text": "Comparativa de métricas a umbral ≥8"
        },
        "xaxis": {
         "anchor": "y",
         "domain": [
          0,
          1
         ],
         "gridcolor": "lightgrey",
         "showgrid": true,
         "title": {
          "text": "Métrica"
         }
        },
        "yaxis": {
         "anchor": "x",
         "domain": [
          0,
          1
         ],
         "gridcolor": "lightgrey",
         "showgrid": true,
         "tickformat": ".0%",
         "title": {
          "text": "Valor"
         }
        }
       }
      }
     },
     "metadata": {},
     "output_type": "display_data"
    }
   ],
   "source": [
    "# === 1) Calcular métricas y CMs para ambos datasets (umbral ≥5) ===\n",
    "res_propu = get_cm_and_metrics(df_twoyears,       threshold=8, label='ProPublica')\n",
    "res_clean = get_cm_and_metrics(df_twoyears_clean, threshold=8, label='Clean')\n",
    "\n",
    "# === 2A) TABLA-RESUMEN DE MÉTRICAS (profesional) ===\n",
    "def format_pct(x): \n",
    "    return f\"{100*x:.1f}%\" if pd.notnull(x) else \"—\"\n",
    "\n",
    "summary = pd.DataFrame({\n",
    "    'Métrica': ['Accuracy', 'TPR (Recall)', 'FPR', 'TNR (Especificidad)', 'Precision (PPV)', 'F1', 'BalancedAcc'],\n",
    "    'ProPublica': [res_propu['metrics'][k] for k in ['Accuracy','TPR','FPR','TNR','Precision','F1','BalancedAcc']],\n",
    "    'Clean':      [res_clean['metrics'][k] for k in ['Accuracy','TPR','FPR','TNR','Precision','F1','BalancedAcc']],\n",
    "})\n",
    "summary['Δ (Clean − ProPublica)'] = summary['Clean'] - summary['ProPublica']\n",
    "\n",
    "# Formateo a texto para Table\n",
    "summary_fmt = summary.copy()\n",
    "for col in ['ProPublica','Clean','Δ (Clean − ProPublica)']:\n",
    "    summary_fmt[col] = summary_fmt[col].map(format_pct)\n",
    "\n",
    "table_fig = go.Figure(data=[go.Table(\n",
    "    header=dict(values=list(summary_fmt.columns), fill_color=\"#fc9278\", align='left'),\n",
    "    cells=dict(values=[summary_fmt[c] for c in summary_fmt.columns], align='left')\n",
    ")])\n",
    "table_fig.update_layout(title=\"Resumen de métricas a umbral ≥8\")\n",
    "table_fig.show()\n",
    "\n",
    "# === 2B) HEATMAPS DE MATRIZ DE CONFUSIÓN (lado a lado) ===\n",
    "# Texto por celda: cuenta y porcentaje fila\n",
    "def cm_text(cm):\n",
    "    row_sums = cm.sum(axis=1, keepdims=True)\n",
    "    pct = np.divide(cm, np.where(row_sums==0, 1, row_sums), where=row_sums!=0)\n",
    "    return np.array([[f\"{cm[0,0]}\\n({pct[0,0]*100:.1f}%)\", f\"{cm[0,1]}\\n({pct[0,1]*100:.1f}%)\"],\n",
    "                     [f\"{cm[1,0]}\\n({pct[1,0]*100:.1f}%)\", f\"{cm[1,1]}\\n({pct[1,1]*100:.1f}%)\"]])\n",
    "\n",
    "labels_x = ['Pred: Sí', 'Pred: No']\n",
    "labels_y = ['Real: Sí', 'Real: No']\n",
    "\n",
    "fig_cm = make_subplots(rows=1, cols=2, subplot_titles=(f\"Matriz - ProPublica (N={res_propu['support']['N']})\",\n",
    "                                                       f\"Matriz - Clean (N={res_clean['support']['N']})\"))\n",
    "\n",
    "fig_cm.add_trace(go.Heatmap(\n",
    "    z=res_propu['cm'], x=labels_x, y=labels_y, colorscale=\"GnBu\", showscale=False,\n",
    "    text=cm_text(res_propu['cm']), texttemplate=\"%{text}\", hovertemplate=\"%{y} / %{x}<br>Casos: %{z}<extra></extra>\"\n",
    "), row=1, col=1)\n",
    "\n",
    "fig_cm.add_trace(go.Heatmap(\n",
    "    z=res_clean['cm'], x=labels_x, y=labels_y, colorscale='GnBu', showscale=False,\n",
    "    text=cm_text(res_clean['cm']), texttemplate=\"%{text}\", hovertemplate=\"%{y} / %{x}<br>Casos: %{z}<extra></extra>\"\n",
    "), row=1, col=2)\n",
    "\n",
    "aplicar_estilo(fig_cm, legend_title='')\n",
    "fig_cm.update_xaxes(showgrid=False)\n",
    "fig_cm.update_yaxes(showgrid=False)\n",
    "fig_cm.update_layout(title=\"Matrices de confusión a umbral ≥8\")\n",
    "fig_cm.show()\n",
    "\n",
    "# === 2C) BARRAS COMPARATIVAS DE MÉTRICAS CLAVE ===\n",
    "plot_metrics = ['Accuracy', 'TPR', 'FPR', 'TNR', 'BalancedAcc']\n",
    "tidy = (pd.DataFrame({\n",
    "    'metric': plot_metrics,\n",
    "    'ProPublica': [res_propu['metrics'][m] for m in plot_metrics],\n",
    "    'Clean':      [res_clean['metrics'][m] for m in plot_metrics]\n",
    "})\n",
    ".melt(id_vars='metric', var_name='dataset', value_name='value'))\n",
    "\n",
    "fig_bar = px.bar(tidy, x='metric', y='value', color='dataset', barmode='group',\n",
    "                 title='Comparativa de métricas a umbral ≥8', text=tidy['value'].map(lambda v: f\"{v*100:.1f}%\"))\n",
    "fig_bar.update_traces(textposition='outside')\n",
    "fig_bar.update_yaxes(tickformat=\".0%\")\n",
    "fig_bar = aplicar_estilo(fig_bar, x_title=\"Métrica\", y_title=\"Valor\")\n",
    "fig_bar.show()"
   ]
  },
  {
   "cell_type": "markdown",
   "id": "620384ce",
   "metadata": {},
   "source": [
    "\n",
    "**Qué cambia al pasar de ≥5 → ≥8 (dentro de cada dataset)**  \n",
    "- **FPR** cae en seco (ProPublica **32,3%→10,1%**, Clean **30,0%→8,7%**) ⇒ **muchos menos falsos positivos**.  \n",
    "- **TPR (recall)** también cae fuerte (ProPublica **62,8%→30,8%**, Clean **61,8%→30,4%**) ⇒ **se nos escapan más** verdaderos positivos.  \n",
    "- **Precision (PPV)** sube (ProPublica **61,4%→71,3%**, Clean **54,5%→67,0%**) ⇒ entre los marcados “alto riesgo” hay **más** que realmente reinciden.  \n",
    "- **BalancedAcc** baja (ProPublica **65,1%→60,3%**, Clean **65,9%→60,9%**) por la caída del recall.  \n",
    "- **Accuracy**: baja en ProPublica (**65,4%→63,2%**) y **sube** en Clean (**67,0%→68,9%**).\n",
    "\n",
    "**Comparando datasets al umbral ≥8 (Clean − ProPublica)**  \n",
    "- **Accuracy** **+5,7 p.p.** a favor de *Clean*.  \n",
    "- **TPR** prácticamente igual (**−0,4 p.p.**).  \n",
    "- **FPR** **−1,4 p.p.** en *Clean* (menos falsos positivos).  \n",
    "- **TNR** **+1,4 p.p.** en *Clean*.  \n",
    "- **Precision (PPV)** **−4,3 p.p.** en *Clean* (coherente con su menor prevalencia).  \n",
    "- **F1** **−1,2 p.p.** en *Clean*.  \n",
    "- **BalancedAcc** **+0,6 p.p.** en *Clean* (ligera ventaja).\n",
    "\n",
    "**Lectura sencilla**  \n",
    "- Con **≥8** nos volvemos **más conservadores**: **evitamos muchos FP**, pero **perdemos bastantes TP**.  \n",
    "- A este corte, *Clean* sigue destacando en **FPR/TNR** (menos FP, más especificidad) y logra **mejor Accuracy**, mientras que **Precision y F1** quedan algo **por debajo** de ProPublica.\n",
    "\n",
    "---\n",
    "\n",
    "### **CONLUSIÓN CONJUNTA** (≥5 vs ≥8)\n",
    "\n",
    "- **≥5 (estándar)**: mejor **equilibrio** general. En *Clean* ya veíamos **FPR↓**, **TNR↑** y **BalancedAcc** algo mayor, con **pequeña** caída de **TPR/F1**.  \n",
    "- **≥8 (sensibilidad)**: refuerza el perfil **conservador** (FP↓ mucho, TPR↓ mucho). *Clean* mantiene la ventaja en **FPR/TNR** y **Accuracy**, pero **PPV/F1** quedan por debajo de ProPublica.\n",
    "\n",
    "**Decisión recomendada**  \n",
    "- Reportamos **≥5** como corte principal (comparabilidad con la literatura y mejor balance).  \n",
    "- Usamos **≥8** como **análisis de sensibilidad** y lo elegimos solo si el objetivo de política es **minimizar falsos positivos** por encima del recall.\n",
    "---\n"
   ]
  },
  {
   "cell_type": "markdown",
   "id": "47f41153",
   "metadata": {},
   "source": [
    "<hr style=\"border:none; height:2px; background:linear-gradient(to right, #3498db, #e74c3c, #f39c12);\">\n",
    "\n",
    "<hr style=\"border:none; height:1px; background:#ddd;\">\n",
    "\n",
    "<div style=\"text-align:center; margin:20px 0;\">\n",
    "- • • • •\n",
    "</div>"
   ]
  },
  {
   "cell_type": "markdown",
   "id": "1a99fbea",
   "metadata": {},
   "source": [
    "# **6. ANALISIS DE SESGOS COMPARATIVO**"
   ]
  },
  {
   "cell_type": "code",
   "execution_count": 28,
   "id": "2dc322e8",
   "metadata": {},
   "outputs": [
    {
     "data": {
      "application/vnd.plotly.v1+json": {
       "config": {
        "plotlyServerURL": "https://plot.ly"
       },
       "data": [
        {
         "cells": {
          "align": "left",
          "fill": {
           "color": [
            [
             "#eef5fb",
             "#f7fbff",
             "#eef5fb",
             "#f7fbff",
             "#eef5fb",
             "#f7fbff"
            ]
           ]
          },
          "values": [
           [
            "etnia",
            "etnia",
            "etnia",
            "etnia",
            "etnia",
            "etnia"
           ],
           [
            "African-American",
            "Asian",
            "Caucasian",
            "Hispanic",
            "Native American",
            "Other"
           ],
           [
            3696,
            32,
            2454,
            637,
            18,
            377
           ],
           [
            2652,
            27,
            1819,
            445,
            9,
            307
           ],
           [
            "51.4%",
            "28.1%",
            "39.4%",
            "36.4%",
            "55.6%",
            "35.3%"
           ],
           [
            "43.8%",
            "14.8%",
            "30.1%",
            "28.8%",
            "33.3%",
            "29.3%"
           ],
           [
            "58.8%",
            "25.0%",
            "34.8%",
            "29.8%",
            "66.7%",
            "21.0%"
           ],
           [
            "54.9%",
            "18.5%",
            "30.2%",
            "26.5%",
            "66.7%",
            "18.9%"
           ],
           [
            "44.8%",
            "8.7%",
            "23.5%",
            "21.5%",
            "37.5%",
            "14.8%"
           ],
           [
            "41.9%",
            "8.7%",
            "21.9%",
            "19.6%",
            "50.0%",
            "12.4%"
           ],
           [
            "28.0%",
            "33.3%",
            "47.7%",
            "55.6%",
            "10.0%",
            "67.7%"
           ],
           [
            "28.6%",
            "25.0%",
            "50.4%",
            "56.2%",
            "0.0%",
            "65.6%"
           ],
           [
            "63.0%",
            "75.0%",
            "59.1%",
            "54.2%",
            "75.0%",
            "54.4%"
           ],
           [
            "57.0%",
            "60.0%",
            "49.5%",
            "47.5%",
            "50.0%",
            "53.4%"
           ],
           [
            "65.0%",
            "87.5%",
            "71.2%",
            "71.1%",
            "83.3%",
            "69.8%"
           ],
           [
            "72.3%",
            "95.5%",
            "78.3%",
            "78.0%",
            "100.0%",
            "76.3%"
           ],
           [
            "63.8%",
            "84.4%",
            "67.0%",
            "66.1%",
            "77.8%",
            "66.6%"
           ],
           [
            "63.9%",
            "88.9%",
            "69.5%",
            "69.9%",
            "66.7%",
            "72.0%"
           ]
          ]
         },
         "header": {
          "align": "left",
          "fill": {
           "color": "#fc9278"
          },
          "font": {
           "color": "black"
          },
          "values": [
           "Grupo",
           "Categoría",
           "N (ProPublica)",
           "N (Clean)",
           "Prevalence (ProPublica)",
           "Prevalence (Clean)",
           "Detection Rate (ProPublica)",
           "Detection Rate (Clean)",
           "FPR (ProPublica)",
           "FPR (Clean)",
           "FNR (ProPublica)",
           "FNR (Clean)",
           "PPV (ProPublica)",
           "PPV (Clean)",
           "NPV (ProPublica)",
           "NPV (Clean)",
           "Accuracy (ProPublica)",
           "Accuracy (Clean)"
          ]
         },
         "type": "table"
        }
       ],
       "layout": {
        "margin": {
         "b": 20,
         "l": 30,
         "r": 30,
         "t": 50
        },
        "template": {
         "data": {
          "bar": [
           {
            "error_x": {
             "color": "#2a3f5f"
            },
            "error_y": {
             "color": "#2a3f5f"
            },
            "marker": {
             "line": {
              "color": "white",
              "width": 0.5
             },
             "pattern": {
              "fillmode": "overlay",
              "size": 10,
              "solidity": 0.2
             }
            },
            "type": "bar"
           }
          ],
          "barpolar": [
           {
            "marker": {
             "line": {
              "color": "white",
              "width": 0.5
             },
             "pattern": {
              "fillmode": "overlay",
              "size": 10,
              "solidity": 0.2
             }
            },
            "type": "barpolar"
           }
          ],
          "carpet": [
           {
            "aaxis": {
             "endlinecolor": "#2a3f5f",
             "gridcolor": "#C8D4E3",
             "linecolor": "#C8D4E3",
             "minorgridcolor": "#C8D4E3",
             "startlinecolor": "#2a3f5f"
            },
            "baxis": {
             "endlinecolor": "#2a3f5f",
             "gridcolor": "#C8D4E3",
             "linecolor": "#C8D4E3",
             "minorgridcolor": "#C8D4E3",
             "startlinecolor": "#2a3f5f"
            },
            "type": "carpet"
           }
          ],
          "choropleth": [
           {
            "colorbar": {
             "outlinewidth": 0,
             "ticks": ""
            },
            "type": "choropleth"
           }
          ],
          "contour": [
           {
            "colorbar": {
             "outlinewidth": 0,
             "ticks": ""
            },
            "colorscale": [
             [
              0,
              "#0d0887"
             ],
             [
              0.1111111111111111,
              "#46039f"
             ],
             [
              0.2222222222222222,
              "#7201a8"
             ],
             [
              0.3333333333333333,
              "#9c179e"
             ],
             [
              0.4444444444444444,
              "#bd3786"
             ],
             [
              0.5555555555555556,
              "#d8576b"
             ],
             [
              0.6666666666666666,
              "#ed7953"
             ],
             [
              0.7777777777777778,
              "#fb9f3a"
             ],
             [
              0.8888888888888888,
              "#fdca26"
             ],
             [
              1,
              "#f0f921"
             ]
            ],
            "type": "contour"
           }
          ],
          "contourcarpet": [
           {
            "colorbar": {
             "outlinewidth": 0,
             "ticks": ""
            },
            "type": "contourcarpet"
           }
          ],
          "heatmap": [
           {
            "colorbar": {
             "outlinewidth": 0,
             "ticks": ""
            },
            "colorscale": [
             [
              0,
              "#0d0887"
             ],
             [
              0.1111111111111111,
              "#46039f"
             ],
             [
              0.2222222222222222,
              "#7201a8"
             ],
             [
              0.3333333333333333,
              "#9c179e"
             ],
             [
              0.4444444444444444,
              "#bd3786"
             ],
             [
              0.5555555555555556,
              "#d8576b"
             ],
             [
              0.6666666666666666,
              "#ed7953"
             ],
             [
              0.7777777777777778,
              "#fb9f3a"
             ],
             [
              0.8888888888888888,
              "#fdca26"
             ],
             [
              1,
              "#f0f921"
             ]
            ],
            "type": "heatmap"
           }
          ],
          "histogram": [
           {
            "marker": {
             "pattern": {
              "fillmode": "overlay",
              "size": 10,
              "solidity": 0.2
             }
            },
            "type": "histogram"
           }
          ],
          "histogram2d": [
           {
            "colorbar": {
             "outlinewidth": 0,
             "ticks": ""
            },
            "colorscale": [
             [
              0,
              "#0d0887"
             ],
             [
              0.1111111111111111,
              "#46039f"
             ],
             [
              0.2222222222222222,
              "#7201a8"
             ],
             [
              0.3333333333333333,
              "#9c179e"
             ],
             [
              0.4444444444444444,
              "#bd3786"
             ],
             [
              0.5555555555555556,
              "#d8576b"
             ],
             [
              0.6666666666666666,
              "#ed7953"
             ],
             [
              0.7777777777777778,
              "#fb9f3a"
             ],
             [
              0.8888888888888888,
              "#fdca26"
             ],
             [
              1,
              "#f0f921"
             ]
            ],
            "type": "histogram2d"
           }
          ],
          "histogram2dcontour": [
           {
            "colorbar": {
             "outlinewidth": 0,
             "ticks": ""
            },
            "colorscale": [
             [
              0,
              "#0d0887"
             ],
             [
              0.1111111111111111,
              "#46039f"
             ],
             [
              0.2222222222222222,
              "#7201a8"
             ],
             [
              0.3333333333333333,
              "#9c179e"
             ],
             [
              0.4444444444444444,
              "#bd3786"
             ],
             [
              0.5555555555555556,
              "#d8576b"
             ],
             [
              0.6666666666666666,
              "#ed7953"
             ],
             [
              0.7777777777777778,
              "#fb9f3a"
             ],
             [
              0.8888888888888888,
              "#fdca26"
             ],
             [
              1,
              "#f0f921"
             ]
            ],
            "type": "histogram2dcontour"
           }
          ],
          "mesh3d": [
           {
            "colorbar": {
             "outlinewidth": 0,
             "ticks": ""
            },
            "type": "mesh3d"
           }
          ],
          "parcoords": [
           {
            "line": {
             "colorbar": {
              "outlinewidth": 0,
              "ticks": ""
             }
            },
            "type": "parcoords"
           }
          ],
          "pie": [
           {
            "automargin": true,
            "type": "pie"
           }
          ],
          "scatter": [
           {
            "fillpattern": {
             "fillmode": "overlay",
             "size": 10,
             "solidity": 0.2
            },
            "type": "scatter"
           }
          ],
          "scatter3d": [
           {
            "line": {
             "colorbar": {
              "outlinewidth": 0,
              "ticks": ""
             }
            },
            "marker": {
             "colorbar": {
              "outlinewidth": 0,
              "ticks": ""
             }
            },
            "type": "scatter3d"
           }
          ],
          "scattercarpet": [
           {
            "marker": {
             "colorbar": {
              "outlinewidth": 0,
              "ticks": ""
             }
            },
            "type": "scattercarpet"
           }
          ],
          "scattergeo": [
           {
            "marker": {
             "colorbar": {
              "outlinewidth": 0,
              "ticks": ""
             }
            },
            "type": "scattergeo"
           }
          ],
          "scattergl": [
           {
            "marker": {
             "colorbar": {
              "outlinewidth": 0,
              "ticks": ""
             }
            },
            "type": "scattergl"
           }
          ],
          "scattermap": [
           {
            "marker": {
             "colorbar": {
              "outlinewidth": 0,
              "ticks": ""
             }
            },
            "type": "scattermap"
           }
          ],
          "scattermapbox": [
           {
            "marker": {
             "colorbar": {
              "outlinewidth": 0,
              "ticks": ""
             }
            },
            "type": "scattermapbox"
           }
          ],
          "scatterpolar": [
           {
            "marker": {
             "colorbar": {
              "outlinewidth": 0,
              "ticks": ""
             }
            },
            "type": "scatterpolar"
           }
          ],
          "scatterpolargl": [
           {
            "marker": {
             "colorbar": {
              "outlinewidth": 0,
              "ticks": ""
             }
            },
            "type": "scatterpolargl"
           }
          ],
          "scatterternary": [
           {
            "marker": {
             "colorbar": {
              "outlinewidth": 0,
              "ticks": ""
             }
            },
            "type": "scatterternary"
           }
          ],
          "surface": [
           {
            "colorbar": {
             "outlinewidth": 0,
             "ticks": ""
            },
            "colorscale": [
             [
              0,
              "#0d0887"
             ],
             [
              0.1111111111111111,
              "#46039f"
             ],
             [
              0.2222222222222222,
              "#7201a8"
             ],
             [
              0.3333333333333333,
              "#9c179e"
             ],
             [
              0.4444444444444444,
              "#bd3786"
             ],
             [
              0.5555555555555556,
              "#d8576b"
             ],
             [
              0.6666666666666666,
              "#ed7953"
             ],
             [
              0.7777777777777778,
              "#fb9f3a"
             ],
             [
              0.8888888888888888,
              "#fdca26"
             ],
             [
              1,
              "#f0f921"
             ]
            ],
            "type": "surface"
           }
          ],
          "table": [
           {
            "cells": {
             "fill": {
              "color": "#EBF0F8"
             },
             "line": {
              "color": "white"
             }
            },
            "header": {
             "fill": {
              "color": "#C8D4E3"
             },
             "line": {
              "color": "white"
             }
            },
            "type": "table"
           }
          ]
         },
         "layout": {
          "annotationdefaults": {
           "arrowcolor": "#2a3f5f",
           "arrowhead": 0,
           "arrowwidth": 1
          },
          "autotypenumbers": "strict",
          "coloraxis": {
           "colorbar": {
            "outlinewidth": 0,
            "ticks": ""
           }
          },
          "colorscale": {
           "diverging": [
            [
             0,
             "#8e0152"
            ],
            [
             0.1,
             "#c51b7d"
            ],
            [
             0.2,
             "#de77ae"
            ],
            [
             0.3,
             "#f1b6da"
            ],
            [
             0.4,
             "#fde0ef"
            ],
            [
             0.5,
             "#f7f7f7"
            ],
            [
             0.6,
             "#e6f5d0"
            ],
            [
             0.7,
             "#b8e186"
            ],
            [
             0.8,
             "#7fbc41"
            ],
            [
             0.9,
             "#4d9221"
            ],
            [
             1,
             "#276419"
            ]
           ],
           "sequential": [
            [
             0,
             "#0d0887"
            ],
            [
             0.1111111111111111,
             "#46039f"
            ],
            [
             0.2222222222222222,
             "#7201a8"
            ],
            [
             0.3333333333333333,
             "#9c179e"
            ],
            [
             0.4444444444444444,
             "#bd3786"
            ],
            [
             0.5555555555555556,
             "#d8576b"
            ],
            [
             0.6666666666666666,
             "#ed7953"
            ],
            [
             0.7777777777777778,
             "#fb9f3a"
            ],
            [
             0.8888888888888888,
             "#fdca26"
            ],
            [
             1,
             "#f0f921"
            ]
           ],
           "sequentialminus": [
            [
             0,
             "#0d0887"
            ],
            [
             0.1111111111111111,
             "#46039f"
            ],
            [
             0.2222222222222222,
             "#7201a8"
            ],
            [
             0.3333333333333333,
             "#9c179e"
            ],
            [
             0.4444444444444444,
             "#bd3786"
            ],
            [
             0.5555555555555556,
             "#d8576b"
            ],
            [
             0.6666666666666666,
             "#ed7953"
            ],
            [
             0.7777777777777778,
             "#fb9f3a"
            ],
            [
             0.8888888888888888,
             "#fdca26"
            ],
            [
             1,
             "#f0f921"
            ]
           ]
          },
          "colorway": [
           "rgb(102,194,165)",
           "rgb(252,141,98)",
           "rgb(141,160,203)",
           "rgb(231,138,195)",
           "rgb(166,216,84)",
           "rgb(255,217,47)",
           "rgb(229,196,148)",
           "rgb(179,179,179)"
          ],
          "font": {
           "color": "#2a3f5f",
           "family": "Arial",
           "size": 11
          },
          "geo": {
           "bgcolor": "white",
           "lakecolor": "white",
           "landcolor": "white",
           "showlakes": true,
           "showland": true,
           "subunitcolor": "#C8D4E3"
          },
          "height": 500,
          "hoverlabel": {
           "align": "left"
          },
          "hovermode": "closest",
          "mapbox": {
           "style": "light"
          },
          "paper_bgcolor": "white",
          "plot_bgcolor": "white",
          "polar": {
           "angularaxis": {
            "gridcolor": "#EBF0F8",
            "linecolor": "#EBF0F8",
            "ticks": ""
           },
           "bgcolor": "white",
           "radialaxis": {
            "gridcolor": "#EBF0F8",
            "linecolor": "#EBF0F8",
            "ticks": ""
           }
          },
          "scene": {
           "xaxis": {
            "backgroundcolor": "white",
            "gridcolor": "#DFE8F3",
            "gridwidth": 2,
            "linecolor": "#EBF0F8",
            "showbackground": true,
            "ticks": "",
            "zerolinecolor": "#EBF0F8"
           },
           "yaxis": {
            "backgroundcolor": "white",
            "gridcolor": "#DFE8F3",
            "gridwidth": 2,
            "linecolor": "#EBF0F8",
            "showbackground": true,
            "ticks": "",
            "zerolinecolor": "#EBF0F8"
           },
           "zaxis": {
            "backgroundcolor": "white",
            "gridcolor": "#DFE8F3",
            "gridwidth": 2,
            "linecolor": "#EBF0F8",
            "showbackground": true,
            "ticks": "",
            "zerolinecolor": "#EBF0F8"
           }
          },
          "shapedefaults": {
           "line": {
            "color": "#2a3f5f"
           }
          },
          "ternary": {
           "aaxis": {
            "gridcolor": "#DFE8F3",
            "linecolor": "#A2B1C6",
            "ticks": ""
           },
           "baxis": {
            "gridcolor": "#DFE8F3",
            "linecolor": "#A2B1C6",
            "ticks": ""
           },
           "bgcolor": "white",
           "caxis": {
            "gridcolor": "#DFE8F3",
            "linecolor": "#A2B1C6",
            "ticks": ""
           }
          },
          "title": {
           "x": 0.05
          },
          "width": 1000,
          "xaxis": {
           "automargin": true,
           "gridcolor": "lightgrey",
           "linecolor": "#EBF0F8",
           "showgrid": true,
           "ticks": "",
           "title": {
            "standoff": 15
           },
           "zerolinecolor": "#EBF0F8",
           "zerolinewidth": 2
          },
          "yaxis": {
           "automargin": true,
           "gridcolor": "lightgrey",
           "linecolor": "#EBF0F8",
           "showgrid": true,
           "ticks": "",
           "title": {
            "standoff": 15
           },
           "zerolinecolor": "#EBF0F8",
           "zerolinewidth": 2
          }
         }
        },
        "title": {
         "text": "Comparativa por RAZA/ETNIA (umbral ≥5)"
        }
       }
      }
     },
     "metadata": {},
     "output_type": "display_data"
    },
    {
     "data": {
      "application/vnd.plotly.v1+json": {
       "config": {
        "plotlyServerURL": "https://plot.ly"
       },
       "data": [
        {
         "cells": {
          "align": "left",
          "fill": {
           "color": [
            [
             "#eef5fb",
             "#f7fbff"
            ]
           ]
          },
          "values": [
           [
            "genero",
            "genero"
           ],
           [
            "Female",
            "Male"
           ],
           [
            1395,
            5819
           ],
           [
            1011,
            4248
           ],
           [
            "35.7%",
            "47.3%"
           ],
           [
            "25.2%",
            "39.5%"
           ],
           [
            "42.4%",
            "46.8%"
           ],
           [
            "37.7%",
            "42.6%"
           ],
           [
            "32.1%",
            "32.4%"
           ],
           [
            "30.0%",
            "30.0%"
           ],
           [
            "39.2%",
            "37.1%"
           ],
           [
            "39.6%",
            "38.0%"
           ],
           [
            "51.3%",
            "63.5%"
           ],
           [
            "40.4%",
            "57.5%"
           ],
           [
            "75.7%",
            "67.0%"
           ],
           [
            "84.0%",
            "73.8%"
           ],
           [
            "65.4%",
            "65.4%"
           ],
           [
            "67.6%",
            "66.8%"
           ]
          ]
         },
         "header": {
          "align": "left",
          "fill": {
           "color": "#fc9278"
          },
          "font": {
           "color": "black"
          },
          "values": [
           "Grupo",
           "Categoría",
           "N (ProPublica)",
           "N (Clean)",
           "Prevalence (ProPublica)",
           "Prevalence (Clean)",
           "Detection Rate (ProPublica)",
           "Detection Rate (Clean)",
           "FPR (ProPublica)",
           "FPR (Clean)",
           "FNR (ProPublica)",
           "FNR (Clean)",
           "PPV (ProPublica)",
           "PPV (Clean)",
           "NPV (ProPublica)",
           "NPV (Clean)",
           "Accuracy (ProPublica)",
           "Accuracy (Clean)"
          ]
         },
         "type": "table"
        }
       ],
       "layout": {
        "margin": {
         "b": 20,
         "l": 30,
         "r": 30,
         "t": 50
        },
        "template": {
         "data": {
          "bar": [
           {
            "error_x": {
             "color": "#2a3f5f"
            },
            "error_y": {
             "color": "#2a3f5f"
            },
            "marker": {
             "line": {
              "color": "white",
              "width": 0.5
             },
             "pattern": {
              "fillmode": "overlay",
              "size": 10,
              "solidity": 0.2
             }
            },
            "type": "bar"
           }
          ],
          "barpolar": [
           {
            "marker": {
             "line": {
              "color": "white",
              "width": 0.5
             },
             "pattern": {
              "fillmode": "overlay",
              "size": 10,
              "solidity": 0.2
             }
            },
            "type": "barpolar"
           }
          ],
          "carpet": [
           {
            "aaxis": {
             "endlinecolor": "#2a3f5f",
             "gridcolor": "#C8D4E3",
             "linecolor": "#C8D4E3",
             "minorgridcolor": "#C8D4E3",
             "startlinecolor": "#2a3f5f"
            },
            "baxis": {
             "endlinecolor": "#2a3f5f",
             "gridcolor": "#C8D4E3",
             "linecolor": "#C8D4E3",
             "minorgridcolor": "#C8D4E3",
             "startlinecolor": "#2a3f5f"
            },
            "type": "carpet"
           }
          ],
          "choropleth": [
           {
            "colorbar": {
             "outlinewidth": 0,
             "ticks": ""
            },
            "type": "choropleth"
           }
          ],
          "contour": [
           {
            "colorbar": {
             "outlinewidth": 0,
             "ticks": ""
            },
            "colorscale": [
             [
              0,
              "#0d0887"
             ],
             [
              0.1111111111111111,
              "#46039f"
             ],
             [
              0.2222222222222222,
              "#7201a8"
             ],
             [
              0.3333333333333333,
              "#9c179e"
             ],
             [
              0.4444444444444444,
              "#bd3786"
             ],
             [
              0.5555555555555556,
              "#d8576b"
             ],
             [
              0.6666666666666666,
              "#ed7953"
             ],
             [
              0.7777777777777778,
              "#fb9f3a"
             ],
             [
              0.8888888888888888,
              "#fdca26"
             ],
             [
              1,
              "#f0f921"
             ]
            ],
            "type": "contour"
           }
          ],
          "contourcarpet": [
           {
            "colorbar": {
             "outlinewidth": 0,
             "ticks": ""
            },
            "type": "contourcarpet"
           }
          ],
          "heatmap": [
           {
            "colorbar": {
             "outlinewidth": 0,
             "ticks": ""
            },
            "colorscale": [
             [
              0,
              "#0d0887"
             ],
             [
              0.1111111111111111,
              "#46039f"
             ],
             [
              0.2222222222222222,
              "#7201a8"
             ],
             [
              0.3333333333333333,
              "#9c179e"
             ],
             [
              0.4444444444444444,
              "#bd3786"
             ],
             [
              0.5555555555555556,
              "#d8576b"
             ],
             [
              0.6666666666666666,
              "#ed7953"
             ],
             [
              0.7777777777777778,
              "#fb9f3a"
             ],
             [
              0.8888888888888888,
              "#fdca26"
             ],
             [
              1,
              "#f0f921"
             ]
            ],
            "type": "heatmap"
           }
          ],
          "histogram": [
           {
            "marker": {
             "pattern": {
              "fillmode": "overlay",
              "size": 10,
              "solidity": 0.2
             }
            },
            "type": "histogram"
           }
          ],
          "histogram2d": [
           {
            "colorbar": {
             "outlinewidth": 0,
             "ticks": ""
            },
            "colorscale": [
             [
              0,
              "#0d0887"
             ],
             [
              0.1111111111111111,
              "#46039f"
             ],
             [
              0.2222222222222222,
              "#7201a8"
             ],
             [
              0.3333333333333333,
              "#9c179e"
             ],
             [
              0.4444444444444444,
              "#bd3786"
             ],
             [
              0.5555555555555556,
              "#d8576b"
             ],
             [
              0.6666666666666666,
              "#ed7953"
             ],
             [
              0.7777777777777778,
              "#fb9f3a"
             ],
             [
              0.8888888888888888,
              "#fdca26"
             ],
             [
              1,
              "#f0f921"
             ]
            ],
            "type": "histogram2d"
           }
          ],
          "histogram2dcontour": [
           {
            "colorbar": {
             "outlinewidth": 0,
             "ticks": ""
            },
            "colorscale": [
             [
              0,
              "#0d0887"
             ],
             [
              0.1111111111111111,
              "#46039f"
             ],
             [
              0.2222222222222222,
              "#7201a8"
             ],
             [
              0.3333333333333333,
              "#9c179e"
             ],
             [
              0.4444444444444444,
              "#bd3786"
             ],
             [
              0.5555555555555556,
              "#d8576b"
             ],
             [
              0.6666666666666666,
              "#ed7953"
             ],
             [
              0.7777777777777778,
              "#fb9f3a"
             ],
             [
              0.8888888888888888,
              "#fdca26"
             ],
             [
              1,
              "#f0f921"
             ]
            ],
            "type": "histogram2dcontour"
           }
          ],
          "mesh3d": [
           {
            "colorbar": {
             "outlinewidth": 0,
             "ticks": ""
            },
            "type": "mesh3d"
           }
          ],
          "parcoords": [
           {
            "line": {
             "colorbar": {
              "outlinewidth": 0,
              "ticks": ""
             }
            },
            "type": "parcoords"
           }
          ],
          "pie": [
           {
            "automargin": true,
            "type": "pie"
           }
          ],
          "scatter": [
           {
            "fillpattern": {
             "fillmode": "overlay",
             "size": 10,
             "solidity": 0.2
            },
            "type": "scatter"
           }
          ],
          "scatter3d": [
           {
            "line": {
             "colorbar": {
              "outlinewidth": 0,
              "ticks": ""
             }
            },
            "marker": {
             "colorbar": {
              "outlinewidth": 0,
              "ticks": ""
             }
            },
            "type": "scatter3d"
           }
          ],
          "scattercarpet": [
           {
            "marker": {
             "colorbar": {
              "outlinewidth": 0,
              "ticks": ""
             }
            },
            "type": "scattercarpet"
           }
          ],
          "scattergeo": [
           {
            "marker": {
             "colorbar": {
              "outlinewidth": 0,
              "ticks": ""
             }
            },
            "type": "scattergeo"
           }
          ],
          "scattergl": [
           {
            "marker": {
             "colorbar": {
              "outlinewidth": 0,
              "ticks": ""
             }
            },
            "type": "scattergl"
           }
          ],
          "scattermap": [
           {
            "marker": {
             "colorbar": {
              "outlinewidth": 0,
              "ticks": ""
             }
            },
            "type": "scattermap"
           }
          ],
          "scattermapbox": [
           {
            "marker": {
             "colorbar": {
              "outlinewidth": 0,
              "ticks": ""
             }
            },
            "type": "scattermapbox"
           }
          ],
          "scatterpolar": [
           {
            "marker": {
             "colorbar": {
              "outlinewidth": 0,
              "ticks": ""
             }
            },
            "type": "scatterpolar"
           }
          ],
          "scatterpolargl": [
           {
            "marker": {
             "colorbar": {
              "outlinewidth": 0,
              "ticks": ""
             }
            },
            "type": "scatterpolargl"
           }
          ],
          "scatterternary": [
           {
            "marker": {
             "colorbar": {
              "outlinewidth": 0,
              "ticks": ""
             }
            },
            "type": "scatterternary"
           }
          ],
          "surface": [
           {
            "colorbar": {
             "outlinewidth": 0,
             "ticks": ""
            },
            "colorscale": [
             [
              0,
              "#0d0887"
             ],
             [
              0.1111111111111111,
              "#46039f"
             ],
             [
              0.2222222222222222,
              "#7201a8"
             ],
             [
              0.3333333333333333,
              "#9c179e"
             ],
             [
              0.4444444444444444,
              "#bd3786"
             ],
             [
              0.5555555555555556,
              "#d8576b"
             ],
             [
              0.6666666666666666,
              "#ed7953"
             ],
             [
              0.7777777777777778,
              "#fb9f3a"
             ],
             [
              0.8888888888888888,
              "#fdca26"
             ],
             [
              1,
              "#f0f921"
             ]
            ],
            "type": "surface"
           }
          ],
          "table": [
           {
            "cells": {
             "fill": {
              "color": "#EBF0F8"
             },
             "line": {
              "color": "white"
             }
            },
            "header": {
             "fill": {
              "color": "#C8D4E3"
             },
             "line": {
              "color": "white"
             }
            },
            "type": "table"
           }
          ]
         },
         "layout": {
          "annotationdefaults": {
           "arrowcolor": "#2a3f5f",
           "arrowhead": 0,
           "arrowwidth": 1
          },
          "autotypenumbers": "strict",
          "coloraxis": {
           "colorbar": {
            "outlinewidth": 0,
            "ticks": ""
           }
          },
          "colorscale": {
           "diverging": [
            [
             0,
             "#8e0152"
            ],
            [
             0.1,
             "#c51b7d"
            ],
            [
             0.2,
             "#de77ae"
            ],
            [
             0.3,
             "#f1b6da"
            ],
            [
             0.4,
             "#fde0ef"
            ],
            [
             0.5,
             "#f7f7f7"
            ],
            [
             0.6,
             "#e6f5d0"
            ],
            [
             0.7,
             "#b8e186"
            ],
            [
             0.8,
             "#7fbc41"
            ],
            [
             0.9,
             "#4d9221"
            ],
            [
             1,
             "#276419"
            ]
           ],
           "sequential": [
            [
             0,
             "#0d0887"
            ],
            [
             0.1111111111111111,
             "#46039f"
            ],
            [
             0.2222222222222222,
             "#7201a8"
            ],
            [
             0.3333333333333333,
             "#9c179e"
            ],
            [
             0.4444444444444444,
             "#bd3786"
            ],
            [
             0.5555555555555556,
             "#d8576b"
            ],
            [
             0.6666666666666666,
             "#ed7953"
            ],
            [
             0.7777777777777778,
             "#fb9f3a"
            ],
            [
             0.8888888888888888,
             "#fdca26"
            ],
            [
             1,
             "#f0f921"
            ]
           ],
           "sequentialminus": [
            [
             0,
             "#0d0887"
            ],
            [
             0.1111111111111111,
             "#46039f"
            ],
            [
             0.2222222222222222,
             "#7201a8"
            ],
            [
             0.3333333333333333,
             "#9c179e"
            ],
            [
             0.4444444444444444,
             "#bd3786"
            ],
            [
             0.5555555555555556,
             "#d8576b"
            ],
            [
             0.6666666666666666,
             "#ed7953"
            ],
            [
             0.7777777777777778,
             "#fb9f3a"
            ],
            [
             0.8888888888888888,
             "#fdca26"
            ],
            [
             1,
             "#f0f921"
            ]
           ]
          },
          "colorway": [
           "rgb(102,194,165)",
           "rgb(252,141,98)",
           "rgb(141,160,203)",
           "rgb(231,138,195)",
           "rgb(166,216,84)",
           "rgb(255,217,47)",
           "rgb(229,196,148)",
           "rgb(179,179,179)"
          ],
          "font": {
           "color": "#2a3f5f",
           "family": "Arial",
           "size": 11
          },
          "geo": {
           "bgcolor": "white",
           "lakecolor": "white",
           "landcolor": "white",
           "showlakes": true,
           "showland": true,
           "subunitcolor": "#C8D4E3"
          },
          "height": 500,
          "hoverlabel": {
           "align": "left"
          },
          "hovermode": "closest",
          "mapbox": {
           "style": "light"
          },
          "paper_bgcolor": "white",
          "plot_bgcolor": "white",
          "polar": {
           "angularaxis": {
            "gridcolor": "#EBF0F8",
            "linecolor": "#EBF0F8",
            "ticks": ""
           },
           "bgcolor": "white",
           "radialaxis": {
            "gridcolor": "#EBF0F8",
            "linecolor": "#EBF0F8",
            "ticks": ""
           }
          },
          "scene": {
           "xaxis": {
            "backgroundcolor": "white",
            "gridcolor": "#DFE8F3",
            "gridwidth": 2,
            "linecolor": "#EBF0F8",
            "showbackground": true,
            "ticks": "",
            "zerolinecolor": "#EBF0F8"
           },
           "yaxis": {
            "backgroundcolor": "white",
            "gridcolor": "#DFE8F3",
            "gridwidth": 2,
            "linecolor": "#EBF0F8",
            "showbackground": true,
            "ticks": "",
            "zerolinecolor": "#EBF0F8"
           },
           "zaxis": {
            "backgroundcolor": "white",
            "gridcolor": "#DFE8F3",
            "gridwidth": 2,
            "linecolor": "#EBF0F8",
            "showbackground": true,
            "ticks": "",
            "zerolinecolor": "#EBF0F8"
           }
          },
          "shapedefaults": {
           "line": {
            "color": "#2a3f5f"
           }
          },
          "ternary": {
           "aaxis": {
            "gridcolor": "#DFE8F3",
            "linecolor": "#A2B1C6",
            "ticks": ""
           },
           "baxis": {
            "gridcolor": "#DFE8F3",
            "linecolor": "#A2B1C6",
            "ticks": ""
           },
           "bgcolor": "white",
           "caxis": {
            "gridcolor": "#DFE8F3",
            "linecolor": "#A2B1C6",
            "ticks": ""
           }
          },
          "title": {
           "x": 0.05
          },
          "width": 1000,
          "xaxis": {
           "automargin": true,
           "gridcolor": "lightgrey",
           "linecolor": "#EBF0F8",
           "showgrid": true,
           "ticks": "",
           "title": {
            "standoff": 15
           },
           "zerolinecolor": "#EBF0F8",
           "zerolinewidth": 2
          },
          "yaxis": {
           "automargin": true,
           "gridcolor": "lightgrey",
           "linecolor": "#EBF0F8",
           "showgrid": true,
           "ticks": "",
           "title": {
            "standoff": 15
           },
           "zerolinecolor": "#EBF0F8",
           "zerolinewidth": 2
          }
         }
        },
        "title": {
         "text": "Comparativa por GÉNERO (umbral ≥5)"
        }
       }
      }
     },
     "metadata": {},
     "output_type": "display_data"
    },
    {
     "data": {
      "application/vnd.plotly.v1+json": {
       "config": {
        "plotlyServerURL": "https://plot.ly"
       },
       "data": [
        {
         "cells": {
          "align": "left",
          "fill": {
           "color": [
            [
             "#eef5fb",
             "#f7fbff",
             "#eef5fb"
            ]
           ]
          },
          "values": [
           [
            "rango_edad",
            "rango_edad",
            "rango_edad"
           ],
           [
            "25 - 45",
            "Greater than 45",
            "Less than 25"
           ],
           [
            4109,
            1576,
            1529
           ],
           [
            3007,
            1145,
            1107
           ],
           [
            "46.0%",
            "31.6%",
            "56.5%"
           ],
           [
            "37.8%",
            "24.6%",
            "46.5%"
           ],
           [
            "46.8%",
            "25.0%",
            "65.3%"
           ],
           [
            "42.4%",
            "18.8%",
            "63.3%"
           ],
           [
            "33.4%",
            "16.8%",
            "54.1%"
           ],
           [
            "30.8%",
            "12.3%",
            "53.4%"
           ],
           [
            "37.4%",
            "57.2%",
            "26.0%"
           ],
           [
            "38.4%",
            "61.3%",
            "25.2%"
           ],
           [
            "61.5%",
            "54.1%",
            "64.0%"
           ],
           [
            "54.9%",
            "50.7%",
            "54.9%"
           ],
           [
            "67.7%",
            "75.9%",
            "57.5%"
           ],
           [
            "74.8%",
            "81.4%",
            "68.0%"
           ],
           [
            "64.8%",
            "70.4%",
            "61.7%"
           ],
           [
            "66.3%",
            "75.6%",
            "59.7%"
           ]
          ]
         },
         "header": {
          "align": "left",
          "fill": {
           "color": "#fc9278"
          },
          "font": {
           "color": "black"
          },
          "values": [
           "Grupo",
           "Categoría",
           "N (ProPublica)",
           "N (Clean)",
           "Prevalence (ProPublica)",
           "Prevalence (Clean)",
           "Detection Rate (ProPublica)",
           "Detection Rate (Clean)",
           "FPR (ProPublica)",
           "FPR (Clean)",
           "FNR (ProPublica)",
           "FNR (Clean)",
           "PPV (ProPublica)",
           "PPV (Clean)",
           "NPV (ProPublica)",
           "NPV (Clean)",
           "Accuracy (ProPublica)",
           "Accuracy (Clean)"
          ]
         },
         "type": "table"
        }
       ],
       "layout": {
        "margin": {
         "b": 20,
         "l": 30,
         "r": 30,
         "t": 50
        },
        "template": {
         "data": {
          "bar": [
           {
            "error_x": {
             "color": "#2a3f5f"
            },
            "error_y": {
             "color": "#2a3f5f"
            },
            "marker": {
             "line": {
              "color": "white",
              "width": 0.5
             },
             "pattern": {
              "fillmode": "overlay",
              "size": 10,
              "solidity": 0.2
             }
            },
            "type": "bar"
           }
          ],
          "barpolar": [
           {
            "marker": {
             "line": {
              "color": "white",
              "width": 0.5
             },
             "pattern": {
              "fillmode": "overlay",
              "size": 10,
              "solidity": 0.2
             }
            },
            "type": "barpolar"
           }
          ],
          "carpet": [
           {
            "aaxis": {
             "endlinecolor": "#2a3f5f",
             "gridcolor": "#C8D4E3",
             "linecolor": "#C8D4E3",
             "minorgridcolor": "#C8D4E3",
             "startlinecolor": "#2a3f5f"
            },
            "baxis": {
             "endlinecolor": "#2a3f5f",
             "gridcolor": "#C8D4E3",
             "linecolor": "#C8D4E3",
             "minorgridcolor": "#C8D4E3",
             "startlinecolor": "#2a3f5f"
            },
            "type": "carpet"
           }
          ],
          "choropleth": [
           {
            "colorbar": {
             "outlinewidth": 0,
             "ticks": ""
            },
            "type": "choropleth"
           }
          ],
          "contour": [
           {
            "colorbar": {
             "outlinewidth": 0,
             "ticks": ""
            },
            "colorscale": [
             [
              0,
              "#0d0887"
             ],
             [
              0.1111111111111111,
              "#46039f"
             ],
             [
              0.2222222222222222,
              "#7201a8"
             ],
             [
              0.3333333333333333,
              "#9c179e"
             ],
             [
              0.4444444444444444,
              "#bd3786"
             ],
             [
              0.5555555555555556,
              "#d8576b"
             ],
             [
              0.6666666666666666,
              "#ed7953"
             ],
             [
              0.7777777777777778,
              "#fb9f3a"
             ],
             [
              0.8888888888888888,
              "#fdca26"
             ],
             [
              1,
              "#f0f921"
             ]
            ],
            "type": "contour"
           }
          ],
          "contourcarpet": [
           {
            "colorbar": {
             "outlinewidth": 0,
             "ticks": ""
            },
            "type": "contourcarpet"
           }
          ],
          "heatmap": [
           {
            "colorbar": {
             "outlinewidth": 0,
             "ticks": ""
            },
            "colorscale": [
             [
              0,
              "#0d0887"
             ],
             [
              0.1111111111111111,
              "#46039f"
             ],
             [
              0.2222222222222222,
              "#7201a8"
             ],
             [
              0.3333333333333333,
              "#9c179e"
             ],
             [
              0.4444444444444444,
              "#bd3786"
             ],
             [
              0.5555555555555556,
              "#d8576b"
             ],
             [
              0.6666666666666666,
              "#ed7953"
             ],
             [
              0.7777777777777778,
              "#fb9f3a"
             ],
             [
              0.8888888888888888,
              "#fdca26"
             ],
             [
              1,
              "#f0f921"
             ]
            ],
            "type": "heatmap"
           }
          ],
          "histogram": [
           {
            "marker": {
             "pattern": {
              "fillmode": "overlay",
              "size": 10,
              "solidity": 0.2
             }
            },
            "type": "histogram"
           }
          ],
          "histogram2d": [
           {
            "colorbar": {
             "outlinewidth": 0,
             "ticks": ""
            },
            "colorscale": [
             [
              0,
              "#0d0887"
             ],
             [
              0.1111111111111111,
              "#46039f"
             ],
             [
              0.2222222222222222,
              "#7201a8"
             ],
             [
              0.3333333333333333,
              "#9c179e"
             ],
             [
              0.4444444444444444,
              "#bd3786"
             ],
             [
              0.5555555555555556,
              "#d8576b"
             ],
             [
              0.6666666666666666,
              "#ed7953"
             ],
             [
              0.7777777777777778,
              "#fb9f3a"
             ],
             [
              0.8888888888888888,
              "#fdca26"
             ],
             [
              1,
              "#f0f921"
             ]
            ],
            "type": "histogram2d"
           }
          ],
          "histogram2dcontour": [
           {
            "colorbar": {
             "outlinewidth": 0,
             "ticks": ""
            },
            "colorscale": [
             [
              0,
              "#0d0887"
             ],
             [
              0.1111111111111111,
              "#46039f"
             ],
             [
              0.2222222222222222,
              "#7201a8"
             ],
             [
              0.3333333333333333,
              "#9c179e"
             ],
             [
              0.4444444444444444,
              "#bd3786"
             ],
             [
              0.5555555555555556,
              "#d8576b"
             ],
             [
              0.6666666666666666,
              "#ed7953"
             ],
             [
              0.7777777777777778,
              "#fb9f3a"
             ],
             [
              0.8888888888888888,
              "#fdca26"
             ],
             [
              1,
              "#f0f921"
             ]
            ],
            "type": "histogram2dcontour"
           }
          ],
          "mesh3d": [
           {
            "colorbar": {
             "outlinewidth": 0,
             "ticks": ""
            },
            "type": "mesh3d"
           }
          ],
          "parcoords": [
           {
            "line": {
             "colorbar": {
              "outlinewidth": 0,
              "ticks": ""
             }
            },
            "type": "parcoords"
           }
          ],
          "pie": [
           {
            "automargin": true,
            "type": "pie"
           }
          ],
          "scatter": [
           {
            "fillpattern": {
             "fillmode": "overlay",
             "size": 10,
             "solidity": 0.2
            },
            "type": "scatter"
           }
          ],
          "scatter3d": [
           {
            "line": {
             "colorbar": {
              "outlinewidth": 0,
              "ticks": ""
             }
            },
            "marker": {
             "colorbar": {
              "outlinewidth": 0,
              "ticks": ""
             }
            },
            "type": "scatter3d"
           }
          ],
          "scattercarpet": [
           {
            "marker": {
             "colorbar": {
              "outlinewidth": 0,
              "ticks": ""
             }
            },
            "type": "scattercarpet"
           }
          ],
          "scattergeo": [
           {
            "marker": {
             "colorbar": {
              "outlinewidth": 0,
              "ticks": ""
             }
            },
            "type": "scattergeo"
           }
          ],
          "scattergl": [
           {
            "marker": {
             "colorbar": {
              "outlinewidth": 0,
              "ticks": ""
             }
            },
            "type": "scattergl"
           }
          ],
          "scattermap": [
           {
            "marker": {
             "colorbar": {
              "outlinewidth": 0,
              "ticks": ""
             }
            },
            "type": "scattermap"
           }
          ],
          "scattermapbox": [
           {
            "marker": {
             "colorbar": {
              "outlinewidth": 0,
              "ticks": ""
             }
            },
            "type": "scattermapbox"
           }
          ],
          "scatterpolar": [
           {
            "marker": {
             "colorbar": {
              "outlinewidth": 0,
              "ticks": ""
             }
            },
            "type": "scatterpolar"
           }
          ],
          "scatterpolargl": [
           {
            "marker": {
             "colorbar": {
              "outlinewidth": 0,
              "ticks": ""
             }
            },
            "type": "scatterpolargl"
           }
          ],
          "scatterternary": [
           {
            "marker": {
             "colorbar": {
              "outlinewidth": 0,
              "ticks": ""
             }
            },
            "type": "scatterternary"
           }
          ],
          "surface": [
           {
            "colorbar": {
             "outlinewidth": 0,
             "ticks": ""
            },
            "colorscale": [
             [
              0,
              "#0d0887"
             ],
             [
              0.1111111111111111,
              "#46039f"
             ],
             [
              0.2222222222222222,
              "#7201a8"
             ],
             [
              0.3333333333333333,
              "#9c179e"
             ],
             [
              0.4444444444444444,
              "#bd3786"
             ],
             [
              0.5555555555555556,
              "#d8576b"
             ],
             [
              0.6666666666666666,
              "#ed7953"
             ],
             [
              0.7777777777777778,
              "#fb9f3a"
             ],
             [
              0.8888888888888888,
              "#fdca26"
             ],
             [
              1,
              "#f0f921"
             ]
            ],
            "type": "surface"
           }
          ],
          "table": [
           {
            "cells": {
             "fill": {
              "color": "#EBF0F8"
             },
             "line": {
              "color": "white"
             }
            },
            "header": {
             "fill": {
              "color": "#C8D4E3"
             },
             "line": {
              "color": "white"
             }
            },
            "type": "table"
           }
          ]
         },
         "layout": {
          "annotationdefaults": {
           "arrowcolor": "#2a3f5f",
           "arrowhead": 0,
           "arrowwidth": 1
          },
          "autotypenumbers": "strict",
          "coloraxis": {
           "colorbar": {
            "outlinewidth": 0,
            "ticks": ""
           }
          },
          "colorscale": {
           "diverging": [
            [
             0,
             "#8e0152"
            ],
            [
             0.1,
             "#c51b7d"
            ],
            [
             0.2,
             "#de77ae"
            ],
            [
             0.3,
             "#f1b6da"
            ],
            [
             0.4,
             "#fde0ef"
            ],
            [
             0.5,
             "#f7f7f7"
            ],
            [
             0.6,
             "#e6f5d0"
            ],
            [
             0.7,
             "#b8e186"
            ],
            [
             0.8,
             "#7fbc41"
            ],
            [
             0.9,
             "#4d9221"
            ],
            [
             1,
             "#276419"
            ]
           ],
           "sequential": [
            [
             0,
             "#0d0887"
            ],
            [
             0.1111111111111111,
             "#46039f"
            ],
            [
             0.2222222222222222,
             "#7201a8"
            ],
            [
             0.3333333333333333,
             "#9c179e"
            ],
            [
             0.4444444444444444,
             "#bd3786"
            ],
            [
             0.5555555555555556,
             "#d8576b"
            ],
            [
             0.6666666666666666,
             "#ed7953"
            ],
            [
             0.7777777777777778,
             "#fb9f3a"
            ],
            [
             0.8888888888888888,
             "#fdca26"
            ],
            [
             1,
             "#f0f921"
            ]
           ],
           "sequentialminus": [
            [
             0,
             "#0d0887"
            ],
            [
             0.1111111111111111,
             "#46039f"
            ],
            [
             0.2222222222222222,
             "#7201a8"
            ],
            [
             0.3333333333333333,
             "#9c179e"
            ],
            [
             0.4444444444444444,
             "#bd3786"
            ],
            [
             0.5555555555555556,
             "#d8576b"
            ],
            [
             0.6666666666666666,
             "#ed7953"
            ],
            [
             0.7777777777777778,
             "#fb9f3a"
            ],
            [
             0.8888888888888888,
             "#fdca26"
            ],
            [
             1,
             "#f0f921"
            ]
           ]
          },
          "colorway": [
           "rgb(102,194,165)",
           "rgb(252,141,98)",
           "rgb(141,160,203)",
           "rgb(231,138,195)",
           "rgb(166,216,84)",
           "rgb(255,217,47)",
           "rgb(229,196,148)",
           "rgb(179,179,179)"
          ],
          "font": {
           "color": "#2a3f5f",
           "family": "Arial",
           "size": 11
          },
          "geo": {
           "bgcolor": "white",
           "lakecolor": "white",
           "landcolor": "white",
           "showlakes": true,
           "showland": true,
           "subunitcolor": "#C8D4E3"
          },
          "height": 500,
          "hoverlabel": {
           "align": "left"
          },
          "hovermode": "closest",
          "mapbox": {
           "style": "light"
          },
          "paper_bgcolor": "white",
          "plot_bgcolor": "white",
          "polar": {
           "angularaxis": {
            "gridcolor": "#EBF0F8",
            "linecolor": "#EBF0F8",
            "ticks": ""
           },
           "bgcolor": "white",
           "radialaxis": {
            "gridcolor": "#EBF0F8",
            "linecolor": "#EBF0F8",
            "ticks": ""
           }
          },
          "scene": {
           "xaxis": {
            "backgroundcolor": "white",
            "gridcolor": "#DFE8F3",
            "gridwidth": 2,
            "linecolor": "#EBF0F8",
            "showbackground": true,
            "ticks": "",
            "zerolinecolor": "#EBF0F8"
           },
           "yaxis": {
            "backgroundcolor": "white",
            "gridcolor": "#DFE8F3",
            "gridwidth": 2,
            "linecolor": "#EBF0F8",
            "showbackground": true,
            "ticks": "",
            "zerolinecolor": "#EBF0F8"
           },
           "zaxis": {
            "backgroundcolor": "white",
            "gridcolor": "#DFE8F3",
            "gridwidth": 2,
            "linecolor": "#EBF0F8",
            "showbackground": true,
            "ticks": "",
            "zerolinecolor": "#EBF0F8"
           }
          },
          "shapedefaults": {
           "line": {
            "color": "#2a3f5f"
           }
          },
          "ternary": {
           "aaxis": {
            "gridcolor": "#DFE8F3",
            "linecolor": "#A2B1C6",
            "ticks": ""
           },
           "baxis": {
            "gridcolor": "#DFE8F3",
            "linecolor": "#A2B1C6",
            "ticks": ""
           },
           "bgcolor": "white",
           "caxis": {
            "gridcolor": "#DFE8F3",
            "linecolor": "#A2B1C6",
            "ticks": ""
           }
          },
          "title": {
           "x": 0.05
          },
          "width": 1000,
          "xaxis": {
           "automargin": true,
           "gridcolor": "lightgrey",
           "linecolor": "#EBF0F8",
           "showgrid": true,
           "ticks": "",
           "title": {
            "standoff": 15
           },
           "zerolinecolor": "#EBF0F8",
           "zerolinewidth": 2
          },
          "yaxis": {
           "automargin": true,
           "gridcolor": "lightgrey",
           "linecolor": "#EBF0F8",
           "showgrid": true,
           "ticks": "",
           "title": {
            "standoff": 15
           },
           "zerolinecolor": "#EBF0F8",
           "zerolinewidth": 2
          }
         }
        },
        "title": {
         "text": "Comparativa por RANGOS DE EDAD (umbral ≥5)"
        }
       }
      }
     },
     "metadata": {},
     "output_type": "display_data"
    }
   ],
   "source": [
    "# ===== Configuración =====\n",
    "UMBRAL   = 5                      # pon 8 y vuelve a ejecutar para sensibilidad\n",
    "Y_COL    = 'reincide'\n",
    "SCORE    = 'resultado_compas'\n",
    "RACE_COL = 'etnia'\n",
    "SEX_COL  = 'genero'\n",
    "AGE_COL  = 'rango_edad'          # ya categórica (p. ej. \"less than 25\", \"25-45\", \"greater than 45\")\n",
    "\n",
    "# ===== Métricas estilo Barstein (8 métricas) =====\n",
    "def safe_div(a,b): return a/b if b else np.nan\n",
    "\n",
    "def metrics_barstein(y_true, y_pred):\n",
    "    tn, fp, fn, tp = confusion_matrix(y_true, y_pred, labels=[0,1]).ravel()\n",
    "    N   = tn + fp + fn + tp\n",
    "    acc = safe_div(tp+tn, N)\n",
    "    fpr = safe_div(fp, fp+tn)\n",
    "    fnr = safe_div(fn, fn+tp)\n",
    "    prev= safe_div(tp+fn, N)       # % que realmente reinciden\n",
    "    ppv = safe_div(tp, tp+fp)      # valor predictivo positivo\n",
    "    npv = safe_div(tn, tn+fn)      # valor predictivo negativo\n",
    "    det = safe_div(tp+fp, N)       # % etiquetado como “alto riesgo”\n",
    "    return dict(N=N, Accuracy=acc, FPR=fpr, FNR=fnr,\n",
    "                Prevalence=prev, PPV=ppv, NPV=npv, DetectionRate=det)\n",
    "\n",
    "# ===== Tabla simple por grupo (sin Δ) =====\n",
    "def build_group_table_simple(group_col, title, umbral=UMBRAL):\n",
    "    if group_col not in df_twoyears.columns or group_col not in df_twoyears_clean.columns:\n",
    "        print(f\"[Aviso] La columna '{group_col}' no existe en ambos datasets.\")\n",
    "        return\n",
    "\n",
    "    # Categorías presentes (tal cual, sin forzar)\n",
    "    cats = sorted(set(df_twoyears[group_col].dropna().unique())\n",
    "                  | set(df_twoyears_clean[group_col].dropna().unique()))\n",
    "    # Orden fijo si es rango de edad y coincide con tus 3 etiquetas\n",
    "    if group_col == AGE_COL:\n",
    "        desired = ['less than 25','25-45','greater than 45']\n",
    "        if set(cats).issubset(set(desired)):\n",
    "            cats = [c for c in desired if c in cats]\n",
    "\n",
    "    rows = []\n",
    "    for g in cats:\n",
    "        da = df_twoyears.loc[df_twoyears[group_col]==g, [Y_COL, SCORE]].dropna()\n",
    "        dc = df_twoyears_clean.loc[df_twoyears_clean[group_col]==g, [Y_COL, SCORE]].dropna()\n",
    "\n",
    "        ya = da[Y_COL].astype(int).values\n",
    "        pa = (da[SCORE] >= umbral).astype(int).values\n",
    "        yc = dc[Y_COL].astype(int).values\n",
    "        pc = (dc[SCORE] >= umbral).astype(int).values\n",
    "\n",
    "        ma = metrics_barstein(ya, pa) if len(da) else {k: np.nan for k in ['N','Accuracy','FPR','FNR','Prevalence','PPV','NPV','DetectionRate']}\n",
    "        mc = metrics_barstein(yc, pc) if len(dc) else {k: np.nan for k in ['N','Accuracy','FPR','FNR','Prevalence','PPV','NPV','DetectionRate']}\n",
    "\n",
    "        rows.append({\n",
    "            'Grupo': group_col, 'Categoría': g,\n",
    "            'N (ProPublica)': ma['N'], 'N (Clean)': mc['N'],\n",
    "            'Prevalence (ProPublica)': ma['Prevalence'], 'Prevalence (Clean)': mc['Prevalence'],\n",
    "            'Detection Rate (ProPublica)': ma['DetectionRate'], 'Detection Rate (Clean)': mc['DetectionRate'],\n",
    "            'FPR (ProPublica)': ma['FPR'], 'FPR (Clean)': mc['FPR'],\n",
    "            'FNR (ProPublica)': ma['FNR'], 'FNR (Clean)': mc['FNR'],\n",
    "            'PPV (ProPublica)': ma['PPV'], 'PPV (Clean)': mc['PPV'],\n",
    "            'NPV (ProPublica)': ma['NPV'], 'NPV (Clean)': mc['NPV'],\n",
    "            'Accuracy (ProPublica)': ma['Accuracy'], 'Accuracy (Clean)': mc['Accuracy'],\n",
    "        })\n",
    "\n",
    "    df = pd.DataFrame(rows)\n",
    "    if df.empty:\n",
    "        print(\"No hay filas para mostrar.\")\n",
    "        return\n",
    "\n",
    "    # Formateo %\n",
    "    def fmt_pct(s): return s.map(lambda v: f\"{v*100:.1f}%\" if pd.notnull(v) else \"—\")\n",
    "    pct_cols = [c for c in df.columns if c.endswith('(ProPublica)') or c.endswith('(Clean)')]\n",
    "    pct_cols = [c for c in pct_cols if not c.startswith('N ')]\n",
    "    df_fmt = df.copy()\n",
    "    for c in pct_cols:\n",
    "        df_fmt[c] = fmt_pct(df_fmt[c])\n",
    "\n",
    "    # Orden de columnas compacto (sin Δ)\n",
    "    order = ['Grupo','Categoría',\n",
    "             'N (ProPublica)','N (Clean)',\n",
    "             'Prevalence (ProPublica)','Prevalence (Clean)',\n",
    "             'Detection Rate (ProPublica)','Detection Rate (Clean)',\n",
    "             'FPR (ProPublica)','FPR (Clean)',\n",
    "             'FNR (ProPublica)','FNR (Clean)',\n",
    "             'PPV (ProPublica)','PPV (Clean)',\n",
    "             'NPV (ProPublica)','NPV (Clean)',\n",
    "             'Accuracy (ProPublica)','Accuracy (Clean)']\n",
    "    df_fmt = df_fmt[[c for c in order if c in df_fmt.columns]]\n",
    "\n",
    "    # Tabla clara con zebra-striping\n",
    "    zebra = [['#f7fbff' if i%2 else '#eef5fb' for i in range(len(df_fmt))]]\n",
    "    fig = go.Figure(data=[go.Table(\n",
    "        header=dict(values=list(df_fmt.columns), fill_color=\"#fc9278\", align='left', font=dict(color='black')),\n",
    "        cells=dict(values=[df_fmt[c] for c in df_fmt.columns], align='left', fill_color=zebra)\n",
    "    )])\n",
    "    fig.update_layout(title=title, margin=dict(l=30,r=30,t=50,b=20))\n",
    "    fig.show()\n",
    "\n",
    "# ===== Ejecuta por grupo =====\n",
    "build_group_table_simple(RACE_COL, f\"Comparativa por RAZA/ETNIA (umbral ≥{UMBRAL})\")\n",
    "build_group_table_simple(SEX_COL,  f\"Comparativa por GÉNERO (umbral ≥{UMBRAL})\")\n",
    "build_group_table_simple(AGE_COL,  f\"Comparativa por RANGOS DE EDAD (umbral ≥{UMBRAL})\")\n"
   ]
  },
  {
   "cell_type": "markdown",
   "id": "d3820b44",
   "metadata": {},
   "source": [
    "### Sesgo por grupos (umbral ≥5): African-American vs Caucasian\n",
    "\n",
    "**Qué estamos mirando.**  \n",
    "Comparamos cómo se equivoca COMPAS en **dos grupos** (African-American y Caucasian), primero con el dataset original de ProPublica y luego con nuestro **Clean**. Usamos el corte estándar **≥5** para “alto riesgo” y leemos cuatro cosas muy sencillas:\n",
    "\n",
    "- **FPR (falsos positivos)**: gente que **no** reincide pero COMPAS marcó “alto riesgo”.  \n",
    "- **FNR (falsos negativos)**: gente que **sí** reincide pero COMPAS marcó “bajo riesgo”.  \n",
    "- **Detection rate**: % de personas que COMPAS **etiqueta como “alto riesgo”**.  \n",
    "- **Prevalence**: % que **realmente reincide** (la realidad observada a dos años).\n",
    "\n",
    "---\n",
    "\n",
    "#### Lo que vemos en **ProPublica**\n",
    "- **FPR** es **mucho más alto en African-American** que en Caucasian  \n",
    "  → COMPAS **sobremarca** “alto riesgo” a personas African-American que luego **no** reinciden.  \n",
    "- **FNR** es **más alto en Caucasian**  \n",
    "  → COMPAS **deja escapar** más Caucasian que **sí** reinciden (los marcó “bajo riesgo”).  \n",
    "- **Detection rate vs Prevalence**  \n",
    "  - African-American: el **detection rate** está **por encima** de su **prevalence** → **se etiqueta de más**.  \n",
    "  - Caucasian: el **detection rate** está **por debajo** de su **prevalence** → **se etiqueta de menos**.\n",
    "\n",
    "**Traducción llana:** el sistema **no se equivoca igual** en los dos grupos: comete **más falsos positivos** con African-American y **más falsos negativos** con Caucasian. Eso ya es una señal de **sesgo** (no cumple “errores parecidos entre grupos”).\n",
    "\n",
    "---\n",
    "\n",
    "#### Qué cambia en **Clean**\n",
    "- **Bajamos un poco FPR** en ambos grupos (mejor para no castigar a quien no reincide),  \n",
    "  pero **la brecha** sigue siendo **grande**: African-American sigue teniendo un **FPR mucho mayor** que Caucasian (en nuestra tabla ronda **~42% vs ~22%**).  \n",
    "- **FNR** en Caucasian **sigue siendo alto** (incluso sube ligeramente), así que seguimos **dejando escapar** más reincidentes en ese grupo.  \n",
    "- **Detection rate** se acerca más a la realidad en Caucasian y sigue siendo **alto** en African-American, lo que encaja con lo anterior.\n",
    "\n",
    "**Conclusión práctica:** con la limpieza **mejoramos algo** (menos falsos positivos en general), pero **no eliminamos** la **asimetría de errores** entre African-American y Caucasian. COMPAS **tiende a etiquetar de más** como “alto riesgo” a African-American y **tiende a etiquetar de menos** a Caucasian.\n",
    "\n",
    "---\n",
    "\n",
    "#### Cómo lo usamos\n",
    "- Si nuestra prioridad es **evitar falsos positivos** (no marcar “alto riesgo” a quien no reincidirá), debemos vigilar el **FPR** en African-American y quizá **subir el umbral** (ver análisis con **≥8**).  \n",
    "- Si nuestra prioridad es **no dejar escapar reincidentes**, debemos vigilar el **FNR/Recall** en Caucasian y quizá **bajar el umbral** o **usar otro modelo**.\n",
    "\n",
    "> **Idea clave:** el sesgo aquí no es “una media más alta o más baja”, sino **qué tipo de error** hace el sistema **en cada grupo**. En nuestros datos, **FPR ↑ en African-American** y **FNR ↑ en Caucasian** tanto en ProPublica como en Clean (aunque algo suavizado tras la limpieza).\n"
   ]
  },
  {
   "cell_type": "markdown",
   "id": "79cfdbab",
   "metadata": {},
   "source": [
    "<hr style=\"border:none; height:2px; background:linear-gradient(to right, #3498db, #e74c3c, #f39c12);\">\n",
    "\n",
    "<hr style=\"border:none; height:1px; background:#ddd;\">\n",
    "\n",
    "<div style=\"text-align:center; margin:20px 0;\">\n",
    "- • • • •\n",
    "</div>"
   ]
  },
  {
   "cell_type": "markdown",
   "id": "a3cc49e7",
   "metadata": {},
   "source": [
    "# 7. **CONCLUSIONES DEL ANÁLISIS COMPARATIVO DEL DATASET FILTRADO VS PROPUBLICA**"
   ]
  },
  {
   "cell_type": "markdown",
   "id": "4a089182",
   "metadata": {},
   "source": [
    "\n",
    "\n",
    "## 7.1. Qué hemos hecho y por qué\n",
    "\n",
    "En este TFM hemos trabajado con el dataset **two_years de ProPublica**, que es la base de todos nuestros análisis.  \n",
    "De forma paralela realizamos un **ejercicio de filtrado metodológico** con el objetivo de comprobar cómo afectan los criterios de coherencia temporal (ej. días entre arresto y test COMPAS, ventana de seguimiento a dos años, etc.) a los resultados de reincidencia y sesgo.\n",
    "\n",
    "\n",
    "**Por qué hicimos este análisis paralelo**\n",
    "- ProPublica proponía usar el dataset tal cual, pero incluía casos con incoherencias temporales.  \n",
    "- Decidimos comprobar qué ocurría si aplicábamos un **filtro más estricto**, siguiendo recomendaciones metodológicas (±30 días entre arresto y evaluación, ventana ≤730 días, corte máximo en 2014).  \n",
    "- Este paso **no estaba pedido en la consigna del proyecto**, pero lo incorporamos como valor añadido de calidad analítica.\n",
    "\n",
    "Así que, partimos del *two-year dataset* de ProPublica (7.214 filas) y comprobamos que incluía casos incoherentes con un estudio “a dos años” (ej. evaluaciones COMPAS hechas mucho antes o mucho después del arresto).  \n",
    "Aplicamos filtros para asegurar coherencia temporal:\n",
    "\n",
    "- **±30 días** entre arresto y evaluación COMPAS.  \n",
    "- **≤ 730 días** desde COMPAS hasta el evento de interés (dos años).  \n",
    "- **Corte de fecha**: ≤ 01/04/2014 para asegurar dos años de observación.  \n",
    "\n",
    "El filtro “días entre arrestos ≤ 730” lo analizamos, pero descartamos porque reducía demasiado la muestra y sesgaba la representatividad.\n",
    "\n",
    "---\n",
    "\n",
    "## 7.2. Efecto en la tasa de reincidencia\n",
    "\n",
    "| Dataset                                | Total casos | % No reincide | % Reincide |\n",
    "|----------------------------------------|-------------|---------------|------------|\n",
    "| ProPublica (2016, two-year)            | 7.214       | 54,9%         | **45,1%**  |\n",
    "| Barstein (2019, “corrected”)           | 6.216       | 63,8%         | **36,2%**  |\n",
    "| **Nuestro filtrado (±30, ≤730, ≤1/4/14)** | ≈5.259       | **63,2%**     | **36,8%**  |\n",
    "\n",
    "**Conclusión:** ProPublica sobreestimaba la reincidencia en **+8,3 p.p.** (≈22,6% relativo). Nuestro filtrado devuelve cifras alineadas con Barstein.\n",
    "\n",
    "Además, los casos excluidos mostraban un **67,3% de reincidencia** frente a **36,8%** en los incluidos. Esto demuestra que la “suciedad temporal” inflaba artificialmente las tasas.\n",
    "\n",
    "---\n",
    "\n",
    "## 7.3. Relación riesgo COMPAS vs reincidencia real\n",
    "- Se mantiene una **relación positiva y fuerte** en ambos datasets.  \n",
    "- En ProPublica aparecía una correlación perfecta (*Spearman rho=1,0*) por raza, poco creíble.  \n",
    "- En el dataset filtrado baja a **rho≈0,886 (p≈0,019)**: sigue siendo alta, pero más realista.  \n",
    "- Por deciles de riesgo, la reincidencia real en el filtrado es sistemáticamente más baja, especialmente en los deciles 5–6.\n",
    "\n",
    "---\n",
    "\n",
    "## 7.4. Impacto en métricas de predicción\n",
    "Probamos dos umbrales habituales para definir “alto riesgo”:\n",
    "\n",
    "- **≥5 (umbral principal):**\n",
    "  - Menos falsos positivos (FPR menor).  \n",
    "  - Ligeras caídas en TPR y F1.  \n",
    "  - Balanced Accuracy similar o algo mejor que en ProPublica.  \n",
    "\n",
    "- **≥8 (sensibilidad):**\n",
    "  - Reduce aún más los falsos positivos.  \n",
    "  - Baja el recall (TPR) y F1.  \n",
    "\n",
    "👉 Decisión: trabajar con **≥5 como umbral principal** y **≥8 como análisis de sensibilidad**.\n",
    "\n",
    "---\n",
    "\n",
    "## 7.5. Sesgo por grupos\n",
    "- El sesgo se observa sobre todo en los **errores de clasificación**.  \n",
    "- Con **≥5**, el patrón persiste: **African-American** tiene más falsos positivos que **Caucasian**, aunque menos marcado que en ProPublica.  \n",
    "- Ajustar el umbral permite equilibrar:  \n",
    "  - **≥8** → reduce falsos positivos (beneficia a African-American).  \n",
    "  - **≥5** → mantiene recall más alto (beneficia a Caucasian).\n",
    "\n",
    "---\n",
    "\n",
    "## 7.6. Limitaciones y buenas prácticas\n",
    "- Variables con pocos niveles (ej. género=2, edad=3) limitan la utilidad de pruebas como Spearman.  \n",
    "- El etiquetado de “reincidencia” puede contener ruido, pero las diferencias observadas son robustas.  \n",
    "- Documentamos filtros, casos excluidos y efectos en métricas para asegurar reproducibilidad.\n",
    "\n",
    "---\n",
    "\n",
    "## 7.7. Qué nos llevamos\n",
    "1. La **coherencia temporal importa**: tras aplicar filtros, los resultados son más fiables.  \n",
    "2. ProPublica **sobreestimaba la reincidencia** (~45% vs ~36%).  \n",
    "3. El filtrado reduce **falsos positivos**, lo cual es clave en términos éticos y judiciales.  \n",
    "4. El **sesgo por raza persiste pero se atenúa**, lo que confirma que el sesgo no se explica solo por “suciedad” en los datos.  \n",
    "5. En el TFM no hemos usado el **dataset filtrado** con reportes en **≥5 y ≥8**, explicando claramente los *trade-offs*.\n",
    "\n",
    "---\n",
    "\n",
    "*Al imponer coherencia temporal, bajamos la tasa de reincidencia a su valor real (~36%), reducimos falsos positivos y obtenemos una lectura más justa y defendible de los sesgos en COMPAS.*\n"
   ]
  },
  {
   "cell_type": "markdown",
   "id": "ec76a2e8",
   "metadata": {},
   "source": [
    "## 7.8. Decisión para el TFM\n",
    "- Aunque el filtrado aporta un enfoque metodológico interesante, **decidimos mantener como base el dataset two_years de ProPublica**, ya que:\n",
    "  - Es el que se nos pedía trabajar en la consigna del proyecto.  \n",
    "  - Permite reproducir y discutir directamente los hallazgos de ProPublica, que son el punto de partida del debate público.  \n",
    "\n",
    "- El análisis filtrado se presenta como un **anexo metodológico**, que:\n",
    "  - Refuerza la validez de nuestras conclusiones.  \n",
    "  - Muestra capacidad crítica frente a los datos.  \n",
    "  - Demuestra que la tasa real de reincidencia probablemente es menor, pero que el sesgo por grupos **persiste incluso con datos corregidos**.\n",
    "\n",
    "---\n",
    "**EN RESUMEN**\n",
    "1. El dataset de ProPublica (two_years) es válido para reproducir sus análisis y compararnos con su trabajo.  \n",
    "2. El filtrado muestra que parte de la sobreestimación de reincidencia proviene de incoherencias temporales en los datos.  \n",
    "3. Aunque las cifras cambian, el **sesgo por raza sigue existiendo**, lo que refuerza la importancia de estudiarlo.  \n",
    "4. Nuestra elección metodológica equilibra **seguir la consigna** y a la vez aportar un análisis **crítico y riguroso**.\n",
    "\n",
    "---\n",
    "\n",
    "*Trabajamos con el dataset *two_years* de ProPublica como base del proyecto, pero mostramos con un análisis paralelo que su sobreestimación de la reincidencia se debe a incoherencias temporales; aun así, el sesgo racial persiste, lo que valida el foco de nuestro TFM.*"
   ]
  },
  {
   "cell_type": "markdown",
   "id": "3bba4385",
   "metadata": {},
   "source": []
  }
 ],
 "metadata": {
  "kernelspec": {
   "display_name": "DA_TODO",
   "language": "python",
   "name": "python3"
  },
  "language_info": {
   "codemirror_mode": {
    "name": "ipython",
    "version": 3
   },
   "file_extension": ".py",
   "mimetype": "text/x-python",
   "name": "python",
   "nbconvert_exporter": "python",
   "pygments_lexer": "ipython3",
   "version": "3.11.13"
  }
 },
 "nbformat": 4,
 "nbformat_minor": 5
}
